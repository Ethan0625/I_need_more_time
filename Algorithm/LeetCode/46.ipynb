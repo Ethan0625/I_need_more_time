{
 "cells": [
  {
   "cell_type": "code",
   "execution_count": 1,
   "metadata": {},
   "outputs": [],
   "source": [
    "from typing import List\n",
    "\n",
    "\n",
    "class Solution:\n",
    "    def permute(self, nums: List[int]) -> List[List[int]]:\n",
    "        results = []\n",
    "        prev_elements = []\n",
    "\n",
    "        def dfs(elements):\n",
    "            # 리프 노드일때 결과 추가\n",
    "            if len(elements) == 0:\n",
    "                results.append(prev_elements[:])\n",
    "\n",
    "            # 순열 생성 재귀 호출\n",
    "            for e in elements:\n",
    "                next_elements = elements[:]\n",
    "                next_elements.remove(e)\n",
    "\n",
    "                prev_elements.append(e)\n",
    "                dfs(next_elements)\n",
    "                prev_elements.pop()\n",
    "\n",
    "        dfs(nums)\n",
    "        return results"
   ]
  },
  {
   "attachments": {
    "image.png": {
     "image/png": "[encoded data removed]"
    }
   },
   "cell_type": "markdown",
   "metadata": {},
   "source": [
    "![image.png](attachment:image.png)"
   ]
  },
  {
   "cell_type": "code",
   "execution_count": 2,
   "metadata": {},
   "outputs": [
    {
     "data": {
      "text/plain": [
       "[[1, 2, 3], [1, 3, 2], [2, 1, 3], [2, 3, 1], [3, 1, 2], [3, 2, 1]]"
      ]
     },
     "execution_count": 2,
     "metadata": {},
     "output_type": "execute_result"
    }
   ],
   "source": [
    "sol = Solution()\n",
    "s = [1,2,3]\n",
    "sol.permute(s)"
   ]
  },
  {
   "cell_type": "code",
   "execution_count": 9,
   "metadata": {},
   "outputs": [
    {
     "name": "stdout",
     "output_type": "stream",
     "text": [
      "[1]\n"
     ]
    }
   ],
   "source": [
    "t = (s[:1]+s[1+1:])\n",
    "print(t)"
   ]
  },
  {
   "attachments": {
    "image.png": {
     "image/png": "[encoded data removed]"
    }
   },
   "cell_type": "markdown",
   "metadata": {},
   "source": [
    "![image.png](attachment:image.png)"
   ]
  },
  {
   "cell_type": "code",
   "execution_count": null,
   "metadata": {},
   "outputs": [],
   "source": [
    "class Solution:\n",
    "    def permute(self, nums: List[int]) -> List[List[int]]:\n",
    "        if nums == []:\n",
    "            return []\n",
    "        n = len(nums)\n",
    "        List = []\n",
    "        temp = [0] * n\n",
    "        \n",
    "        def permute_recursive(nums, index, n):\n",
    "            if index == n:\n",
    "                List.append(temp[:])\n",
    "                return \n",
    "            for i in range(len(nums)):\n",
    "                temp[index] = nums[i]\n",
    "                permute_recursive(nums[:i] + nums[i+1:], index + 1, n)\n",
    "        \n",
    "        permute_recursive(nums, 0, n)\n",
    "        return List"
   ]
  }
 ],
 "metadata": {
  "kernelspec": {
   "display_name": "Python 3",
   "language": "python",
   "name": "python3"
  },
  "language_info": {
   "codemirror_mode": {
    "name": "ipython",
    "version": 3
   },
   "file_extension": ".py",
   "mimetype": "text/x-python",
   "name": "python",
   "nbconvert_exporter": "python",
   "pygments_lexer": "ipython3",
   "version": "3.7.9"
  }
 },
 "nbformat": 4,
 "nbformat_minor": 4
}
