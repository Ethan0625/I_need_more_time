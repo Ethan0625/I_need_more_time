{
 "cells": [
  {
   "cell_type": "markdown",
   "metadata": {},
   "source": [
    "### [LeetCode]561. Array Partition I\n",
    "***\n",
    "- **Problem**  \n",
    "***\n",
    "> **Given an integer array nums of 2n integers, group these integers into n pairs (a1, b1), (a2, b2), ..., (an, bn) such that the sum of min(ai, bi) for all i is maximized. Return the maximized sum.**  \n",
    "***\n",
    "> ***Example 1***  \n",
    "> **Input: nums = [1,4,3,2]  \n",
    "> Output: 4  \n",
    "> Explanation: All possible pairings (ignoring the ordering of elements) are:**  \n",
    "> **1. (1, 4), (2, 3) -> min(1, 4) + min(2, 3) = 1 + 2 = 3  \n",
    "> 2. (1, 3), (2, 4) -> min(1, 3) + min(2, 4) = 1 + 2 = 3  \n",
    "> 3. (1, 2), (3, 4) -> min(1, 2) + min(3, 4) = 1 + 3 = 4  \n",
    "> So the maximum possible sum is 4.** \n",
    "***\n",
    "> ***Example 2:***  \n",
    "> **Input: nums = [6,2,6,5,1,2]  \n",
    "> Output: 9**  \n",
    "> **Explanation: The optimal pairing is (2, 1), (2, 5), (6, 6). min(2, 1) + min(2, 5) + min(6, 6) = 1 + 2 + 6 = 9.**\n",
    "***\n",
    "> ***Constraints:***  \n",
    "> **1 <= n <= 104  \n",
    "nums.length == 2 * n  \n",
    "-10^4 <= nums[i] <= 10^4**  \n",
    "***\n",
    "- **Solve**\n",
    "__Runtime: 288 ms, faster than 22.43% of Python3 online submissions for Array Partition I__"
   ]
  },
  {
   "cell_type": "code",
   "execution_count": 6,
   "metadata": {},
   "outputs": [],
   "source": [
    "class Solution:\n",
    "    def arrayPairSum(self, nums):\n",
    "        sum = 0\n",
    "        pair = []\n",
    "        nums.sort()\n",
    "        for num in nums:\n",
    "            pair.append(num)\n",
    "            if len(pair) == 2:\n",
    "                sum += min(pair)\n",
    "                pair=[]\n",
    "        return sum"
   ]
  },
  {
   "cell_type": "code",
   "execution_count": 7,
   "metadata": {},
   "outputs": [
    {
     "data": {
      "text/plain": [
       "9"
      ]
     },
     "execution_count": 7,
     "metadata": {},
     "output_type": "execute_result"
    }
   ],
   "source": [
    "sol = Solution()\n",
    "sol.arrayPairSum(nums = [6,2,6,5,1,2])"
   ]
  },
  {
   "cell_type": "markdown",
   "metadata": {},
   "source": [
    "- **책풀이**\n",
    "__Runtime: 232 ms, faster than 100.00% of Python3 online submissions for Array Partition I.__"
   ]
  },
  {
   "cell_type": "code",
   "execution_count": 8,
   "metadata": {},
   "outputs": [],
   "source": [
    "class Solution:\n",
    "    def arrayPairSum(self, nums):\n",
    "        # 해당 숫자 list를 0번째부터 2씩 증가해서 잘라낸다\n",
    "        return sum(sorted(nums)[::2])"
   ]
  },
  {
   "cell_type": "code",
   "execution_count": 9,
   "metadata": {},
   "outputs": [
    {
     "data": {
      "text/plain": [
       "9"
      ]
     },
     "execution_count": 9,
     "metadata": {},
     "output_type": "execute_result"
    }
   ],
   "source": [
    "sol = Solution()\n",
    "sol.arrayPairSum(nums = [6,2,6,5,1,2])"
   ]
  },
  {
   "cell_type": "code",
   "execution_count": null,
   "metadata": {},
   "outputs": [],
   "source": []
  }
 ],
 "metadata": {
  "kernelspec": {
   "display_name": "Python 3",
   "language": "python",
   "name": "python3"
  },
  "language_info": {
   "codemirror_mode": {
    "name": "ipython",
    "version": 3
   },
   "file_extension": ".py",
   "mimetype": "text/x-python",
   "name": "python",
   "nbconvert_exporter": "python",
   "pygments_lexer": "ipython3",
   "version": "3.7.9"
  }
 },
 "nbformat": 4,
 "nbformat_minor": 4
}
