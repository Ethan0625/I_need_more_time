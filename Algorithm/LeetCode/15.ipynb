{
 "cells": [
  {
   "cell_type": "markdown",
   "metadata": {},
   "source": [
    "### [LeetCode]125. Valid Palindrome\n",
    "***\n",
    "- **Problem**  \n",
    "***\n",
    "> **Given an array nums of n integers, are there elements a, b, c in nums such that a + b + c = 0?  \n",
    "> Find all unique triplets in the array which gives the sum of zero.  \n",
    ">\n",
    "> Notice that the solution set must not contain duplicate triplets.**\n",
    "***\n",
    "> ***Example 1***  \n",
    "> **Input: nums = [-1,0,1,2,-1,-4]  \n",
    "> Output: [[-1,-1,2],[-1,0,1]]**  \n",
    "***\n",
    "> ***Example 2:***  \n",
    "> **Input: nums = []  \n",
    "> Output: []**\n",
    "***\n",
    "> ***Example 3:***  \n",
    "> **Input: nums = [0], target = 6  \n",
    "> Output: []**\n",
    "***\n",
    "> ***Constraints:***  \n",
    "> **0 <= nums.length <= 3000\n",
    "-105 <= nums[i] <= 105**  \n",
    "***\n",
    "- **Solve**\n",
    "__Runtime: 480 ms, faster than 6.84% of Python3 online submissions for Two Sum.__\n"
   ]
  },
  {
   "cell_type": "code",
   "execution_count": 31,
   "metadata": {},
   "outputs": [],
   "source": [
    "class Solution:\n",
    "    def threeSum(self, nums):\n",
    "        result = []\n",
    "        print(len(nums))\n",
    "        for i in (0,len(nums)-3):\n",
    "            j = i+1\n",
    "            k = i+2\n",
    "            print(i,j,k)\n",
    "            print(\"첫번째 for\",nums[i],nums[j],nums[k])\n",
    "            for j in (i+1,len(nums)-2):\n",
    "                print(i,j,k)\n",
    "                print(\"두번째 for\",nums[i],nums[j],nums[k])\n",
    "                for k in (i+2,len(nums)-1):\n",
    "                    print(i,j,k)\n",
    "                    print(\"세번째 for\",nums[i],nums[j],nums[k])\n",
    "                    if nums[i]+nums[j]+nums[k] ==0 :\n",
    "                        print(i,j,k)\n",
    "                        print(\"if문\",nums[i],nums[j],nums[k])\n",
    "                        result.append([nums[i],nums[j],nums[k]])\n",
    "                    else : \n",
    "                        continue\n",
    "        return result"
   ]
  },
  {
   "cell_type": "code",
   "execution_count": 32,
   "metadata": {},
   "outputs": [
    {
     "name": "stdout",
     "output_type": "stream",
     "text": [
      "6\n",
      "0 1 2\n",
      "첫번째 for -1 0 1\n",
      "0 1 2\n",
      "두번째 for -1 0 1\n",
      "0 1 2\n",
      "세번째 for -1 0 1\n",
      "0 1 2\n",
      "if문 -1 0 1\n",
      "0 1 5\n",
      "세번째 for -1 0 -4\n",
      "0 4 5\n",
      "두번째 for -1 -1 -4\n",
      "0 4 2\n",
      "세번째 for -1 -1 1\n",
      "0 4 5\n",
      "세번째 for -1 -1 -4\n",
      "3 4 5\n",
      "첫번째 for 2 -1 -4\n",
      "3 4 5\n",
      "두번째 for 2 -1 -4\n",
      "3 4 5\n",
      "세번째 for 2 -1 -4\n",
      "3 4 5\n",
      "세번째 for 2 -1 -4\n",
      "3 4 5\n",
      "두번째 for 2 -1 -4\n",
      "3 4 5\n",
      "세번째 for 2 -1 -4\n",
      "3 4 5\n",
      "세번째 for 2 -1 -4\n"
     ]
    },
    {
     "data": {
      "text/plain": [
       "[[-1, 0, 1]]"
      ]
     },
     "execution_count": 32,
     "metadata": {},
     "output_type": "execute_result"
    }
   ],
   "source": [
    "nums = [-1,0,1,2,-1,-4]\n",
    "sol = Solution()\n",
    "sol.threeSum(nums)"
   ]
  },
  {
   "cell_type": "markdown",
   "metadata": {},
   "source": [
    "***\n",
    "- **Fastest Solve**  \n",
    "__sample 24 ms submission__"
   ]
  }
 ],
 "metadata": {
  "kernelspec": {
   "display_name": "Python 3",
   "language": "python",
   "name": "python3"
  },
  "language_info": {
   "codemirror_mode": {
    "name": "ipython",
    "version": 3
   },
   "file_extension": ".py",
   "mimetype": "text/x-python",
   "name": "python",
   "nbconvert_exporter": "python",
   "pygments_lexer": "ipython3",
   "version": "3.7.9"
  }
 },
 "nbformat": 4,
 "nbformat_minor": 4
}
