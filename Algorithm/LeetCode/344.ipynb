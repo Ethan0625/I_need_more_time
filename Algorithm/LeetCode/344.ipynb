{
 "cells": [
  {
   "cell_type": "markdown",
   "metadata": {},
   "source": [
    "### [LeetCode]344.Reverse String\n",
    "***\n",
    "- **Problem**  \n",
    "***\n",
    "> **Write a function that reverses a string.  \n",
    "> The input string is given as an array of characters char[].** \n",
    "> \n",
    "> **Do not allocate extra space for another array, you must do this by modifying the input array in-place with O(1) extra memory.** \n",
    "> \n",
    "> **You may assume all the characters consist of printable ascii characters.**  \n",
    "***\n",
    "> ***Example 1:***  \n",
    "> **Input: [\"h\",\"e\",\"l\",\"l\",\"o\"]  \n",
    "> Output: [\"o\",\"l\",\"l\",\"e\",\"h\"]**  \n",
    "***\n",
    "> ***Example 2:***  \n",
    "> **Input: [\"H\",\"a\",\"n\",\"n\",\"a\",\"h\"]  \n",
    "> Output: [\"h\",\"a\",\"n\",\"n\",\"a\",\"H\"]**  \n",
    "\n",
    "***\n",
    "- **Solve**  \n",
    "__Runtime: 196 ms, faster than 66.25% of Python3 online submissions for Reverse String.__"
   ]
  },
  {
   "cell_type": "code",
   "execution_count": 8,
   "metadata": {},
   "outputs": [],
   "source": [
    "class Solution:\n",
    "    def reverseString(self, s) -> None:\n",
    "        '''\n",
    "        Do not return anything, modify s in-place instead.\n",
    "        '''\n",
    "        # 조건1 : 문자의 형식으로 리스트가 주어진다.\n",
    "        # 조건2 : 메모리 할당은 O(1)이다.\n",
    "        # 조건3 : 모든 문자는 아스키코드 문자이다.\n",
    "        \n",
    "        # reverse 함수 사용\n",
    "        s.reverse()"
   ]
  },
  {
   "cell_type": "code",
   "execution_count": 14,
   "metadata": {},
   "outputs": [
    {
     "data": {
      "text/plain": [
       "['o', 'l', 'l', 'e', 'h']"
      ]
     },
     "execution_count": 14,
     "metadata": {},
     "output_type": "execute_result"
    }
   ],
   "source": [
    "sol = Solution()\n",
    "sol.reverseString([\"h\",\"e\",\"l\",\"l\",\"o\"])\n",
    "s"
   ]
  }
 ],
 "metadata": {
  "kernelspec": {
   "display_name": "Python 3",
   "language": "python",
   "name": "python3"
  },
  "language_info": {
   "codemirror_mode": {
    "name": "ipython",
    "version": 3
   },
   "file_extension": ".py",
   "mimetype": "text/x-python",
   "name": "python",
   "nbconvert_exporter": "python",
   "pygments_lexer": "ipython3",
   "version": "3.7.9"
  }
 },
 "nbformat": 4,
 "nbformat_minor": 4
}
