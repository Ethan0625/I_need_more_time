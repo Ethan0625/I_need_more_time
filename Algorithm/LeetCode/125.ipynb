{
 "cells": [
  {
   "cell_type": "markdown",
   "metadata": {},
   "source": [
    "### [LeetCode]125. Valid Palindrome\n",
    "***\n",
    "- **Problem**  \n",
    "***\n",
    "> **Given a string, determine if it is a palindrome, considering only alphanumeric characters and ignoring cases.**\n",
    "> \n",
    "> **Note: For the purpose of this problem, we define empty string as valid palindrome.**  \n",
    "***\n",
    "> ***Example 1***  \n",
    "> **Input: \"A man, a plan, a canal: Panama\"  \n",
    "> Output: true**\n",
    "***\n",
    "> ***Example 2:***  \n",
    "> **Input: \"race a car\"  \n",
    "> Output: false**\n",
    " \n",
    "***\n",
    "> ***Constraints:***  \n",
    "> **s consists only of printable ASCII characters.**\n",
    "***\n",
    "- **Solve**\n",
    "__Runtime: 40 ms, faster than 88.85% of Python3 online submissions for Valid Palindrome.__"
   ]
  },
  {
   "cell_type": "code",
   "execution_count": 3,
   "metadata": {},
   "outputs": [],
   "source": [
    "class Solution:\n",
    "    def isPalindrome(self, s: str) -> bool:\n",
    "        # 소문자로 만들기\n",
    "        s = s.lower()\n",
    "        # 문자를 넣을 빈문자열\n",
    "        str_str = \"\"\n",
    "        # 문자열의 문자가 숫자 혹은 알파벳이면\n",
    "        # str_str에 합쳐줘\n",
    "        for c in s :\n",
    "            if c.isalnum() is True :\n",
    "                str_str +=c\n",
    "                \n",
    "        # 문자열을 반전해서 다르면 False\n",
    "        if (str_str != str_str[::-1]) :\n",
    "            return False\n",
    "        # 같으면 True\n",
    "        else : return True"
   ]
  },
  {
   "cell_type": "code",
   "execution_count": 4,
   "metadata": {},
   "outputs": [
    {
     "data": {
      "text/plain": [
       "True"
      ]
     },
     "execution_count": 4,
     "metadata": {},
     "output_type": "execute_result"
    }
   ],
   "source": [
    "sol = Solution()\n",
    "sol.isPalindrome(\"A man, a plan, a canal: Panama\")"
   ]
  },
  {
   "cell_type": "markdown",
   "metadata": {},
   "source": [
    "***  \n",
    "- **Fastest  Solve**\n"
   ]
  },
  {
   "cell_type": "code",
   "execution_count": null,
   "metadata": {},
   "outputs": [],
   "source": [
    "class Solution:\n",
    "    def isPalindrome(self, s: str) -> bool:\n",
    "        # 문자열을 리턴하지 않으니 아예 문자열 자체를 수정\n",
    "        s = [i.lower() for i in s if i.isalnum()]\n",
    "        # == 이 True 혹은 False를 리턴하므로 if문 사용하지 않음.\n",
    "        return s == s[::-1]"
   ]
  }
 ],
 "metadata": {
  "kernelspec": {
   "display_name": "Python 3",
   "language": "python",
   "name": "python3"
  },
  "language_info": {
   "codemirror_mode": {
    "name": "ipython",
    "version": 3
   },
   "file_extension": ".py",
   "mimetype": "text/x-python",
   "name": "python",
   "nbconvert_exporter": "python",
   "pygments_lexer": "ipython3",
   "version": "3.7.9"
  }
 },
 "nbformat": 4,
 "nbformat_minor": 4
}
