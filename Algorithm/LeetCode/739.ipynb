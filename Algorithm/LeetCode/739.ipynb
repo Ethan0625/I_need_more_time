{
 "cells": [
  {
   "cell_type": "markdown",
   "metadata": {},
   "source": [
    "### [LeetCode]739. Daily Temperatures\n",
    "***\n",
    "- **Problem**  \n",
    "***\n",
    "> **Given a list of daily temperatures T, return a list such that, for each day in the input, tells you how many days you would have to wait until a warmer temperature.  \n",
    "If there is no future day for which this is possible, put 0 instead.  \n",
    "For example, given the list of temperatures \n",
    "T = [73, 74, 75, 71, 69, 72, 76, 73], your output should be [1, 1, 4, 2, 1, 1, 0, 0].  \n",
    "Note: The length of temperatures will be in the range [1, 30000]. Each temperature will be an integer in the range [30, 100].**  \n",
    "***\n",
    "> ***Example 1***  \n",
    "> **Input: T = [73, 74, 75, 71, 69, 72, 76, 73]  \n",
    "> Output: [1, 1, 4, 2, 1, 1, 0, 0]**  \n",
    "***\n",
    "> ***Constraints:***  \n",
    "> **1 <= T.length <= 30000  \n",
    "30 <= T <= 100  **  \n",
    "***\n",
    "- **Solve**\n",
    "__Runtime: 24 ms, faster than 95.82% of Python3 online submissions for Valid Parentheses.__\n"
   ]
  },
  {
   "cell_type": "markdown",
   "metadata": {},
   "source": []
  },
  {
   "cell_type": "code",
   "execution_count": null,
   "metadata": {},
   "outputs": [],
   "source": [
    "T = [73, 74, 75, 71, 69, 72, 76, 73]\n",
    "result = []\n",
    "def findvalue (self, list):\n",
    "    while list:\n",
    "        i = 0\n",
    "        \n",
    "        "
   ]
  },
  {
   "cell_type": "code",
   "execution_count": null,
   "metadata": {},
   "outputs": [],
   "source": [
    "class Solution:\n",
    "    def dailyTemperatures(self, T: List[int]) -> List[int]:"
   ]
  }
 ],
 "metadata": {
  "kernelspec": {
   "display_name": "Python 3",
   "language": "python",
   "name": "python3"
  },
  "language_info": {
   "codemirror_mode": {
    "name": "ipython",
    "version": 3
   },
   "file_extension": ".py",
   "mimetype": "text/x-python",
   "name": "python",
   "nbconvert_exporter": "python",
   "pygments_lexer": "ipython3",
   "version": "3.7.9"
  }
 },
 "nbformat": 4,
 "nbformat_minor": 4
}
