{
 "cells": [
  {
   "cell_type": "markdown",
   "metadata": {},
   "source": [
    "### [LeetCode]125. Valid Palindrome\n",
    "***\n",
    "- **Problem**  \n",
    "***\n",
    "> **Given an array of integers nums and an integer target, return indices of the two numbers such that they add up to target.**  \n",
    "> \n",
    "> **You may assume that each input would have exactly one solution, and you may not use the same element twice.**  \n",
    "> \n",
    "> **You can return the answer in any order.**\n",
    "***\n",
    "> ***Example 1***  \n",
    "> **Input: nums = [2,7,11,15], target = 9  \n",
    "> Output: [0,1]  \n",
    "> Output: Because nums[0] + nums[1] == 9, we return [0, 1].**\n",
    "***\n",
    "> ***Example 2:***  \n",
    "> **Input: nums = [3,2,4], target = 6  \n",
    "> Output: [1,2]**\n",
    "***\n",
    "> ***Example 3:***  \n",
    "> **Input: nums = [3,3], target = 6  \n",
    "> Output: [0,1]**\n",
    "***\n",
    "> ***Constraints:***  \n",
    "> **2 <= nums.length <= 103  \n",
    "-109 <= nums[i] <= 109  \n",
    "-109 <= target <= 109  \n",
    "Only one valid answer exists.**  \n",
    "***\n",
    "- **Solve**\n",
    "__Runtime: 480 ms, faster than 6.84% of Python3 online submissions for Two Sum.__\n"
   ]
  },
  {
   "cell_type": "code",
   "execution_count": 44,
   "metadata": {},
   "outputs": [],
   "source": [
    "class Solution:\n",
    "    def twoSum(self, nums, target):\n",
    "        result = []\n",
    "        i = 0\n",
    "        j = len(nums)-1\n",
    "        # 쉽게 생각하려고 while문을 활용하여 반복\n",
    "        while i <= j :\n",
    "            for n in range(i+1,j+1):\n",
    "                if nums[i]+nums[n] == target :\n",
    "                    result.append(i)\n",
    "                    result.append(n)\n",
    "            i +=1\n",
    "        return result"
   ]
  },
  {
   "cell_type": "code",
   "execution_count": 45,
   "metadata": {},
   "outputs": [
    {
     "data": {
      "text/plain": [
       "[0, 1]"
      ]
     },
     "execution_count": 45,
     "metadata": {},
     "output_type": "execute_result"
    }
   ],
   "source": [
    "sol = Solution()\n",
    "nums = [3,3]\n",
    "target = 6\n",
    "sol.twoSum(nums,target)"
   ]
  },
  {
   "cell_type": "markdown",
   "metadata": {},
   "source": [
    "***\n",
    "- **Fastest Solve**  \n",
    "__sample 24 ms submission__"
   ]
  },
  {
   "cell_type": "code",
   "execution_count": 46,
   "metadata": {},
   "outputs": [],
   "source": [
    "class Solution:\n",
    "    def twoSum(self, nums, target):\n",
    "        has = {}\n",
    "        # 딕셔너리를 활용함.\n",
    "        # for문을 이용 index번호를 값으로 활용\n",
    "        for i in range(len(nums)):\n",
    "            has[nums[i]] = i\n",
    "        for i in range(len(nums)):\n",
    "            # target을 더해서 생각하는 것이 아니라, \n",
    "            # target에서 nums안의 수를 빼서 그 값이 nums에 있는지 확인\n",
    "            # 그리고 그 값이 같은 인덱스를 가지는지도 같이 확인\n",
    "            if (target - nums[i]) in has and i != has[target - nums[i]]:\n",
    "                return [i,has[target-nums[i]]]"
   ]
  },
  {
   "cell_type": "code",
   "execution_count": 47,
   "metadata": {},
   "outputs": [
    {
     "data": {
      "text/plain": [
       "[0, 1]"
      ]
     },
     "execution_count": 47,
     "metadata": {},
     "output_type": "execute_result"
    }
   ],
   "source": [
    "sol = Solution()\n",
    "nums = [3,3]\n",
    "target = 6\n",
    "sol.twoSum(nums,target)"
   ]
  },
  {
   "cell_type": "code",
   "execution_count": null,
   "metadata": {},
   "outputs": [],
   "source": []
  }
 ],
 "metadata": {
  "kernelspec": {
   "display_name": "Python 3",
   "language": "python",
   "name": "python3"
  },
  "language_info": {
   "codemirror_mode": {
    "name": "ipython",
    "version": 3
   },
   "file_extension": ".py",
   "mimetype": "text/x-python",
   "name": "python",
   "nbconvert_exporter": "python",
   "pygments_lexer": "ipython3",
   "version": "3.7.9"
  }
 },
 "nbformat": 4,
 "nbformat_minor": 4
}
