{
 "cells": [
  {
   "cell_type": "markdown",
   "metadata": {},
   "source": [
    "## Song Lyrics Generator\n",
    "### (작사가 인공지능 만들기)\n",
    "\n",
    "***\n",
    "#### 1. 데이터 읽어오기"
   ]
  },
  {
   "cell_type": "code",
   "execution_count": 76,
   "metadata": {},
   "outputs": [
    {
     "name": "stdout",
     "output_type": "stream",
     "text": [
      "데이터 크기: 187088\n",
      "Examples:\n",
      " ['', '', '[Spoken Intro:]', 'You ever want something ', \"that you know you shouldn't have \", \"The more you know you shouldn't have it, \", 'The more you want it ', 'And then one day you get it, ', \"It's so good too \", \"But it's just like my girl \", \"When she's around me \", 'I just feel so good, so good ', 'But right now I just feel cold, so cold ', 'Right down to my bones ', \"'Cause ooh... \", \"Ain't no sunshine when she's gone \", \"It's not warm when she's away \", \"Ain't no sunshine when she's gone \", \"And she's always gone too long \", 'Anytime she goes away ']\n"
     ]
    }
   ],
   "source": [
    "import glob\n",
    "import os\n",
    "\n",
    "txt_file_path = os.getenv('HOME')+'/aiffel/lyricist/data/lyrics/*'\n",
    "\n",
    "txt_list = glob.glob(txt_file_path)\n",
    "\n",
    "raw_corpus = []\n",
    "\n",
    "# 여러개의 txt 파일을 모두 읽어서 raw_corpus 에 담습니다.\n",
    "for txt_file in txt_list:\n",
    "    with open(txt_file, \"r\") as f:\n",
    "        raw = f.read().splitlines()\n",
    "        raw_corpus.extend(raw) # 텍스트를 라인단위로 끊어서 리스트 형태로 읽어옴\n",
    "\n",
    "print(\"데이터 크기:\", len(raw_corpus))\n",
    "print(\"Examples:\\n\", raw_corpus[:20])\n",
    "# 특수문자들, 길이가 없는 문장 삭제 필요"
   ]
  },
  {
   "cell_type": "markdown",
   "metadata": {},
   "source": [
    "***\n",
    "#### 2. 데이터 정제하기(데이터 전처리)\n",
    "- 토큰화 했을 때 토큰의 개수가 15개를 넘어가는 문장을 학습데이터에서 제외하기."
   ]
  },
  {
   "cell_type": "code",
   "execution_count": 111,
   "metadata": {},
   "outputs": [
    {
     "name": "stdout",
     "output_type": "stream",
     "text": [
      "<start> this is sample sentence . <end>\n"
     ]
    }
   ],
   "source": [
    "import re                  # 정규표현식을 위한 Regex 지원 모듈 (문장 데이터를 정돈하기 위해) \n",
    "import numpy as np         # 변환된 문장 데이터(행렬)을 편하게 처리하기 위해\n",
    "import tensorflow as tf    # 텐서플로우\n",
    "import os\n",
    "\n",
    "# 문장 토큰화\n",
    "# 1. Hi,를 막기위해 문장부호 양쪽에 공백 추가\n",
    "# 2. 대소문자 중복을 막기위해 모든 문자를 소문자로 변환\n",
    "# 3. 특수문자로 인해 한단어로 인식되어 오류를 일으키는 것을 막기위해 특수문자들 제거\n",
    "\n",
    "def preprocess_sentence(sentence):\n",
    "    sentence = sentence.lower().strip() # 소문자로 바꾸고 양쪽 공백을 삭제\n",
    "  \n",
    "    # 아래 3단계를 거쳐 sentence는 스페이스 1개를 delimeter로 하는 소문자 단어 시퀀스로 바뀝니다.\n",
    "    sentence = re.sub(r\"([?.!,¿])\", r\" \\1 \", sentence)        # 패턴의 특수문자를 만나면 특수문자 양쪽에 공백을 추가\n",
    "    sentence = re.sub(r'[\" \"]+', \" \", sentence)                  # 공백 패턴을 만나면 스페이스 1개로 치환\n",
    "    sentence = re.sub(r\"[^a-zA-Z?.!,¿]+\", \" \", sentence)  # a-zA-Z?.!,¿ 패턴을 제외한 모든 문자(공백문자까지도)를 스페이스 1개로 치환\n",
    "\n",
    "    sentence = sentence.strip()\n",
    "\n",
    "    sentence = '<start> ' + sentence + ' <end>'      # 이전 스텝에서 본 것처럼 문장 앞뒤로 <start>와 <end>를 단어처럼 붙여 줍니다\n",
    "    \n",
    "    return sentence\n",
    "\n",
    "print(preprocess_sentence(\"This @_is ;;;sample        sentence.\"))   # 터링되는지 확인"
   ]
  },
  {
   "cell_type": "code",
   "execution_count": 179,
   "metadata": {},
   "outputs": [
    {
     "name": "stdout",
     "output_type": "stream",
     "text": [
      "<start> step right up its circus time and get your moneys worth of love today <end>\n"
     ]
    }
   ],
   "source": [
    "# 1차 문장정리 데이터에 <start>와 <end>를 넣어 정리\n",
    "corpus = []\n",
    "new_corpus = []\n",
    "bad_corpus = []\n",
    "\n",
    "for sentence in raw_corpus:\n",
    "    if len(sentence) == 0: continue\n",
    "    if sentence[-1] == \":\": continue\n",
    "        \n",
    "    corpus.append(preprocess_sentence(sentence))\n",
    "        \n",
    "# 깔끔하게 정리된 문장에서 <start>와 <end>를 포함해서 문장길이가 15이하인 부분 삭제하기\n",
    "for i in range((len(corpus))-1):\n",
    "    if len(corpus[i].split(' ')) <=15 :\n",
    "        new_corpus.append(corpus[i])\n",
    "    else :\n",
    "        bad_corpus.append(corpus[i])\n",
    "\n",
    "print(bad_corpus[0])"
   ]
  },
  {
   "cell_type": "code",
   "execution_count": 170,
   "metadata": {},
   "outputs": [
    {
     "name": "stdout",
     "output_type": "stream",
     "text": [
      "(156012, 15)\n"
     ]
    }
   ],
   "source": [
    "def tokenize(corpus):\n",
    "    # 텐서플로우에서 제공하는 Tokenizer 패키지를 생성\n",
    "    # 단어장의 인덱스넘버가 12000개이고 띄어쓰기를 기준으로 토큰을 형성한다.\n",
    "    # 사전에 없는 단어는 <unk>으로 처리한다.\n",
    "    tokenizer = tf.keras.preprocessing.text.Tokenizer(\n",
    "        num_words=12000,  \n",
    "        # 전체 단어의 개수 \n",
    "        # 답으로 활용할 단어의 갯수라고 판단, 7000->12000개로 늘림\n",
    "        filters= ' ',    \n",
    "        # 별도로 전처리 로직을 추가할 수 있다.\n",
    "        # ex ) !\"#$%&()*+,-./:;<=>?@[\\\\]^_`{|}~\\t\\n\n",
    "        oov_token=\"<unk>\"  \n",
    "        # out-of-vocabulary, 사전에 없었던 단어는 어떤 토큰으로 대체할지 결정\n",
    "    )\n",
    "    tokenizer.fit_on_texts(corpus)   # 우리가 구축한 corpus로부터 Tokenizer가 사전을 자동구축하게 됩니다.\n",
    "\n",
    "    # 이후 tokenizer를 활용하여 모델에 입력할 데이터셋을 구축하게 됩니다.\n",
    "    tensor = tokenizer.texts_to_sequences(corpus)   # tokenizer는 구축한 사전으로부터 corpus를 해석해 Tensor로 변환합니다.\n",
    "\n",
    "    # 입력 데이터의 시퀀스 길이를 일정하게 맞추기 위한 padding  메소드를 제공합니다.\n",
    "    # maxlen의 디폴트값은 None입니다. 이 경우 corpus의 가장 긴 문장을 기준으로 시퀀스 길이가 맞춰집니다.\n",
    "    # 문장의 최대길이를 조절하여 토큰의 갯수를 조절한다.\n",
    "    tensor = tf.keras.preprocessing.sequence.pad_sequences(tensor, padding='post', maxlen=15)  \n",
    "\n",
    "    print(tensor.shape)\n",
    "    return tensor, tokenizer\n",
    "\n",
    "tensor, tokenizer = tokenize(new_corpus)"
   ]
  },
  {
   "cell_type": "code",
   "execution_count": 171,
   "metadata": {},
   "outputs": [
    {
     "data": {
      "text/plain": [
       "(156012, 15)"
      ]
     },
     "execution_count": 171,
     "metadata": {},
     "output_type": "execute_result"
    }
   ],
   "source": [
    "tensor.shape"
   ]
  },
  {
   "cell_type": "code",
   "execution_count": 172,
   "metadata": {},
   "outputs": [
    {
     "data": {
      "text/plain": [
       "<BatchDataset shapes: ((256, 14), (256, 14)), types: (tf.int32, tf.int32)>"
      ]
     },
     "execution_count": 172,
     "metadata": {},
     "output_type": "execute_result"
    }
   ],
   "source": [
    "# 데이터 셋 분리\n",
    "# 소스문장(<start> blah blah <pad><pad><pad>)\n",
    "# 타겟문장(blah blah <end> <pad><pad><pad>)\n",
    "src_input = tensor[:, :-1]  \n",
    "# tensor에서 마지막 토큰을 잘라내서 소스 문장을 생성합니다. \n",
    "# 마지막 토큰은 <end>가 아니라 <pad>일 가능성이 높습니다.\n",
    "tgt_input = tensor[:, 1:]    \n",
    "# tensor에서 <start>를 잘라내서 타겟 문장을 생성\n",
    "BUFFER_SIZE = len(src_input)\n",
    "BATCH_SIZE = 256\n",
    "steps_per_epoch = len(src_input) // BATCH_SIZE\n",
    "\n",
    "VOCAB_SIZE = tokenizer.num_words + 1    # tokenizer가 구축한 단어사전 내 12000개와, 여기 포함되지 않은 0:<pad>를 포함하여 7001개\n",
    "\n",
    "dataset = tf.data.Dataset.from_tensor_slices((src_input, tgt_input)).shuffle(BUFFER_SIZE)\n",
    "dataset = dataset.batch(BATCH_SIZE, drop_remainder=True)\n",
    "dataset"
   ]
  },
  {
   "cell_type": "markdown",
   "metadata": {},
   "source": [
    "***\n",
    "#### 3. 평가 데이터셋 분리\n",
    "- 단어장의 크기는 12000 이상으로 설정.\n",
    "- 총 데이터의 20%를 평가 데이터셋으로 사용"
   ]
  },
  {
   "cell_type": "code",
   "execution_count": 173,
   "metadata": {},
   "outputs": [],
   "source": [
    "# 총데이터를 학습데이터와 평가용 데이터셋으로 나눔(train_test_split())활용.\n",
    "enc_train, enc_val, dec_train, dec_val = train_test_split(src_input, \n",
    "                                                          tgt_input,\n",
    "                                                          test_size=0.2,\n",
    "                                                          shuffle=True, \n",
    "                                                          random_state=34)"
   ]
  },
  {
   "cell_type": "code",
   "execution_count": 174,
   "metadata": {},
   "outputs": [
    {
     "name": "stdout",
     "output_type": "stream",
     "text": [
      "Source Train:  (124809, 14)\n",
      "Target Train:  (124809, 14)\n"
     ]
    }
   ],
   "source": [
    "print('Source Train: ', enc_train.shape)\n",
    "print('Target Train: ', dec_train.shape)"
   ]
  },
  {
   "cell_type": "markdown",
   "metadata": {},
   "source": [
    "***\n",
    "#### 4. 인공지능 만들기\n",
    "- 10Epoch안에 val_loss를 2.2수준으로 줄이기"
   ]
  },
  {
   "cell_type": "code",
   "execution_count": 175,
   "metadata": {},
   "outputs": [],
   "source": [
    "class TextGenerator(tf.keras.Model):\n",
    "    def __init__(self, vocab_size, embedding_size, hidden_size):\n",
    "        super(TextGenerator, self).__init__()\n",
    "        \n",
    "        self.embedding = tf.keras.layers.Embedding(vocab_size, embedding_size)\n",
    "        self.rnn_1 = tf.keras.layers.LSTM(hidden_size, return_sequences=True)\n",
    "        self.rnn_2 = tf.keras.layers.LSTM(hidden_size, return_sequences=True)\n",
    "        self.linear = tf.keras.layers.Dense(vocab_size)\n",
    "        \n",
    "    def call(self, x):\n",
    "        out = self.embedding(x)\n",
    "        out = self.rnn_1(out)\n",
    "        out = self.rnn_2(out)\n",
    "        out = self.linear(out)\n",
    "        \n",
    "        return out\n",
    "    \n",
    "embedding_size = 256\n",
    "hidden_size = 1024\n",
    "model = TextGenerator(tokenizer.num_words + 1, embedding_size , hidden_size)"
   ]
  },
  {
   "cell_type": "code",
   "execution_count": 176,
   "metadata": {},
   "outputs": [
    {
     "data": {
      "text/plain": [
       "<tf.Tensor: shape=(256, 14, 12001), dtype=float32, numpy=\n",
       "array([[[-6.4061751e-05,  1.7909800e-04,  3.6183643e-04, ...,\n",
       "         -4.5479919e-05,  2.1384937e-04,  2.9071586e-04],\n",
       "        [-4.1472129e-05,  2.4459363e-04,  6.1135902e-04, ...,\n",
       "          2.0724648e-05,  2.5070040e-04,  2.7894587e-04],\n",
       "        [ 6.6876695e-05,  3.7390785e-04,  2.1247483e-04, ...,\n",
       "          2.7055360e-04, -2.2378440e-06,  3.5125320e-04],\n",
       "        ...,\n",
       "        [-2.3996024e-03,  1.9670388e-04, -7.8581134e-04, ...,\n",
       "          5.8174651e-04, -1.1697005e-03,  3.5396795e-04],\n",
       "        [-3.0239385e-03,  3.9356406e-04, -8.5635972e-04, ...,\n",
       "          5.2907487e-04, -1.3320262e-03,  7.5035682e-04],\n",
       "        [-3.5963149e-03,  5.7229790e-04, -9.3992759e-04, ...,\n",
       "          4.5956360e-04, -1.4752614e-03,  1.1206248e-03]],\n",
       "\n",
       "       [[-6.4061751e-05,  1.7909800e-04,  3.6183643e-04, ...,\n",
       "         -4.5479919e-05,  2.1384937e-04,  2.9071586e-04],\n",
       "        [-2.5347204e-04,  8.6456195e-05,  7.1153441e-04, ...,\n",
       "         -3.7714449e-04,  2.6386927e-04,  4.3038159e-04],\n",
       "        [-2.6513569e-04, -2.1048555e-04,  7.5526035e-04, ...,\n",
       "         -5.6117272e-04,  1.9846177e-04,  3.9442899e-04],\n",
       "        ...,\n",
       "        [ 5.0779019e-04, -5.5242039e-04,  5.9938739e-04, ...,\n",
       "         -3.3613417e-04, -3.1231812e-04, -6.4453145e-04],\n",
       "        [ 5.2125222e-04, -4.5250918e-04,  2.6636833e-04, ...,\n",
       "         -9.6983691e-05, -7.0978847e-04, -5.2565953e-04],\n",
       "        [ 5.6308595e-04, -2.7370793e-04, -6.1638479e-05, ...,\n",
       "          1.3802673e-04, -1.0662761e-03, -6.5428158e-04]],\n",
       "\n",
       "       [[-6.4061751e-05,  1.7909800e-04,  3.6183643e-04, ...,\n",
       "         -4.5479919e-05,  2.1384937e-04,  2.9071586e-04],\n",
       "        [-1.4834129e-04,  1.1313077e-04,  5.3308840e-04, ...,\n",
       "          2.1715592e-04,  5.8867323e-04,  5.6610222e-04],\n",
       "        [-2.1682914e-04,  2.9450332e-04,  5.2127911e-04, ...,\n",
       "          3.3293251e-04,  8.7156106e-04,  5.4375117e-04],\n",
       "        ...,\n",
       "        [-5.5867393e-04,  1.0356745e-03,  2.5159301e-04, ...,\n",
       "          2.4099347e-04, -2.1162812e-05, -2.8971300e-04],\n",
       "        [-1.1315222e-03,  1.1968869e-03,  1.3582835e-04, ...,\n",
       "          2.4597911e-04, -2.3450638e-04,  2.8888891e-05],\n",
       "        [-1.7640614e-03,  1.3314579e-03,  2.1029642e-05, ...,\n",
       "          2.1217292e-04, -4.3636491e-04,  3.9868077e-04]],\n",
       "\n",
       "       ...,\n",
       "\n",
       "       [[-6.4061751e-05,  1.7909800e-04,  3.6183643e-04, ...,\n",
       "         -4.5479919e-05,  2.1384937e-04,  2.9071586e-04],\n",
       "        [-7.2558621e-05,  1.5514604e-04,  6.9459138e-04, ...,\n",
       "         -1.4236252e-04,  2.8914589e-04,  3.6984129e-05],\n",
       "        [-8.7078261e-06, -8.5247477e-05,  8.1849773e-04, ...,\n",
       "         -1.4144384e-04,  2.7175297e-04, -1.2791065e-04],\n",
       "        ...,\n",
       "        [-1.8354785e-03,  5.7282846e-04, -4.2298349e-04, ...,\n",
       "         -3.8580442e-04, -4.3600556e-04,  6.1716471e-04],\n",
       "        [-2.5740499e-03,  7.8185048e-04, -5.5677100e-04, ...,\n",
       "         -3.9066593e-04, -6.5319269e-04,  9.4460906e-04],\n",
       "        [-3.2389027e-03,  9.5991849e-04, -6.9606246e-04, ...,\n",
       "         -3.9152437e-04, -8.4987929e-04,  1.2594747e-03]],\n",
       "\n",
       "       [[-6.4061751e-05,  1.7909800e-04,  3.6183643e-04, ...,\n",
       "         -4.5479919e-05,  2.1384937e-04,  2.9071586e-04],\n",
       "        [-8.2673221e-05, -2.2765124e-04,  5.2590569e-04, ...,\n",
       "          2.3543397e-04,  2.0358176e-04,  1.4657839e-04],\n",
       "        [-3.4423644e-04, -4.8220184e-04,  7.4119808e-04, ...,\n",
       "          3.2977317e-04,  1.3430935e-04, -1.9351679e-05],\n",
       "        ...,\n",
       "        [-3.3525354e-03,  7.4472040e-04, -3.3980369e-04, ...,\n",
       "         -8.2850835e-04, -1.2470157e-03,  8.9651090e-04],\n",
       "        [-3.9153793e-03,  8.5692754e-04, -4.4468639e-04, ...,\n",
       "         -7.8578497e-04, -1.3948941e-03,  1.2342952e-03],\n",
       "        [-4.4097803e-03,  9.5986412e-04, -5.6636741e-04, ...,\n",
       "         -7.4700650e-04, -1.5161863e-03,  1.5385108e-03]],\n",
       "\n",
       "       [[-6.4061751e-05,  1.7909800e-04,  3.6183643e-04, ...,\n",
       "         -4.5479919e-05,  2.1384937e-04,  2.9071586e-04],\n",
       "        [-3.8164428e-05,  3.4331460e-04,  5.6907226e-04, ...,\n",
       "         -1.3553293e-05,  3.1196434e-04,  4.5481368e-04],\n",
       "        [-1.5700913e-04,  4.0507599e-04,  6.5570313e-04, ...,\n",
       "         -2.9446770e-04,  3.8687867e-04,  4.0284178e-04],\n",
       "        ...,\n",
       "        [ 5.2607887e-05,  5.6835933e-04, -1.5813585e-04, ...,\n",
       "          1.6129747e-04,  3.2926611e-05,  2.8968175e-04],\n",
       "        [-6.5012655e-04,  6.4718735e-04, -3.1798778e-04, ...,\n",
       "          2.1857559e-04, -1.8286089e-04,  5.8596319e-04],\n",
       "        [-1.4224155e-03,  7.3623093e-04, -4.6944199e-04, ...,\n",
       "          2.2765518e-04, -3.9220843e-04,  9.4416604e-04]]], dtype=float32)>"
      ]
     },
     "execution_count": 176,
     "metadata": {},
     "output_type": "execute_result"
    }
   ],
   "source": [
    "for src_sample, tgt_sample in dataset.take(1): break\n",
    "model(src_sample)"
   ]
  },
  {
   "cell_type": "code",
   "execution_count": 177,
   "metadata": {},
   "outputs": [
    {
     "name": "stdout",
     "output_type": "stream",
     "text": [
      "Model: \"text_generator_1\"\n",
      "_________________________________________________________________\n",
      "Layer (type)                 Output Shape              Param #   \n",
      "=================================================================\n",
      "embedding_1 (Embedding)      multiple                  3072256   \n",
      "_________________________________________________________________\n",
      "lstm_2 (LSTM)                multiple                  5246976   \n",
      "_________________________________________________________________\n",
      "lstm_3 (LSTM)                multiple                  8392704   \n",
      "_________________________________________________________________\n",
      "dense_1 (Dense)              multiple                  12301025  \n",
      "=================================================================\n",
      "Total params: 29,012,961\n",
      "Trainable params: 29,012,961\n",
      "Non-trainable params: 0\n",
      "_________________________________________________________________\n"
     ]
    }
   ],
   "source": [
    "model.summary()"
   ]
  },
  {
   "cell_type": "code",
   "execution_count": 181,
   "metadata": {},
   "outputs": [
    {
     "name": "stdout",
     "output_type": "stream",
     "text": [
      "Epoch 1/10\n",
      "609/609 [==============================] - 101s 166ms/step - loss: 1.2154\n",
      "Epoch 2/10\n",
      "609/609 [==============================] - 99s 162ms/step - loss: 1.1710\n",
      "Epoch 3/10\n",
      "609/609 [==============================] - 95s 156ms/step - loss: 1.1471\n",
      "Epoch 4/10\n",
      "609/609 [==============================] - 95s 156ms/step - loss: 1.1254\n",
      "Epoch 5/10\n",
      "609/609 [==============================] - 95s 156ms/step - loss: 1.1048\n",
      "Epoch 6/10\n",
      "609/609 [==============================] - 94s 155ms/step - loss: 1.0860\n",
      "Epoch 7/10\n",
      "609/609 [==============================] - 94s 155ms/step - loss: 1.0679\n",
      "Epoch 8/10\n",
      "609/609 [==============================] - 95s 155ms/step - loss: 1.0514\n",
      "Epoch 9/10\n",
      "609/609 [==============================] - 94s 155ms/step - loss: 1.0366\n",
      "Epoch 10/10\n",
      "609/609 [==============================] - 94s 155ms/step - loss: 1.0225\n"
     ]
    },
    {
     "data": {
      "text/plain": [
       "<tensorflow.python.keras.callbacks.History at 0x7f8180861090>"
      ]
     },
     "execution_count": 181,
     "metadata": {},
     "output_type": "execute_result"
    }
   ],
   "source": [
    "optimizer = tf.keras.optimizers.Adam()\n",
    "loss = tf.keras.losses.SparseCategoricalCrossentropy(\n",
    "    from_logits=True,\n",
    "    reduction='none'\n",
    ")\n",
    "\n",
    "model.compile(loss=loss, optimizer=optimizer)\n",
    "model.fit(dataset, epochs=10)"
   ]
  },
  {
   "cell_type": "code",
   "execution_count": 180,
   "metadata": {},
   "outputs": [],
   "source": [
    "def generate_text(model, tokenizer, init_sentence=\"<start>\", max_len=20):\n",
    "    # 테스트를 위해서 입력받은 init_sentence도 일단 텐서로 변환합니다.\n",
    "    test_input = tokenizer.texts_to_sequences([init_sentence])\n",
    "    test_tensor = tf.convert_to_tensor(test_input, dtype=tf.int64)\n",
    "    end_token = tokenizer.word_index[\"<end>\"]\n",
    "\n",
    "    # 텍스트를 실제로 생성할때는 루프를 돌면서 단어 하나씩 생성해야 합니다. \n",
    "    while True:\n",
    "        predict = model(test_tensor)  # 입력받은 문장의 텐서를 입력합니다. \n",
    "        predict_word = tf.argmax(tf.nn.softmax(predict, axis=-1), axis=-1)[:, -1]   # 우리 모델이 예측한 마지막 단어가 바로 새롭게 생성한 단어가 됩니다. \n",
    "\n",
    "        # 우리 모델이 새롭게 예측한 단어를 입력 문장의 뒤에 붙여 줍니다. \n",
    "        test_tensor = tf.concat([test_tensor, \n",
    "                                                                 tf.expand_dims(predict_word, axis=0)], axis=-1)\n",
    "\n",
    "        # 우리 모델이 <end>를 예측했거나, max_len에 도달하지 않았다면  while 루프를 또 돌면서 다음 단어를 예측해야 합니다.\n",
    "        if predict_word.numpy()[0] == end_token: break\n",
    "        if test_tensor.shape[1] >= max_len: break\n",
    "\n",
    "    generated = \"\"\n",
    "    # 생성된 tensor 안에 있는 word index를 tokenizer.index_word 사전을 통해 실제 단어로 하나씩 변환합니다. \n",
    "    for word_index in test_tensor[0].numpy():\n",
    "        generated += tokenizer.index_word[word_index] + \" \"\n",
    "\n",
    "    return generated   # 이것이 최종적으로 모델이 생성한 자연어 문장입니다."
   ]
  },
  {
   "cell_type": "code",
   "execution_count": null,
   "metadata": {},
   "outputs": [],
   "source": []
  }
 ],
 "metadata": {
  "kernelspec": {
   "display_name": "Python 3",
   "language": "python",
   "name": "python3"
  },
  "language_info": {
   "codemirror_mode": {
    "name": "ipython",
    "version": 3
   },
   "file_extension": ".py",
   "mimetype": "text/x-python",
   "name": "python",
   "nbconvert_exporter": "python",
   "pygments_lexer": "ipython3",
   "version": "3.7.9"
  }
 },
 "nbformat": 4,
 "nbformat_minor": 4
}
