{
 "cells": [
  {
   "cell_type": "markdown",
   "metadata": {},
   "source": [
    "#  유방암 분류기 만들기\n",
    "## (Breast Cancer Classifier)"
   ]
  },
  {
   "cell_type": "code",
   "execution_count": 10,
   "metadata": {},
   "outputs": [],
   "source": [
    "# 필요한 모듈 import하기\n",
    "from sklearn.datasets import load_breast_cancer\n",
    "from sklearn.model_selection import train_test_split\n",
    "from sklearn.metrics import classification_report\n",
    "\n",
    "# 데이터준비\n",
    "BrCancer = load_breast_cancer()"
   ]
  },
  {
   "cell_type": "code",
   "execution_count": 11,
   "metadata": {},
   "outputs": [
    {
     "data": {
      "text/plain": [
       "dict_keys(['data', 'target', 'frame', 'target_names', 'DESCR', 'feature_names', 'filename'])"
      ]
     },
     "execution_count": 11,
     "metadata": {},
     "output_type": "execute_result"
    }
   ],
   "source": [
    "# 불러온 dataset 정보 확인\n",
    "BrCancer.keys()"
   ]
  },
  {
   "cell_type": "code",
   "execution_count": 12,
   "metadata": {},
   "outputs": [
    {
     "name": "stdout",
     "output_type": "stream",
     "text": [
      "(569, 30)\n"
     ]
    },
    {
     "data": {
      "text/plain": [
       "array([1.799e+01, 1.038e+01, 1.228e+02, 1.001e+03, 1.184e-01, 2.776e-01,\n",
       "       3.001e-01, 1.471e-01, 2.419e-01, 7.871e-02, 1.095e+00, 9.053e-01,\n",
       "       8.589e+00, 1.534e+02, 6.399e-03, 4.904e-02, 5.373e-02, 1.587e-02,\n",
       "       3.003e-02, 6.193e-03, 2.538e+01, 1.733e+01, 1.846e+02, 2.019e+03,\n",
       "       1.622e-01, 6.656e-01, 7.119e-01, 2.654e-01, 4.601e-01, 1.189e-01])"
      ]
     },
     "execution_count": 12,
     "metadata": {},
     "output_type": "execute_result"
    }
   ],
   "source": [
    "# 데이터 이해하기\n",
    "\n",
    "# Feature Data 지정하기\n",
    "BrCancer_data = BrCancer.data\n",
    "# Label Data 지정하기\n",
    "BrCancer_label = BrCancer.target\n",
    "\n",
    "# Data의 크기 확인\n",
    "print(BrCancer_data.shape)\n",
    "BrCancer_data[0]"
   ]
  },
  {
   "cell_type": "code",
   "execution_count": 13,
   "metadata": {},
   "outputs": [
    {
     "data": {
      "text/plain": [
       "array(['malignant', 'benign'], dtype='<U9')"
      ]
     },
     "execution_count": 13,
     "metadata": {},
     "output_type": "execute_result"
    }
   ],
   "source": [
    "# Target Names 출력해보기\n",
    "BrCancer.target_names"
   ]
  },
  {
   "cell_type": "code",
   "execution_count": 14,
   "metadata": {},
   "outputs": [
    {
     "name": "stdout",
     "output_type": "stream",
     "text": [
      ".. _breast_cancer_dataset:\n",
      "\n",
      "Breast cancer wisconsin (diagnostic) dataset\n",
      "--------------------------------------------\n",
      "\n",
      "**Data Set Characteristics:**\n",
      "\n",
      "    :Number of Instances: 569\n",
      "\n",
      "    :Number of Attributes: 30 numeric, predictive attributes and the class\n",
      "\n",
      "    :Attribute Information:\n",
      "        - radius (mean of distances from center to points on the perimeter)\n",
      "        - texture (standard deviation of gray-scale values)\n",
      "        - perimeter\n",
      "        - area\n",
      "        - smoothness (local variation in radius lengths)\n",
      "        - compactness (perimeter^2 / area - 1.0)\n",
      "        - concavity (severity of concave portions of the contour)\n",
      "        - concave points (number of concave portions of the contour)\n",
      "        - symmetry\n",
      "        - fractal dimension (\"coastline approximation\" - 1)\n",
      "\n",
      "        The mean, standard error, and \"worst\" or largest (mean of the three\n",
      "        worst/largest values) of these features were computed for each image,\n",
      "        resulting in 30 features.  For instance, field 0 is Mean Radius, field\n",
      "        10 is Radius SE, field 20 is Worst Radius.\n",
      "\n",
      "        - class:\n",
      "                - WDBC-Malignant\n",
      "                - WDBC-Benign\n",
      "\n",
      "    :Summary Statistics:\n",
      "\n",
      "    ===================================== ====== ======\n",
      "                                           Min    Max\n",
      "    ===================================== ====== ======\n",
      "    radius (mean):                        6.981  28.11\n",
      "    texture (mean):                       9.71   39.28\n",
      "    perimeter (mean):                     43.79  188.5\n",
      "    area (mean):                          143.5  2501.0\n",
      "    smoothness (mean):                    0.053  0.163\n",
      "    compactness (mean):                   0.019  0.345\n",
      "    concavity (mean):                     0.0    0.427\n",
      "    concave points (mean):                0.0    0.201\n",
      "    symmetry (mean):                      0.106  0.304\n",
      "    fractal dimension (mean):             0.05   0.097\n",
      "    radius (standard error):              0.112  2.873\n",
      "    texture (standard error):             0.36   4.885\n",
      "    perimeter (standard error):           0.757  21.98\n",
      "    area (standard error):                6.802  542.2\n",
      "    smoothness (standard error):          0.002  0.031\n",
      "    compactness (standard error):         0.002  0.135\n",
      "    concavity (standard error):           0.0    0.396\n",
      "    concave points (standard error):      0.0    0.053\n",
      "    symmetry (standard error):            0.008  0.079\n",
      "    fractal dimension (standard error):   0.001  0.03\n",
      "    radius (worst):                       7.93   36.04\n",
      "    texture (worst):                      12.02  49.54\n",
      "    perimeter (worst):                    50.41  251.2\n",
      "    area (worst):                         185.2  4254.0\n",
      "    smoothness (worst):                   0.071  0.223\n",
      "    compactness (worst):                  0.027  1.058\n",
      "    concavity (worst):                    0.0    1.252\n",
      "    concave points (worst):               0.0    0.291\n",
      "    symmetry (worst):                     0.156  0.664\n",
      "    fractal dimension (worst):            0.055  0.208\n",
      "    ===================================== ====== ======\n",
      "\n",
      "    :Missing Attribute Values: None\n",
      "\n",
      "    :Class Distribution: 212 - Malignant, 357 - Benign\n",
      "\n",
      "    :Creator:  Dr. William H. Wolberg, W. Nick Street, Olvi L. Mangasarian\n",
      "\n",
      "    :Donor: Nick Street\n",
      "\n",
      "    :Date: November, 1995\n",
      "\n",
      "This is a copy of UCI ML Breast Cancer Wisconsin (Diagnostic) datasets.\n",
      "https://goo.gl/U2Uwz2\n",
      "\n",
      "Features are computed from a digitized image of a fine needle\n",
      "aspirate (FNA) of a breast mass.  They describe\n",
      "characteristics of the cell nuclei present in the image.\n",
      "\n",
      "Separating plane described above was obtained using\n",
      "Multisurface Method-Tree (MSM-T) [K. P. Bennett, \"Decision Tree\n",
      "Construction Via Linear Programming.\" Proceedings of the 4th\n",
      "Midwest Artificial Intelligence and Cognitive Science Society,\n",
      "pp. 97-101, 1992], a classification method which uses linear\n",
      "programming to construct a decision tree.  Relevant features\n",
      "were selected using an exhaustive search in the space of 1-4\n",
      "features and 1-3 separating planes.\n",
      "\n",
      "The actual linear program used to obtain the separating plane\n",
      "in the 3-dimensional space is that described in:\n",
      "[K. P. Bennett and O. L. Mangasarian: \"Robust Linear\n",
      "Programming Discrimination of Two Linearly Inseparable Sets\",\n",
      "Optimization Methods and Software 1, 1992, 23-34].\n",
      "\n",
      "This database is also available through the UW CS ftp server:\n",
      "\n",
      "ftp ftp.cs.wisc.edu\n",
      "cd math-prog/cpo-dataset/machine-learn/WDBC/\n",
      "\n",
      ".. topic:: References\n",
      "\n",
      "   - W.N. Street, W.H. Wolberg and O.L. Mangasarian. Nuclear feature extraction \n",
      "     for breast tumor diagnosis. IS&T/SPIE 1993 International Symposium on \n",
      "     Electronic Imaging: Science and Technology, volume 1905, pages 861-870,\n",
      "     San Jose, CA, 1993.\n",
      "   - O.L. Mangasarian, W.N. Street and W.H. Wolberg. Breast cancer diagnosis and \n",
      "     prognosis via linear programming. Operations Research, 43(4), pages 570-577, \n",
      "     July-August 1995.\n",
      "   - W.H. Wolberg, W.N. Street, and O.L. Mangasarian. Machine learning techniques\n",
      "     to diagnose breast cancer from fine-needle aspirates. Cancer Letters 77 (1994) \n",
      "     163-171.\n"
     ]
    }
   ],
   "source": [
    "# 데이터 Describe 해 보기\n",
    "print(BrCancer.DESCR)\n",
    "# **Data Set Characteristics:**\n",
    "\n",
    "#     :Number of Instances: 569\n",
    "#     =>(데이터의 총 갯수)\n",
    "#     :Number of Attributes: 30 numeric, predictive attributes and the class\n",
    "#     =>(feature의 갯수 : 30)\n",
    "#     :Attribute Information:\n",
    "#         - radius (mean of distances from center to points on the perimeter)\n",
    "#         - texture (standard deviation of gray-scale values)\n",
    "#         - perimeter\n",
    "#         - area\n",
    "#         - smoothness (local variation in radius lengths)\n",
    "#         - compactness (perimeter^2 / area - 1.0)\n",
    "#         - concavity (severity of concave portions of the contour)\n",
    "#         - concave points (number of concave portions of the contour)\n",
    "#         - symmetry\n",
    "#         - fractal dimension (\"coastline approximation\" - 1)\n",
    "\n",
    "#         The mean, standard error, and \"worst\" or largest (mean of the three\n",
    "#         worst/largest values) of these features were computed for each image,\n",
    "#         resulting in 30 features.  For instance, field 0 is Mean Radius, field\n",
    "#         10 is Radius SE, field 20 is Worst Radius.\n",
    "\n",
    "#         - class:\n",
    "#                 - WDBC-Malignant\n",
    "#                 - WDBC-Benign\n",
    "#         => 악성 혹은 양성(2개의 label)\n",
    "\n",
    "#         Features are computed from a digitized image of a fine needle aspirate (FNA) of a breast mass.\n",
    "#         They describe characteristics of the cell nuclei present in the image.\n",
    "#         => 형상은 유방 질량의 미세한 Needle Aspirate(FNA)의 디지털 영상에서 계산된다.\n",
    "#         => 그것들은 이미지에 존재하는 세포핵의 특성을 설명한다.\n"
   ]
  },
  {
   "cell_type": "code",
   "execution_count": 15,
   "metadata": {},
   "outputs": [],
   "source": [
    "# train, test 데이터 분리\n",
    "X_train, X_test, y_train, y_test = train_test_split(BrCancer_data, \n",
    "                                                    BrCancer_label, \n",
    "                                                    test_size=0.2, \n",
    "                                                    random_state=7)"
   ]
  },
  {
   "cell_type": "code",
   "execution_count": 16,
   "metadata": {},
   "outputs": [
    {
     "name": "stdout",
     "output_type": "stream",
     "text": [
      "              precision    recall  f1-score   support\n",
      "\n",
      "           0       0.92      0.82      0.87        40\n",
      "           1       0.91      0.96      0.93        74\n",
      "\n",
      "    accuracy                           0.91       114\n",
      "   macro avg       0.91      0.89      0.90       114\n",
      "weighted avg       0.91      0.91      0.91       114\n",
      "\n"
     ]
    }
   ],
   "source": [
    "# DecisionTree\n",
    "from sklearn.tree import DecisionTreeClassifier\n",
    "decision_tree = DecisionTreeClassifier(random_state=32)\n",
    "decision_tree.fit(X_train, y_train)\n",
    "y_pred = decision_tree.predict(X_test)\n",
    "\n",
    "print(classification_report(y_test, y_pred))\n",
    "# accuracy : 91% 정흭도\n",
    "# 최저 정밀도(precision) : 0.91\n",
    "# 최저 검출율(recall) : 0.82"
   ]
  },
  {
   "cell_type": "code",
   "execution_count": 17,
   "metadata": {},
   "outputs": [
    {
     "name": "stdout",
     "output_type": "stream",
     "text": [
      "              precision    recall  f1-score   support\n",
      "\n",
      "           0       1.00      1.00      1.00        40\n",
      "           1       1.00      1.00      1.00        74\n",
      "\n",
      "    accuracy                           1.00       114\n",
      "   macro avg       1.00      1.00      1.00       114\n",
      "weighted avg       1.00      1.00      1.00       114\n",
      "\n"
     ]
    }
   ],
   "source": [
    "# RandomTreeClassifier\n",
    "from sklearn.ensemble import RandomForestClassifier\n",
    "random_forest = RandomForestClassifier(random_state=32)\n",
    "random_forest.fit(X_train, y_train)\n",
    "random_y_pred = random_forest.predict(X_test)\n",
    "\n",
    "print(classification_report(y_test, random_y_pred))\n",
    "# accuracy : 100% 정흭도\n",
    "# 최저 정밀도(precision) : 1.00\n",
    "# 최저 검출율(recall) : 1.00"
   ]
  },
  {
   "cell_type": "code",
   "execution_count": 18,
   "metadata": {},
   "outputs": [
    {
     "name": "stdout",
     "output_type": "stream",
     "text": [
      "              precision    recall  f1-score   support\n",
      "\n",
      "           0       1.00      0.72      0.84        40\n",
      "           1       0.87      1.00      0.93        74\n",
      "\n",
      "    accuracy                           0.90       114\n",
      "   macro avg       0.94      0.86      0.89       114\n",
      "weighted avg       0.92      0.90      0.90       114\n",
      "\n"
     ]
    }
   ],
   "source": [
    "# SVM\n",
    "from sklearn import svm\n",
    "SVM_model =svm.SVC()\n",
    "SVM_model.fit(X_train, y_train)\n",
    "SVM_y_pred = SVM_model.predict(X_test)\n",
    "\n",
    "print(classification_report(y_test, SVM_y_pred))\n",
    "# accuracy : 90% 정흭도\n",
    "# 최저 정밀도(precision) : 0.87\n",
    "# 최저 검출율(recall) : 0.72"
   ]
  },
  {
   "cell_type": "code",
   "execution_count": 19,
   "metadata": {},
   "outputs": [
    {
     "name": "stdout",
     "output_type": "stream",
     "text": [
      "              precision    recall  f1-score   support\n",
      "\n",
      "           0       0.70      0.95      0.81        40\n",
      "           1       0.97      0.78      0.87        74\n",
      "\n",
      "    accuracy                           0.84       114\n",
      "   macro avg       0.84      0.87      0.84       114\n",
      "weighted avg       0.87      0.84      0.85       114\n",
      "\n"
     ]
    }
   ],
   "source": [
    "# SGD Classifier\n",
    "from sklearn.linear_model import SGDClassifier\n",
    "sgd_model = SGDClassifier()\n",
    "sgd_model.fit(X_train, y_train)\n",
    "sgd_y_pred = sgd_model.predict(X_test)\n",
    "\n",
    "print(classification_report(y_test, sgd_y_pred))\n",
    "# accuracy : 90% 정확도\n",
    "# 최저 정밀도(precision) : 0.86\n",
    "# 최저 검출율(recall) : 0.70"
   ]
  },
  {
   "cell_type": "code",
   "execution_count": 20,
   "metadata": {},
   "outputs": [
    {
     "name": "stdout",
     "output_type": "stream",
     "text": [
      "              precision    recall  f1-score   support\n",
      "\n",
      "           0       1.00      0.95      0.97        40\n",
      "           1       0.97      1.00      0.99        74\n",
      "\n",
      "    accuracy                           0.98       114\n",
      "   macro avg       0.99      0.97      0.98       114\n",
      "weighted avg       0.98      0.98      0.98       114\n",
      "\n"
     ]
    }
   ],
   "source": [
    "# Logistic Regression\n",
    "from sklearn.linear_model import LogisticRegression\n",
    "# 오류발생으로 인한 오류해결 필요\n",
    "from sklearn.pipeline import make_pipeline\n",
    "from sklearn.preprocessing import StandardScaler\n",
    "# 데이터를 스케일링함.=> 추가공부 필요\n",
    "logistic_model = make_pipeline(StandardScaler(),LogisticRegression())\n",
    "logistic_model.fit(X_train, y_train)\n",
    "logistic_y_pred = logistic_model.predict(X_test)\n",
    "\n",
    "print(classification_report(y_test, logistic_y_pred))\n",
    "# accuracy : 98% 정확도\n",
    "# 최저 정밀도(precision) : 0.97\n",
    "# 최저 검출율(recall) : 0.95"
   ]
  },
  {
   "cell_type": "markdown",
   "metadata": {},
   "source": [
    "'''\n",
    "### 모델비교 결과\n",
    "***\n",
    "> ***DecisionTree***  \n",
    "> **accuracy : 0.91 // min_precision : 0.91 // min_recall : 0.82**  \n",
    ">\n",
    "> ***RandomTreeClassifier***  \n",
    "> **accuracy : 1.00 // min_precision : 1.00 // min_recall : 1.00**  \n",
    "> \n",
    "> ***SVM***  \n",
    "> **accuracy : 0.90 // min_precision : 0.87 // min_recall : 0.72** \n",
    ">\n",
    "> ***SGD Classifier***  \n",
    "> **accuracy : 0.90 // min_precision : 0.86 // min_recall : 0.70**  \n",
    ">\n",
    "> ***Logistic Regression***  \n",
    "> **accuracy : 0.98 // min_precision : 0.97 // min_recall : 0.95**  \n",
    "***\n",
    "\n",
    "***유방암을 분류하는 것은 정밀도가 다소 떨어지더라도 case를 전부 잡아내는 것이 중요하다.  \n",
    "그러므로 중요하게 여겨지는 `평가지표는 Recall(검출율)`이다.  \n",
    "총 5가지의 모델을 적용하여 확인한 결과, `RandomTreeClassifier`가 가장 높은 검출율을 가진 모델로 확인되었다.  \n",
    "그러나 1.00이라는 값을 온전히 신뢰하기에는 석연찮다.\n",
    "따라서 추가적인 검증을 하거나 다음으로 제일 높은 검출율을 가진 `Logistic Regression`을 선택하는 것이 적절하다고 판단된다.***\n",
    "\n",
    "***"
   ]
  },
  {
   "cell_type": "markdown",
   "metadata": {},
   "source": [
    "### 회고록(21.01.11)\n",
    "\n",
    "**이번에 했던 분류기는 생각보다 어렵게 느껴지지 않았다.  \n",
    "가위바위보 분류기보다 손을 봐야하는 변수들이 적어서 그렇지 않았나 생각해본다.  \n",
    "그래도 덕분에 가위바위보 분류기를 만들면서 맞은 명치가 조금 덜 아픈것 같다.  \n",
    "Digit, Wine, Breast_cancer 각각의 분류기를 만들기위해 위와같이 \n",
    "여러가지 모델들을 사용하였다.  \n",
    "분류하려는 데이터에 따라서 중요하게 생각해야하는 평가지표를 결정하는 것은 생각보다 무겁게 다가왔다.  \n",
    "내가 중요하게 생각한 평가지표에 따라 내가 만든 모델이 좋은 모델이 될 수도,  \n",
    "의미없는 모델이 될 수도 있다고 생각하니 데이터에 관해 고민을 좀 더 많이 해봐야겠다는 생각이 들었다.  \n",
    "재밌는 점은 wine분류기 모델을 만들때 SVM, SGD 와 같이 선형분류하는 모델친구들은 정확도, 정밀도, 검출율이 모두 낮게 나왔다는 것이다.  \n",
    "명확하게 왜 차이가 나고 하는것은 아직은 잘 모르겠지만, 개인적으로는 데이터의 분포가 비선형에 가깝게 분포되지 않았을까 생각해본다.**  \n",
    "\n"
   ]
  },
  {
   "cell_type": "code",
   "execution_count": null,
   "metadata": {},
   "outputs": [],
   "source": []
  }
 ],
 "metadata": {
  "kernelspec": {
   "display_name": "Python 3",
   "language": "python",
   "name": "python3"
  },
  "language_info": {
   "codemirror_mode": {
    "name": "ipython",
    "version": 3
   },
   "file_extension": ".py",
   "mimetype": "text/x-python",
   "name": "python",
   "nbconvert_exporter": "python",
   "pygments_lexer": "ipython3",
   "version": "3.7.9"
  }
 },
 "nbformat": 4,
 "nbformat_minor": 4
}
