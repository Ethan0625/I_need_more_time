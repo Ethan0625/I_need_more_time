{
 "cells": [
  {
   "cell_type": "markdown",
   "metadata": {},
   "source": [
    "## Movie_Review_Sentiment_Classification+Sentence_Piece\n",
    "### (영화리뷰 감성분석+Sentence Piece)\n",
    "\n",
    "***\n",
    "#### 1. 데이터 준비와 확인"
   ]
  },
  {
   "cell_type": "code",
   "execution_count": 1,
   "metadata": {},
   "outputs": [
    {
     "data": {
      "text/html": [
       "<div>\n",
       "<style scoped>\n",
       "    .dataframe tbody tr th:only-of-type {\n",
       "        vertical-align: middle;\n",
       "    }\n",
       "\n",
       "    .dataframe tbody tr th {\n",
       "        vertical-align: top;\n",
       "    }\n",
       "\n",
       "    .dataframe thead th {\n",
       "        text-align: right;\n",
       "    }\n",
       "</style>\n",
       "<table border=\"1\" class=\"dataframe\">\n",
       "  <thead>\n",
       "    <tr style=\"text-align: right;\">\n",
       "      <th></th>\n",
       "      <th>id</th>\n",
       "      <th>document</th>\n",
       "      <th>label</th>\n",
       "    </tr>\n",
       "  </thead>\n",
       "  <tbody>\n",
       "    <tr>\n",
       "      <th>0</th>\n",
       "      <td>9976970</td>\n",
       "      <td>아 더빙.. 진짜 짜증나네요 목소리</td>\n",
       "      <td>0</td>\n",
       "    </tr>\n",
       "    <tr>\n",
       "      <th>1</th>\n",
       "      <td>3819312</td>\n",
       "      <td>흠...포스터보고 초딩영화줄....오버연기조차 가볍지 않구나</td>\n",
       "      <td>1</td>\n",
       "    </tr>\n",
       "    <tr>\n",
       "      <th>2</th>\n",
       "      <td>10265843</td>\n",
       "      <td>너무재밓었다그래서보는것을추천한다</td>\n",
       "      <td>0</td>\n",
       "    </tr>\n",
       "    <tr>\n",
       "      <th>3</th>\n",
       "      <td>9045019</td>\n",
       "      <td>교도소 이야기구먼 ..솔직히 재미는 없다..평점 조정</td>\n",
       "      <td>0</td>\n",
       "    </tr>\n",
       "    <tr>\n",
       "      <th>4</th>\n",
       "      <td>6483659</td>\n",
       "      <td>사이몬페그의 익살스런 연기가 돋보였던 영화!스파이더맨에서 늙어보이기만 했던 커스틴 ...</td>\n",
       "      <td>1</td>\n",
       "    </tr>\n",
       "  </tbody>\n",
       "</table>\n",
       "</div>"
      ],
      "text/plain": [
       "         id                                           document  label\n",
       "0   9976970                                아 더빙.. 진짜 짜증나네요 목소리      0\n",
       "1   3819312                  흠...포스터보고 초딩영화줄....오버연기조차 가볍지 않구나      1\n",
       "2  10265843                                  너무재밓었다그래서보는것을추천한다      0\n",
       "3   9045019                      교도소 이야기구먼 ..솔직히 재미는 없다..평점 조정      0\n",
       "4   6483659  사이몬페그의 익살스런 연기가 돋보였던 영화!스파이더맨에서 늙어보이기만 했던 커스틴 ...      1"
      ]
     },
     "execution_count": 1,
     "metadata": {},
     "output_type": "execute_result"
    }
   ],
   "source": [
    "import pandas as pd\n",
    "import tensorflow as tf\n",
    "import urllib.request\n",
    "%matplotlib inline\n",
    "import matplotlib.pyplot as plt\n",
    "import re\n",
    "from tensorflow import keras\n",
    "import numpy as np\n",
    "from tensorflow.keras.preprocessing.sequence import pad_sequences\n",
    "from collections import Counter\n",
    "\n",
    "# 데이터를 읽어봅시다. \n",
    "train_data = pd.read_table('~/aiffel/sentiment_classification/ratings_train.txt')\n",
    "test_data = pd.read_table('~/aiffel/sentiment_classification/ratings_test.txt')\n",
    "\n",
    "train_data.head()"
   ]
  },
  {
   "cell_type": "code",
   "execution_count": 2,
   "metadata": {},
   "outputs": [
    {
     "name": "stdout",
     "output_type": "stream",
     "text": [
      "학습데이터 문장의 갯수 :  150000\n",
      "테스트데이터 문장의 갯수 :  50000\n"
     ]
    }
   ],
   "source": [
    "print('학습데이터 문장의 갯수 : ',len(train_data['document']))\n",
    "print('테스트데이터 문장의 갯수 : ',len(test_data['document']))"
   ]
  },
  {
   "cell_type": "markdown",
   "metadata": {},
   "source": [
    "**1) 학습/테스트데이터 중복제거**  "
   ]
  },
  {
   "cell_type": "code",
   "execution_count": 3,
   "metadata": {},
   "outputs": [
    {
     "name": "stdout",
     "output_type": "stream",
     "text": [
      "중복제거 후 학습데이터 문장의 갯수 :  146183\n",
      "중복제거 후 테스트데이터 문장의 갯수 :  49158\n"
     ]
    }
   ],
   "source": [
    "train_data.drop_duplicates(subset=['document'], inplace=True)\n",
    "test_data.drop_duplicates(subset=['document'], inplace=True)\n",
    "print('중복제거 후 학습데이터 문장의 갯수 : ',len(train_data['document']))\n",
    "print('중복제거 후 테스트데이터 문장의 갯수 : ',len(test_data['document']))"
   ]
  },
  {
   "cell_type": "markdown",
   "metadata": {},
   "source": [
    "**2) 학습/테스트데이터 Nan 결측치 제거**  "
   ]
  },
  {
   "cell_type": "code",
   "execution_count": 4,
   "metadata": {},
   "outputs": [
    {
     "name": "stdout",
     "output_type": "stream",
     "text": [
      "걸측치제거 후 학습데이터 문장의 갯수 :  146182\n",
      "결측치제거 후 테스트데이터 문장의 갯수 :  49157\n"
     ]
    }
   ],
   "source": [
    "train_data =train_data.dropna(how='any')\n",
    "test_data =test_data.dropna(how='any')\n",
    "print('걸측치제거 후 학습데이터 문장의 갯수 : ',len(train_data['document']))\n",
    "print('결측치제거 후 테스트데이터 문장의 갯수 : ',len(test_data['document']))"
   ]
  },
  {
   "cell_type": "markdown",
   "metadata": {},
   "source": [
    "**3) 문장 corpus 분석**  "
   ]
  },
  {
   "cell_type": "code",
   "execution_count": 5,
   "metadata": {},
   "outputs": [
    {
     "name": "stdout",
     "output_type": "stream",
     "text": [
      "문장의 최단 길이: 1\n",
      "문장의 최장 길이: 146\n",
      "문장의 평균 길이: 35\n"
     ]
    },
    {
     "data": {
      "image/png": "[encoded data removed]",
      "text/plain": [
       "<Figure size 432x288 with 1 Axes>"
      ]
     },
     "metadata": {
      "needs_background": "light"
     },
     "output_type": "display_data"
    }
   ],
   "source": [
    "# 학습데이터로 SentencePiece를 학습하기위한 말뭉치 제작하기로 결정\n",
    "min_len = 999\n",
    "max_len = 0\n",
    "sum_len = 0\n",
    "\n",
    "for sen in train_data['document']:\n",
    "    length = len(sen)\n",
    "    if min_len > length: min_len = length\n",
    "    if max_len < length: max_len = length\n",
    "    sum_len += length\n",
    "\n",
    "print(\"문장의 최단 길이:\", min_len)\n",
    "print(\"문장의 최장 길이:\", max_len)\n",
    "print(\"문장의 평균 길이:\", sum_len // len(train_data['document']))\n",
    "\n",
    "sentence_length = np.zeros((max_len), dtype=np.int)\n",
    "\n",
    "for sen in train_data['document']:\n",
    "    sentence_length[len(sen)-1] += 1\n",
    "\n",
    "plt.bar(range(max_len), sentence_length, width=1.0)\n",
    "plt.title(\"Train Data Sentence Length Distribution\")\n",
    "plt.show()"
   ]
  },
  {
   "cell_type": "code",
   "execution_count": 6,
   "metadata": {},
   "outputs": [],
   "source": [
    "cleaned_corpus = []\n",
    "for sen in train_data['document']:\n",
    "    cleaned_corpus.append(sen)"
   ]
  },
  {
   "cell_type": "code",
   "execution_count": 7,
   "metadata": {},
   "outputs": [
    {
     "data": {
      "image/png": "[encoded data removed]",
      "text/plain": [
       "<Figure size 432x288 with 1 Axes>"
      ]
     },
     "metadata": {
      "needs_background": "light"
     },
     "output_type": "display_data"
    }
   ],
   "source": [
    "max_len = 60\n",
    "min_len = 2\n",
    "\n",
    "# 길이 조건에 맞는 문장만 선택합니다.\n",
    "filtered_corpus = [s for s in cleaned_corpus if (len(s) < max_len) & (len(s) >= min_len)]\n",
    "\n",
    "# 분포도를 다시 그려봅니다.\n",
    "sentence_length = np.zeros((max_len), dtype=np.int)\n",
    "\n",
    "for sen in filtered_corpus:\n",
    "    sentence_length[len(sen)-1] += 1\n",
    "\n",
    "plt.bar(range(max_len), sentence_length, width=1.0)\n",
    "plt.title(\"Sentence Length Distribution\")\n",
    "plt.show()"
   ]
  },
  {
   "cell_type": "markdown",
   "metadata": {},
   "source": [
    "**4) SentencePiece 적용**  "
   ]
  },
  {
   "cell_type": "code",
   "execution_count": 8,
   "metadata": {},
   "outputs": [
    {
     "name": "stdout",
     "output_type": "stream",
     "text": [
      "-rw-rw-r-- 1 aiffel aiffel 375101  4월  8 02:00 korean_spm_bpe.model\r\n",
      "-rw-rw-r-- 1 aiffel aiffel 144410  4월  8 02:00 korean_spm_bpe.vocab\r\n",
      "-rw-rw-r-- 1 aiffel aiffel 375097  4월  8 02:14 korean_spm.model\r\n",
      "-rw-rw-r-- 1 aiffel aiffel 144410  4월  8 02:14 korean_spm.vocab\r\n"
     ]
    }
   ],
   "source": [
    "import sentencepiece as spm\n",
    "import os\n",
    "temp_file = os.getenv('HOME')+'/aiffel/sp_tokenizer/data/korean-english-park.train.ko.temp'\n",
    "\n",
    "vocab_size = 8000\n",
    "\n",
    "with open(temp_file, 'w') as f:\n",
    "    for row in filtered_corpus:   # 이전 스텝에서 정제했던 corpus를 활용합니다.\n",
    "        f.write(str(row) + '\\n')\n",
    "\n",
    "spm.SentencePieceTrainer.Train(\n",
    "    '--input={} --model_prefix=korean_spm --vocab_size={}'.format(temp_file, vocab_size)    \n",
    ")\n",
    "#위 Train에서  --model_type = 'unigram'이 디폴트 적용되어 있습니다. --model_type = 'bpe' 로 옵션을 주어 변경할 수 있습니다.\n",
    "\n",
    "!ls -l korean_spm*"
   ]
  },
  {
   "cell_type": "markdown",
   "metadata": {},
   "source": [
    "**5) 토크나이저 구현**  "
   ]
  },
  {
   "cell_type": "code",
   "execution_count": 9,
   "metadata": {},
   "outputs": [
    {
     "name": "stdout",
     "output_type": "stream",
     "text": [
      "True\n"
     ]
    }
   ],
   "source": [
    "s = spm.SentencePieceProcessor()\n",
    "print(s.Load('korean_spm.model'))\n",
    "def sp_tokenize(s, corpus):\n",
    "\n",
    "    tensor = []\n",
    "\n",
    "    for sen in corpus:\n",
    "        tensor.append(s.EncodeAsIds(sen))\n",
    "\n",
    "    with open(\"./korean_spm.vocab\", 'r') as f:\n",
    "        vocab = f.readlines()\n",
    "\n",
    "    word_index = {}\n",
    "    index_word = {}\n",
    "\n",
    "    for idx, line in enumerate(vocab):\n",
    "        word = line.split(\"\\t\")[0]\n",
    "\n",
    "        word_index.update({idx:word})\n",
    "        index_word.update({word:idx})\n",
    "\n",
    "    tensor = tf.keras.preprocessing.sequence.pad_sequences(tensor, padding='post')\n",
    "\n",
    "    return tensor, word_index, index_word"
   ]
  },
  {
   "cell_type": "code",
   "execution_count": 10,
   "metadata": {},
   "outputs": [],
   "source": [
    "X_train = train_data['document']\n",
    "X_test = test_data['document']"
   ]
  },
  {
   "cell_type": "code",
   "execution_count": 11,
   "metadata": {},
   "outputs": [],
   "source": [
    "y_train = train_data['label']\n",
    "y_test = test_data['label']"
   ]
  },
  {
   "cell_type": "code",
   "execution_count": 12,
   "metadata": {},
   "outputs": [],
   "source": [
    "X_train_tensor, X_train_word_to_index, X_train_index_to_word = sp_tokenize(s,X_train)\n",
    "X_test_tensor, X_test_word_to_index, X_test_index_to_word = sp_tokenize(s,X_train)"
   ]
  },
  {
   "cell_type": "code",
   "execution_count": 13,
   "metadata": {},
   "outputs": [
    {
     "name": "stdout",
     "output_type": "stream",
     "text": [
      "(118182, 133)\n",
      "(118182,)\n"
     ]
    }
   ],
   "source": [
    "# validation set 28000건 분리(전체 data의 약 20%)\n",
    "X_val = X_train_tensor[:28000]   \n",
    "y_val = y_train[:28000]\n",
    "\n",
    "# validation set을 제외한 나머지 118182건\n",
    "partial_X_train = X_train_tensor[28000:]  \n",
    "partial_y_train = y_train[28000:]\n",
    "\n",
    "print(partial_X_train.shape)\n",
    "print(partial_y_train.shape)"
   ]
  },
  {
   "cell_type": "code",
   "execution_count": 14,
   "metadata": {},
   "outputs": [],
   "source": [
    "vocab_size = 8000\n",
    "word_vector_dim = 16"
   ]
  },
  {
   "cell_type": "code",
   "execution_count": 15,
   "metadata": {},
   "outputs": [
    {
     "name": "stdout",
     "output_type": "stream",
     "text": [
      "Model: \"LSTM\"\n",
      "_________________________________________________________________\n",
      "Layer (type)                 Output Shape              Param #   \n",
      "=================================================================\n",
      "embedding (Embedding)        (None, None, 16)          128000    \n",
      "_________________________________________________________________\n",
      "lstm (LSTM)                  (None, None, 32)          6272      \n",
      "_________________________________________________________________\n",
      "dropout (Dropout)            (None, None, 32)          0         \n",
      "_________________________________________________________________\n",
      "lstm_1 (LSTM)                (None, None, 32)          8320      \n",
      "_________________________________________________________________\n",
      "dropout_1 (Dropout)          (None, None, 32)          0         \n",
      "_________________________________________________________________\n",
      "dense (Dense)                (None, None, 1)           33        \n",
      "=================================================================\n",
      "Total params: 142,625\n",
      "Trainable params: 142,625\n",
      "Non-trainable params: 0\n",
      "_________________________________________________________________\n"
     ]
    }
   ],
   "source": [
    "model = keras.Sequential(name=\"LSTM\")\n",
    "model.add(keras.layers.Embedding(vocab_size, word_vector_dim, input_shape=(None,)))\n",
    "model.add(keras.layers.LSTM(32, return_sequences = True))\n",
    "model.add(keras.layers.Dropout(0.3))\n",
    "model.add(keras.layers.LSTM(32, return_sequences = True))\n",
    "model.add(keras.layers.Dropout(0.3))\n",
    "model.add(keras.layers.Dense(1, activation='sigmoid'))\n",
    "\n",
    "model.summary()"
   ]
  },
  {
   "cell_type": "code",
   "execution_count": 16,
   "metadata": {},
   "outputs": [
    {
     "name": "stdout",
     "output_type": "stream",
     "text": [
      "Epoch 1/30\n",
      "231/231 [==============================] - 6s 28ms/step - loss: 0.5185 - accuracy: 0.7209 - val_loss: 0.3818 - val_accuracy: 0.8334\n",
      "Epoch 2/30\n",
      "231/231 [==============================] - 7s 29ms/step - loss: 0.3683 - accuracy: 0.8424 - val_loss: 0.3664 - val_accuracy: 0.8401\n",
      "Epoch 3/30\n",
      "231/231 [==============================] - 6s 26ms/step - loss: 0.3473 - accuracy: 0.8519 - val_loss: 0.3674 - val_accuracy: 0.8393\n",
      "Epoch 4/30\n",
      "231/231 [==============================] - 6s 24ms/step - loss: 0.3396 - accuracy: 0.8551 - val_loss: 0.3571 - val_accuracy: 0.8414\n",
      "Epoch 5/30\n",
      "231/231 [==============================] - 6s 26ms/step - loss: 0.3315 - accuracy: 0.8577 - val_loss: 0.3568 - val_accuracy: 0.8419\n",
      "Epoch 6/30\n",
      "231/231 [==============================] - 6s 27ms/step - loss: 0.3243 - accuracy: 0.8600 - val_loss: 0.3618 - val_accuracy: 0.8419\n",
      "Epoch 7/30\n",
      "231/231 [==============================] - 6s 25ms/step - loss: 0.3158 - accuracy: 0.8618 - val_loss: 0.3620 - val_accuracy: 0.8418\n",
      "Epoch 8/30\n",
      "231/231 [==============================] - 5s 23ms/step - loss: 0.3078 - accuracy: 0.8635 - val_loss: 0.3599 - val_accuracy: 0.8379\n",
      "Epoch 9/30\n",
      "231/231 [==============================] - 6s 25ms/step - loss: 0.2991 - accuracy: 0.8659 - val_loss: 0.3588 - val_accuracy: 0.8417\n",
      "Epoch 10/30\n",
      "231/231 [==============================] - 6s 24ms/step - loss: 0.2947 - accuracy: 0.8675 - val_loss: 0.3618 - val_accuracy: 0.8394\n",
      "Epoch 11/30\n",
      "231/231 [==============================] - 5s 24ms/step - loss: 0.2856 - accuracy: 0.8709 - val_loss: 0.3800 - val_accuracy: 0.8432\n",
      "Epoch 12/30\n",
      "231/231 [==============================] - 5s 24ms/step - loss: 0.2776 - accuracy: 0.8749 - val_loss: 0.3677 - val_accuracy: 0.8415\n",
      "Epoch 13/30\n",
      "231/231 [==============================] - 6s 25ms/step - loss: 0.2688 - accuracy: 0.8791 - val_loss: 0.3834 - val_accuracy: 0.8380\n",
      "Epoch 14/30\n",
      "231/231 [==============================] - 5s 24ms/step - loss: 0.2584 - accuracy: 0.8848 - val_loss: 0.3942 - val_accuracy: 0.8395\n",
      "Epoch 15/30\n",
      "231/231 [==============================] - 6s 24ms/step - loss: 0.2593 - accuracy: 0.8869 - val_loss: 0.4094 - val_accuracy: 0.8385\n",
      "Epoch 16/30\n",
      "231/231 [==============================] - 6s 25ms/step - loss: 0.2432 - accuracy: 0.8929 - val_loss: 0.3993 - val_accuracy: 0.8399\n",
      "Epoch 17/30\n",
      "231/231 [==============================] - 5s 24ms/step - loss: 0.2335 - accuracy: 0.8987 - val_loss: 0.3985 - val_accuracy: 0.8350\n",
      "Epoch 18/30\n",
      "231/231 [==============================] - 6s 25ms/step - loss: 0.2247 - accuracy: 0.9036 - val_loss: 0.4607 - val_accuracy: 0.8328\n",
      "Epoch 19/30\n",
      "231/231 [==============================] - 6s 25ms/step - loss: 0.2187 - accuracy: 0.9071 - val_loss: 0.4630 - val_accuracy: 0.8339\n",
      "Epoch 20/30\n",
      "231/231 [==============================] - 6s 25ms/step - loss: 0.2148 - accuracy: 0.9093 - val_loss: 0.4583 - val_accuracy: 0.8327\n",
      "Epoch 21/30\n",
      "231/231 [==============================] - 6s 24ms/step - loss: 0.2069 - accuracy: 0.9140 - val_loss: 0.5032 - val_accuracy: 0.8281\n",
      "Epoch 22/30\n",
      "231/231 [==============================] - 6s 26ms/step - loss: 0.1984 - accuracy: 0.9182 - val_loss: 0.4694 - val_accuracy: 0.8281\n",
      "Epoch 23/30\n",
      "231/231 [==============================] - 5s 23ms/step - loss: 0.1944 - accuracy: 0.9206 - val_loss: 0.4832 - val_accuracy: 0.8292\n",
      "Epoch 24/30\n",
      "231/231 [==============================] - 6s 24ms/step - loss: 0.1898 - accuracy: 0.9231 - val_loss: 0.4714 - val_accuracy: 0.8277\n",
      "Epoch 25/30\n",
      "231/231 [==============================] - 6s 24ms/step - loss: 0.1845 - accuracy: 0.9254 - val_loss: 0.5074 - val_accuracy: 0.8305\n",
      "Epoch 26/30\n",
      "231/231 [==============================] - 6s 26ms/step - loss: 0.1799 - accuracy: 0.9282 - val_loss: 0.5209 - val_accuracy: 0.8253\n",
      "Epoch 27/30\n",
      "231/231 [==============================] - 5s 23ms/step - loss: 0.1737 - accuracy: 0.9312 - val_loss: 0.5169 - val_accuracy: 0.8279\n",
      "Epoch 28/30\n",
      "231/231 [==============================] - 6s 25ms/step - loss: 0.1702 - accuracy: 0.9333 - val_loss: 0.5427 - val_accuracy: 0.8268\n",
      "Epoch 29/30\n",
      "231/231 [==============================] - 6s 24ms/step - loss: 0.1663 - accuracy: 0.9349 - val_loss: 0.5556 - val_accuracy: 0.8236\n",
      "Epoch 30/30\n",
      "231/231 [==============================] - 5s 24ms/step - loss: 0.1604 - accuracy: 0.9374 - val_loss: 0.5340 - val_accuracy: 0.8252\n"
     ]
    }
   ],
   "source": [
    "model.compile(optimizer='adam',\n",
    "              loss='binary_crossentropy',\n",
    "              metrics=['accuracy'])\n",
    "\n",
    "history = model.fit(partial_X_train,\n",
    "                    partial_y_train,\n",
    "                    epochs=30,\n",
    "                    batch_size=512,\n",
    "                    validation_data=(X_val, y_val))"
   ]
  },
  {
   "cell_type": "code",
   "execution_count": 17,
   "metadata": {},
   "outputs": [
    {
     "data": {
      "image/png": "[encoded data removed]",
      "text/plain": [
       "<Figure size 432x288 with 1 Axes>"
      ]
     },
     "metadata": {
      "needs_background": "light"
     },
     "output_type": "display_data"
    }
   ],
   "source": [
    "history_dict = history.history\n",
    "import matplotlib.pyplot as plt\n",
    "\n",
    "acc = history_dict['accuracy']\n",
    "val_acc = history_dict['val_accuracy']\n",
    "loss = history_dict['loss']\n",
    "val_loss = history_dict['val_loss']\n",
    "\n",
    "epochs = range(1, len(acc) + 1)\n",
    "\n",
    "# 빨간 실선으로 표시\n",
    "plt.plot(epochs, loss, 'r', label='Training loss')\n",
    "# 파란 실선으로 표시\n",
    "plt.plot(epochs, val_loss, 'b', label='Validation loss')\n",
    "plt.title('Training and validation loss')\n",
    "plt.xlabel('Epochs')\n",
    "plt.ylabel('Loss')\n",
    "plt.grid()\n",
    "plt.legend()\n",
    "\n",
    "plt.show()"
   ]
  },
  {
   "cell_type": "code",
   "execution_count": 18,
   "metadata": {},
   "outputs": [
    {
     "data": {
      "image/png": "[encoded data removed]",
      "text/plain": [
       "<Figure size 432x288 with 1 Axes>"
      ]
     },
     "metadata": {
      "needs_background": "light"
     },
     "output_type": "display_data"
    }
   ],
   "source": [
    "plt.clf() # 그림 초기화\n",
    "\n",
    "plt.plot(epochs, acc, 'bo', label='Training acc')\n",
    "plt.plot(epochs, val_acc, 'b', label='Validation acc')\n",
    "plt.title(\"Training and validation accuracy\")\n",
    "plt.xlabel('Epochs')\n",
    "plt.ylabel('Accuracy')\n",
    "plt.legend()\n",
    "\n",
    "plt.show()"
   ]
  },
  {
   "cell_type": "code",
   "execution_count": 19,
   "metadata": {},
   "outputs": [
    {
     "name": "stdout",
     "output_type": "stream",
     "text": [
      "-rw-rw-r-- 1 aiffel aiffel 375101  4월  8 02:17 korean_spm_bpe.model\r\n",
      "-rw-rw-r-- 1 aiffel aiffel 144410  4월  8 02:17 korean_spm_bpe.vocab\r\n"
     ]
    }
   ],
   "source": [
    "import sentencepiece as spm\n",
    "import os\n",
    "temp_file = os.getenv('HOME')+'/aiffel/sp_tokenizer/data/korean-english-park.train.ko.temp'\n",
    "\n",
    "vocab_size = 8000\n",
    "\n",
    "with open(temp_file, 'w') as f:\n",
    "    for row in filtered_corpus:   # 이전 스텝에서 정제했던 corpus를 활용합니다.\n",
    "        f.write(str(row) + '\\n')\n",
    "\n",
    "spm.SentencePieceTrainer.Train(\n",
    "    '--input={} --model_prefix=korean_spm_bpe --vocab_size={}'.format(temp_file, vocab_size)    \n",
    ")\n",
    "#위 Train에서  --model_type = 'unigram'이 디폴트 적용되어 있습니다. --model_type = 'bpe' 로 옵션을 주어 변경할 수 있습니다.\n",
    "\n",
    "!ls -l korean_spm_bpe*"
   ]
  },
  {
   "cell_type": "code",
   "execution_count": 20,
   "metadata": {},
   "outputs": [
    {
     "name": "stdout",
     "output_type": "stream",
     "text": [
      "True\n"
     ]
    }
   ],
   "source": [
    "s = spm.SentencePieceProcessor()\n",
    "print(s.Load('korean_spm_bpe.model'))\n",
    "def sp_tokenize_bpe(s, corpus):\n",
    "\n",
    "    tensor = []\n",
    "\n",
    "    for sen in corpus:\n",
    "        tensor.append(s.EncodeAsIds(sen))\n",
    "\n",
    "    with open(\"./korean_spm_bpe.vocab\", 'r') as f:\n",
    "        vocab = f.readlines()\n",
    "\n",
    "    word_index = {}\n",
    "    index_word = {}\n",
    "\n",
    "    for idx, line in enumerate(vocab):\n",
    "        word = line.split(\"\\t\")[0]\n",
    "\n",
    "        word_index.update({idx:word})\n",
    "        index_word.update({word:idx})\n",
    "\n",
    "    tensor = tf.keras.preprocessing.sequence.pad_sequences(tensor, padding='post')\n",
    "\n",
    "    return tensor, word_index, index_word"
   ]
  },
  {
   "cell_type": "code",
   "execution_count": 21,
   "metadata": {},
   "outputs": [],
   "source": [
    "X_train_tensor_bpe, X_train_word_to_index_bpe, X_train_index_to_word_bpe = sp_tokenize_bpe(s,X_train)\n",
    "X_test_tensor_bpe, X_test_word_to_index_bpe, X_test_index_to_word_bpe = sp_tokenize_bpe(s,X_train)"
   ]
  },
  {
   "cell_type": "code",
   "execution_count": 22,
   "metadata": {},
   "outputs": [
    {
     "name": "stdout",
     "output_type": "stream",
     "text": [
      "(118182, 133)\n",
      "(118182,)\n"
     ]
    }
   ],
   "source": [
    "# validation set 28000건 분리(전체 data의 약 20%)\n",
    "X_val_bpe = X_train_tensor_bpe[:28000]   \n",
    "y_val_bpe = y_train[:28000]\n",
    "\n",
    "# validation set을 제외한 나머지 118182건\n",
    "partial_X_train_bpe = X_train_tensor_bpe[28000:]  \n",
    "partial_y_train_bpe = y_train[28000:]\n",
    "\n",
    "print(partial_X_train_bpe.shape)\n",
    "print(partial_y_train_bpe.shape)"
   ]
  },
  {
   "cell_type": "code",
   "execution_count": 23,
   "metadata": {},
   "outputs": [
    {
     "name": "stdout",
     "output_type": "stream",
     "text": [
      "Model: \"LSTM\"\n",
      "_________________________________________________________________\n",
      "Layer (type)                 Output Shape              Param #   \n",
      "=================================================================\n",
      "embedding_1 (Embedding)      (None, None, 16)          128000    \n",
      "_________________________________________________________________\n",
      "lstm_2 (LSTM)                (None, None, 32)          6272      \n",
      "_________________________________________________________________\n",
      "dropout_2 (Dropout)          (None, None, 32)          0         \n",
      "_________________________________________________________________\n",
      "lstm_3 (LSTM)                (None, None, 32)          8320      \n",
      "_________________________________________________________________\n",
      "dropout_3 (Dropout)          (None, None, 32)          0         \n",
      "_________________________________________________________________\n",
      "dense_1 (Dense)              (None, None, 1)           33        \n",
      "=================================================================\n",
      "Total params: 142,625\n",
      "Trainable params: 142,625\n",
      "Non-trainable params: 0\n",
      "_________________________________________________________________\n"
     ]
    }
   ],
   "source": [
    "model1 = keras.Sequential(name=\"LSTM\")\n",
    "model1.add(keras.layers.Embedding(vocab_size, word_vector_dim, input_shape=(None,)))\n",
    "model1.add(keras.layers.LSTM(32, return_sequences = True))\n",
    "model1.add(keras.layers.Dropout(0.3))\n",
    "model1.add(keras.layers.LSTM(32, return_sequences = True))\n",
    "model1.add(keras.layers.Dropout(0.3))\n",
    "model1.add(keras.layers.Dense(1, activation='sigmoid'))\n",
    "\n",
    "model1.summary()"
   ]
  },
  {
   "cell_type": "code",
   "execution_count": 24,
   "metadata": {},
   "outputs": [
    {
     "name": "stdout",
     "output_type": "stream",
     "text": [
      "Epoch 1/30\n",
      "231/231 [==============================] - 6s 28ms/step - loss: 0.1611 - accuracy: 0.9376 - val_loss: 0.5992 - val_accuracy: 0.8235\n",
      "Epoch 2/30\n",
      "231/231 [==============================] - 6s 25ms/step - loss: 0.1498 - accuracy: 0.9424 - val_loss: 0.5871 - val_accuracy: 0.8216\n",
      "Epoch 3/30\n",
      "231/231 [==============================] - 6s 27ms/step - loss: 0.1501 - accuracy: 0.9427 - val_loss: 0.5681 - val_accuracy: 0.8225\n",
      "Epoch 4/30\n",
      "231/231 [==============================] - 6s 26ms/step - loss: 0.1474 - accuracy: 0.9441 - val_loss: 0.5722 - val_accuracy: 0.8252\n",
      "Epoch 5/30\n",
      "231/231 [==============================] - 6s 24ms/step - loss: 0.1440 - accuracy: 0.9453 - val_loss: 0.6302 - val_accuracy: 0.8238\n",
      "Epoch 6/30\n",
      "231/231 [==============================] - 6s 25ms/step - loss: 0.1391 - accuracy: 0.9476 - val_loss: 0.6190 - val_accuracy: 0.8210\n",
      "Epoch 7/30\n",
      "231/231 [==============================] - 6s 25ms/step - loss: 0.1380 - accuracy: 0.9480 - val_loss: 0.6556 - val_accuracy: 0.8225\n",
      "Epoch 8/30\n",
      "231/231 [==============================] - 6s 25ms/step - loss: 0.1349 - accuracy: 0.9486 - val_loss: 0.6611 - val_accuracy: 0.8214\n",
      "Epoch 9/30\n",
      "231/231 [==============================] - 6s 25ms/step - loss: 0.1324 - accuracy: 0.9499 - val_loss: 0.6592 - val_accuracy: 0.8212\n",
      "Epoch 10/30\n",
      "231/231 [==============================] - 6s 27ms/step - loss: 0.1307 - accuracy: 0.9501 - val_loss: 0.6894 - val_accuracy: 0.8228\n",
      "Epoch 11/30\n",
      "231/231 [==============================] - 6s 26ms/step - loss: 0.1253 - accuracy: 0.9521 - val_loss: 0.6762 - val_accuracy: 0.8221\n",
      "Epoch 12/30\n",
      "231/231 [==============================] - 6s 28ms/step - loss: 0.1226 - accuracy: 0.9532 - val_loss: 0.7131 - val_accuracy: 0.8200\n",
      "Epoch 13/30\n",
      "231/231 [==============================] - 6s 25ms/step - loss: 0.1231 - accuracy: 0.9525 - val_loss: 0.6789 - val_accuracy: 0.8219\n",
      "Epoch 14/30\n",
      "231/231 [==============================] - 6s 26ms/step - loss: 0.1203 - accuracy: 0.9541 - val_loss: 0.7033 - val_accuracy: 0.8216\n",
      "Epoch 15/30\n",
      "231/231 [==============================] - 6s 25ms/step - loss: 0.1171 - accuracy: 0.9549 - val_loss: 0.6648 - val_accuracy: 0.8173\n",
      "Epoch 16/30\n",
      "231/231 [==============================] - 6s 26ms/step - loss: 0.1203 - accuracy: 0.9538 - val_loss: 0.7093 - val_accuracy: 0.8170\n",
      "Epoch 17/30\n",
      "231/231 [==============================] - 6s 26ms/step - loss: 0.1157 - accuracy: 0.9550 - val_loss: 0.7473 - val_accuracy: 0.8176\n",
      "Epoch 18/30\n",
      "231/231 [==============================] - 6s 26ms/step - loss: 0.1129 - accuracy: 0.9563 - val_loss: 0.7051 - val_accuracy: 0.8191\n",
      "Epoch 19/30\n",
      "231/231 [==============================] - 5s 24ms/step - loss: 0.1135 - accuracy: 0.9556 - val_loss: 0.7608 - val_accuracy: 0.8180\n",
      "Epoch 20/30\n",
      "231/231 [==============================] - 6s 25ms/step - loss: 0.1079 - accuracy: 0.9576 - val_loss: 0.7692 - val_accuracy: 0.8184\n",
      "Epoch 21/30\n",
      "231/231 [==============================] - 5s 24ms/step - loss: 0.1095 - accuracy: 0.9567 - val_loss: 0.7823 - val_accuracy: 0.8202\n",
      "Epoch 22/30\n",
      "231/231 [==============================] - 6s 26ms/step - loss: 0.1080 - accuracy: 0.9569 - val_loss: 0.7710 - val_accuracy: 0.8206\n",
      "Epoch 23/30\n",
      "231/231 [==============================] - 6s 24ms/step - loss: 0.1024 - accuracy: 0.9589 - val_loss: 0.7700 - val_accuracy: 0.8201\n",
      "Epoch 24/30\n",
      "231/231 [==============================] - 6s 25ms/step - loss: 0.1078 - accuracy: 0.9566 - val_loss: 0.7575 - val_accuracy: 0.8219\n",
      "Epoch 25/30\n",
      "231/231 [==============================] - 6s 24ms/step - loss: 0.1301 - accuracy: 0.9492 - val_loss: 0.7421 - val_accuracy: 0.8206\n",
      "Epoch 26/30\n",
      "231/231 [==============================] - 5s 24ms/step - loss: 0.1037 - accuracy: 0.9584 - val_loss: 0.7591 - val_accuracy: 0.8230\n",
      "Epoch 27/30\n",
      "231/231 [==============================] - 5s 23ms/step - loss: 0.1038 - accuracy: 0.9580 - val_loss: 0.7675 - val_accuracy: 0.8196\n",
      "Epoch 28/30\n",
      "231/231 [==============================] - 5s 24ms/step - loss: 0.0997 - accuracy: 0.9593 - val_loss: 0.8015 - val_accuracy: 0.8227\n",
      "Epoch 29/30\n",
      "231/231 [==============================] - 5s 23ms/step - loss: 0.0937 - accuracy: 0.9611 - val_loss: 0.8388 - val_accuracy: 0.8213\n",
      "Epoch 30/30\n",
      "231/231 [==============================] - 5s 23ms/step - loss: 0.0935 - accuracy: 0.9613 - val_loss: 0.8011 - val_accuracy: 0.8197\n"
     ]
    }
   ],
   "source": [
    "model.compile(optimizer='adam',\n",
    "              loss='binary_crossentropy',\n",
    "              metrics=['accuracy'])\n",
    "\n",
    "history = model.fit(partial_X_train_bpe,\n",
    "                    partial_y_train_bpe,\n",
    "                    epochs=30,\n",
    "                    batch_size=512,\n",
    "                    validation_data=(X_val_bpe, y_val_bpe))"
   ]
  },
  {
   "cell_type": "code",
   "execution_count": 25,
   "metadata": {},
   "outputs": [
    {
     "data": {
      "image/png": "[encoded data removed]",
      "text/plain": [
       "<Figure size 432x288 with 1 Axes>"
      ]
     },
     "metadata": {
      "needs_background": "light"
     },
     "output_type": "display_data"
    }
   ],
   "source": [
    "history_dict = history.history\n",
    "import matplotlib.pyplot as plt\n",
    "\n",
    "acc = history_dict['accuracy']\n",
    "val_acc = history_dict['val_accuracy']\n",
    "loss = history_dict['loss']\n",
    "val_loss = history_dict['val_loss']\n",
    "\n",
    "epochs = range(1, len(acc) + 1)\n",
    "\n",
    "# 빨간 실선으로 표시\n",
    "plt.plot(epochs, loss, 'r', label='Training loss')\n",
    "# 파란 실선으로 표시\n",
    "plt.plot(epochs, val_loss, 'b', label='Validation loss')\n",
    "plt.title('Training and validation loss')\n",
    "plt.xlabel('Epochs')\n",
    "plt.ylabel('Loss')\n",
    "plt.grid()\n",
    "plt.legend()\n",
    "\n",
    "plt.show()"
   ]
  },
  {
   "cell_type": "code",
   "execution_count": 26,
   "metadata": {},
   "outputs": [
    {
     "data": {
      "image/png": "[encoded data removed]",
      "text/plain": [
       "<Figure size 432x288 with 1 Axes>"
      ]
     },
     "metadata": {
      "needs_background": "light"
     },
     "output_type": "display_data"
    }
   ],
   "source": [
    "plt.clf() # 그림 초기화\n",
    "\n",
    "plt.plot(epochs, acc, 'bo', label='Training acc')\n",
    "plt.plot(epochs, val_acc, 'b', label='Validation acc')\n",
    "plt.title(\"Training and validation accuracy\")\n",
    "plt.xlabel('Epochs')\n",
    "plt.ylabel('Accuracy')\n",
    "plt.legend()\n",
    "\n",
    "plt.show()"
   ]
  },
  {
   "cell_type": "markdown",
   "metadata": {},
   "source": [
    "**unigram 방식**  \n",
    "train_loss: 0.1604  \n",
    "train_accuracy: 0.9374  \n",
    "val_loss: 0.5340  \n",
    "val_accuracy: 0.8252  \n",
    "***\n",
    "**bpe 방식**  \n",
    "train_loss: 0.0935  \n",
    "train_accuracy: 0.9613  \n",
    "val_loss: 0.8011  \n",
    "val_accuracy: 0.8197\n",
    "***\n",
    "### 회고록  \n",
    "이전에 했던 네이버리뷰 감성분석의 확장판 같은 느낌이었다.  \n",
    "비교적 최근에 개발된 SentencePice를 이용하여 형태소분석이 아닌 단위기반으로 분석을 진행하여 좀더 다양한 문장들을 처리할 수 있는 느낌이었다.  \n",
    "그러나 기존의 mecab을 활용한 방식보다는 accuracy가 떨어지는 느낌이었다.  \n",
    "좀더 많은 양의 corpus를 만들 수 있는 환경이 조성되어야 할 것 같았다.  \n",
    "비록 학습은 과적합되는 경향을 보였지만 그래도 비교적 높은 수치의 accuracy를 얻을 수 있었다.  \n",
    "좋은 학습 노드였다고 생각한다. "
   ]
  },
  {
   "cell_type": "code",
   "execution_count": null,
   "metadata": {},
   "outputs": [],
   "source": []
  }
 ],
 "metadata": {
  "kernelspec": {
   "display_name": "Python 3",
   "language": "python",
   "name": "python3"
  },
  "language_info": {
   "codemirror_mode": {
    "name": "ipython",
    "version": 3
   },
   "file_extension": ".py",
   "mimetype": "text/x-python",
   "name": "python",
   "nbconvert_exporter": "python",
   "pygments_lexer": "ipython3",
   "version": "3.7.7"
  }
 },
 "nbformat": 4,
 "nbformat_minor": 4
}
