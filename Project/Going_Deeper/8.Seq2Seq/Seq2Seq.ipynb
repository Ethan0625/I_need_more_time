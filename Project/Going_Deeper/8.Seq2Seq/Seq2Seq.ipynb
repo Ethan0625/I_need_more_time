{
 "cells": [
  {
   "cell_type": "markdown",
   "metadata": {},
   "source": [
    "## 프로젝트 - 한영 번역기 만들기\n",
    "### Seq2Seq Translation\n",
    "***\n",
    "#### Step 1. 데이터 가져오기\n",
    "\n",
    "#### Step 2. 데이터 정제\n",
    "1) set 데이터형이 중복을 허용하지 않는다는 것을 활용해 중복된 데이터를 제거하도록 합니다. 데이터의 병렬 쌍이 흐트러지지 않게 주의하세요! 중복을 제거한 데이터를 cleaned_corpus 에 저장합니다.  \n",
    "\n",
    "2) 앞서 정의한 preprocessing() 함수는 한글에 대해 동작하지 않습니다. 한글에 적용할 수 있는 정규식을 추가하여 함수를 재정의하세요!  \n",
    "\n",
    "3) 타겟 언어인 영문엔 \\<start> 토큰과 \\<end> 토큰을 추가하고 split() 함수로 토큰화합니다. 한글 토큰화는 KoNLPy의 mecab 클래스를 사용합니다.  \n",
    "\n",
    "4) 토큰의 길이가 40 이하인 데이터를 선별하여 eng_corpus와 kor_corpus를 각각 구축하세요.\n",
    "\n",
    "#### Step 3. 데이터 토큰화\n",
    "앞서 정의한 tokenize() 함수를 사용해 데이터를 텐서로 변환하고 각각의 tokenizer를 얻으세요! 단어의 수는 실험을 통해 적당한 값을 맞춰주도록 합니다! (최소 10,000 이상!)  \n",
    "\n",
    "#### Step 4. 모델 설계\n",
    "한국어를 영어로 잘 번역해 줄 멋진 Attention 기반 Seq2seq 모델을 설계하세요! 앞서 만든 모델에 Dropout 모듈을 추가하면 성능이 더 좋아질 거랍니다! Embedding Size와 Hidden Size는 실험을 통해 적당한 값을 맞춰 주도록 합니다!  \n",
    "\n",
    "#### Step 5. 훈련하기\n",
    "\n",
    "***\n",
    "### 평가문항\n",
    "**1. 번역기 모델 학습에 필요한 텍스트 데이터 전처리가 한국어 포함하여 잘 이루어졌다.**  \n",
    "-구두점, 대소문자, 띄어쓰기, 한글 형태소분석 등 번역기 모델에 요구되는 전처리가 정상적으로 진행되었다.  \n",
    "\n",
    "**2. Attentional Seq2seq 모델이 정상적으로 구동된다.**  \n",
    "-seq2seq 모델 훈련 과정에서 training loss가 안정적으로 떨어지면서 학습이 진행됨이 확인되었다.    \n",
    "\n",
    "**3. 테스트 결과 의미가 통하는 수준의 번역문이 생성되었다.**  \n",
    "-테스트용 디코더 모델이 정상적으로 만들어져서, 정답과 어느 정도 유사한 영어 번역이 진행됨을 확인하였다.  \n",
    "***\n",
    "#### Step 1. 데이터 가져오기\n",
    "***\n",
    "**-데이터 확인해보기**"
   ]
  },
  {
   "cell_type": "code",
   "execution_count": 1,
   "metadata": {},
   "outputs": [],
   "source": [
    "import matplotlib as mpl\n",
    "import matplotlib.pyplot as plt\n",
    " \n",
    "%config InlineBackend.figure_format = 'retina'\n",
    " \n",
    "import matplotlib.font_manager as fm\n",
    "fontpath = '/usr/share/fonts/truetype/nanum/NanumBarunGothic.ttf'\n",
    "font = fm.FontProperties(fname=fontpath, size=9)\n",
    "plt.rc('font', family='NanumBarunGothic') \n",
    "mpl.font_manager._rebuild()"
   ]
  },
  {
   "cell_type": "markdown",
   "metadata": {},
   "source": [
    "-데이터를 확인하기 전에 라이브러리의 기본폰트가 한국어를 지원하지 않기 때문에 한국어 폰트를 가져옵니다."
   ]
  },
  {
   "cell_type": "code",
   "execution_count": 2,
   "metadata": {},
   "outputs": [],
   "source": [
    "import tensorflow as tf\n",
    "import numpy as np\n",
    "\n",
    "from sklearn.model_selection import train_test_split\n",
    "\n",
    "import matplotlib.ticker as ticker\n",
    "import matplotlib.pyplot as plt\n",
    "\n",
    "import time\n",
    "import re\n",
    "import os\n",
    "import io\n",
    "\n",
    "from konlpy.tag import Mecab\n",
    "mecab = Mecab()\n",
    "\n",
    "from tqdm import tqdm\n",
    "import random"
   ]
  },
  {
   "cell_type": "markdown",
   "metadata": {},
   "source": [
    "-프로젝트를 위한 기본적인 라이브러리를 import해줍니다."
   ]
  },
  {
   "cell_type": "code",
   "execution_count": 3,
   "metadata": {},
   "outputs": [],
   "source": [
    "kor = os.getenv('HOME')+'/aiffel/s2s_translation/data/korean-english-park.train.ko'\n",
    "eng = os.getenv('HOME')+'/aiffel/s2s_translation/data/korean-english-park.train.en'"
   ]
  },
  {
   "cell_type": "markdown",
   "metadata": {},
   "source": [
    "-노드에서의 실습처럼 pair가 합쳐진 데이터가 아니므로 각각을 나눠서 가져옵니다."
   ]
  },
  {
   "cell_type": "code",
   "execution_count": 4,
   "metadata": {},
   "outputs": [],
   "source": [
    "with open(kor,\"r\") as f:\n",
    "    ko_raw = f.read().splitlines()\n",
    "    \n",
    "with open(eng,\"r\") as f:\n",
    "    en_raw = f.read().splitlines()"
   ]
  },
  {
   "cell_type": "code",
   "execution_count": 5,
   "metadata": {},
   "outputs": [
    {
     "name": "stdout",
     "output_type": "stream",
     "text": [
      "Kor Data Size : 94123\n",
      "Eng Data Size : 94123\n"
     ]
    }
   ],
   "source": [
    "print(\"Kor Data Size :\",len(ko_raw))\n",
    "print(\"Eng Data Size :\",len(en_raw))"
   ]
  },
  {
   "cell_type": "markdown",
   "metadata": {},
   "source": [
    "-총 94123쌍의 데이터입니다.  \n",
    "-각각의 데이터를 확인해보겠습니다."
   ]
  },
  {
   "cell_type": "code",
   "execution_count": 6,
   "metadata": {},
   "outputs": [
    {
     "name": "stdout",
     "output_type": "stream",
     "text": [
      "Kor Data Example :\n",
      ">> 개인용 컴퓨터 사용의 상당 부분은 \"이것보다 뛰어날 수 있느냐?\"\n",
      ">> 북한의 핵무기 계획을 포기하도록 하려는 압력이 거세지고 있는 가운데, 일본과 북한의 외교관들이 외교 관계를 정상화하려는 회담을 재개했다.\n",
      ">> \"경호 로보트가 침입자나 화재를 탐지하기 위해서 개인적으로, 그리고 전문적으로 사용되고 있습니다.\"\n",
      ">> 수자원부 당국은 논란이 되고 있고, 막대한 비용이 드는 이 사업에 대해 내년에 건설을 시작할 계획이다.\n",
      ">> 또한 근력 운동은 활발하게 걷는 것이나 최소한 20분 동안 뛰는 것과 같은 유산소 활동에서 얻는 운동 효과를 심장과 폐에 주지 않기 때문에, 연구학자들은 근력 운동이 심장에 큰 영향을 미치는지 여부에 대해 논쟁을 해왔다.\n"
     ]
    }
   ],
   "source": [
    "print(\"Kor Data Example :\")\n",
    "for sen in ko_raw[0:100][::20]:print(\">>\",sen)"
   ]
  },
  {
   "cell_type": "code",
   "execution_count": 7,
   "metadata": {},
   "outputs": [
    {
     "name": "stdout",
     "output_type": "stream",
     "text": [
      "Eng Data Example :\n",
      ">> Much of personal computing is about \"can you top this?\"\n",
      ">> Amid mounting pressure on North Korea to abandon its nuclear weapons program Japanese and North Korean diplomats have resumed talks on normalizing diplomatic relations.\n",
      ">> “Guard robots are used privately and professionally to detect intruders or fire,” Karlsson said.\n",
      ">> Authorities from the Water Resources Ministry plan to begin construction next year on the controversial and hugely expensive project.\n",
      ">> Researchers also have debated whether weight-training has a big impact on the heart, since it does not give the heart and lungs the kind of workout they get from aerobic activities such as brisk walking or running for at least 20 minutes.\n"
     ]
    }
   ],
   "source": [
    "print(\"Eng Data Example :\")\n",
    "for sen in en_raw[0:100][::20]:print(\">>\",sen)"
   ]
  },
  {
   "cell_type": "markdown",
   "metadata": {},
   "source": [
    "-각각이 쌍을 이루는것을 확인할 수 있습니다.\n",
    "***\n",
    "#### Step 2. 데이터 정제\n",
    "**1) set 데이터형이 중복을 허용하지 않는다는 것을 활용해 중복된 데이터를 제거하도록 합니다. 데이터의 병렬 쌍이 흐트러지지 않게 주의하세요! 중복을 제거한 데이터를 cleaned_corpus 에 저장합니다.**  "
   ]
  },
  {
   "cell_type": "code",
   "execution_count": 8,
   "metadata": {},
   "outputs": [],
   "source": [
    "cleaned_corpus = list(set(zip(ko_raw, en_raw)))"
   ]
  },
  {
   "cell_type": "code",
   "execution_count": 9,
   "metadata": {},
   "outputs": [
    {
     "name": "stdout",
     "output_type": "stream",
     "text": [
      "Clean corpus : 78968\n"
     ]
    }
   ],
   "source": [
    "print(\"Clean corpus :\",len(cleaned_corpus))"
   ]
  },
  {
   "cell_type": "markdown",
   "metadata": {},
   "source": [
    "-한국어 데이터와 영어 데이터를 각각 중복제어했을 경우 병렬 쌍이 흐트러지는 것을 확인하였습니다.  \n",
    "-동일한 개수로 이루어진 자료형을 묶어주는 zip함수를 활용하여 병렬 쌍을 유지하고 중복을 제거하여 주었습니다.  "
   ]
  },
  {
   "cell_type": "code",
   "execution_count": 10,
   "metadata": {},
   "outputs": [
    {
     "name": "stdout",
     "output_type": "stream",
     "text": [
      "('이타르타스 통신에따르면 펜자 관할 검사는 “쿠즈네트소브가 조사를 받고 있다”고 말했다.', 'Kuznetsov, 43, is \"under the supervision of investigators,\" Olig Troshin, a Penza prosecutor, told Itar-Tass.')\n"
     ]
    }
   ],
   "source": [
    "print(cleaned_corpus[7])"
   ]
  },
  {
   "cell_type": "markdown",
   "metadata": {},
   "source": [
    "**2) 앞서 정의한 preprocessing() 함수는 한글에 대해 동작하지 않습니다. 한글에 적용할 수 있는 정규식을 추가하여 함수를 재정의하세요!**  "
   ]
  },
  {
   "cell_type": "code",
   "execution_count": 11,
   "metadata": {},
   "outputs": [],
   "source": [
    "def kor_preprocess_sentence(sentence, s_token=False, e_token=False):\n",
    "    sentence = sentence.lower().strip()\n",
    "    # 영어의 경우 대문자가 있어 다른 단어로 인식할 수 있으니 이를 소문자로 변경해줍니다.\n",
    "\n",
    "    sentence = re.sub(r\"([?.!,])\", r\" \\1 \", sentence)\n",
    "    # ?.!,를 제외한 특수문자 제외\n",
    "    sentence = re.sub(r'[\" \"]+', \" \", sentence)\n",
    "    # 띄어쓰기가 중복되었을 때 하나의 띄어쓰기로 대체\n",
    "    sentence = re.sub(r\"[^가-힣ㄱ-ㅎㅏ-ㅣa-zA-Z?.!,]+\", \" \", sentence)\n",
    "    # ^a-zA-Z?.!, 를 제외한 문자를 띄어쓰기로 대체\n",
    "\n",
    "    sentence = sentence.strip()\n",
    "    # 문장의 양쪽 공백을 제거합니다.\n",
    "    sentence = mecab.morphs(sentence)\n",
    "    # 한국어 말뭉치를 만들기 위해 mecab을 활용합니다.\n",
    "\n",
    "    if s_token:\n",
    "        sentence = '<start> ' + sentence\n",
    "\n",
    "    if e_token:\n",
    "        sentence += ' <end>'\n",
    "    \n",
    "    return sentence"
   ]
  },
  {
   "cell_type": "markdown",
   "metadata": {},
   "source": [
    "**3) 타겟 언어인 영문엔 \\<start> 토큰과 \\<end> 토큰을 추가하고 split() 함수로 토큰화합니다. 한글 토큰화는 KoNLPy의 mecab 클래스를 사용합니다.**  "
   ]
  },
  {
   "cell_type": "code",
   "execution_count": 12,
   "metadata": {},
   "outputs": [],
   "source": [
    "def eng_preprocess_sentence(sentence, s_token=False, e_token=False):\n",
    "    sentence = sentence.lower().strip()\n",
    "    # 영어의 경우 대문자가 있어 다른 단어로 인식할 수 있으니 이를 소문자로 변경해줍니다.\n",
    "\n",
    "    sentence = re.sub(r\"([?.!,])\", r\" \\1 \", sentence)\n",
    "    # ?.!,를 제외한 특수문자 제외\n",
    "    sentence = re.sub(r'[\" \"]+', \" \", sentence)\n",
    "    # 띄어쓰기가 중복되었을 때 하나의 띄어쓰기로 대체\n",
    "    sentence = re.sub(r\"[^a-zA-Z?.!,]+\", \" \", sentence)\n",
    "    # ^a-zA-Z?.!, 를 제외한 문자를 띄어쓰기로 대체\n",
    "\n",
    "    sentence = sentence.strip()\n",
    "    # 문장의 양쪽 공백을 제거합니다.\n",
    "\n",
    "    if s_token:\n",
    "        sentence = '<start> ' + sentence\n",
    "\n",
    "    if e_token:\n",
    "        sentence += ' <end>'\n",
    "        \n",
    "    sentence = sentence.split()\n",
    "    # 한국어와 다르게 영어는 split으로 충분합니다.\n",
    "    \n",
    "    return sentence"
   ]
  },
  {
   "cell_type": "code",
   "execution_count": 13,
   "metadata": {},
   "outputs": [],
   "source": [
    "ko_raw_corpus = []\n",
    "en_raw_corpus = []\n",
    "\n",
    "for kor, eng in cleaned_corpus:\n",
    "    ko_raw_corpus.append(kor_preprocess_sentence(kor))\n",
    "    en_raw_corpus.append(eng_preprocess_sentence(eng,s_token=True,e_token=True))"
   ]
  },
  {
   "cell_type": "code",
   "execution_count": 14,
   "metadata": {},
   "outputs": [
    {
     "name": "stdout",
     "output_type": "stream",
     "text": [
      "['이타르타스', '통신', '에', '따르', '면', '펜자', '관할', '검사', '는', '쿠즈', '네트', '소', '브', '가', '조사', '를', '받', '고', '있', '다', '고', '말', '했', '다', '.']\n",
      "['<start>', 'kuznetsov', ',', ',', 'is', 'under', 'the', 'supervision', 'of', 'investigators', ',', 'olig', 'troshin', ',', 'a', 'penza', 'prosecutor', ',', 'told', 'itar', 'tass', '.', '<end>']\n"
     ]
    }
   ],
   "source": [
    "print(ko_raw_corpus[7])\n",
    "print(en_raw_corpus[7])"
   ]
  },
  {
   "cell_type": "code",
   "execution_count": 15,
   "metadata": {},
   "outputs": [
    {
     "name": "stdout",
     "output_type": "stream",
     "text": [
      "25\n"
     ]
    }
   ],
   "source": [
    "print(len(ko_raw_corpus[7]))"
   ]
  },
  {
   "cell_type": "markdown",
   "metadata": {},
   "source": [
    "-길이조절을 하지 않은 한국어 말뭉치와 영어 말뭉치가 완성되었다."
   ]
  },
  {
   "cell_type": "markdown",
   "metadata": {},
   "source": [
    "**4) 토큰의 길이가 40 이하인 데이터를 선별하여 eng_corpus와 kor_corpus를 각각 구축하세요.**"
   ]
  },
  {
   "cell_type": "markdown",
   "metadata": {},
   "source": [
    "-학습을 위해서는 pair를 유지해야하기 때문에 위의 zip함수를 활용하여 한국어 데이터의 갯수에 맞게 구축해보겠다."
   ]
  },
  {
   "cell_type": "code",
   "execution_count": 16,
   "metadata": {},
   "outputs": [],
   "source": [
    "before_corpus = list(zip(ko_raw_corpus, en_raw_corpus))"
   ]
  },
  {
   "cell_type": "code",
   "execution_count": 17,
   "metadata": {},
   "outputs": [
    {
     "name": "stdout",
     "output_type": "stream",
     "text": [
      "(['이타르타스', '통신', '에', '따르', '면', '펜자', '관할', '검사', '는', '쿠즈', '네트', '소', '브', '가', '조사', '를', '받', '고', '있', '다', '고', '말', '했', '다', '.'], ['<start>', 'kuznetsov', ',', ',', 'is', 'under', 'the', 'supervision', 'of', 'investigators', ',', 'olig', 'troshin', ',', 'a', 'penza', 'prosecutor', ',', 'told', 'itar', 'tass', '.', '<end>'])\n"
     ]
    }
   ],
   "source": [
    "print(before_corpus[7])"
   ]
  },
  {
   "cell_type": "code",
   "execution_count": 18,
   "metadata": {},
   "outputs": [
    {
     "name": "stdout",
     "output_type": "stream",
     "text": [
      "78968\n"
     ]
    }
   ],
   "source": [
    "print(len(before_corpus))"
   ]
  },
  {
   "cell_type": "code",
   "execution_count": 19,
   "metadata": {},
   "outputs": [],
   "source": [
    "def length_limit(corpus, max_length = 20):\n",
    "    kor_corpus = []\n",
    "    eng_corpus = []\n",
    "    for i in range(len(corpus)):\n",
    "        if len(corpus[i][0]) <= max_length:\n",
    "            kor_corpus.append(corpus[i][0])\n",
    "            eng_corpus.append(corpus[i][1])\n",
    "    \n",
    "    return kor_corpus, eng_corpus"
   ]
  },
  {
   "cell_type": "code",
   "execution_count": 20,
   "metadata": {},
   "outputs": [],
   "source": [
    "kor_corpus, eng_corpus = length_limit(before_corpus)"
   ]
  },
  {
   "cell_type": "code",
   "execution_count": 21,
   "metadata": {},
   "outputs": [
    {
     "data": {
      "text/plain": [
       "(20279, 20279)"
      ]
     },
     "execution_count": 21,
     "metadata": {},
     "output_type": "execute_result"
    }
   ],
   "source": [
    "len(kor_corpus), len(eng_corpus)"
   ]
  },
  {
   "cell_type": "markdown",
   "metadata": {},
   "source": [
    "-pair를 이루도록 토큰의 길이를 잘 조절해 주었다.\n",
    "***\n",
    "#### Step 3. 데이터 토큰화\n",
    "앞서 정의한 tokenize() 함수를 사용해 데이터를 텐서로 변환하고 각각의 tokenizer를 얻으세요! 단어의 수는 실험을 통해 적당한 값을 맞춰주도록 합니다! (최소 10,000 이상!)"
   ]
  },
  {
   "cell_type": "code",
   "execution_count": 22,
   "metadata": {},
   "outputs": [],
   "source": [
    "def tokenize(corpus):\n",
    "    tokenizer = tf.keras.preprocessing.text.Tokenizer(filters='')\n",
    "    tokenizer.fit_on_texts(corpus)\n",
    "\n",
    "    tensor = tokenizer.texts_to_sequences(corpus)\n",
    "\n",
    "    tensor = tf.keras.preprocessing.sequence.pad_sequences(tensor, padding='post')\n",
    "\n",
    "    return tensor, tokenizer"
   ]
  },
  {
   "cell_type": "code",
   "execution_count": 23,
   "metadata": {},
   "outputs": [
    {
     "name": "stdout",
     "output_type": "stream",
     "text": [
      "korean Vocab Size: 22535\n",
      "english Vocab Size: 19745\n"
     ]
    }
   ],
   "source": [
    "kor_tensor, kor_tokenizer = tokenize(kor_corpus)\n",
    "eng_tensor, eng_tokenizer = tokenize(eng_corpus)\n",
    "\n",
    "print(\"korean Vocab Size:\", len(kor_tokenizer.index_word))\n",
    "print(\"english Vocab Size:\", len(eng_tokenizer.index_word))"
   ]
  },
  {
   "cell_type": "markdown",
   "metadata": {},
   "source": [
    "-토큰화가 잘 이루어진 것을 확인하였다.\n",
    "***\n",
    "#### Step 4. 모델 설계\n",
    "한국어를 영어로 잘 번역해 줄 멋진 Attention 기반 Seq2seq 모델을 설계하세요! 앞서 만든 모델에 Dropout 모듈을 추가하면 성능이 더 좋아질 거랍니다! Embedding Size와 Hidden Size는 실험을 통해 적당한 값을 맞춰 주도록 합니다!  "
   ]
  },
  {
   "cell_type": "code",
   "execution_count": 24,
   "metadata": {},
   "outputs": [],
   "source": [
    "class BahdanauAttention(tf.keras.layers.Layer):\n",
    "    def __init__(self, units):\n",
    "        super(BahdanauAttention, self).__init__()\n",
    "        self.w_dec = tf.keras.layers.Dense(units)\n",
    "        self.w_enc = tf.keras.layers.Dense(units)\n",
    "        self.w_com = tf.keras.layers.Dense(1)\n",
    "    \n",
    "    def call(self, h_enc, h_dec):\n",
    "        # h_enc shape: [batch x length x units]\n",
    "        # h_dec shape: [batch x units]\n",
    "\n",
    "        h_enc = self.w_enc(h_enc)\n",
    "        h_dec = tf.expand_dims(h_dec, 1)\n",
    "        h_dec = self.w_dec(h_dec)\n",
    "\n",
    "        score = self.w_com(tf.nn.tanh(h_dec + h_enc))\n",
    "        \n",
    "        attn = tf.nn.softmax(score, axis=1)\n",
    "\n",
    "        context_vec = attn * h_enc\n",
    "        context_vec = tf.reduce_sum(context_vec, axis=1)\n",
    "\n",
    "        return context_vec, attn"
   ]
  },
  {
   "cell_type": "code",
   "execution_count": 25,
   "metadata": {},
   "outputs": [],
   "source": [
    "class Encoder(tf.keras.Model):\n",
    "    def __init__(self, vocab_size, embedding_dim, enc_units):\n",
    "        super(Encoder, self).__init__()\n",
    "\n",
    "        self.enc_units = enc_units\n",
    "        self.embedding = tf.keras.layers.Embedding(vocab_size, embedding_dim)\n",
    "        self.gru = tf.keras.layers.GRU(enc_units,\n",
    "                                       return_sequences=True)\n",
    "\n",
    "    def call(self, x):\n",
    "        out = self.embedding(x)\n",
    "        out = self.gru(out)\n",
    "\n",
    "        return out"
   ]
  },
  {
   "cell_type": "code",
   "execution_count": 26,
   "metadata": {},
   "outputs": [],
   "source": [
    "class Decoder(tf.keras.Model):\n",
    "    def __init__(self, vocab_size, embedding_dim, dec_units):\n",
    "        super(Decoder, self).__init__()\n",
    "        self.dec_units = dec_units\n",
    "        self.embedding = tf.keras.layers.Embedding(vocab_size, embedding_dim)\n",
    "        self.gru = tf.keras.layers.GRU(dec_units,\n",
    "                                       return_sequences=True,\n",
    "                                       return_state=True)\n",
    "        self.fc = tf.keras.layers.Dense(vocab_size)\n",
    "\n",
    "        self.attention = BahdanauAttention(self.dec_units)\n",
    "\n",
    "    def call(self, x, h_dec, enc_out):\n",
    "        context_vec, attn = self.attention(enc_out, h_dec)\n",
    "\n",
    "        out = self.embedding(x)\n",
    "        out = tf.concat([tf.expand_dims(context_vec, 1), out], axis=-1)\n",
    "\n",
    "        out, h_dec = self.gru(out)\n",
    "        out = tf.reshape(out, (-1, out.shape[2]))\n",
    "        out = self.fc(out)\n",
    "\n",
    "        return out, h_dec, attn"
   ]
  },
  {
   "cell_type": "code",
   "execution_count": 27,
   "metadata": {},
   "outputs": [
    {
     "name": "stdout",
     "output_type": "stream",
     "text": [
      "Encoder Output: (128, 30, 512)\n",
      "Decoder Output: (128, 19746)\n",
      "Decoder Hidden State: (128, 512)\n",
      "Attention: (128, 30, 1)\n"
     ]
    }
   ],
   "source": [
    "BATCH_SIZE     = 128\n",
    "SRC_VOCAB_SIZE = len(kor_tokenizer.index_word) + 1\n",
    "TGT_VOCAB_SIZE = len(eng_tokenizer.index_word) + 1\n",
    "\n",
    "units         = 512\n",
    "embedding_dim = 256\n",
    "\n",
    "encoder = Encoder(SRC_VOCAB_SIZE, embedding_dim, units)\n",
    "decoder = Decoder(TGT_VOCAB_SIZE, embedding_dim, units)\n",
    "\n",
    "# sample input\n",
    "sequence_len = 30\n",
    "\n",
    "sample_enc = tf.random.uniform((BATCH_SIZE, sequence_len))\n",
    "sample_output = encoder(sample_enc)\n",
    "\n",
    "print ('Encoder Output:', sample_output.shape)\n",
    "\n",
    "sample_state = tf.random.uniform((BATCH_SIZE, units))\n",
    "\n",
    "sample_logits, h_dec, attn = decoder(tf.random.uniform((BATCH_SIZE, 1)),\n",
    "                                     sample_state, sample_output)\n",
    "\n",
    "print ('Decoder Output:', sample_logits.shape)\n",
    "print ('Decoder Hidden State:', h_dec.shape)\n",
    "print ('Attention:', attn.shape)"
   ]
  },
  {
   "cell_type": "code",
   "execution_count": 28,
   "metadata": {},
   "outputs": [],
   "source": [
    "optimizer = tf.keras.optimizers.Adam()\n",
    "loss_object = tf.keras.losses.SparseCategoricalCrossentropy(\n",
    "    from_logits=True, reduction='none')\n",
    "\n",
    "def loss_function(real, pred):\n",
    "    mask = tf.math.logical_not(tf.math.equal(real, 0))\n",
    "    loss = loss_object(real, pred)\n",
    "    \n",
    "    mask = tf.cast(mask, dtype=loss.dtype)\n",
    "    loss *= mask\n",
    "    \n",
    "    return tf.reduce_mean(loss)"
   ]
  },
  {
   "cell_type": "code",
   "execution_count": 29,
   "metadata": {},
   "outputs": [],
   "source": [
    "@tf.function\n",
    "def train_step(src, tgt, encoder, decoder, optimizer, dec_tok):\n",
    "    bsz = src.shape[0]\n",
    "    loss = 0\n",
    "\n",
    "    with tf.GradientTape() as tape:\n",
    "        enc_out = encoder(src)\n",
    "        h_dec = enc_out[:, -1]\n",
    "        \n",
    "        dec_src = tf.expand_dims([dec_tok.word_index['<start>']] * bsz, 1)\n",
    "\n",
    "        for t in range(1, tgt.shape[1]):\n",
    "            pred, h_dec, _ = decoder(dec_src, h_dec, enc_out)\n",
    "\n",
    "            loss += loss_function(tgt[:, t], pred)\n",
    "            dec_src = tf.expand_dims(tgt[:, t], 1)\n",
    "        \n",
    "    batch_loss = (loss / int(tgt.shape[1]))\n",
    "\n",
    "    variables = encoder.trainable_variables + decoder.trainable_variables\n",
    "    gradients = tape.gradient(loss, variables)\n",
    "    optimizer.apply_gradients(zip(gradients, variables))\n",
    "    \n",
    "    return batch_loss"
   ]
  },
  {
   "cell_type": "markdown",
   "metadata": {},
   "source": [
    "#### Step 5. 훈련하기"
   ]
  },
  {
   "cell_type": "code",
   "execution_count": 30,
   "metadata": {},
   "outputs": [
    {
     "name": "stderr",
     "output_type": "stream",
     "text": [
      "Epoch  1: 100%|██████████| 159/159 [02:25<00:00,  1.09it/s, Loss 1.6231]\n",
      "Epoch  2: 100%|██████████| 159/159 [01:08<00:00,  2.34it/s, Loss 1.5659]\n",
      "Epoch  3: 100%|██████████| 159/159 [01:08<00:00,  2.32it/s, Loss 1.5665]\n",
      "Epoch  4: 100%|██████████| 159/159 [01:08<00:00,  2.31it/s, Loss 1.5658]\n",
      "Epoch  5: 100%|██████████| 159/159 [01:09<00:00,  2.30it/s, Loss 1.5667]\n",
      "Epoch  6: 100%|██████████| 159/159 [01:09<00:00,  2.30it/s, Loss 1.5668]\n",
      "Epoch  7: 100%|██████████| 159/159 [01:09<00:00,  2.30it/s, Loss 1.5665]\n",
      "Epoch  8: 100%|██████████| 159/159 [01:09<00:00,  2.30it/s, Loss 1.5675]\n",
      "Epoch  9: 100%|██████████| 159/159 [01:09<00:00,  2.29it/s, Loss 1.5678]\n",
      "Epoch 10: 100%|██████████| 159/159 [01:09<00:00,  2.30it/s, Loss 1.5673]\n",
      "Epoch 11: 100%|██████████| 159/159 [01:09<00:00,  2.28it/s, Loss 1.5667]\n",
      "Epoch 12: 100%|██████████| 159/159 [01:09<00:00,  2.30it/s, Loss 1.5656]\n",
      "Epoch 13: 100%|██████████| 159/159 [01:09<00:00,  2.30it/s, Loss 1.5675]\n",
      "Epoch 14: 100%|██████████| 159/159 [01:09<00:00,  2.30it/s, Loss 1.5673]\n",
      "Epoch 15: 100%|██████████| 159/159 [01:09<00:00,  2.30it/s, Loss 1.5666]\n",
      "Epoch 16: 100%|██████████| 159/159 [01:09<00:00,  2.29it/s, Loss 1.5666]\n",
      "Epoch 17: 100%|██████████| 159/159 [01:09<00:00,  2.30it/s, Loss 1.5675]\n",
      "Epoch 18: 100%|██████████| 159/159 [01:09<00:00,  2.30it/s, Loss 1.5666]\n",
      "Epoch 19: 100%|██████████| 159/159 [01:09<00:00,  2.30it/s, Loss 1.5673]\n",
      "Epoch 20: 100%|██████████| 159/159 [01:09<00:00,  2.30it/s, Loss 1.5677]\n"
     ]
    }
   ],
   "source": [
    "EPOCHS = 20\n",
    "\n",
    "for epoch in range(EPOCHS):\n",
    "    total_loss = 0\n",
    "    \n",
    "    idx_list = list(range(0, kor_tensor.shape[0], BATCH_SIZE))\n",
    "    random.shuffle(idx_list)\n",
    "    t = tqdm(idx_list)    # tqdm\n",
    "\n",
    "    for (batch, idx) in enumerate(t):\n",
    "        batch_loss = train_step(kor_tensor[idx:idx+BATCH_SIZE],\n",
    "                                eng_tensor[idx:idx+BATCH_SIZE],\n",
    "                                encoder,\n",
    "                                decoder,\n",
    "                                optimizer,\n",
    "                                eng_tokenizer)\n",
    "    \n",
    "        total_loss += batch_loss\n",
    "        \n",
    "        t.set_description_str('Epoch %2d' % (epoch + 1))    # tqdm\n",
    "        t.set_postfix_str('Loss %.4f' % (total_loss.numpy() / (batch + 1)))    # tqdm"
   ]
  },
  {
   "cell_type": "code",
   "execution_count": 31,
   "metadata": {},
   "outputs": [],
   "source": [
    "def evaluate(sentence, encoder, decoder):\n",
    "    attention = np.zeros((eng_tensor.shape[-1], kor_tensor.shape[-1]))\n",
    "    \n",
    "    sentence = kor_preprocess_sentence(sentence)\n",
    "    inputs = kor_tokenizer.texts_to_sequences([sentence])\n",
    "    inputs = tf.keras.preprocessing.sequence.pad_sequences(inputs,\n",
    "                                                           maxlen=kor_tensor.shape[-1],\n",
    "                                                           padding='post')\n",
    "\n",
    "    result = ''\n",
    "\n",
    "    enc_out = encoder(inputs)\n",
    "\n",
    "    dec_hidden = enc_out[:, -1]\n",
    "    dec_input = tf.expand_dims([eng_tokenizer.word_index['<start>']], 0)\n",
    "\n",
    "    for t in range(eng_tensor.shape[-1]):\n",
    "        predictions, dec_hidden, attention_weights = decoder(dec_input,\n",
    "                                                             dec_hidden,\n",
    "                                                             enc_out)\n",
    "\n",
    "        attention_weights = tf.reshape(attention_weights, (-1, ))\n",
    "        attention[t] = attention_weights.numpy()\n",
    "\n",
    "        predicted_id = \\\n",
    "        tf.argmax(tf.math.softmax(predictions, axis=-1)[0]).numpy()\n",
    "\n",
    "        result += eng_tokenizer.index_word[predicted_id] + ' '\n",
    "\n",
    "        if eng_tokenizer.index_word[predicted_id] == '<end>':\n",
    "            return result, sentence, attention\n",
    "\n",
    "        dec_input = tf.expand_dims([predicted_id], 0)\n",
    "\n",
    "    return result, sentence, attention\n"
   ]
  },
  {
   "cell_type": "code",
   "execution_count": 32,
   "metadata": {},
   "outputs": [],
   "source": [
    "def plot_attention(attention, sentence, predicted_sentence):\n",
    "    fig = plt.figure(figsize=(10,10))\n",
    "    ax = fig.add_subplot(1, 1, 1)\n",
    "    ax.matshow(attention, cmap='viridis')\n",
    "\n",
    "    fontdict = {'fontsize': 14}\n",
    "\n",
    "    ax.set_xticklabels([''] + sentence, fontdict=fontdict, rotation=90)\n",
    "    ax.set_yticklabels([''] + predicted_sentence, fontdict=fontdict)\n",
    "\n",
    "    ax.xaxis.set_major_locator(ticker.MultipleLocator(1))\n",
    "    ax.yaxis.set_major_locator(ticker.MultipleLocator(1))\n",
    "\n",
    "    plt.show()"
   ]
  },
  {
   "cell_type": "code",
   "execution_count": 33,
   "metadata": {},
   "outputs": [],
   "source": [
    "def translate(sentence, encoder, decoder):\n",
    "    result, sentence, attention = evaluate(sentence, encoder, decoder)\n",
    "\n",
    "    print('Input: %s' % (sentence))\n",
    "    print('Predicted translation: {}'.format(result))\n",
    "    \n",
    "    attention = attention[:len(result.split()), :len(sentence)]\n",
    "    plot_attention(attention, sentence, result.split())"
   ]
  },
  {
   "cell_type": "code",
   "execution_count": 34,
   "metadata": {},
   "outputs": [
    {
     "name": "stdout",
     "output_type": "stream",
     "text": [
      "Input: ['라디오', '에서', '는', '오바마', '가', '대통령', '이', '라고', '말', '했', '다']\n",
      "Predicted translation: the the the the the the the the the the the the the the the the the the the the the the the the the the the the the the the the the the the the the the the the the the the the the the the the the the the the the the the the the the the the the the the the the the the the the the the \n"
     ]
    },
    {
     "name": "stderr",
     "output_type": "stream",
     "text": [
      "/home/aiffel/anaconda3/envs/aiffel/lib/python3.7/site-packages/ipykernel_launcher.py:8: UserWarning: FixedFormatter should only be used together with FixedLocator\n",
      "  \n",
      "/home/aiffel/anaconda3/envs/aiffel/lib/python3.7/site-packages/ipykernel_launcher.py:9: UserWarning: FixedFormatter should only be used together with FixedLocator\n",
      "  if __name__ == '__main__':\n"
     ]
    },
    {
     "data": {
      "image/png": "[encoded data removed]",
      "text/plain": [
       "<Figure size 720x720 with 1 Axes>"
      ]
     },
     "metadata": {
      "image/png": {
       "height": 608,
       "width": 130
      },
      "needs_background": "light"
     },
     "output_type": "display_data"
    }
   ],
   "source": [
    "translate(\"라디오에서는 오바마가 대통령이라고 말했다\", encoder, decoder)"
   ]
  },
  {
   "cell_type": "code",
   "execution_count": 35,
   "metadata": {},
   "outputs": [
    {
     "name": "stdout",
     "output_type": "stream",
     "text": [
      "Input: ['아프간', '에서', '공격', '이', '증가', '했', '다', '.']\n",
      "Predicted translation: the the the the the the the the the the the the the the the the the the the the the the the the the the the the the the the the the the the the the the the the the the the the the the the the the the the the the the the the the the the the the the the the the the the the the the the \n"
     ]
    },
    {
     "name": "stderr",
     "output_type": "stream",
     "text": [
      "/home/aiffel/anaconda3/envs/aiffel/lib/python3.7/site-packages/ipykernel_launcher.py:8: UserWarning: FixedFormatter should only be used together with FixedLocator\n",
      "  \n",
      "/home/aiffel/anaconda3/envs/aiffel/lib/python3.7/site-packages/ipykernel_launcher.py:9: UserWarning: FixedFormatter should only be used together with FixedLocator\n",
      "  if __name__ == '__main__':\n"
     ]
    },
    {
     "data": {
      "image/png": "[encoded data removed]",
      "text/plain": [
       "<Figure size 720x720 with 1 Axes>"
      ]
     },
     "metadata": {
      "image/png": {
       "height": 608,
       "width": 107
      },
      "needs_background": "light"
     },
     "output_type": "display_data"
    }
   ],
   "source": [
    "translate(\"아프간에서 공격이 증가했다.\", encoder, decoder)"
   ]
  },
  {
   "cell_type": "markdown",
   "metadata": {},
   "source": [
    "#### 회고록  \n",
    "결과가 처참하다. 하이퍼파라미터를 좀 조정하고 싶었는데 좀 늘릴려고하면 커널이 죽어서 최소한으로 줄일 수 밖에 없었다.  \n",
    "토큰길이도 40으로 정해서 진행할 수 있었지만 커널이 계속 죽어서 점점 줄이다 결국 반인 20으로 정할 수 밖에 없었다.  \n",
    "최적의 하이퍼 파라미터를 찾고싶었지만 컴퓨팅파워에서의 한계로 인해 진행할 수가 없었다.  \n",
    "좀 더 좋은 조건이라면 가능할 수도 있을 것 같다.  \n",
    "아니면 내가 최적의 파라미터를 찾지못해서 그랬을 수도 있다.  \n",
    "뭔가 편안하게 마무리 지을 줄 알았는데 아니라서 씁쓸했다."
   ]
  },
  {
   "cell_type": "code",
   "execution_count": null,
   "metadata": {},
   "outputs": [],
   "source": []
  }
 ],
 "metadata": {
  "kernelspec": {
   "display_name": "Python 3",
   "language": "python",
   "name": "python3"
  },
  "language_info": {
   "codemirror_mode": {
    "name": "ipython",
    "version": 3
   },
   "file_extension": ".py",
   "mimetype": "text/x-python",
   "name": "python",
   "nbconvert_exporter": "python",
   "pygments_lexer": "ipython3",
   "version": "3.7.7"
  }
 },
 "nbformat": 4,
 "nbformat_minor": 4
}
