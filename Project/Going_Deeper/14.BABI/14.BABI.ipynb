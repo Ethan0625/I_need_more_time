{
 "cells": [
  {
   "cell_type": "markdown",
   "metadata": {},
   "source": [
    "## 프로젝트: 한국어 QA 모델 만들기\n",
    "### bAbI\n",
    "***\n",
    "#### Step 1. 데이터 다운로드\n",
    "\n",
    "#### Step 2. 토크나이저 변경하기 \n",
    "\n",
    "#### Step 3. 형태소 분석 후 불용어 처리하기\n",
    "\n",
    "#### Step 4. 한국어에서의 모델 정확도 확인해보기\n",
    "***\n",
    "### 평가문항\n",
    "**1. 한국어의 특성에 알맞게 전처리가 진행되었다.**  \n",
    "-한국어 특성에 따른 토큰화, 임베딩을 거쳐 데이터셋이 적절히 구성되었다.  \n",
    "\n",
    "**2. 메모리 네트워크가 정상적으로 구현되어 학습이 안정적으로 진행되었다.**  \n",
    "-validation loss가 안정적으로 수렴하는 것을 확인하고 이를 시각화하였다. \n",
    "\n",
    "**3. 메모리 네트워크를 통해 한국어 bAbI 태스크의 높은 정확도를 달성하였다.**  \n",
    "-추론 태스크의 테스트 정확도가 90% 이상 달성하였다.\n",
    "***\n",
    "#### Step 1. 데이터 다운로드\n",
    "***"
   ]
  },
  {
   "cell_type": "code",
   "execution_count": 1,
   "metadata": {},
   "outputs": [],
   "source": [
    "from tensorflow.keras.utils import get_file\n",
    "from tensorflow.keras.preprocessing.sequence import pad_sequences\n",
    "from tensorflow.keras.utils import to_categorical\n",
    "import numpy as np\n",
    "import tarfile\n",
    "from nltk import FreqDist\n",
    "from functools import reduce\n",
    "import os\n",
    "import re"
   ]
  },
  {
   "cell_type": "code",
   "execution_count": 2,
   "metadata": {},
   "outputs": [],
   "source": [
    "# 환경에 맞게 경로 적절히 수정\n",
    "home_dir = os.getenv('HOME')+'/aiffel/babi_memory_net'\n",
    "DATA_DIR = home_dir + '/data'\n",
    "TRAIN_FILE = os.path.join(DATA_DIR, \"qa1_single-supporting-fact_train_kor.txt\")\n",
    "TEST_FILE = os.path.join(DATA_DIR, \"qa1_single-supporting-fact_test_kor.txt\")"
   ]
  },
  {
   "cell_type": "code",
   "execution_count": 3,
   "metadata": {},
   "outputs": [
    {
     "name": "stdout",
     "output_type": "stream",
     "text": [
      "1 필웅이는 화장실로 갔습니다.\n",
      "2 은경이는 복도로 이동했습니다.\n",
      "3 필웅이는 어디야? \t화장실\t1\n",
      "4 수종이는 복도로 복귀했습니다.\n",
      "5 경임이는 정원으로 갔습니다.\n",
      "6 수종이는 어디야? \t복도\t4\n",
      "7 은경이는 사무실로 갔습니다.\n",
      "8 경임이는 화장실로 뛰어갔습니다.\n",
      "9 수종이는 어디야? \t복도\t4\n",
      "10 필웅이는 복도로 갔습니다.\n",
      "11 수종이는 사무실로 가버렸습니다.\n",
      "12 수종이는 어디야? \t사무실\t11\n",
      "13 은경이는 정원으로 복귀했습니다.\n",
      "14 은경이는 침실로 갔습니다.\n",
      "15 경임이는 어디야? \t화장실\t8\n",
      "1 경임이는 사무실로 가버렸습니다.\n",
      "2 경임이는 화장실로 이동했습니다.\n",
      "3 경임이는 어디야? \t화장실\t2\n",
      "4 필웅이는 침실로 이동했습니다.\n",
      "5 수종이는 복도로 갔습니다.\n"
     ]
    }
   ],
   "source": [
    "i = 0\n",
    "lines = open(TRAIN_FILE , \"rb\")\n",
    "for line in lines:\n",
    "    line = line.decode(\"utf-8\").strip()\n",
    "    # lno, text = line.split(\" \", 1) # ID와 TEXT 분리\n",
    "    i = i + 1\n",
    "    print(line)\n",
    "    if i == 20:\n",
    "        break"
   ]
  },
  {
   "cell_type": "code",
   "execution_count": 4,
   "metadata": {},
   "outputs": [],
   "source": [
    "def read_data(dir):\n",
    "    stories, questions, answers = [], [], [] # 각각 스토리, 질문, 답변을 저장할 예정\n",
    "    story_temp = [] # 현재 시점의 스토리 임시 저장\n",
    "    lines = open(dir, \"rb\")\n",
    "\n",
    "    for line in lines:\n",
    "        line = line.decode(\"utf-8\") # b' 제거\n",
    "        line = line.strip() # '\\n' 제거\n",
    "        idx, text = line.split(\" \", 1) # 맨 앞에 있는 id number 분리\n",
    "        # 여기까지는 모든 줄에 적용되는 전처리\n",
    "\n",
    "        if int(idx) == 1:\n",
    "            story_temp = []\n",
    "        \n",
    "        if \"\\t\" in text: # 현재 읽는 줄이 질문 (tab) 답변 (tab)인 경우\n",
    "            question, answer, _ = text.split(\"\\t\") # 질문과 답변을 각각 저장\n",
    "            stories.append([x for x in story_temp if x]) # 지금까지의 누적 스토리를 스토리에 저장\n",
    "            questions.append(question)\n",
    "            answers.append(answer)\n",
    "\n",
    "        else: # 현재 읽는 줄이 스토리인 경우\n",
    "            story_temp.append(text) # 임시 저장\n",
    "\n",
    "    lines.close()\n",
    "    return stories, questions, answers"
   ]
  },
  {
   "cell_type": "code",
   "execution_count": 5,
   "metadata": {},
   "outputs": [],
   "source": [
    "train_data = read_data(TRAIN_FILE)\n",
    "test_data = read_data(TEST_FILE)"
   ]
  },
  {
   "cell_type": "code",
   "execution_count": 6,
   "metadata": {},
   "outputs": [],
   "source": [
    "train_stories, train_questions, train_answers = read_data(TRAIN_FILE)\n",
    "test_stories, test_questions, test_answers = read_data(TEST_FILE)"
   ]
  },
  {
   "cell_type": "code",
   "execution_count": 7,
   "metadata": {},
   "outputs": [
    {
     "name": "stdout",
     "output_type": "stream",
     "text": [
      "train 스토리 개수: 10000\n",
      "train 질문 개수: 10000\n",
      "train 답변 개수: 10000\n",
      "test 스토리 개수: 1000\n",
      "test 질문 개수: 1000\n",
      "test 답변 개수: 1000\n"
     ]
    }
   ],
   "source": [
    "print(\"train 스토리 개수:\", len(train_stories))\n",
    "print(\"train 질문 개수:\", len(train_questions))\n",
    "print(\"train 답변 개수:\", len(train_answers))\n",
    "print(\"test 스토리 개수:\", len(test_stories))\n",
    "print(\"test 질문 개수:\", len(test_questions))\n",
    "print(\"test 답변 개수:\", len(test_answers))"
   ]
  },
  {
   "cell_type": "code",
   "execution_count": 8,
   "metadata": {},
   "outputs": [
    {
     "data": {
      "text/plain": [
       "['은경이는 침실로 갔습니다.',\n",
       " '수종이는 화장실로 뛰어갔습니다.',\n",
       " '수종이는 복도로 갔습니다.',\n",
       " '경임이는 정원으로 뛰어갔습니다.',\n",
       " '수종이는 침실로 복귀했습니다.',\n",
       " '필웅이는 복도로 갔습니다.']"
      ]
     },
     "execution_count": 8,
     "metadata": {},
     "output_type": "execute_result"
    }
   ],
   "source": [
    "train_stories[3787]"
   ]
  },
  {
   "cell_type": "code",
   "execution_count": 9,
   "metadata": {},
   "outputs": [
    {
     "data": {
      "text/plain": [
       "['필웅이는 어디야? ', '수종이는 어디야? ', '수종이는 어디야? ', '수종이는 어디야? ', '경임이는 어디야? ']"
      ]
     },
     "execution_count": 9,
     "metadata": {},
     "output_type": "execute_result"
    }
   ],
   "source": [
    "train_questions[:5]"
   ]
  },
  {
   "cell_type": "code",
   "execution_count": 10,
   "metadata": {},
   "outputs": [
    {
     "data": {
      "text/plain": [
       "['화장실', '복도', '복도', '사무실', '화장실']"
      ]
     },
     "execution_count": 10,
     "metadata": {},
     "output_type": "execute_result"
    }
   ],
   "source": [
    "train_answers[:5]"
   ]
  },
  {
   "cell_type": "code",
   "execution_count": 11,
   "metadata": {},
   "outputs": [],
   "source": [
    "flatten = lambda data: reduce(lambda x, y: x + y, data)"
   ]
  },
  {
   "cell_type": "code",
   "execution_count": 12,
   "metadata": {},
   "outputs": [
    {
     "name": "stdout",
     "output_type": "stream",
     "text": [
      "수종이는 화장실로 뛰어갔습니다.경임이는 사무실로 갔습니다.은경이는 부엌으로 이동했습니다.경임이는 화장실로 갔습니다.수종이는 복도로 갔습니다.필웅이는 부엌으로 가버렸습니다.수종이는 부엌으로 이동했습니다.수종이는 화장실로 가버렸습니다.\n"
     ]
    }
   ],
   "source": [
    "stories = flatten(train_stories[3878])\n",
    "print(stories)"
   ]
  },
  {
   "cell_type": "markdown",
   "metadata": {},
   "source": [
    "***\n",
    "#### Step 2. 토크나이저 변경하기 \n",
    "***"
   ]
  },
  {
   "cell_type": "code",
   "execution_count": 13,
   "metadata": {},
   "outputs": [
    {
     "name": "stderr",
     "output_type": "stream",
     "text": [
      "/home/aiffel/anaconda3/envs/aiffel/lib/python3.7/site-packages/konlpy/tag/_okt.py:16: UserWarning: \"Twitter\" has changed to \"Okt\" since KoNLPy v0.4.5.\n",
      "  warn('\"Twitter\" has changed to \"Okt\" since KoNLPy v0.4.5.')\n"
     ]
    }
   ],
   "source": [
    "from ckonlpy.tag import Twitter\n",
    "twitter = Twitter()"
   ]
  },
  {
   "cell_type": "code",
   "execution_count": 14,
   "metadata": {},
   "outputs": [
    {
     "name": "stdout",
     "output_type": "stream",
     "text": [
      "['은', '경이', '는', '침실', '로', '갔습니다', '.']\n",
      "['수종', '이', '는', '화장실', '로', '뛰어갔습니다', '.']\n",
      "['수종', '이', '는', '복도', '로', '갔습니다', '.']\n",
      "['경', '임', '이', '는', '정원', '으로', '뛰어갔습니다', '.']\n",
      "['수종', '이', '는', '침실', '로', '복귀', '했습니다', '.']\n",
      "['필웅이', '는', '복도', '로', '갔습니다', '.']\n"
     ]
    }
   ],
   "source": [
    "for sen in train_stories[3787]:\n",
    "    print(twitter.morphs(sen))"
   ]
  },
  {
   "cell_type": "code",
   "execution_count": 15,
   "metadata": {},
   "outputs": [],
   "source": [
    "twitter.add_dictionary('은경이', 'Noun')\n",
    "twitter.add_dictionary('수종이', 'Noun')\n",
    "twitter.add_dictionary('경임이', 'Noun')"
   ]
  },
  {
   "cell_type": "code",
   "execution_count": 16,
   "metadata": {},
   "outputs": [],
   "source": [
    "def tokenize(sent):\n",
    "    return twitter.morphs(sent)"
   ]
  },
  {
   "cell_type": "markdown",
   "metadata": {},
   "source": [
    "***\n",
    "#### Step 3. 형태소 분석 후 불용어 처리하기\n",
    "***"
   ]
  },
  {
   "cell_type": "code",
   "execution_count": 17,
   "metadata": {},
   "outputs": [],
   "source": [
    "def preprocess_data(train_data, test_data):\n",
    "    counter = FreqDist()\n",
    "    \n",
    "    # 두 문장의 story를 하나의 문장으로 통합하는 함수\n",
    "    flatten = lambda data: reduce(lambda x, y: x + y, data)\n",
    "\n",
    "    # 각 샘플의 길이를 저장하는 리스트\n",
    "    story_len = []\n",
    "    question_len = []\n",
    "    \n",
    "    for stories, questions, answers in [train_data, test_data]:\n",
    "        for story in stories:\n",
    "            stories = tokenize(flatten(story)) # 스토리의 문장들을 펼친 후 토큰화\n",
    "            story_len.append(len(stories)) # 각 story의 길이 저장\n",
    "            for word in stories: # 단어 집합에 단어 추가\n",
    "                counter[word] += 1\n",
    "        for question in questions:\n",
    "            question = tokenize(question)\n",
    "            question_len.append(len(question))\n",
    "            for word in question:\n",
    "                counter[word] += 1\n",
    "        for answer in answers:\n",
    "            answer = tokenize(answer)\n",
    "            for word in answer:\n",
    "                counter[word] += 1\n",
    "\n",
    "    # 단어장 생성\n",
    "    word2idx = {word : (idx + 1) for idx, (word, _) in enumerate(counter.most_common())}\n",
    "    idx2word = {idx : word for word, idx in word2idx.items()}\n",
    "\n",
    "    # 가장 긴 샘플의 길이\n",
    "    story_max_len = np.max(story_len)\n",
    "    question_max_len = np.max(question_len)\n",
    "\n",
    "    return word2idx, idx2word, story_max_len, question_max_len"
   ]
  },
  {
   "cell_type": "code",
   "execution_count": 18,
   "metadata": {},
   "outputs": [],
   "source": [
    "word2idx, idx2word, story_max_len, question_max_len = preprocess_data(train_data, test_data)"
   ]
  },
  {
   "cell_type": "code",
   "execution_count": 19,
   "metadata": {},
   "outputs": [
    {
     "name": "stdout",
     "output_type": "stream",
     "text": [
      "{'는': 1, '.': 2, '로': 3, '했습니다': 4, '으로': 5, '경임이': 6, '은경이': 7, '수종이': 8, '필웅이': 9, '이동': 10, '가버렸습니다': 11, '뛰어갔습니다': 12, '복귀': 13, '화장실': 14, '정원': 15, '복도': 16, '갔습니다': 17, '사무실': 18, '부엌': 19, '침실': 20, '어디': 21, '야': 22, '?': 23}\n"
     ]
    }
   ],
   "source": [
    "print(word2idx)"
   ]
  },
  {
   "cell_type": "code",
   "execution_count": 20,
   "metadata": {},
   "outputs": [],
   "source": [
    "vocab_size = len(word2idx) + 1"
   ]
  },
  {
   "cell_type": "code",
   "execution_count": 21,
   "metadata": {},
   "outputs": [
    {
     "name": "stdout",
     "output_type": "stream",
     "text": [
      "스토리의 최대 길이 : 70\n",
      "질문의 최대 길이 : 5\n"
     ]
    }
   ],
   "source": [
    "print('스토리의 최대 길이 :',story_max_len)\n",
    "print('질문의 최대 길이 :',question_max_len)"
   ]
  },
  {
   "cell_type": "code",
   "execution_count": 22,
   "metadata": {},
   "outputs": [],
   "source": [
    "def vectorize(data, word2idx, story_maxlen, question_maxlen):\n",
    "    Xs, Xq, Y = [], [], []\n",
    "    flatten = lambda data: reduce(lambda x, y: x + y, data)\n",
    "\n",
    "    stories, questions, answers = data\n",
    "    for story, question, answer in zip(stories, questions, answers):\n",
    "        xs = [word2idx[w] for w in tokenize(flatten(story))]\n",
    "        xq = [word2idx[w] for w in tokenize(question)]\n",
    "        Xs.append(xs)\n",
    "        Xq.append(xq)\n",
    "        Y.append(word2idx[answer])\n",
    "\n",
    "    # 스토리와 질문은 각각의 최대 길이로 패딩\n",
    "    # 정답은 원-핫 인코딩\n",
    "    return pad_sequences(Xs, maxlen=story_maxlen),\\\n",
    "           pad_sequences(Xq, maxlen=question_maxlen),\\\n",
    "           to_categorical(Y, num_classes=len(word2idx) + 1)"
   ]
  },
  {
   "cell_type": "code",
   "execution_count": 23,
   "metadata": {},
   "outputs": [],
   "source": [
    "Xstrain, Xqtrain, Ytrain = vectorize(train_data, word2idx, story_max_len, question_max_len)\n",
    "Xstest, Xqtest, Ytest = vectorize(test_data, word2idx, story_max_len, question_max_len)"
   ]
  },
  {
   "cell_type": "code",
   "execution_count": 25,
   "metadata": {},
   "outputs": [
    {
     "name": "stdout",
     "output_type": "stream",
     "text": [
      "(10000, 70) (10000, 5) (10000, 24) (1000, 70) (1000, 5) (1000, 24)\n"
     ]
    }
   ],
   "source": [
    "print(Xstrain.shape, Xqtrain.shape, Ytrain.shape, Xstest.shape, Xqtest.shape, Ytest.shape)"
   ]
  },
  {
   "cell_type": "markdown",
   "metadata": {},
   "source": [
    "***\n",
    "#### Step 4. 한국어에서의 모델 정확도 확인해보기\n",
    "***"
   ]
  },
  {
   "cell_type": "code",
   "execution_count": 26,
   "metadata": {},
   "outputs": [],
   "source": [
    "from tensorflow.keras.models import Sequential, Model\n",
    "from tensorflow.keras.layers import Embedding\n",
    "from tensorflow.keras.layers import Permute, dot, add, concatenate\n",
    "from tensorflow.keras.layers import LSTM, Dense, Dropout, Input, Activation\n",
    "import matplotlib.pyplot as plt"
   ]
  },
  {
   "cell_type": "code",
   "execution_count": 27,
   "metadata": {},
   "outputs": [],
   "source": [
    "# 에포크 횟수\n",
    "train_epochs = 120\n",
    "# 배치 크기\n",
    "batch_size = 32\n",
    "# 임베딩 크기\n",
    "embed_size = 50\n",
    "# LSTM의 크기\n",
    "lstm_size = 64\n",
    "# 과적합 방지 기법인 드롭아웃 적용 비율\n",
    "dropout_rate = 0.30"
   ]
  },
  {
   "cell_type": "code",
   "execution_count": 28,
   "metadata": {},
   "outputs": [
    {
     "name": "stdout",
     "output_type": "stream",
     "text": [
      "Stories : Tensor(\"input_1:0\", shape=(None, 70), dtype=float32)\n",
      "Question: Tensor(\"input_2:0\", shape=(None, 5), dtype=float32)\n"
     ]
    }
   ],
   "source": [
    "input_sequence = Input((story_max_len,))\n",
    "question = Input((question_max_len,))\n",
    " \n",
    "print('Stories :', input_sequence)\n",
    "print('Question:', question)"
   ]
  },
  {
   "cell_type": "code",
   "execution_count": 29,
   "metadata": {},
   "outputs": [],
   "source": [
    "# 스토리를 위한 첫 번째 임베딩. 그림에서의 Embedding A\n",
    "input_encoder_m = Sequential()\n",
    "input_encoder_m.add(Embedding(input_dim=vocab_size,\n",
    "                              output_dim=embed_size))\n",
    "input_encoder_m.add(Dropout(dropout_rate))\n",
    "# 결과 : (samples, story_max_len, embed_size) / 샘플의 수, 문장의 최대 길이, 임베딩 벡터의 차원\n",
    " \n",
    "# 스토리를 위한 두 번째 임베딩. 그림에서의 Embedding C\n",
    "# 임베딩 벡터의 차원을 question_max_len(질문의 최대 길이)로 한다.\n",
    "input_encoder_c = Sequential()\n",
    "input_encoder_c.add(Embedding(input_dim=vocab_size,\n",
    "                              output_dim=question_max_len))\n",
    "input_encoder_c.add(Dropout(dropout_rate))\n",
    "# 결과 : (samples, story_max_len, question_max_len) / 샘플의 수, 문장의 최대 길이, 질문의 최대 길이(임베딩 벡터의 차원)"
   ]
  },
  {
   "cell_type": "code",
   "execution_count": 30,
   "metadata": {},
   "outputs": [],
   "source": [
    "# 질문을 위한 임베딩. 그림에서의 Embedding B\n",
    "question_encoder = Sequential()\n",
    "question_encoder.add(Embedding(input_dim=vocab_size,\n",
    "                               output_dim=embed_size,\n",
    "                               input_length=question_max_len))\n",
    "question_encoder.add(Dropout(dropout_rate))\n",
    "# 결과 : (samples, question_max_len, embed_size) / 샘플의 수, 질문의 최대 길이, 임베딩 벡터의 차원"
   ]
  },
  {
   "cell_type": "code",
   "execution_count": 31,
   "metadata": {},
   "outputs": [
    {
     "name": "stdout",
     "output_type": "stream",
     "text": [
      "Input encoded m Tensor(\"sequential/Identity:0\", shape=(None, 70, 50), dtype=float32) \n",
      "\n",
      "Input encoded c Tensor(\"sequential_1/Identity:0\", shape=(None, 70, 5), dtype=float32) \n",
      "\n",
      "Question encoded Tensor(\"sequential_2/Identity:0\", shape=(None, 5, 50), dtype=float32) \n",
      "\n"
     ]
    }
   ],
   "source": [
    "# 실질적인 임베딩 과정\n",
    "input_encoded_m = input_encoder_m(input_sequence)\n",
    "input_encoded_c = input_encoder_c(input_sequence)\n",
    "question_encoded = question_encoder(question)\n",
    "\n",
    "print('Input encoded m', input_encoded_m, '\\n')\n",
    "print('Input encoded c', input_encoded_c, '\\n')\n",
    "print('Question encoded', question_encoded, '\\n')"
   ]
  },
  {
   "cell_type": "code",
   "execution_count": 32,
   "metadata": {},
   "outputs": [
    {
     "name": "stdout",
     "output_type": "stream",
     "text": [
      "Match shape Tensor(\"activation/Identity:0\", shape=(None, 70, 5), dtype=float32)\n"
     ]
    }
   ],
   "source": [
    "# 스토리 단어들과 질문 단어들 간의 유사도를 구하는 과정\n",
    "# 유사도는 내적을 사용한다.\n",
    "match = dot([input_encoded_m, question_encoded], axes=-1, normalize=False)\n",
    "match = Activation('softmax')(match)\n",
    "print('Match shape', match)\n",
    "# 결과 : (samples, story_max_len, question_max_len) / 샘플의 수, 문장의 최대 길이, 질문의 최대 길이"
   ]
  },
  {
   "cell_type": "code",
   "execution_count": 33,
   "metadata": {},
   "outputs": [
    {
     "name": "stdout",
     "output_type": "stream",
     "text": [
      "Response shape Tensor(\"permute/Identity:0\", shape=(None, 5, 70), dtype=float32)\n"
     ]
    }
   ],
   "source": [
    "# 매칭 유사도 행렬과 질문에 대한 임베딩을 더한다.\n",
    "response = add([match, input_encoded_c])  # (samples, story_maxlen, question_max_len)\n",
    "response = Permute((2, 1))(response)  # (samples, question_max_len, story_maxlen)\n",
    "print('Response shape', response)"
   ]
  },
  {
   "cell_type": "code",
   "execution_count": 34,
   "metadata": {},
   "outputs": [
    {
     "name": "stdout",
     "output_type": "stream",
     "text": [
      "Answer shape Tensor(\"concatenate/Identity:0\", shape=(None, 5, 120), dtype=float32)\n"
     ]
    }
   ],
   "source": [
    "# concatenate the response vector with the question vector sequence\n",
    "answer = concatenate([response, question_encoded])\n",
    "print('Answer shape', answer)\n",
    " \n",
    "answer = LSTM(lstm_size)(answer)  # Generate tensors of shape 32\n",
    "answer = Dropout(dropout_rate)(answer)\n",
    "answer = Dense(vocab_size)(answer)  # (samples, vocab_size)\n",
    "# we output a probability distribution over the vocabulary\n",
    "answer = Activation('softmax')(answer)"
   ]
  },
  {
   "cell_type": "code",
   "execution_count": 35,
   "metadata": {},
   "outputs": [
    {
     "name": "stdout",
     "output_type": "stream",
     "text": [
      "Epoch 1/120\n",
      "313/313 [==============================] - 1s 5ms/step - loss: 1.8951 - acc: 0.1719 - val_loss: 1.7760 - val_acc: 0.2330\n",
      "Epoch 2/120\n",
      "313/313 [==============================] - 1s 3ms/step - loss: 1.6989 - acc: 0.2755 - val_loss: 1.5915 - val_acc: 0.3740\n",
      "Epoch 3/120\n",
      "313/313 [==============================] - 1s 3ms/step - loss: 1.5891 - acc: 0.3651 - val_loss: 1.5529 - val_acc: 0.3970\n",
      "Epoch 4/120\n",
      "313/313 [==============================] - 1s 3ms/step - loss: 1.4933 - acc: 0.4324 - val_loss: 1.4086 - val_acc: 0.4670\n",
      "Epoch 5/120\n",
      "313/313 [==============================] - 1s 3ms/step - loss: 1.4317 - acc: 0.4602 - val_loss: 1.3749 - val_acc: 0.4740\n",
      "Epoch 6/120\n",
      "313/313 [==============================] - 1s 3ms/step - loss: 1.4001 - acc: 0.4737 - val_loss: 1.3300 - val_acc: 0.5110\n",
      "Epoch 7/120\n",
      "313/313 [==============================] - 1s 3ms/step - loss: 1.3602 - acc: 0.4837 - val_loss: 1.3180 - val_acc: 0.5050\n",
      "Epoch 8/120\n",
      "313/313 [==============================] - 1s 3ms/step - loss: 1.3236 - acc: 0.4988 - val_loss: 1.2925 - val_acc: 0.4980\n",
      "Epoch 9/120\n",
      "313/313 [==============================] - 1s 3ms/step - loss: 1.2892 - acc: 0.5026 - val_loss: 1.2503 - val_acc: 0.5170\n",
      "Epoch 10/120\n",
      "313/313 [==============================] - 1s 3ms/step - loss: 1.2755 - acc: 0.5073 - val_loss: 1.2599 - val_acc: 0.5240\n",
      "Epoch 11/120\n",
      "313/313 [==============================] - 1s 3ms/step - loss: 1.2619 - acc: 0.5132 - val_loss: 1.2411 - val_acc: 0.5290\n",
      "Epoch 12/120\n",
      "313/313 [==============================] - 1s 3ms/step - loss: 1.2429 - acc: 0.5157 - val_loss: 1.2579 - val_acc: 0.5160\n",
      "Epoch 13/120\n",
      "313/313 [==============================] - 1s 3ms/step - loss: 1.2331 - acc: 0.5118 - val_loss: 1.2497 - val_acc: 0.5120\n",
      "Epoch 14/120\n",
      "313/313 [==============================] - 1s 3ms/step - loss: 1.2139 - acc: 0.5277 - val_loss: 1.2145 - val_acc: 0.5350\n",
      "Epoch 15/120\n",
      "313/313 [==============================] - 1s 3ms/step - loss: 1.1992 - acc: 0.5218 - val_loss: 1.2155 - val_acc: 0.5110\n",
      "Epoch 16/120\n",
      "313/313 [==============================] - 1s 4ms/step - loss: 1.2036 - acc: 0.5164 - val_loss: 1.2278 - val_acc: 0.5220\n",
      "Epoch 17/120\n",
      "313/313 [==============================] - 1s 3ms/step - loss: 1.1814 - acc: 0.5300 - val_loss: 1.2060 - val_acc: 0.5250\n",
      "Epoch 18/120\n",
      "313/313 [==============================] - 1s 3ms/step - loss: 1.1684 - acc: 0.5348 - val_loss: 1.2015 - val_acc: 0.5230\n",
      "Epoch 19/120\n",
      "313/313 [==============================] - 1s 3ms/step - loss: 1.1677 - acc: 0.5305 - val_loss: 1.2039 - val_acc: 0.5280\n",
      "Epoch 20/120\n",
      "313/313 [==============================] - 1s 3ms/step - loss: 1.1583 - acc: 0.5328 - val_loss: 1.1970 - val_acc: 0.5280\n",
      "Epoch 21/120\n",
      "313/313 [==============================] - 1s 3ms/step - loss: 1.1461 - acc: 0.5374 - val_loss: 1.2046 - val_acc: 0.5210\n",
      "Epoch 22/120\n",
      "313/313 [==============================] - 1s 3ms/step - loss: 1.1385 - acc: 0.5348 - val_loss: 1.2104 - val_acc: 0.5260\n",
      "Epoch 23/120\n",
      "313/313 [==============================] - 1s 4ms/step - loss: 1.1251 - acc: 0.5417 - val_loss: 1.2050 - val_acc: 0.5100\n",
      "Epoch 24/120\n",
      "313/313 [==============================] - 1s 3ms/step - loss: 1.1208 - acc: 0.5427 - val_loss: 1.2015 - val_acc: 0.5300\n",
      "Epoch 25/120\n",
      "313/313 [==============================] - 1s 3ms/step - loss: 1.1175 - acc: 0.5480 - val_loss: 1.1936 - val_acc: 0.5180\n",
      "Epoch 26/120\n",
      "313/313 [==============================] - 1s 3ms/step - loss: 1.1110 - acc: 0.5421 - val_loss: 1.1895 - val_acc: 0.5080\n",
      "Epoch 27/120\n",
      "313/313 [==============================] - 1s 3ms/step - loss: 1.1044 - acc: 0.5474 - val_loss: 1.1858 - val_acc: 0.5130\n",
      "Epoch 28/120\n",
      "313/313 [==============================] - 1s 3ms/step - loss: 1.0916 - acc: 0.5481 - val_loss: 1.2033 - val_acc: 0.5180\n",
      "Epoch 29/120\n",
      "313/313 [==============================] - 1s 3ms/step - loss: 1.0879 - acc: 0.5565 - val_loss: 1.1776 - val_acc: 0.5060\n",
      "Epoch 30/120\n",
      "313/313 [==============================] - 1s 3ms/step - loss: 1.0740 - acc: 0.5582 - val_loss: 1.2023 - val_acc: 0.5000\n",
      "Epoch 31/120\n",
      "313/313 [==============================] - 1s 4ms/step - loss: 1.0661 - acc: 0.5607 - val_loss: 1.2010 - val_acc: 0.5050\n",
      "Epoch 32/120\n",
      "313/313 [==============================] - 1s 3ms/step - loss: 1.0700 - acc: 0.5580 - val_loss: 1.2001 - val_acc: 0.5060\n",
      "Epoch 33/120\n",
      "313/313 [==============================] - 1s 3ms/step - loss: 1.0471 - acc: 0.5688 - val_loss: 1.2200 - val_acc: 0.4970\n",
      "Epoch 34/120\n",
      "313/313 [==============================] - 1s 3ms/step - loss: 1.0521 - acc: 0.5602 - val_loss: 1.2363 - val_acc: 0.4880\n",
      "Epoch 35/120\n",
      "313/313 [==============================] - 1s 3ms/step - loss: 1.0471 - acc: 0.5661 - val_loss: 1.2102 - val_acc: 0.5010\n",
      "Epoch 36/120\n",
      "313/313 [==============================] - 1s 3ms/step - loss: 1.0321 - acc: 0.5698 - val_loss: 1.1952 - val_acc: 0.4920\n",
      "Epoch 37/120\n",
      "313/313 [==============================] - 1s 3ms/step - loss: 1.0185 - acc: 0.5743 - val_loss: 1.2076 - val_acc: 0.5040\n",
      "Epoch 38/120\n",
      "313/313 [==============================] - 1s 3ms/step - loss: 1.0087 - acc: 0.5856 - val_loss: 1.2323 - val_acc: 0.5000\n",
      "Epoch 39/120\n",
      "313/313 [==============================] - 1s 3ms/step - loss: 0.9891 - acc: 0.5897 - val_loss: 1.1964 - val_acc: 0.5020\n",
      "Epoch 40/120\n",
      "313/313 [==============================] - 1s 3ms/step - loss: 0.9654 - acc: 0.6079 - val_loss: 1.1378 - val_acc: 0.5640\n",
      "Epoch 41/120\n",
      "313/313 [==============================] - 1s 3ms/step - loss: 0.8770 - acc: 0.6614 - val_loss: 0.9645 - val_acc: 0.6620\n",
      "Epoch 42/120\n",
      "313/313 [==============================] - 1s 3ms/step - loss: 0.7336 - acc: 0.7385 - val_loss: 0.7729 - val_acc: 0.7470\n",
      "Epoch 43/120\n",
      "313/313 [==============================] - 1s 3ms/step - loss: 0.6336 - acc: 0.7743 - val_loss: 0.6774 - val_acc: 0.7550\n",
      "Epoch 44/120\n",
      "313/313 [==============================] - 1s 3ms/step - loss: 0.5622 - acc: 0.7967 - val_loss: 0.6308 - val_acc: 0.7700\n",
      "Epoch 45/120\n",
      "313/313 [==============================] - 1s 3ms/step - loss: 0.5023 - acc: 0.8209 - val_loss: 0.5238 - val_acc: 0.7950\n",
      "Epoch 46/120\n",
      "313/313 [==============================] - 1s 3ms/step - loss: 0.4558 - acc: 0.8363 - val_loss: 0.4749 - val_acc: 0.8150\n",
      "Epoch 47/120\n",
      "313/313 [==============================] - 1s 3ms/step - loss: 0.4075 - acc: 0.8522 - val_loss: 0.4533 - val_acc: 0.8300\n",
      "Epoch 48/120\n",
      "313/313 [==============================] - 1s 3ms/step - loss: 0.3855 - acc: 0.8607 - val_loss: 0.4162 - val_acc: 0.8450\n",
      "Epoch 49/120\n",
      "313/313 [==============================] - 1s 3ms/step - loss: 0.3637 - acc: 0.8696 - val_loss: 0.4248 - val_acc: 0.8450\n",
      "Epoch 50/120\n",
      "313/313 [==============================] - 1s 3ms/step - loss: 0.3266 - acc: 0.8794 - val_loss: 0.3877 - val_acc: 0.8580\n",
      "Epoch 51/120\n",
      "313/313 [==============================] - 1s 3ms/step - loss: 0.3098 - acc: 0.8857 - val_loss: 0.3801 - val_acc: 0.8520\n",
      "Epoch 52/120\n",
      "313/313 [==============================] - 1s 3ms/step - loss: 0.3073 - acc: 0.8900 - val_loss: 0.4576 - val_acc: 0.8450\n",
      "Epoch 53/120\n",
      "313/313 [==============================] - 1s 3ms/step - loss: 0.2852 - acc: 0.8959 - val_loss: 0.3607 - val_acc: 0.8630\n",
      "Epoch 54/120\n",
      "313/313 [==============================] - 1s 3ms/step - loss: 0.2701 - acc: 0.9002 - val_loss: 0.3383 - val_acc: 0.8820\n",
      "Epoch 55/120\n",
      "313/313 [==============================] - 1s 3ms/step - loss: 0.2652 - acc: 0.9050 - val_loss: 0.3346 - val_acc: 0.8730\n",
      "Epoch 56/120\n",
      "313/313 [==============================] - 1s 3ms/step - loss: 0.2459 - acc: 0.9110 - val_loss: 0.3508 - val_acc: 0.8770\n",
      "Epoch 57/120\n",
      "313/313 [==============================] - 1s 3ms/step - loss: 0.2273 - acc: 0.9162 - val_loss: 0.3258 - val_acc: 0.8890\n",
      "Epoch 58/120\n",
      "313/313 [==============================] - 1s 3ms/step - loss: 0.2123 - acc: 0.9216 - val_loss: 0.3181 - val_acc: 0.8910\n",
      "Epoch 59/120\n",
      "313/313 [==============================] - 1s 3ms/step - loss: 0.1985 - acc: 0.9301 - val_loss: 0.2991 - val_acc: 0.8960\n",
      "Epoch 60/120\n",
      "313/313 [==============================] - 1s 3ms/step - loss: 0.1882 - acc: 0.9323 - val_loss: 0.2778 - val_acc: 0.9040\n",
      "Epoch 61/120\n",
      "313/313 [==============================] - 1s 3ms/step - loss: 0.1793 - acc: 0.9381 - val_loss: 0.2740 - val_acc: 0.9100\n",
      "Epoch 62/120\n"
     ]
    },
    {
     "name": "stdout",
     "output_type": "stream",
     "text": [
      "313/313 [==============================] - 1s 3ms/step - loss: 0.1718 - acc: 0.9410 - val_loss: 0.2609 - val_acc: 0.9100\n",
      "Epoch 63/120\n",
      "313/313 [==============================] - 1s 3ms/step - loss: 0.1563 - acc: 0.9456 - val_loss: 0.2446 - val_acc: 0.9230\n",
      "Epoch 64/120\n",
      "313/313 [==============================] - 1s 3ms/step - loss: 0.1481 - acc: 0.9469 - val_loss: 0.2551 - val_acc: 0.9220\n",
      "Epoch 65/120\n",
      "313/313 [==============================] - 1s 3ms/step - loss: 0.1387 - acc: 0.9541 - val_loss: 0.2417 - val_acc: 0.9190\n",
      "Epoch 66/120\n",
      "313/313 [==============================] - 1s 3ms/step - loss: 0.1331 - acc: 0.9549 - val_loss: 0.2496 - val_acc: 0.9160\n",
      "Epoch 67/120\n",
      "313/313 [==============================] - 1s 3ms/step - loss: 0.1296 - acc: 0.9556 - val_loss: 0.2304 - val_acc: 0.9300\n",
      "Epoch 68/120\n",
      "313/313 [==============================] - 1s 3ms/step - loss: 0.1228 - acc: 0.9572 - val_loss: 0.2603 - val_acc: 0.9220\n",
      "Epoch 69/120\n",
      "313/313 [==============================] - 1s 3ms/step - loss: 0.1150 - acc: 0.9598 - val_loss: 0.2586 - val_acc: 0.9280\n",
      "Epoch 70/120\n",
      "313/313 [==============================] - 1s 3ms/step - loss: 0.1095 - acc: 0.9608 - val_loss: 0.2403 - val_acc: 0.9240\n",
      "Epoch 71/120\n",
      "313/313 [==============================] - 1s 4ms/step - loss: 0.1034 - acc: 0.9637 - val_loss: 0.2280 - val_acc: 0.9350\n",
      "Epoch 72/120\n",
      "313/313 [==============================] - 1s 3ms/step - loss: 0.1013 - acc: 0.9664 - val_loss: 0.2540 - val_acc: 0.9260\n",
      "Epoch 73/120\n",
      "313/313 [==============================] - 1s 3ms/step - loss: 0.0961 - acc: 0.9677 - val_loss: 0.2343 - val_acc: 0.9320\n",
      "Epoch 74/120\n",
      "313/313 [==============================] - 1s 3ms/step - loss: 0.0879 - acc: 0.9694 - val_loss: 0.2075 - val_acc: 0.9370\n",
      "Epoch 75/120\n",
      "313/313 [==============================] - 1s 4ms/step - loss: 0.0895 - acc: 0.9698 - val_loss: 0.2006 - val_acc: 0.9330\n",
      "Epoch 76/120\n",
      "313/313 [==============================] - 1s 3ms/step - loss: 0.0822 - acc: 0.9717 - val_loss: 0.2508 - val_acc: 0.9290\n",
      "Epoch 77/120\n",
      "313/313 [==============================] - 1s 3ms/step - loss: 0.0836 - acc: 0.9736 - val_loss: 0.2384 - val_acc: 0.9300\n",
      "Epoch 78/120\n",
      "313/313 [==============================] - 1s 3ms/step - loss: 0.0729 - acc: 0.9754 - val_loss: 0.2489 - val_acc: 0.9320\n",
      "Epoch 79/120\n",
      "313/313 [==============================] - 1s 3ms/step - loss: 0.0758 - acc: 0.9726 - val_loss: 0.2527 - val_acc: 0.9340\n",
      "Epoch 80/120\n",
      "313/313 [==============================] - 1s 3ms/step - loss: 0.0721 - acc: 0.9747 - val_loss: 0.2300 - val_acc: 0.9370\n",
      "Epoch 81/120\n",
      "313/313 [==============================] - 1s 3ms/step - loss: 0.0683 - acc: 0.9767 - val_loss: 0.2589 - val_acc: 0.9270\n",
      "Epoch 82/120\n",
      "313/313 [==============================] - 1s 3ms/step - loss: 0.0672 - acc: 0.9764 - val_loss: 0.2346 - val_acc: 0.9380\n",
      "Epoch 83/120\n",
      "313/313 [==============================] - 1s 3ms/step - loss: 0.0628 - acc: 0.9790 - val_loss: 0.2564 - val_acc: 0.9370\n",
      "Epoch 84/120\n",
      "313/313 [==============================] - 1s 3ms/step - loss: 0.0628 - acc: 0.9795 - val_loss: 0.2510 - val_acc: 0.9370\n",
      "Epoch 85/120\n",
      "313/313 [==============================] - 1s 3ms/step - loss: 0.0562 - acc: 0.9814 - val_loss: 0.2743 - val_acc: 0.9370\n",
      "Epoch 86/120\n",
      "313/313 [==============================] - 1s 4ms/step - loss: 0.0554 - acc: 0.9808 - val_loss: 0.2403 - val_acc: 0.9360\n",
      "Epoch 87/120\n",
      "313/313 [==============================] - 1s 3ms/step - loss: 0.0528 - acc: 0.9836 - val_loss: 0.2490 - val_acc: 0.9370\n",
      "Epoch 88/120\n",
      "313/313 [==============================] - 1s 3ms/step - loss: 0.0550 - acc: 0.9815 - val_loss: 0.2871 - val_acc: 0.9330\n",
      "Epoch 89/120\n",
      "313/313 [==============================] - 1s 3ms/step - loss: 0.0509 - acc: 0.9832 - val_loss: 0.2801 - val_acc: 0.9380\n",
      "Epoch 90/120\n",
      "313/313 [==============================] - 1s 4ms/step - loss: 0.0511 - acc: 0.9827 - val_loss: 0.2649 - val_acc: 0.9380\n",
      "Epoch 91/120\n",
      "313/313 [==============================] - 1s 4ms/step - loss: 0.0472 - acc: 0.9841 - val_loss: 0.2853 - val_acc: 0.9370\n",
      "Epoch 92/120\n",
      "313/313 [==============================] - 1s 3ms/step - loss: 0.0444 - acc: 0.9853 - val_loss: 0.2540 - val_acc: 0.9420\n",
      "Epoch 93/120\n",
      "313/313 [==============================] - 1s 4ms/step - loss: 0.0485 - acc: 0.9861 - val_loss: 0.2238 - val_acc: 0.9420\n",
      "Epoch 94/120\n",
      "313/313 [==============================] - 1s 3ms/step - loss: 0.0526 - acc: 0.9832 - val_loss: 0.2397 - val_acc: 0.9420\n",
      "Epoch 95/120\n",
      "313/313 [==============================] - 1s 3ms/step - loss: 0.0485 - acc: 0.9858 - val_loss: 0.2481 - val_acc: 0.9460\n",
      "Epoch 96/120\n",
      "313/313 [==============================] - 1s 3ms/step - loss: 0.0423 - acc: 0.9859 - val_loss: 0.2771 - val_acc: 0.9400\n",
      "Epoch 97/120\n",
      "313/313 [==============================] - 1s 4ms/step - loss: 0.0389 - acc: 0.9872 - val_loss: 0.2981 - val_acc: 0.9360\n",
      "Epoch 98/120\n",
      "313/313 [==============================] - 1s 3ms/step - loss: 0.0431 - acc: 0.9858 - val_loss: 0.2847 - val_acc: 0.9370\n",
      "Epoch 99/120\n",
      "313/313 [==============================] - 1s 3ms/step - loss: 0.0339 - acc: 0.9892 - val_loss: 0.2844 - val_acc: 0.9380\n",
      "Epoch 100/120\n",
      "313/313 [==============================] - 1s 3ms/step - loss: 0.0327 - acc: 0.9894 - val_loss: 0.2208 - val_acc: 0.9450\n",
      "Epoch 101/120\n",
      "313/313 [==============================] - 1s 3ms/step - loss: 0.0354 - acc: 0.9888 - val_loss: 0.2410 - val_acc: 0.9460\n",
      "Epoch 102/120\n",
      "313/313 [==============================] - 1s 3ms/step - loss: 0.0313 - acc: 0.9911 - val_loss: 0.1970 - val_acc: 0.9500\n",
      "Epoch 103/120\n",
      "313/313 [==============================] - 1s 3ms/step - loss: 0.0381 - acc: 0.9890 - val_loss: 0.2640 - val_acc: 0.9460\n",
      "Epoch 104/120\n",
      "313/313 [==============================] - 1s 3ms/step - loss: 0.0361 - acc: 0.9898 - val_loss: 0.2879 - val_acc: 0.9380\n",
      "Epoch 105/120\n",
      "313/313 [==============================] - 1s 3ms/step - loss: 0.0294 - acc: 0.9912 - val_loss: 0.2340 - val_acc: 0.9410\n",
      "Epoch 106/120\n",
      "313/313 [==============================] - 1s 4ms/step - loss: 0.0300 - acc: 0.9905 - val_loss: 0.2359 - val_acc: 0.9450\n",
      "Epoch 107/120\n",
      "313/313 [==============================] - 1s 3ms/step - loss: 0.0324 - acc: 0.9900 - val_loss: 0.2058 - val_acc: 0.9520\n",
      "Epoch 108/120\n",
      "313/313 [==============================] - 1s 4ms/step - loss: 0.0340 - acc: 0.9906 - val_loss: 0.2115 - val_acc: 0.9500\n",
      "Epoch 109/120\n",
      "313/313 [==============================] - 1s 3ms/step - loss: 0.0270 - acc: 0.9899 - val_loss: 0.2254 - val_acc: 0.9530\n",
      "Epoch 110/120\n",
      "313/313 [==============================] - 1s 3ms/step - loss: 0.0232 - acc: 0.9934 - val_loss: 0.2716 - val_acc: 0.9460\n",
      "Epoch 111/120\n",
      "313/313 [==============================] - 1s 3ms/step - loss: 0.0319 - acc: 0.9921 - val_loss: 0.2629 - val_acc: 0.9470\n",
      "Epoch 112/120\n",
      "313/313 [==============================] - 1s 3ms/step - loss: 0.0236 - acc: 0.9936 - val_loss: 0.3006 - val_acc: 0.9430\n",
      "Epoch 113/120\n",
      "313/313 [==============================] - 1s 3ms/step - loss: 0.0275 - acc: 0.9904 - val_loss: 0.2801 - val_acc: 0.9480\n",
      "Epoch 114/120\n",
      "313/313 [==============================] - 1s 3ms/step - loss: 0.0222 - acc: 0.9921 - val_loss: 0.2657 - val_acc: 0.9500\n",
      "Epoch 115/120\n",
      "313/313 [==============================] - 1s 3ms/step - loss: 0.0270 - acc: 0.9914 - val_loss: 0.2432 - val_acc: 0.9440\n",
      "Epoch 116/120\n",
      "313/313 [==============================] - 1s 3ms/step - loss: 0.0245 - acc: 0.9921 - val_loss: 0.2627 - val_acc: 0.9500\n",
      "Epoch 117/120\n",
      "313/313 [==============================] - 1s 3ms/step - loss: 0.0342 - acc: 0.9909 - val_loss: 0.2862 - val_acc: 0.9480\n",
      "Epoch 118/120\n",
      "313/313 [==============================] - 1s 3ms/step - loss: 0.0255 - acc: 0.9916 - val_loss: 0.3013 - val_acc: 0.9430\n",
      "Epoch 119/120\n",
      "313/313 [==============================] - 1s 3ms/step - loss: 0.0252 - acc: 0.9924 - val_loss: 0.2726 - val_acc: 0.9410\n",
      "Epoch 120/120\n",
      "313/313 [==============================] - 1s 3ms/step - loss: 0.0218 - acc: 0.9924 - val_loss: 0.2677 - val_acc: 0.9540\n"
     ]
    }
   ],
   "source": [
    "import os\n",
    "\n",
    "# 모델 컴파일\n",
    "model = Model([input_sequence, question], answer)\n",
    "model.compile(optimizer='rmsprop', loss='categorical_crossentropy',\n",
    "              metrics=['acc'])\n",
    " \n",
    "# 테스트 데이터를 검증 데이터로 사용하면서 모델 훈련 시작\n",
    "history = model.fit([Xstrain, Xqtrain],\n",
    "         Ytrain, batch_size, train_epochs,\n",
    "         validation_data=([Xstest, Xqtest], Ytest))\n",
    " \n",
    "# 훈련 후에는 모델 저장\n",
    "model_path = os.getenv('HOME')+'/aiffel/babi_memory_net/model.h5'\n",
    "model.save(model_path)"
   ]
  },
  {
   "cell_type": "code",
   "execution_count": 36,
   "metadata": {},
   "outputs": [
    {
     "name": "stdout",
     "output_type": "stream",
     "text": [
      "32/32 [==============================] - 0s 2ms/step - loss: 0.2677 - acc: 0.9540\n",
      "\n",
      " 테스트 정확도: 0.9540\n"
     ]
    }
   ],
   "source": [
    "print(\"\\n 테스트 정확도: %.4f\" % (model.evaluate([Xstest, Xqtest], Ytest)[1]))"
   ]
  },
  {
   "cell_type": "code",
   "execution_count": 37,
   "metadata": {},
   "outputs": [
    {
     "data": {
      "image/png": "[encoded data removed]",
      "text/plain": [
       "<Figure size 432x288 with 2 Axes>"
      ]
     },
     "metadata": {
      "needs_background": "light"
     },
     "output_type": "display_data"
    }
   ],
   "source": [
    "# plot accuracy and loss plot\n",
    "plt.subplot(211)\n",
    "plt.title(\"Accuracy\")\n",
    "plt.plot(history.history[\"acc\"], color=\"g\", label=\"train\")\n",
    "plt.plot(history.history[\"val_acc\"], color=\"b\", label=\"validation\")\n",
    "plt.legend(loc=\"best\")\n",
    "\n",
    "plt.subplot(212)\n",
    "plt.title(\"Loss\")\n",
    "plt.plot(history.history[\"loss\"], color=\"g\", label=\"train\")\n",
    "plt.plot(history.history[\"val_loss\"], color=\"b\", label=\"validation\")\n",
    "plt.legend(loc=\"best\")\n",
    "\n",
    "plt.tight_layout()\n",
    "plt.show()\n",
    "\n",
    "# labels\n",
    "ytest = np.argmax(Ytest, axis=1)\n",
    "\n",
    "# get predictions\n",
    "Ytest_ = model.predict([Xstest, Xqtest])\n",
    "ytest_ = np.argmax(Ytest_, axis=1)"
   ]
  },
  {
   "cell_type": "code",
   "execution_count": 38,
   "metadata": {},
   "outputs": [
    {
     "name": "stdout",
     "output_type": "stream",
     "text": [
      "질문                  |실제값    |예측값\n",
      "---------------------------------------\n",
      "은경이 는 어디 야 ?        : 복도       복도\n",
      "필웅이 는 어디 야 ?        : 화장실      화장실\n",
      "경임이 는 어디 야 ?        : 부엌       부엌\n",
      "경임이 는 어디 야 ?        : 복도       복도\n",
      "경임이 는 어디 야 ?        : 부엌       부엌\n",
      "경임이 는 어디 야 ?        : 복도       복도\n",
      "경임이 는 어디 야 ?        : 정원       정원\n",
      "수종이 는 어디 야 ?        : 복도       복도\n",
      "경임이 는 어디 야 ?        : 사무실      사무실\n",
      "수종이 는 어디 야 ?        : 사무실      복도\n",
      "필웅이 는 어디 야 ?        : 부엌       부엌\n",
      "필웅이 는 어디 야 ?        : 정원       정원\n",
      "수종이 는 어디 야 ?        : 사무실      사무실\n",
      "필웅이 는 어디 야 ?        : 침실       침실\n",
      "필웅이 는 어디 야 ?        : 침실       침실\n",
      "은경이 는 어디 야 ?        : 부엌       부엌\n",
      "은경이 는 어디 야 ?        : 정원       정원\n",
      "은경이 는 어디 야 ?        : 부엌       부엌\n",
      "수종이 는 어디 야 ?        : 사무실      사무실\n",
      "은경이 는 어디 야 ?        : 부엌       부엌\n",
      "필웅이 는 어디 야 ?        : 복도       복도\n",
      "은경이 는 어디 야 ?        : 사무실      사무실\n",
      "은경이 는 어디 야 ?        : 사무실      사무실\n",
      "경임이 는 어디 야 ?        : 복도       복도\n",
      "수종이 는 어디 야 ?        : 침실       침실\n",
      "경임이 는 어디 야 ?        : 침실       침실\n",
      "필웅이 는 어디 야 ?        : 침실       침실\n",
      "수종이 는 어디 야 ?        : 부엌       부엌\n",
      "수종이 는 어디 야 ?        : 부엌       부엌\n",
      "수종이 는 어디 야 ?        : 부엌       부엌\n"
     ]
    }
   ],
   "source": [
    "NUM_DISPLAY = 30\n",
    "\n",
    "print(\"{:20}|{:7}|{}\".format(\"질문\", \"실제값\", \"예측값\"))\n",
    "print(39 * \"-\")\n",
    "\n",
    "for i in range(NUM_DISPLAY):\n",
    "    question = \" \".join([idx2word[x] for x in Xqtest[i].tolist()])\n",
    "    label = idx2word[ytest[i]]\n",
    "    prediction = idx2word[ytest_[i]]\n",
    "    print(\"{:20}: {:8} {}\".format(question, label, prediction))"
   ]
  },
  {
   "cell_type": "markdown",
   "metadata": {},
   "source": [
    "#### 회고록  \n",
    "적절한 전처리를 통해 답변을 완성하고 이를 메모리 네트워크를 통해 학습시킨 결과가 놀라웠다.  \n",
    "챗봇에도 이러한 전처리를 거치고 메모리 네트워크를 적용하면 충분히 활용할만하다고 생각했다."
   ]
  },
  {
   "cell_type": "code",
   "execution_count": null,
   "metadata": {},
   "outputs": [],
   "source": []
  }
 ],
 "metadata": {
  "kernelspec": {
   "display_name": "Python 3",
   "language": "python",
   "name": "python3"
  },
  "language_info": {
   "codemirror_mode": {
    "name": "ipython",
    "version": 3
   },
   "file_extension": ".py",
   "mimetype": "text/x-python",
   "name": "python",
   "nbconvert_exporter": "python",
   "pygments_lexer": "ipython3",
   "version": "3.7.7"
  }
 },
 "nbformat": 4,
 "nbformat_minor": 4
}
