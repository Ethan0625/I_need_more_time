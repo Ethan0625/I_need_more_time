{
 "cells": [
  {
   "cell_type": "markdown",
   "metadata": {},
   "source": [
    "# Spectrogram classification 모델 구현\n",
    "> **2차원 Spectrogram 데이터를 입력받아 위 모델과 동일한 역할을 수행하는 모델을 만들어보기.**\n",
    "***\n",
    "> **1. 데이터 처리와 분류**\n",
    "> - **라벨 데이터 처리하기**\n",
    "> - **sklearn의 train_test_split함수를 이용하여 train, test 분리**  \n",
    ">  \n",
    "> **2. 학습을 위한 하이퍼파라미터 설정**  \n",
    ">  \n",
    "> **3. 데이터셋 구성**  \n",
    "> - **tf.data.Dataset을 이용**\n",
    "> - **from_tensor_slices 함수에 return 받길 원하는 데이터를 튜플 (data, label) 형태로 넣어서 사용**  \n",
    "> - **map과 batch를 이용한 데이터 전처리**  \n",
    "> - **주의 : waveform을 spectrogram으로 변환하기 위해 추가로 사용하는 \n",
    "> 메모리 때문에 이후 메모리 부족 현상을 겪게 될수도 있습니다.**  \n",
    "> - **tf.data.Dataset이 생성된 이후, 아래 예시와 같이 wav 데이터나 \n",
    "> spectrogram 데이터를 담아둔 메모리 버퍼를 비워 주면 도움이 됩니다.**\n",
    ">  \n",
    "> **4. 2차원 Spectrogram 데이터를 처리하는 모델 구성**\n",
    "> - **2차원 Spectrogram 데이터의 시간축 방향으로 Conv1D layer를 적용, 혹은 Conv2D layer를 적용 가능**  \n",
    "> - **batchnorm, dropout, dense layer 등을 이용**\n",
    "> - **12개의 단어 class를 구분하는 loss를 사용하고 Adam optimizer를 사용**\n",
    "> - **모델 가중치를 저장하는 checkpoint callback 함수 추가**  \n",
    "> - **다양한 모델의 실험을 진행해 보시기 바랍니다.**\n",
    ">  \n",
    "> **5. 학습 후, 학습이 어떻게 진행됐는지 그래프로 출력**\n",
    "> - **loss, accuracy를 그래프로 표현**\n",
    ">  \n",
    "> **6. Test dataset을 이용해서 모델의 성능을 평가**\n",
    "> - **저장한 weight 불러오기**\n",
    "> - **모델의 예측값과 정답값이 얼마나 일치하는지 확인**\n"
   ]
  },
  {
   "cell_type": "code",
   "execution_count": 8,
   "metadata": {},
   "outputs": [],
   "source": [
    "# 1. 데이터 처리와 분류\n",
    "# 1.1 데이터 셋 가져오기(waveform형태의 데이터)\n",
    "import numpy as np\n",
    "import os\n",
    "data_path = os.getenv(\"HOME\")+'/aiffel/speech_recognition/data/speech_wav_8000.npz'\n",
    "speech_data = np.load(data_path)"
   ]
  },
  {
   "cell_type": "code",
   "execution_count": 42,
   "metadata": {},
   "outputs": [
    {
     "name": "stdout",
     "output_type": "stream",
     "text": [
      "rand num :  33808\n",
      "Wave data shape :  (8000,)\n",
      "label :  ['on']\n",
      "나온다\n",
      "[[-1.27418665e-04 -1.12644804e-04 -1.86756923e-04 ... -1.62762426e-05\n",
      "  -4.93293861e-04 -3.55132594e-04]\n",
      " [-3.06998868e-03 -4.10807552e-03 -3.31036211e-03 ... -4.67803935e-03\n",
      "  -4.21488844e-03 -6.10053446e-03]\n",
      " [ 1.59116389e-04  1.11387717e-03 -1.25855627e-03 ... -9.50679742e-03\n",
      "   1.47810066e-02  3.41885872e-02]\n",
      " ...\n",
      " [-7.13879392e-02  1.11577094e-01 -3.49124521e-01 ...  1.27255514e-01\n",
      "  -2.06745356e-01  2.13672481e-02]\n",
      " [ 2.80666262e-01  1.76843733e-01 -8.22633058e-02 ...  4.30828370e-02\n",
      "   8.51763189e-02 -1.32893130e-01]\n",
      " [-5.42262085e-02  1.66265428e-01  3.59905154e-01 ... -3.49392533e-01\n",
      "   2.62163337e-02  2.09347770e-01]]\n"
     ]
    },
    {
     "data": {
      "text/html": [
       "\n",
       "                <audio  controls=\"controls\" >\n",
       "                    <source src=\"data:audio/wav;base64,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\" type=\"audio/wav\" />\n",
       "                    Your browser does not support the audio element.\n",
       "                </audio>\n",
       "              "
      ],
      "text/plain": [
       "<IPython.lib.display.Audio object>"
      ]
     },
     "execution_count": 42,
     "metadata": {},
     "output_type": "execute_result"
    }
   ],
   "source": [
    "# 1.2 데이터 확인\n",
    "import IPython.display as ipd\n",
    "import random\n",
    "\n",
    "# 데이터 선택 (랜덤하게 선택하고 있으니, 여러번 실행해 보기)\n",
    "rand = random.randint(0, len(speech_data[\"wav_vals\"]))\n",
    "print(\"rand num : \", rand)\n",
    "\n",
    "sr = 8000 # 1초동안 재생되는 샘플의 갯수\n",
    "data = speech_data[\"wav_vals\"][rand]\n",
    "print(\"Wave data shape : \", data.shape)\n",
    "print(\"label : \", speech_data[\"label_vals\"][rand])\n",
    "\n",
    "ipd.Audio(data, rate=sr)"
   ]
  },
  {
   "cell_type": "code",
   "execution_count": 37,
   "metadata": {},
   "outputs": [
    {
     "name": "stdout",
     "output_type": "stream",
     "text": [
      "LABEL :  ['yes', 'no', 'up', 'down', 'left', 'right', 'on', 'off', 'stop', 'go', 'unknown', 'silence']\n",
      "Indexed LABEL :  {'yes': 0, 'no': 1, 'up': 2, 'down': 3, 'left': 4, 'right': 5, 'on': 6, 'off': 7, 'stop': 8, 'go': 9, 'unknown': 10, 'silence': 11}\n"
     ]
    }
   ],
   "source": [
    "# 라벨처리\n",
    "target_list = ['yes', 'no', 'up', 'down', 'left', 'right', 'on', 'off', 'stop', 'go']\n",
    "\n",
    "label_value = target_list\n",
    "label_value.append('unknown')\n",
    "label_value.append('silence')\n",
    "\n",
    "print('LABEL : ', label_value)\n",
    "\n",
    "new_label_value = dict()\n",
    "for i, l in enumerate(label_value):\n",
    "    new_label_value[l] = i\n",
    "label_value = new_label_value\n",
    "\n",
    "print('Indexed LABEL : ', new_label_value)"
   ]
  },
  {
   "cell_type": "code",
   "execution_count": 1,
   "metadata": {},
   "outputs": [],
   "source": [
    "import librosa\n",
    "\n",
    "def wav2spec(wav, fft_size=258): # spectrogram shape을 맞추기위해서 size 변형\n",
    "    D = np.abs(librosa.stft(wav, n_fft=fft_size))\n",
    "    return D"
   ]
  },
  {
   "cell_type": "code",
   "execution_count": 45,
   "metadata": {},
   "outputs": [
    {
     "name": "stdout",
     "output_type": "stream",
     "text": [
      "Waveform shape :  (8000,)\n",
      "Spectrogram shape :  (130, 126)\n"
     ]
    }
   ],
   "source": [
    "# 위에서 뽑았던 sample data를 spectrogram으로 변경\n",
    "spec = wav2spec(data)\n",
    "print(\"Waveform shape : \",data.shape)\n",
    "print(\"Spectrogram shape : \",spec.shape)"
   ]
  },
  {
   "cell_type": "code",
   "execution_count": 40,
   "metadata": {},
   "outputs": [
    {
     "name": "stdout",
     "output_type": "stream",
     "text": [
      "[[-5.5711297e-04 -7.7047281e-04 -5.1892240e-04 ... -1.5258178e-03\n",
      "  -1.5083402e-03 -1.3132961e-03]\n",
      " [ 1.0443663e-05  1.4051682e-05  2.9038580e-05 ...  3.1192670e-07\n",
      "  -2.4640449e-05 -7.2985960e-05]\n",
      " [-9.7145425e-04 -6.6215120e-04  3.7479235e-04 ...  2.7470032e-03\n",
      "   2.7592566e-03  2.2672398e-03]\n",
      " ...\n",
      " [ 3.3109358e-03  4.7446517e-03  7.6106415e-05 ...  2.6764479e-03\n",
      "   2.1537682e-03 -1.8746440e-03]\n",
      " [ 6.0911132e-03  1.0702068e-02  7.2187753e-03 ... -3.5751252e-03\n",
      "   6.4412719e-03  6.7144413e-03]\n",
      " [ 3.7578691e-03  5.8623916e-03  1.2093403e-03 ...  1.0265530e-03\n",
      "   2.2018794e-06 -3.3511594e-03]]\n"
     ]
    }
   ],
   "source": [
    "# 학습을 위한 데이터 분리\n",
    "from sklearn.model_selection import train_test_split\n",
    "\n",
    "sr = 8000 # 1초동안 재생되는 샘플의 갯수\n",
    "train_wav, test_wav, train_label, test_label = train_test_split(speech_data[\"wav_vals\"], \n",
    "                                                                label_data, \n",
    "                                                                test_size=0.1,\n",
    "                                                                shuffle=True)\n",
    "print(train_wav)\n",
    "\n",
    "train_wav = train_wav.reshape([-1, sr, 1]) # add channel for CNN\n",
    "test_wav = test_wav.reshape([-1, sr, 1])"
   ]
  },
  {
   "cell_type": "code",
   "execution_count": null,
   "metadata": {},
   "outputs": [],
   "source": [
    "# 2. 학습을 위한 하이퍼파라미터 설정\n",
    "batch_size = 32\n",
    "max_epochs = 10\n",
    "\n",
    "# the save point\n",
    "checkpoint_dir = os.getenv('HOME')+'/aiffel/speech_recognition/models/spec'\n",
    "\n",
    "checkpoint_dir"
   ]
  },
  {
   "cell_type": "code",
   "execution_count": 39,
   "metadata": {},
   "outputs": [
    {
     "ename": "NameError",
     "evalue": "name 'train_wav' is not defined",
     "output_type": "error",
     "traceback": [
      "\u001b[0;31m---------------------------------------------------------------------------\u001b[0m",
      "\u001b[0;31mNameError\u001b[0m                                 Traceback (most recent call last)",
      "\u001b[0;32m<ipython-input-39-ee702ca47165>\u001b[0m in \u001b[0;36m<module>\u001b[0;34m\u001b[0m\n\u001b[1;32m     18\u001b[0m \u001b[0;34m\u001b[0m\u001b[0m\n\u001b[1;32m     19\u001b[0m \u001b[0;31m# for train\u001b[0m\u001b[0;34m\u001b[0m\u001b[0;34m\u001b[0m\u001b[0;34m\u001b[0m\u001b[0m\n\u001b[0;32m---> 20\u001b[0;31m \u001b[0mtrain_dataset\u001b[0m \u001b[0;34m=\u001b[0m \u001b[0mtf\u001b[0m\u001b[0;34m.\u001b[0m\u001b[0mdata\u001b[0m\u001b[0;34m.\u001b[0m\u001b[0mDataset\u001b[0m\u001b[0;34m.\u001b[0m\u001b[0mfrom_tensor_slices\u001b[0m\u001b[0;34m(\u001b[0m\u001b[0;34m(\u001b[0m\u001b[0mtrain_wav\u001b[0m\u001b[0;34m,\u001b[0m \u001b[0mtrain_label\u001b[0m\u001b[0;34m)\u001b[0m\u001b[0;34m)\u001b[0m\u001b[0;34m\u001b[0m\u001b[0;34m\u001b[0m\u001b[0m\n\u001b[0m\u001b[1;32m     21\u001b[0m \u001b[0mtrain_dataset\u001b[0m \u001b[0;34m=\u001b[0m \u001b[0mtrain_dataset\u001b[0m\u001b[0;34m.\u001b[0m\u001b[0mmap\u001b[0m\u001b[0;34m(\u001b[0m\u001b[0mone_hot_label\u001b[0m\u001b[0;34m)\u001b[0m\u001b[0;34m\u001b[0m\u001b[0;34m\u001b[0m\u001b[0m\n\u001b[1;32m     22\u001b[0m \u001b[0mtrain_dataset\u001b[0m \u001b[0;34m=\u001b[0m \u001b[0mtrain_dataset\u001b[0m\u001b[0;34m.\u001b[0m\u001b[0mrepeat\u001b[0m\u001b[0;34m(\u001b[0m\u001b[0;34m)\u001b[0m\u001b[0;34m.\u001b[0m\u001b[0mbatch\u001b[0m\u001b[0;34m(\u001b[0m\u001b[0mbatch_size\u001b[0m\u001b[0;34m=\u001b[0m\u001b[0mbatch_size\u001b[0m\u001b[0;34m)\u001b[0m\u001b[0;34m\u001b[0m\u001b[0;34m\u001b[0m\u001b[0m\n",
      "\u001b[0;31mNameError\u001b[0m: name 'train_wav' is not defined"
     ]
    }
   ],
   "source": [
    "# 3. 데이터셋 구성\n",
    "def one_hot_label(spec, label):\n",
    "    # tf.one_hot은 범주형 데이터에 사용하며\n",
    "    # 주어진 리스트를 답지로 반환해준다.\n",
    "    # ex) list[red, green, blue]일 경우\n",
    "    # tf.one_hot([red,green,blue],3)은\n",
    "    # [1,0,0],[0,1,0],[0,0,1]이 된다.\n",
    "    label = tf.one_hot(label, depth=12)\n",
    "    return spec, label\n",
    "\n",
    "# tf.data.Dataset을 이용\n",
    "#from_tensor_slices 함수에 return 받길 원하는 데이터를 튜플 (data, label) 형태로 넣어서 사용\n",
    "# map과 batch를 이용한 데이터 전처리\n",
    "#주의 : waveform을 spectrogram으로 변환하기 위해 추가로 사용하는 메모리 때문에 이후 메모리 부족 현상을 겪게 될수도 있습니다.\n",
    "#tf.data.Dataset이 생성된 이후, 아래 예시와 같이 wav 데이터나 spectrogram 데이터를 담아둔 메모리 버퍼를 비워 주면 도움이 됩니다.\n",
    "\n",
    "import tensorflow as tf\n",
    "\n",
    "# for train\n",
    "train_dataset = tf.data.Dataset.from_tensor_slices((train_wav, train_label))\n",
    "train_dataset = train_dataset.map(one_hot_label)\n",
    "train_dataset = train_dataset.repeat().batch(batch_size=batch_size)\n",
    "print(train_dataset)\n",
    "\n",
    "# for test\n",
    "test_dataset = tf.data.Dataset.from_tensor_slices((test_wav, test_label))\n",
    "test_dataset = test_dataset.map(one_hot_label)\n",
    "test_dataset = test_dataset.batch(batch_size=batch_size)\n",
    "print(test_dataset)"
   ]
  },
  {
   "cell_type": "code",
   "execution_count": null,
   "metadata": {},
   "outputs": [],
   "source": [
    "# 4. 2차원 Spectrogram 데이터를 처리하는 모델 구성"
   ]
  },
  {
   "cell_type": "code",
   "execution_count": null,
   "metadata": {},
   "outputs": [],
   "source": [
    "\n",
    "2차원 Spectrogram 데이터의 시간축 방향으로 Conv1D layer를 적용, 혹은 Conv2D layer를 적용 가능\n",
    "batchnorm, dropout, dense layer 등을 이용\n",
    "12개의 단어 class를 구분하는 loss를 사용하고 Adam optimizer를 사용\n",
    "모델 가중치를 저장하는 checkpoint callback 함수 추가\n",
    "다양한 모델의 실험을 진행해 보시기 바랍니다.\n",
    "5. 학습 후, 학습이 어떻게 진행됐는지 그래프로 출력\n",
    "\n",
    "loss, accuracy를 그래프로 표현\n",
    "6. Test dataset을 이용해서 모델의 성능을 평가\n",
    "\n",
    "저장한 weight 불러오기\n",
    "모델의 예측값과 정답값이 얼마나 일치하는지 확인"
   ]
  }
 ],
 "metadata": {
  "kernelspec": {
   "display_name": "Python 3",
   "language": "python",
   "name": "python3"
  },
  "language_info": {
   "codemirror_mode": {
    "name": "ipython",
    "version": 3
   },
   "file_extension": ".py",
   "mimetype": "text/x-python",
   "name": "python",
   "nbconvert_exporter": "python",
   "pygments_lexer": "ipython3",
   "version": "3.7.9"
  }
 },
 "nbformat": 4,
 "nbformat_minor": 4
}
