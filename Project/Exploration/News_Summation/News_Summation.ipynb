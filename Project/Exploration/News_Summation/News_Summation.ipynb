{
 "cells": [
  {
   "cell_type": "markdown",
   "metadata": {},
   "source": [
    "## News summation\n",
    "### 뉴스 요약봇 만들기\n",
    "***\n",
    "#### Step 1. 데이터 수집하기\n",
    "\n",
    "    1. 뉴스 기사 데이터 가져오기  \n",
    "\n",
    "#### Step 2. 데이터 전처리하기 (추상적 요약) \n",
    "\n",
    "    -실습에서 사용된 전처리를 참고하여 각자 필요하다고 생각하는 전처리를 \n",
    "     추가 사용하여 텍스트를 정규화 또는 정제해 보세요.  \n",
    "     \n",
    "    -만약, 불용어 제거를 선택한다면 상대적으로 길이가 짧은 요약 데이터에 대해서도 \n",
    "     불용어를 제거하는 것이 좋을지 고민해보세요.  \n",
    "\n",
    "#### Step 3. 어텐션 메커니즘 사용하기 (추상적 요약)\n",
    "    일반적인 seq2seq보다는 어텐션 메커니즘을 사용한 seq2seq를 사용하는 것이 \n",
    "    더 나은 성능을 얻을 수 있어요.  \n",
    "    \n",
    "    실습 내용을 참고하여 어텐션 메커니즘을 사용한 seq2seq를 설계해 보세요.\n",
    "\n",
    "#### Step 4. 실제 결과와 요약문 비교하기 (추상적 요약)\n",
    "    원래의 요약문(headlines 열)과 학습을 통해 얻은 추상적 요약의 결과를 비교해보세요.  \n",
    "    \n",
    "#### Step 5. Summa을 이용해서 추출적 요약해보기\n",
    "***\n",
    "#### 평가문항  \n",
    "**1. 추상적(Abstractive) 모델 구성을 위한 텍스트 전처리 단계가 체계적으로 진행되었다.**  \n",
    "-분석단계, 정제단계, 정규화와 불용어 제거, 데이터셋 분리, 인코딩 과정이 빠짐없이 체계적으로 진행되었다.\n",
    "  \n",
    "**2. 텍스트 요약모델이 성공적으로 학습되었음을 확인하였다.**  \n",
    "-모델학습이 안정적으로 수렴되었음을 그래프를 통해 확인하였으며, 실제 요약문과 유사한 요약문장을 얻을 수 있었다.\n",
    "  \n",
    "**3. 추출적(Extractive) 요약을 시도해 보고 추상적(Abstractive) 요약 결과과 함께 비교해 보았다.**  \n",
    "-두 요약 결과를 문법완성도 측면과 핵심단어 포함 측면으로 나누어 비교분석 결과를 제시하였다.\n",
    "***\n",
    "### Step 1. 데이터 수집하기"
   ]
  },
  {
   "cell_type": "code",
   "execution_count": 1,
   "metadata": {},
   "outputs": [],
   "source": [
    "# 필요한 라이브러리 import\n",
    "import os\n",
    "from os.path import join\n",
    "import numpy as np\n",
    "import pandas as pd\n",
    "import re\n",
    "import matplotlib.pyplot as plt\n",
    "from nltk.corpus import stopwords\n",
    "from bs4 import BeautifulSoup \n",
    "import urllib.request\n",
    "from tensorflow.keras.preprocessing.text import Tokenizer \n",
    "from tensorflow.keras.preprocessing.sequence import pad_sequences\n",
    "from tensorflow.keras.layers import Input, LSTM, Embedding, Dense, Concatenate\n",
    "from tensorflow.keras.models import Model\n",
    "from tensorflow.keras.callbacks import EarlyStopping, ModelCheckpoint\n",
    "urllib.request.urlretrieve(\"https://raw.githubusercontent.com/thushv89/attention_keras/master/src/layers/attention.py\", filename=\"attention.py\")\n",
    "from attention import AttentionLayer\n"
   ]
  },
  {
   "cell_type": "markdown",
   "metadata": {},
   "source": [
    "**1. 뉴스 기사 데이터 가져오기**"
   ]
  },
  {
   "cell_type": "code",
   "execution_count": 2,
   "metadata": {},
   "outputs": [
    {
     "data": {
      "text/html": [
       "<div>\n",
       "<style scoped>\n",
       "    .dataframe tbody tr th:only-of-type {\n",
       "        vertical-align: middle;\n",
       "    }\n",
       "\n",
       "    .dataframe tbody tr th {\n",
       "        vertical-align: top;\n",
       "    }\n",
       "\n",
       "    .dataframe thead th {\n",
       "        text-align: right;\n",
       "    }\n",
       "</style>\n",
       "<table border=\"1\" class=\"dataframe\">\n",
       "  <thead>\n",
       "    <tr style=\"text-align: right;\">\n",
       "      <th></th>\n",
       "      <th>headlines</th>\n",
       "      <th>text</th>\n",
       "    </tr>\n",
       "  </thead>\n",
       "  <tbody>\n",
       "    <tr>\n",
       "      <th>0</th>\n",
       "      <td>upGrad learner switches to career in ML &amp; Al w...</td>\n",
       "      <td>Saurav Kant, an alumnus of upGrad and IIIT-B's...</td>\n",
       "    </tr>\n",
       "    <tr>\n",
       "      <th>1</th>\n",
       "      <td>Delhi techie wins free food from Swiggy for on...</td>\n",
       "      <td>Kunal Shah's credit card bill payment platform...</td>\n",
       "    </tr>\n",
       "    <tr>\n",
       "      <th>2</th>\n",
       "      <td>New Zealand end Rohit Sharma-led India's 12-ma...</td>\n",
       "      <td>New Zealand defeated India by 8 wickets in the...</td>\n",
       "    </tr>\n",
       "    <tr>\n",
       "      <th>3</th>\n",
       "      <td>Aegon life iTerm insurance plan helps customer...</td>\n",
       "      <td>With Aegon Life iTerm Insurance plan, customer...</td>\n",
       "    </tr>\n",
       "    <tr>\n",
       "      <th>4</th>\n",
       "      <td>Have known Hirani for yrs, what if MeToo claim...</td>\n",
       "      <td>Speaking about the sexual harassment allegatio...</td>\n",
       "    </tr>\n",
       "  </tbody>\n",
       "</table>\n",
       "</div>"
      ],
      "text/plain": [
       "                                           headlines  \\\n",
       "0  upGrad learner switches to career in ML & Al w...   \n",
       "1  Delhi techie wins free food from Swiggy for on...   \n",
       "2  New Zealand end Rohit Sharma-led India's 12-ma...   \n",
       "3  Aegon life iTerm insurance plan helps customer...   \n",
       "4  Have known Hirani for yrs, what if MeToo claim...   \n",
       "\n",
       "                                                text  \n",
       "0  Saurav Kant, an alumnus of upGrad and IIIT-B's...  \n",
       "1  Kunal Shah's credit card bill payment platform...  \n",
       "2  New Zealand defeated India by 8 wickets in the...  \n",
       "3  With Aegon Life iTerm Insurance plan, customer...  \n",
       "4  Speaking about the sexual harassment allegatio...  "
      ]
     },
     "execution_count": 2,
     "metadata": {},
     "output_type": "execute_result"
    }
   ],
   "source": [
    "# 노드를 진행하면서 다운받은 뉴스 요약 data 가져오기\n",
    "# https://github.com/sunnysai12345/News_Summary\n",
    "data_dir = os.getenv('HOME')+'/aiffel/news_summarization/data'\n",
    "data_path = join(data_dir, 'news_summary_more.csv')\n",
    "data = pd.read_csv(data_path, encoding='iso-8859-1')\n",
    "data.head(5)"
   ]
  },
  {
   "cell_type": "markdown",
   "metadata": {},
   "source": [
    "### Step 2. 데이터 전처리하기 (추상적 요약)\n",
    "    -실습에서 사용된 전처리를 참고하여 각자 필요하다고 생각하는 전처리를 \n",
    "     추가 사용하여 텍스트를 정규화 또는 정제해 보세요.  \n",
    "    -만약, 불용어 제거를 선택한다면 상대적으로 길이가 짧은 요약 데이터에 대해서도 \n",
    "     불용어를 제거하는 것이 좋을지 고민해보세요.  \n",
    "***\n",
    "**1. 중복 샘플 제거**   \n",
    "\n",
    "중복 샘플을 제거하기전 전체 샘플의 수를 확인해봅니다."
   ]
  },
  {
   "cell_type": "code",
   "execution_count": 3,
   "metadata": {},
   "outputs": [
    {
     "name": "stdout",
     "output_type": "stream",
     "text": [
      "전체 샘플수 : 98401\n"
     ]
    }
   ],
   "source": [
    "print('전체 샘플수 :',len(data))"
   ]
  },
  {
   "cell_type": "markdown",
   "metadata": {},
   "source": [
    "한 칼럼당 98401개의 데이터가 있는것을 확인할 수 있습니다."
   ]
  },
  {
   "cell_type": "code",
   "execution_count": 4,
   "metadata": {},
   "outputs": [
    {
     "name": "stdout",
     "output_type": "stream",
     "text": [
      "headlines열의 unique : 98280\n",
      "text열의 unique : 98360\n"
     ]
    }
   ],
   "source": [
    "for c in data.columns:\n",
    "    print('{}열의 unique : {}'.format(c, data[c].nunique()))"
   ]
  },
  {
   "cell_type": "markdown",
   "metadata": {},
   "source": [
    "유니크한 데이터의 갯수를 확인해보니 두개의 칼럼 모두 전체 샘플수와 차이가 나는것을 확인할 수 있습니다.  \n",
    "이러한 중복 샘플을 제거해 주도록 하겠습니다."
   ]
  },
  {
   "cell_type": "code",
   "execution_count": 5,
   "metadata": {},
   "outputs": [],
   "source": [
    "for c in data.columns:\n",
    "    data.drop_duplicates(subset = [c], inplace = True)"
   ]
  },
  {
   "cell_type": "markdown",
   "metadata": {},
   "source": [
    "데이터프레임의 drop_duplicates()를 사용하여 중복 샘플을 지워줍니다."
   ]
  },
  {
   "cell_type": "code",
   "execution_count": 6,
   "metadata": {},
   "outputs": [
    {
     "name": "stdout",
     "output_type": "stream",
     "text": [
      "전체 샘플수 : 98262\n"
     ]
    }
   ],
   "source": [
    "print('전체 샘플수 :',len(data))"
   ]
  },
  {
   "cell_type": "markdown",
   "metadata": {},
   "source": [
    "기존의 샘플수와 비교해보았을 때 중복 샘플이 제거 된 것을 확인할 수 있습니다.\n",
    "***\n",
    "**2. 결측 샘플 제거**  \n",
    "\n",
    "Null값을 가지는 데이터 샘플을 확인해봅니다."
   ]
  },
  {
   "cell_type": "code",
   "execution_count": 7,
   "metadata": {},
   "outputs": [
    {
     "name": "stdout",
     "output_type": "stream",
     "text": [
      "headlines    0\n",
      "text         0\n",
      "dtype: int64\n"
     ]
    }
   ],
   "source": [
    "print(data.isnull().sum())"
   ]
  },
  {
   "cell_type": "markdown",
   "metadata": {},
   "source": [
    ".isnull().sum()로 확인해본 결과 다행히 결측치는 없는 것으로 확인되었습니다.  \n",
    "참고로 Null값 제거에는 dropna() 함수를 사용하면 됩니다.\n",
    "***   \n",
    "**3. 텍스트 정규화 및 불용어 제거**  \n",
    "\n",
    "i'am, it'll 등 줄여진 표현들을 정리하여 연산량을 줄이도록 하겠습니다."
   ]
  },
  {
   "cell_type": "code",
   "execution_count": 8,
   "metadata": {},
   "outputs": [],
   "source": [
    "# 노드에서 사용하였던 정규화 사전을 이용하도록 하겠습니다.\n",
    "contractions = {\"ain't\": \"is not\", \"aren't\": \"are not\",\"can't\": \"cannot\", \"'cause\": \"because\", \"could've\": \"could have\", \"couldn't\": \"could not\",\n",
    "                \"didn't\": \"did not\",  \"doesn't\": \"does not\", \"don't\": \"do not\", \"hadn't\": \"had not\", \"hasn't\": \"has not\", \"haven't\": \"have not\",\n",
    "                \"he'd\": \"he would\",\"he'll\": \"he will\", \"he's\": \"he is\", \"how'd\": \"how did\", \"how'd'y\": \"how do you\", \"how'll\": \"how will\", \"how's\": \"how is\",\n",
    "                \"I'd\": \"I would\", \"I'd've\": \"I would have\", \"I'll\": \"I will\", \"I'll've\": \"I will have\",\"I'm\": \"I am\", \"I've\": \"I have\", \"i'd\": \"i would\",\n",
    "                \"i'd've\": \"i would have\", \"i'll\": \"i will\",  \"i'll've\": \"i will have\",\"i'm\": \"i am\", \"i've\": \"i have\", \"isn't\": \"is not\", \"it'd\": \"it would\",\n",
    "                \"it'd've\": \"it would have\", \"it'll\": \"it will\", \"it'll've\": \"it will have\",\"it's\": \"it is\", \"let's\": \"let us\", \"ma'am\": \"madam\",\n",
    "                \"mayn't\": \"may not\", \"might've\": \"might have\",\"mightn't\": \"might not\",\"mightn't've\": \"might not have\", \"must've\": \"must have\",\n",
    "                \"mustn't\": \"must not\", \"mustn't've\": \"must not have\", \"needn't\": \"need not\", \"needn't've\": \"need not have\",\"o'clock\": \"of the clock\",\n",
    "                \"oughtn't\": \"ought not\", \"oughtn't've\": \"ought not have\", \"shan't\": \"shall not\", \"sha'n't\": \"shall not\", \"shan't've\": \"shall not have\",\n",
    "                \"she'd\": \"she would\", \"she'd've\": \"she would have\", \"she'll\": \"she will\", \"she'll've\": \"she will have\", \"she's\": \"she is\",\n",
    "                \"should've\": \"should have\", \"shouldn't\": \"should not\", \"shouldn't've\": \"should not have\", \"so've\": \"so have\",\"so's\": \"so as\",\n",
    "                \"this's\": \"this is\",\"that'd\": \"that would\", \"that'd've\": \"that would have\", \"that's\": \"that is\", \"there'd\": \"there would\",\n",
    "                \"there'd've\": \"there would have\", \"there's\": \"there is\", \"here's\": \"here is\",\"they'd\": \"they would\", \"they'd've\": \"they would have\",\n",
    "                \"they'll\": \"they will\", \"they'll've\": \"they will have\", \"they're\": \"they are\", \"they've\": \"they have\", \"to've\": \"to have\",\n",
    "                \"wasn't\": \"was not\", \"we'd\": \"we would\", \"we'd've\": \"we would have\", \"we'll\": \"we will\", \"we'll've\": \"we will have\", \"we're\": \"we are\",\n",
    "                \"we've\": \"we have\", \"weren't\": \"were not\", \"what'll\": \"what will\", \"what'll've\": \"what will have\", \"what're\": \"what are\",\n",
    "                \"what's\": \"what is\", \"what've\": \"what have\", \"when's\": \"when is\", \"when've\": \"when have\", \"where'd\": \"where did\", \"where's\": \"where is\",\n",
    "                \"where've\": \"where have\", \"who'll\": \"who will\", \"who'll've\": \"who will have\", \"who's\": \"who is\", \"who've\": \"who have\",\n",
    "                \"why's\": \"why is\", \"why've\": \"why have\", \"will've\": \"will have\", \"won't\": \"will not\", \"won't've\": \"will not have\",\n",
    "                \"would've\": \"would have\", \"wouldn't\": \"would not\", \"wouldn't've\": \"would not have\", \"y'all\": \"you all\",\n",
    "                \"y'all'd\": \"you all would\",\"y'all'd've\": \"you all would have\",\"y'all're\": \"you all are\",\"y'all've\": \"you all have\",\n",
    "                \"you'd\": \"you would\", \"you'd've\": \"you would have\", \"you'll\": \"you will\", \"you'll've\": \"you will have\",\n",
    "                \"you're\": \"you are\", \"you've\": \"you have\"}"
   ]
  },
  {
   "cell_type": "code",
   "execution_count": 9,
   "metadata": {},
   "outputs": [],
   "source": [
    "# 텍스트 소문자화 => 섞여있을 수 있는 ltml태그 제거 => 특수문자 제거 => 정규화 => 불용어 제거\n",
    "# 위의 과정을 위한 함수 생성\n",
    "def preprocess_sentence(sentence, remove_stopwords=True):\n",
    "    sentence = sentence.lower() # 텍스트 소문자화\n",
    "    sentence = BeautifulSoup(sentence, \"lxml\").text # <br />, <a href = ...> 등의 html 태그 제거\n",
    "    sentence = re.sub(r'\\([^)]*\\)', '', sentence) # 괄호로 닫힌 문자열 (...) 제거 Ex) my husband (and myself!) for => my husband for\n",
    "    sentence = re.sub('\"','', sentence) # 쌍따옴표 \" 제거\n",
    "    sentence = ' '.join([contractions[t] if t in contractions else t for t in sentence.split(\" \")]) # 약어 정규화\n",
    "    sentence = re.sub(r\"'s\\b\",\"\",sentence) # 소유격 제거. Ex) roland's -> roland\n",
    "    sentence = re.sub(\"[^a-zA-Z]\", \" \", sentence) # 영어 외 문자(숫자, 특수문자 등) 공백으로 변환\n",
    "    sentence = re.sub('[m]{2,}', 'mm', sentence) # m이 3개 이상이면 2개로 변경. Ex) ummmmmmm yeah -> umm yeah\n",
    "    \n",
    "    # 불용어 제거 (Text)\n",
    "    if remove_stopwords:\n",
    "        tokens = ' '.join(word for word in sentence.split() if not word in stopwords.words('english') if len(word) > 1)\n",
    "    # 불용어 미제거 (Summary)\n",
    "    else:\n",
    "        tokens = ' '.join(word for word in sentence.split() if len(word) > 1)\n",
    "    return tokens"
   ]
  },
  {
   "cell_type": "markdown",
   "metadata": {},
   "source": [
    "이제 함수를 활용하여 text칼럼과 headline칼럼을 정리해주도록 하겠습니다."
   ]
  },
  {
   "cell_type": "code",
   "execution_count": 10,
   "metadata": {},
   "outputs": [
    {
     "data": {
      "text/plain": [
       "['saurav kant alumnus upgrad iiit pg program machine learning artificial intelligence sr systems engineer infosys almost years work experience program upgrad degree career support helped transition data scientist tech mahindra salary hike upgrad online power learning powered lakh careers',\n",
       " 'kunal shah credit card bill payment platform cred gave users chance win free food swiggy one year pranav kaushik delhi techie bagged reward spending cred coins users get one cred coin per rupee bill paid used avail rewards brands like ixigo bookmyshow ubereats cult fit',\n",
       " 'new zealand defeated india wickets fourth odi hamilton thursday win first match five match odi series india lost international match rohit sharma captaincy consecutive victories dating back march match witnessed india getting seventh lowest total odi cricket history',\n",
       " 'aegon life iterm insurance plan customers enjoy tax benefits premiums paid save taxes plan provides life cover age years also customers options insure critical illnesses disability accidental death benefit rider life cover age years',\n",
       " 'speaking sexual harassment allegations rajkumar hirani sonam kapoor said known hirani many years true metoo movement get derailed metoo movement always believe woman case need reserve judgment added hirani accused assistant worked sanju']"
      ]
     },
     "execution_count": 10,
     "metadata": {},
     "output_type": "execute_result"
    }
   ],
   "source": [
    "clean_text = []\n",
    "\n",
    "for s in data['text']:\n",
    "    clean_text.append(preprocess_sentence(s))\n",
    "    \n",
    "clean_text[:5]"
   ]
  },
  {
   "cell_type": "code",
   "execution_count": 11,
   "metadata": {},
   "outputs": [
    {
     "data": {
      "text/plain": [
       "['upgrad learner switches to career in ml al with salary hike',\n",
       " 'delhi techie wins free food from swiggy for one year on cred',\n",
       " 'new zealand end rohit sharma led india match winning streak',\n",
       " 'aegon life iterm insurance plan helps customers save tax',\n",
       " 'have known hirani for yrs what if metoo claims are not true sonam']"
      ]
     },
     "execution_count": 11,
     "metadata": {},
     "output_type": "execute_result"
    }
   ],
   "source": [
    "clean_headlines = []\n",
    "\n",
    "for s in data['headlines']:\n",
    "    clean_headlines.append(preprocess_sentence(s, False))\n",
    "    # 요약이므로 불용어를 제외할 경우 문장 자체가 이상해질 수 있음.\n",
    "\n",
    "clean_headlines[:5]"
   ]
  },
  {
   "cell_type": "markdown",
   "metadata": {},
   "source": [
    "두 칼럼에서 불용어를 모두 정리를 완료했으니 해당칼럼을 교체해주도록 합니다."
   ]
  },
  {
   "cell_type": "code",
   "execution_count": 12,
   "metadata": {},
   "outputs": [
    {
     "data": {
      "text/plain": [
       "headlines    0\n",
       "text         0\n",
       "dtype: int64"
      ]
     },
     "execution_count": 12,
     "metadata": {},
     "output_type": "execute_result"
    }
   ],
   "source": [
    "data['text'] = clean_text\n",
    "data['headlines'] = clean_headlines\n",
    "\n",
    "# 불용어를 제거하면서 빈 값이 생겼을 수도 있으니\n",
    "# 빈 값을 Null 값으로 변환합니다.\n",
    "data.replace('', np.nan, inplace=True)\n",
    "data.isnull().sum()"
   ]
  },
  {
   "cell_type": "markdown",
   "metadata": {},
   "source": [
    "다행히 빈 샘플이 없습니다.  \n",
    "이제 샘플 문장의 최대길이를 설정하겠습니다."
   ]
  },
  {
   "cell_type": "code",
   "execution_count": 13,
   "metadata": {},
   "outputs": [
    {
     "name": "stdout",
     "output_type": "stream",
     "text": [
      "텍스트의 최소 길이 : 1\n",
      "텍스트의 최대 길이 : 60\n",
      "텍스트의 평균 길이 : 35.10029309397326\n",
      "텍스트의 표준 편차 : 3.7996134352887116\n",
      "헤드라인의 최소 길이 : 1\n",
      "헤드라인의 최대 길이 : 16\n",
      "헤드라인의 평균 길이 : 9.299444342675704\n",
      "헤드라인의 표준 편차 : 1.3899968497820723\n"
     ]
    },
    {
     "data": {
      "image/png": "[encoded data removed]",
      "text/plain": [
       "<Figure size 432x288 with 2 Axes>"
      ]
     },
     "metadata": {
      "needs_background": "light"
     },
     "output_type": "display_data"
    },
    {
     "data": {
      "image/png": "[encoded data removed]",
      "text/plain": [
       "<Figure size 432x288 with 1 Axes>"
      ]
     },
     "metadata": {
      "needs_background": "light"
     },
     "output_type": "display_data"
    },
    {
     "data": {
      "image/png": "[encoded data removed]",
      "text/plain": [
       "<Figure size 432x288 with 1 Axes>"
      ]
     },
     "metadata": {
      "needs_background": "light"
     },
     "output_type": "display_data"
    }
   ],
   "source": [
    "# 길이 분포 출력\n",
    "text_len = [len(s.split()) for s in data['text']]\n",
    "headlines_len = [len(s.split()) for s in data['headlines']]\n",
    "\n",
    "print('텍스트의 최소 길이 : {}'.format(np.min(text_len)))\n",
    "print('텍스트의 최대 길이 : {}'.format(np.max(text_len)))\n",
    "print('텍스트의 평균 길이 : {}'.format(np.mean(text_len)))\n",
    "print('텍스트의 표준 편차 : {}'.format(np.std(text_len)))\n",
    "print('헤드라인의 최소 길이 : {}'.format(np.min(headlines_len)))\n",
    "print('헤드라인의 최대 길이 : {}'.format(np.max(headlines_len)))\n",
    "print('헤드라인의 평균 길이 : {}'.format(np.mean(headlines_len)))\n",
    "print('헤드라인의 표준 편차 : {}'.format(np.std(headlines_len)))\n",
    "\n",
    "plt.subplot(1,2,1)\n",
    "plt.boxplot(headlines_len)\n",
    "plt.title('headlines')\n",
    "plt.subplot(1,2,2)\n",
    "plt.boxplot(text_len)\n",
    "plt.title('text')\n",
    "plt.tight_layout()\n",
    "plt.show()\n",
    "\n",
    "plt.title('headlines')\n",
    "plt.hist(headlines_len, bins = 40)\n",
    "plt.xlabel('length of samples')\n",
    "plt.ylabel('number of samples')\n",
    "plt.show()\n",
    "\n",
    "plt.title('text')\n",
    "plt.hist(text_len, bins = 40)\n",
    "plt.xlabel('length of samples')\n",
    "plt.ylabel('number of samples')\n",
    "plt.show()"
   ]
  },
  {
   "cell_type": "markdown",
   "metadata": {},
   "source": [
    "생각보다 데이터가 고르게 분포되어있습니다.  \n",
    "각 칼럼 샘플의 최대길이는 (평균+(2x표준편차로)) 결정하겠습니다."
   ]
  },
  {
   "cell_type": "code",
   "execution_count": 14,
   "metadata": {},
   "outputs": [],
   "source": [
    "text_maxlen = int((np.mean(text_len)+(2*np.std(text_len))))\n",
    "headlines_maxlen = int((np.mean(headlines_len)+(2*np.std(headlines_len))))"
   ]
  },
  {
   "cell_type": "code",
   "execution_count": 15,
   "metadata": {},
   "outputs": [
    {
     "name": "stdout",
     "output_type": "stream",
     "text": [
      "전체 샘플수 : 94658\n"
     ]
    }
   ],
   "source": [
    "data = data[data['text'].apply(lambda x: len(x.split()) <= text_maxlen)]\n",
    "data = data[data['headlines'].apply(lambda x: len(x.split()) <= headlines_maxlen)]\n",
    "print('전체 샘플수 :',(len(data)))"
   ]
  },
  {
   "cell_type": "code",
   "execution_count": 16,
   "metadata": {},
   "outputs": [
    {
     "data": {
      "text/html": [
       "<div>\n",
       "<style scoped>\n",
       "    .dataframe tbody tr th:only-of-type {\n",
       "        vertical-align: middle;\n",
       "    }\n",
       "\n",
       "    .dataframe tbody tr th {\n",
       "        vertical-align: top;\n",
       "    }\n",
       "\n",
       "    .dataframe thead th {\n",
       "        text-align: right;\n",
       "    }\n",
       "</style>\n",
       "<table border=\"1\" class=\"dataframe\">\n",
       "  <thead>\n",
       "    <tr style=\"text-align: right;\">\n",
       "      <th></th>\n",
       "      <th>headlines</th>\n",
       "      <th>text</th>\n",
       "      <th>decoder_input</th>\n",
       "      <th>decoder_target</th>\n",
       "    </tr>\n",
       "  </thead>\n",
       "  <tbody>\n",
       "    <tr>\n",
       "      <th>0</th>\n",
       "      <td>upgrad learner switches to career in ml al wit...</td>\n",
       "      <td>saurav kant alumnus upgrad iiit pg program mac...</td>\n",
       "      <td>sostoken upgrad learner switches to career in ...</td>\n",
       "      <td>upgrad learner switches to career in ml al wit...</td>\n",
       "    </tr>\n",
       "    <tr>\n",
       "      <th>2</th>\n",
       "      <td>new zealand end rohit sharma led india match w...</td>\n",
       "      <td>new zealand defeated india wickets fourth odi ...</td>\n",
       "      <td>sostoken new zealand end rohit sharma led indi...</td>\n",
       "      <td>new zealand end rohit sharma led india match w...</td>\n",
       "    </tr>\n",
       "    <tr>\n",
       "      <th>3</th>\n",
       "      <td>aegon life iterm insurance plan helps customer...</td>\n",
       "      <td>aegon life iterm insurance plan customers enjo...</td>\n",
       "      <td>sostoken aegon life iterm insurance plan helps...</td>\n",
       "      <td>aegon life iterm insurance plan helps customer...</td>\n",
       "    </tr>\n",
       "    <tr>\n",
       "      <th>5</th>\n",
       "      <td>rahat fateh ali khan denies getting notice for...</td>\n",
       "      <td>pakistani singer rahat fateh ali khan denied r...</td>\n",
       "      <td>sostoken rahat fateh ali khan denies getting n...</td>\n",
       "      <td>rahat fateh ali khan denies getting notice for...</td>\n",
       "    </tr>\n",
       "    <tr>\n",
       "      <th>6</th>\n",
       "      <td>india get all out for their lowest odi total i...</td>\n",
       "      <td>india recorded lowest odi total new zealand ge...</td>\n",
       "      <td>sostoken india get all out for their lowest od...</td>\n",
       "      <td>india get all out for their lowest odi total i...</td>\n",
       "    </tr>\n",
       "  </tbody>\n",
       "</table>\n",
       "</div>"
      ],
      "text/plain": [
       "                                           headlines  \\\n",
       "0  upgrad learner switches to career in ml al wit...   \n",
       "2  new zealand end rohit sharma led india match w...   \n",
       "3  aegon life iterm insurance plan helps customer...   \n",
       "5  rahat fateh ali khan denies getting notice for...   \n",
       "6  india get all out for their lowest odi total i...   \n",
       "\n",
       "                                                text  \\\n",
       "0  saurav kant alumnus upgrad iiit pg program mac...   \n",
       "2  new zealand defeated india wickets fourth odi ...   \n",
       "3  aegon life iterm insurance plan customers enjo...   \n",
       "5  pakistani singer rahat fateh ali khan denied r...   \n",
       "6  india recorded lowest odi total new zealand ge...   \n",
       "\n",
       "                                       decoder_input  \\\n",
       "0  sostoken upgrad learner switches to career in ...   \n",
       "2  sostoken new zealand end rohit sharma led indi...   \n",
       "3  sostoken aegon life iterm insurance plan helps...   \n",
       "5  sostoken rahat fateh ali khan denies getting n...   \n",
       "6  sostoken india get all out for their lowest od...   \n",
       "\n",
       "                                      decoder_target  \n",
       "0  upgrad learner switches to career in ml al wit...  \n",
       "2  new zealand end rohit sharma led india match w...  \n",
       "3  aegon life iterm insurance plan helps customer...  \n",
       "5  rahat fateh ali khan denies getting notice for...  \n",
       "6  india get all out for their lowest odi total i...  "
      ]
     },
     "execution_count": 16,
     "metadata": {},
     "output_type": "execute_result"
    }
   ],
   "source": [
    "data['decoder_input'] = data['headlines'].apply(lambda x : 'sostoken '+ x)\n",
    "data['decoder_target'] = data['headlines'].apply(lambda x : x + ' eostoken')\n",
    "data.head()"
   ]
  },
  {
   "cell_type": "code",
   "execution_count": 17,
   "metadata": {},
   "outputs": [],
   "source": [
    "encoder_input = np.array(data['text']) # 인코더의 입력\n",
    "decoder_input = np.array(data['decoder_input']) # 디코더의 입력\n",
    "decoder_target = np.array(data['decoder_target']) # 디코더의 레이블"
   ]
  },
  {
   "cell_type": "code",
   "execution_count": 18,
   "metadata": {},
   "outputs": [
    {
     "name": "stdout",
     "output_type": "stream",
     "text": [
      "테스트 데이터의 수 : 18931\n"
     ]
    }
   ],
   "source": [
    "indices = np.arange(encoder_input.shape[0])\n",
    "np.random.shuffle(indices)\n",
    "\n",
    "encoder_input = encoder_input[indices]\n",
    "decoder_input = decoder_input[indices]\n",
    "decoder_target = decoder_target[indices]\n",
    "\n",
    "n_of_val = int(len(encoder_input)*0.2)\n",
    "print('테스트 데이터의 수 :',n_of_val)"
   ]
  },
  {
   "cell_type": "code",
   "execution_count": 19,
   "metadata": {},
   "outputs": [
    {
     "name": "stdout",
     "output_type": "stream",
     "text": [
      "훈련 데이터의 개수 : 75727\n",
      "훈련 레이블의 개수 : 75727\n",
      "테스트 데이터의 개수 : 18931\n",
      "테스트 레이블의 개수 : 18931\n"
     ]
    }
   ],
   "source": [
    "encoder_input_train = encoder_input[:-n_of_val]\n",
    "decoder_input_train = decoder_input[:-n_of_val]\n",
    "decoder_target_train = decoder_target[:-n_of_val]\n",
    "\n",
    "encoder_input_test = encoder_input[-n_of_val:]\n",
    "decoder_input_test = decoder_input[-n_of_val:]\n",
    "decoder_target_test = decoder_target[-n_of_val:]\n",
    "\n",
    "print('훈련 데이터의 개수 :', len(encoder_input_train))\n",
    "print('훈련 레이블의 개수 :',len(decoder_input_train))\n",
    "print('테스트 데이터의 개수 :',len(encoder_input_test))\n",
    "print('테스트 레이블의 개수 :',len(decoder_input_test))"
   ]
  },
  {
   "cell_type": "code",
   "execution_count": 20,
   "metadata": {},
   "outputs": [],
   "source": [
    "src_tokenizer = Tokenizer() # 토크나이저 정의\n",
    "src_tokenizer.fit_on_texts(encoder_input_train) # 입력된 데이터로부터 단어 집합 생성"
   ]
  },
  {
   "cell_type": "code",
   "execution_count": 21,
   "metadata": {},
   "outputs": [
    {
     "name": "stdout",
     "output_type": "stream",
     "text": [
      "단어 집합(vocabulary)의 크기 : 67890\n",
      "등장 빈도가 6번 이하인 희귀 단어의 수: 46262\n",
      "단어 집합에서 희귀 단어를 제외시킬 경우의 단어 집합의 크기 21628\n",
      "단어 집합에서 희귀 단어의 비율: 68.14258359110326\n",
      "전체 등장 빈도에서 희귀 단어 등장 빈도 비율: 3.5646182891543363\n"
     ]
    }
   ],
   "source": [
    "threshold = 7\n",
    "total_cnt = len(src_tokenizer.word_index) # 단어의 수\n",
    "rare_cnt = 0 # 등장 빈도수가 threshold보다 작은 단어의 개수를 카운트\n",
    "total_freq = 0 # 훈련 데이터의 전체 단어 빈도수 총 합\n",
    "rare_freq = 0 # 등장 빈도수가 threshold보다 작은 단어의 등장 빈도수의 총 합\n",
    "\n",
    "# 단어와 빈도수의 쌍(pair)을 key와 value로 받는다.\n",
    "for key, value in src_tokenizer.word_counts.items():\n",
    "    total_freq = total_freq + value\n",
    "\n",
    "    # 단어의 등장 빈도수가 threshold보다 작으면\n",
    "    if(value < threshold):\n",
    "        rare_cnt = rare_cnt + 1\n",
    "        rare_freq = rare_freq + value\n",
    "\n",
    "print('단어 집합(vocabulary)의 크기 :',total_cnt)\n",
    "print('등장 빈도가 %s번 이하인 희귀 단어의 수: %s'%(threshold - 1, rare_cnt))\n",
    "print('단어 집합에서 희귀 단어를 제외시킬 경우의 단어 집합의 크기 %s'%(total_cnt - rare_cnt))\n",
    "print(\"단어 집합에서 희귀 단어의 비율:\", (rare_cnt / total_cnt)*100)\n",
    "print(\"전체 등장 빈도에서 희귀 단어 등장 빈도 비율:\", (rare_freq / total_freq)*100)"
   ]
  },
  {
   "cell_type": "code",
   "execution_count": 22,
   "metadata": {},
   "outputs": [],
   "source": [
    "src_vocab = 21000\n",
    "src_tokenizer = Tokenizer(num_words = src_vocab) # 단어 집합의 크기를 21,000으로 제한\n",
    "src_tokenizer.fit_on_texts(encoder_input_train) # 단어 집합 재생성."
   ]
  },
  {
   "cell_type": "code",
   "execution_count": 23,
   "metadata": {},
   "outputs": [
    {
     "name": "stdout",
     "output_type": "stream",
     "text": [
      "[[1338, 249, 1, 196, 160, 273, 210, 289, 319, 20, 780, 940, 2575, 4, 1338, 1, 10, 871, 393, 272, 439, 515], [11, 107, 388, 207, 206, 68, 2036, 304, 1132, 336, 9573, 114, 429, 781, 92, 2, 640, 351, 3, 13, 3127, 310, 12209, 1097, 68, 987, 304, 1132, 427, 189, 207, 337, 192, 559, 562, 917, 6611, 6012, 756, 1752, 351, 114], [3659, 327, 311, 4879, 12591, 20211, 209, 3571, 811, 382, 4758, 115, 4191, 2809, 3226, 20211, 651, 1, 5777, 2809, 646, 12592, 2408, 3416, 811, 980, 693, 2565, 6368]]\n"
     ]
    }
   ],
   "source": [
    "# 텍스트 시퀀스를 정수 시퀀스로 변환\n",
    "encoder_input_train = src_tokenizer.texts_to_sequences(encoder_input_train) \n",
    "encoder_input_test = src_tokenizer.texts_to_sequences(encoder_input_test)\n",
    "\n",
    "#잘 진행되었는지 샘플 출력\n",
    "print(encoder_input_train[:3])"
   ]
  },
  {
   "cell_type": "code",
   "execution_count": 24,
   "metadata": {},
   "outputs": [],
   "source": [
    "tar_tokenizer = Tokenizer()\n",
    "tar_tokenizer.fit_on_texts(decoder_input_train)"
   ]
  },
  {
   "cell_type": "code",
   "execution_count": 25,
   "metadata": {},
   "outputs": [
    {
     "name": "stdout",
     "output_type": "stream",
     "text": [
      "단어 집합(vocabulary)의 크기 : 29544\n",
      "등장 빈도가 5번 이하인 희귀 단어의 수: 19313\n",
      "단어 집합에서 희귀 단어를 제외시킬 경우의 단어 집합의 크기 10231\n",
      "단어 집합에서 희귀 단어의 비율: 65.37029515299216\n",
      "전체 등장 빈도에서 희귀 단어 등장 빈도 비율: 4.772538489771476\n"
     ]
    }
   ],
   "source": [
    "threshold = 6\n",
    "total_cnt = len(tar_tokenizer.word_index) # 단어의 수\n",
    "rare_cnt = 0 # 등장 빈도수가 threshold보다 작은 단어의 개수를 카운트\n",
    "total_freq = 0 # 훈련 데이터의 전체 단어 빈도수 총 합\n",
    "rare_freq = 0 # 등장 빈도수가 threshold보다 작은 단어의 등장 빈도수의 총 합\n",
    "\n",
    "# 단어와 빈도수의 쌍(pair)을 key와 value로 받는다.\n",
    "for key, value in tar_tokenizer.word_counts.items():\n",
    "    total_freq = total_freq + value\n",
    "\n",
    "    # 단어의 등장 빈도수가 threshold보다 작으면\n",
    "    if(value < threshold):\n",
    "        rare_cnt = rare_cnt + 1\n",
    "        rare_freq = rare_freq + value\n",
    "\n",
    "print('단어 집합(vocabulary)의 크기 :',total_cnt)\n",
    "print('등장 빈도가 %s번 이하인 희귀 단어의 수: %s'%(threshold - 1, rare_cnt))\n",
    "print('단어 집합에서 희귀 단어를 제외시킬 경우의 단어 집합의 크기 %s'%(total_cnt - rare_cnt))\n",
    "print(\"단어 집합에서 희귀 단어의 비율:\", (rare_cnt / total_cnt)*100)\n",
    "print(\"전체 등장 빈도에서 희귀 단어 등장 빈도 비율:\", (rare_freq / total_freq)*100)"
   ]
  },
  {
   "cell_type": "code",
   "execution_count": 26,
   "metadata": {},
   "outputs": [
    {
     "name": "stdout",
     "output_type": "stream",
     "text": [
      "input\n",
      "input  [[1, 470, 77, 153, 76, 17, 148, 10, 702, 590], [1, 105, 5277, 815, 1992, 253, 720, 7040, 205, 4, 863], [1, 3011, 4, 82, 5075, 1788, 7, 1696, 6, 2550, 5076], [1, 1143, 3, 21, 1646, 56, 12, 6030, 741, 56, 2129], [1, 4, 4406, 201, 61, 3, 2281, 1789, 4407]]\n",
      "target\n",
      "decoder  [[470, 77, 153, 76, 17, 148, 10, 702, 590, 2], [105, 5277, 815, 1992, 253, 720, 7040, 205, 4, 863, 2], [3011, 4, 82, 5075, 1788, 7, 1696, 6, 2550, 5076, 2], [1143, 3, 21, 1646, 56, 12, 6030, 741, 56, 2129, 2], [4, 4406, 201, 61, 3, 2281, 1789, 4407, 2]]\n"
     ]
    }
   ],
   "source": [
    "tar_vocab = 10000\n",
    "tar_tokenizer = Tokenizer(num_words = tar_vocab) \n",
    "tar_tokenizer.fit_on_texts(decoder_input_train)\n",
    "tar_tokenizer.fit_on_texts(decoder_target_train)\n",
    "\n",
    "# 텍스트 시퀀스를 정수 시퀀스로 변환\n",
    "decoder_input_train = tar_tokenizer.texts_to_sequences(decoder_input_train) \n",
    "decoder_target_train = tar_tokenizer.texts_to_sequences(decoder_target_train)\n",
    "decoder_input_test = tar_tokenizer.texts_to_sequences(decoder_input_test)\n",
    "decoder_target_test = tar_tokenizer.texts_to_sequences(decoder_target_test)\n",
    "\n",
    "#잘 변환되었는지 확인\n",
    "print('input')\n",
    "print('input ',decoder_input_train[:5])\n",
    "print('target')\n",
    "print('decoder ',decoder_target_train[:5])"
   ]
  },
  {
   "cell_type": "code",
   "execution_count": 27,
   "metadata": {},
   "outputs": [
    {
     "name": "stdout",
     "output_type": "stream",
     "text": [
      "삭제할 훈련 데이터의 개수 : 1\n",
      "삭제할 테스트 데이터의 개수 : 0\n",
      "훈련 데이터의 개수 : 75726\n",
      "훈련 레이블의 개수 : 75726\n",
      "테스트 데이터의 개수 : 18931\n",
      "테스트 레이블의 개수 : 18931\n"
     ]
    },
    {
     "name": "stderr",
     "output_type": "stream",
     "text": [
      "/home/aiffel/anaconda3/envs/aiffel/lib/python3.7/site-packages/numpy/core/_asarray.py:83: VisibleDeprecationWarning: Creating an ndarray from ragged nested sequences (which is a list-or-tuple of lists-or-tuples-or ndarrays with different lengths or shapes) is deprecated. If you meant to do this, you must specify 'dtype=object' when creating the ndarray\n",
      "  return array(a, dtype, copy=False, order=order)\n"
     ]
    }
   ],
   "source": [
    "drop_train = [index for index, sentence in enumerate(decoder_input_train) if len(sentence) == 1]\n",
    "drop_test = [index for index, sentence in enumerate(decoder_input_test) if len(sentence) == 1]\n",
    "\n",
    "print('삭제할 훈련 데이터의 개수 :',len(drop_train))\n",
    "print('삭제할 테스트 데이터의 개수 :',len(drop_test))\n",
    "\n",
    "encoder_input_train = np.delete(encoder_input_train, drop_train, axis=0)\n",
    "decoder_input_train = np.delete(decoder_input_train, drop_train, axis=0)\n",
    "decoder_target_train = np.delete(decoder_target_train, drop_train, axis=0)\n",
    "\n",
    "encoder_input_test = np.delete(encoder_input_test, drop_test, axis=0)\n",
    "decoder_input_test = np.delete(decoder_input_test, drop_test, axis=0)\n",
    "decoder_target_test = np.delete(decoder_target_test, drop_test, axis=0)\n",
    "\n",
    "print('훈련 데이터의 개수 :', len(encoder_input_train))\n",
    "print('훈련 레이블의 개수 :',len(decoder_input_train))\n",
    "print('테스트 데이터의 개수 :',len(encoder_input_test))\n",
    "print('테스트 레이블의 개수 :',len(decoder_input_test))"
   ]
  },
  {
   "cell_type": "code",
   "execution_count": 28,
   "metadata": {},
   "outputs": [],
   "source": [
    "encoder_input_train = pad_sequences(encoder_input_train, maxlen = text_maxlen, padding='post')\n",
    "encoder_input_test = pad_sequences(encoder_input_test, maxlen = text_maxlen, padding='post')\n",
    "decoder_input_train = pad_sequences(decoder_input_train, maxlen = headlines_maxlen, padding='post')\n",
    "decoder_target_train = pad_sequences(decoder_target_train, maxlen = headlines_maxlen, padding='post')\n",
    "decoder_input_test = pad_sequences(decoder_input_test, maxlen = headlines_maxlen, padding='post')\n",
    "decoder_target_test = pad_sequences(decoder_target_test, maxlen = headlines_maxlen, padding='post')"
   ]
  },
  {
   "cell_type": "markdown",
   "metadata": {},
   "source": [
    "### Step 3. 어텐션 메커니즘 사용하기 (추상적 요약)\n",
    "-어텐션 모델 적용"
   ]
  },
  {
   "cell_type": "code",
   "execution_count": 29,
   "metadata": {},
   "outputs": [
    {
     "name": "stdout",
     "output_type": "stream",
     "text": [
      "WARNING:tensorflow:Layer lstm will not use cuDNN kernel since it doesn't meet the cuDNN kernel criteria. It will use generic GPU kernel as fallback when running on GPU\n",
      "WARNING:tensorflow:Layer lstm_1 will not use cuDNN kernel since it doesn't meet the cuDNN kernel criteria. It will use generic GPU kernel as fallback when running on GPU\n",
      "WARNING:tensorflow:Layer lstm_2 will not use cuDNN kernel since it doesn't meet the cuDNN kernel criteria. It will use generic GPU kernel as fallback when running on GPU\n",
      "WARNING:tensorflow:Layer lstm_3 will not use cuDNN kernel since it doesn't meet the cuDNN kernel criteria. It will use generic GPU kernel as fallback when running on GPU\n",
      "Model: \"model\"\n",
      "__________________________________________________________________________________________________\n",
      "Layer (type)                    Output Shape         Param #     Connected to                     \n",
      "==================================================================================================\n",
      "input_1 (InputLayer)            [(None, 42)]         0                                            \n",
      "__________________________________________________________________________________________________\n",
      "embedding (Embedding)           (None, 42, 128)      2688000     input_1[0][0]                    \n",
      "__________________________________________________________________________________________________\n",
      "lstm (LSTM)                     [(None, 42, 256), (N 394240      embedding[0][0]                  \n",
      "__________________________________________________________________________________________________\n",
      "input_2 (InputLayer)            [(None, None)]       0                                            \n",
      "__________________________________________________________________________________________________\n",
      "lstm_1 (LSTM)                   [(None, 42, 256), (N 525312      lstm[0][0]                       \n",
      "__________________________________________________________________________________________________\n",
      "embedding_1 (Embedding)         (None, None, 128)    1280000     input_2[0][0]                    \n",
      "__________________________________________________________________________________________________\n",
      "lstm_2 (LSTM)                   [(None, 42, 256), (N 525312      lstm_1[0][0]                     \n",
      "__________________________________________________________________________________________________\n",
      "lstm_3 (LSTM)                   [(None, None, 256),  394240      embedding_1[0][0]                \n",
      "                                                                 lstm_2[0][1]                     \n",
      "                                                                 lstm_2[0][2]                     \n",
      "__________________________________________________________________________________________________\n",
      "attention_layer (AttentionLayer ((None, None, 256),  131328      lstm_2[0][0]                     \n",
      "                                                                 lstm_3[0][0]                     \n",
      "__________________________________________________________________________________________________\n",
      "concat_layer (Concatenate)      (None, None, 512)    0           lstm_3[0][0]                     \n",
      "                                                                 attention_layer[0][0]            \n",
      "__________________________________________________________________________________________________\n",
      "dense (Dense)                   (None, None, 10000)  5130000     concat_layer[0][0]               \n",
      "==================================================================================================\n",
      "Total params: 11,068,432\n",
      "Trainable params: 11,068,432\n",
      "Non-trainable params: 0\n",
      "__________________________________________________________________________________________________\n"
     ]
    }
   ],
   "source": [
    "# 인코더 설계 시작\n",
    "embedding_dim = 128\n",
    "hidden_size = 256\n",
    "\n",
    "# 인코더\n",
    "encoder_inputs = Input(shape=(text_maxlen,))\n",
    "\n",
    "# 인코더의 임베딩 층\n",
    "enc_emb = Embedding(src_vocab, embedding_dim)(encoder_inputs)\n",
    "\n",
    "# 인코더의 LSTM 1\n",
    "encoder_lstm1 = LSTM(hidden_size, return_sequences=True, return_state=True ,dropout = 0.4, recurrent_dropout = 0.4)\n",
    "encoder_output1, state_h1, state_c1 = encoder_lstm1(enc_emb)\n",
    "\n",
    "# 인코더의 LSTM 2\n",
    "encoder_lstm2 = LSTM(hidden_size, return_sequences=True, return_state=True, dropout=0.4, recurrent_dropout=0.4)\n",
    "encoder_output2, state_h2, state_c2 = encoder_lstm2(encoder_output1)\n",
    "\n",
    "# 인코더의 LSTM 3\n",
    "encoder_lstm3 = LSTM(hidden_size, return_state=True, return_sequences=True, dropout=0.4, recurrent_dropout=0.4)\n",
    "encoder_outputs, state_h, state_c= encoder_lstm3(encoder_output2)\n",
    "\n",
    "\n",
    "\n",
    "# 디코더 설계\n",
    "decoder_inputs = Input(shape=(None,))\n",
    "\n",
    "# 디코더의 임베딩 층\n",
    "dec_emb_layer = Embedding(tar_vocab, embedding_dim)\n",
    "dec_emb = dec_emb_layer(decoder_inputs)\n",
    "\n",
    "# 디코더의 LSTM\n",
    "decoder_lstm = LSTM(hidden_size, return_sequences = True, return_state = True, dropout = 0.4, recurrent_dropout=0.2)\n",
    "decoder_outputs, _, _ = decoder_lstm(dec_emb, initial_state = [state_h, state_c])\n",
    "\n",
    "\n",
    "# 어텐션 층(어텐션 함수)\n",
    "attn_layer = AttentionLayer(name='attention_layer')\n",
    "# 인코더와 디코더의 모든 time step의 hidden state를 어텐션 층에 전달하고 결과를 리턴\n",
    "attn_out, attn_states = attn_layer([encoder_outputs, decoder_outputs])\n",
    "\n",
    "# 어텐션의 결과와 디코더의 hidden state들을 연결\n",
    "decoder_concat_input = Concatenate(axis = -1, name='concat_layer')([decoder_outputs, attn_out])\n",
    "\n",
    "# 디코더의 출력층\n",
    "decoder_softmax_layer = Dense(tar_vocab, activation='softmax')\n",
    "decoder_softmax_outputs = decoder_softmax_layer(decoder_concat_input)\n",
    "\n",
    "# 모델 정의\n",
    "model_attn = Model([encoder_inputs, decoder_inputs], decoder_softmax_outputs)\n",
    "model_attn.summary()"
   ]
  },
  {
   "cell_type": "code",
   "execution_count": 31,
   "metadata": {},
   "outputs": [
    {
     "name": "stdout",
     "output_type": "stream",
     "text": [
      "Epoch 1/100\n",
      "296/296 [==============================] - 113s 381ms/step - loss: 5.6261 - val_loss: 5.2126\n",
      "Epoch 2/100\n",
      "296/296 [==============================] - 106s 359ms/step - loss: 5.0585 - val_loss: 4.8114\n",
      "Epoch 3/100\n",
      "296/296 [==============================] - 104s 351ms/step - loss: 4.7079 - val_loss: 4.5568\n",
      "Epoch 4/100\n",
      "296/296 [==============================] - 113s 380ms/step - loss: 4.4455 - val_loss: 4.3523\n",
      "Epoch 5/100\n",
      "296/296 [==============================] - 112s 380ms/step - loss: 4.2359 - val_loss: 4.2115\n",
      "Epoch 6/100\n",
      "296/296 [==============================] - 114s 385ms/step - loss: 4.0645 - val_loss: 4.0890\n",
      "Epoch 7/100\n",
      "296/296 [==============================] - 112s 378ms/step - loss: 3.9188 - val_loss: 4.0041\n",
      "Epoch 8/100\n",
      "296/296 [==============================] - 112s 379ms/step - loss: 3.7915 - val_loss: 3.9313\n",
      "Epoch 9/100\n",
      "296/296 [==============================] - 112s 378ms/step - loss: 3.6799 - val_loss: 3.8770\n",
      "Epoch 10/100\n",
      "296/296 [==============================] - 112s 379ms/step - loss: 3.5829 - val_loss: 3.8258\n",
      "Epoch 11/100\n",
      "296/296 [==============================] - 109s 370ms/step - loss: 3.4959 - val_loss: 3.7834\n",
      "Epoch 12/100\n",
      "296/296 [==============================] - 109s 369ms/step - loss: 3.4149 - val_loss: 3.7469\n",
      "Epoch 13/100\n",
      "296/296 [==============================] - 112s 379ms/step - loss: 3.3397 - val_loss: 3.7221\n",
      "Epoch 14/100\n",
      "296/296 [==============================] - 112s 379ms/step - loss: 3.2762 - val_loss: 3.6985\n",
      "Epoch 15/100\n",
      "296/296 [==============================] - 112s 378ms/step - loss: 3.2130 - val_loss: 3.6721\n",
      "Epoch 16/100\n",
      "296/296 [==============================] - 112s 378ms/step - loss: 3.1560 - val_loss: 3.6535\n",
      "Epoch 17/100\n",
      "296/296 [==============================] - 112s 378ms/step - loss: 3.1042 - val_loss: 3.6350\n",
      "Epoch 18/100\n",
      "296/296 [==============================] - 112s 379ms/step - loss: 3.0540 - val_loss: 3.6195\n",
      "Epoch 19/100\n",
      "296/296 [==============================] - 112s 379ms/step - loss: 3.0078 - val_loss: 3.6132\n",
      "Epoch 20/100\n",
      "296/296 [==============================] - 112s 379ms/step - loss: 2.9600 - val_loss: 3.6099\n",
      "Epoch 21/100\n",
      "296/296 [==============================] - 112s 379ms/step - loss: 2.9151 - val_loss: 3.5889\n",
      "Epoch 22/100\n",
      "296/296 [==============================] - 113s 381ms/step - loss: 2.8767 - val_loss: 3.5767\n",
      "Epoch 23/100\n",
      "296/296 [==============================] - 112s 379ms/step - loss: 2.8423 - val_loss: 3.5760\n",
      "Epoch 24/100\n",
      "296/296 [==============================] - 112s 379ms/step - loss: 2.8071 - val_loss: 3.5732\n",
      "Epoch 25/100\n",
      "296/296 [==============================] - 112s 380ms/step - loss: 2.7764 - val_loss: 3.5661\n",
      "Epoch 26/100\n",
      "296/296 [==============================] - 109s 369ms/step - loss: 2.7472 - val_loss: 3.5646\n",
      "Epoch 27/100\n",
      "296/296 [==============================] - 111s 373ms/step - loss: 2.7177 - val_loss: 3.5563\n",
      "Epoch 28/100\n",
      "296/296 [==============================] - 109s 370ms/step - loss: 2.6911 - val_loss: 3.5547\n",
      "Epoch 29/100\n",
      "296/296 [==============================] - 108s 364ms/step - loss: 2.6648 - val_loss: 3.5580\n",
      "Epoch 30/100\n",
      "296/296 [==============================] - 113s 382ms/step - loss: 2.6369 - val_loss: 3.5560\n",
      "Epoch 00030: early stopping\n"
     ]
    }
   ],
   "source": [
    "model_attn.compile(optimizer='rmsprop', loss='sparse_categorical_crossentropy')\n",
    "es = EarlyStopping(monitor='val_loss', mode='min', verbose=1, patience = 2)\n",
    "history = model_attn.fit(x = [encoder_input_train, decoder_input_train], y = decoder_target_train, \\\n",
    "          validation_data = ([encoder_input_test, decoder_input_test], decoder_target_test),\n",
    "          batch_size = 256, callbacks=[es], epochs = 100)"
   ]
  },
  {
   "cell_type": "code",
   "execution_count": 32,
   "metadata": {},
   "outputs": [
    {
     "data": {
      "image/png": "[encoded data removed]",
      "text/plain": [
       "<Figure size 432x288 with 1 Axes>"
      ]
     },
     "metadata": {
      "needs_background": "light"
     },
     "output_type": "display_data"
    }
   ],
   "source": [
    "plt.plot(history.history['loss'], label='train')\n",
    "plt.plot(history.history['val_loss'], label='val')\n",
    "plt.legend()\n",
    "plt.show()"
   ]
  },
  {
   "cell_type": "markdown",
   "metadata": {},
   "source": [
    "train loss : 2.6 / val loss : 3.5560 으로 그렇게 성능이 뛰어나지는 않지만,  \n",
    "그래프를 확인해본결과 안정적으로 수렴되었음을 확인할 수 있었다.\n",
    "***\n",
    "### Step 4. 실제 결과와 요약문 비교하기 (추상적 요약)"
   ]
  },
  {
   "cell_type": "code",
   "execution_count": 33,
   "metadata": {},
   "outputs": [],
   "source": [
    "src_index_to_word = src_tokenizer.index_word # 원문 단어 집합에서 정수 -> 단어를 얻음\n",
    "tar_word_to_index = tar_tokenizer.word_index # 요약 단어 집합에서 단어 -> 정수를 얻음\n",
    "tar_index_to_word = tar_tokenizer.index_word # 요약 단어 집합에서 정수 -> 단어를 얻음"
   ]
  },
  {
   "cell_type": "code",
   "execution_count": 34,
   "metadata": {},
   "outputs": [],
   "source": [
    "# 인코더 설계\n",
    "encoder_model = Model(inputs=encoder_inputs, outputs=[encoder_outputs, state_h, state_c])\n",
    "\n",
    "# 이전 시점의 상태들을 저장하는 텐서\n",
    "decoder_state_input_h = Input(shape=(hidden_size,))\n",
    "decoder_state_input_c = Input(shape=(hidden_size,))\n",
    "\n",
    "dec_emb2 = dec_emb_layer(decoder_inputs)\n",
    "# 문장의 다음 단어를 예측하기 위해서 초기 상태(initial_state)를 이전 시점의 상태로 사용. 이는 뒤의 함수 decode_sequence()에 구현\n",
    "# 훈련 과정에서와 달리 LSTM의 리턴하는 은닉 상태와 셀 상태인 state_h와 state_c를 버리지 않음.\n",
    "decoder_outputs2, state_h2, state_c2 = decoder_lstm(dec_emb2, initial_state=[decoder_state_input_h, decoder_state_input_c])"
   ]
  },
  {
   "cell_type": "code",
   "execution_count": 35,
   "metadata": {},
   "outputs": [],
   "source": [
    "# 어텐션 함수\n",
    "decoder_hidden_state_input = Input(shape=(text_maxlen, hidden_size))\n",
    "attn_out_inf, attn_states_inf = attn_layer([decoder_hidden_state_input, decoder_outputs2])\n",
    "decoder_inf_concat = Concatenate(axis=-1, name='concat')([decoder_outputs2, attn_out_inf])\n",
    "\n",
    "# 디코더의 출력층\n",
    "decoder_outputs2 = decoder_softmax_layer(decoder_inf_concat) \n",
    "\n",
    "# 최종 디코더 모델\n",
    "decoder_model = Model(\n",
    "    [decoder_inputs] + [decoder_hidden_state_input,decoder_state_input_h, decoder_state_input_c],\n",
    "    [decoder_outputs2] + [state_h2, state_c2])"
   ]
  },
  {
   "cell_type": "code",
   "execution_count": 36,
   "metadata": {},
   "outputs": [],
   "source": [
    "def decode_sequence(input_seq):\n",
    "    # 입력으로부터 인코더의 상태를 얻음\n",
    "    e_out, e_h, e_c = encoder_model.predict(input_seq)\n",
    "\n",
    "     # <SOS>에 해당하는 토큰 생성\n",
    "    target_seq = np.zeros((1,1))\n",
    "    target_seq[0, 0] = tar_word_to_index['sostoken']\n",
    "\n",
    "    stop_condition = False\n",
    "    decoded_sentence = ''\n",
    "    while not stop_condition: # stop_condition이 True가 될 때까지 루프 반복\n",
    "\n",
    "        output_tokens, h, c = decoder_model.predict([target_seq] + [e_out, e_h, e_c])\n",
    "        sampled_token_index = np.argmax(output_tokens[0, -1, :])\n",
    "        sampled_token = tar_index_to_word[sampled_token_index]\n",
    "\n",
    "        if(sampled_token!='eostoken'):\n",
    "            decoded_sentence += ' '+sampled_token\n",
    "\n",
    "        #  <eos>에 도달하거나 최대 길이를 넘으면 중단.\n",
    "        if (sampled_token == 'eostoken'  or len(decoded_sentence.split()) >= (headlines_maxlen-1)):\n",
    "            stop_condition = True\n",
    "\n",
    "        # 길이가 1인 타겟 시퀀스를 업데이트\n",
    "        target_seq = np.zeros((1,1))\n",
    "        target_seq[0, 0] = sampled_token_index\n",
    "\n",
    "        # 상태를 업데이트 합니다.\n",
    "        e_h, e_c = h, c\n",
    "\n",
    "    return decoded_sentence"
   ]
  },
  {
   "cell_type": "code",
   "execution_count": 37,
   "metadata": {},
   "outputs": [],
   "source": [
    "# 원문의 정수 시퀀스를 텍스트 시퀀스로 변환\n",
    "def seq2text(input_seq):\n",
    "    temp=''\n",
    "    for i in input_seq:\n",
    "        if(i!=0):\n",
    "            temp = temp + src_index_to_word[i]+' '\n",
    "    return temp\n",
    "\n",
    "# 요약문의 정수 시퀀스를 텍스트 시퀀스로 변환\n",
    "def seq2summary(input_seq):\n",
    "    temp=''\n",
    "    for i in input_seq:\n",
    "        if((i!=0 and i!=tar_word_to_index['sostoken']) and i!=tar_word_to_index['eostoken']):\n",
    "            temp = temp + tar_index_to_word[i] + ' '\n",
    "    return temp"
   ]
  },
  {
   "cell_type": "code",
   "execution_count": 38,
   "metadata": {},
   "outputs": [
    {
     "name": "stdout",
     "output_type": "stream",
     "text": [
      "원문 : first ever video posted video sharing platform youtube featured co founder karim zoo talking elephants cool thing guys really really really long cool pretty much say says karim second video notably youtube founded february \n",
      "실제 요약 : youtube st video had co founder talking about elephants \n",
      "예측 요약 :  video users react to youtube park in new york\n",
      "\n",
      "\n",
      "원문 : france year old forward kylian mbapp donate entire fifa world cup earnings including match fees bonus charity mbapp earning lakh per match given bonus nearly crore france win world cup mbapp saturday helped france reach quarters scoring two goals argentina \n",
      "실제 요약 : yr old mbapp to donate his entire fifa world cup salary \n",
      "예측 요약 :  french france wc final wc winning player to pay crore\n",
      "\n",
      "\n",
      "원문 : virgin group founder richard branson admitted little bit jealous spacex falcon heavy rocket launch took place earlier month branson highlighted elon musk achieved launch extraordinary added disappointed spaceflight company virgin galactic space next months \n",
      "실제 요약 : was little jealous of spacex falcon heavy launch branson \n",
      "예측 요약 :  virgin galactic rocket could be virgin virgin virgin branson\n",
      "\n",
      "\n",
      "원문 : bjp president amit shah friday hailed pm narendra modi led nda government win confidence motion called victory democracy defeat shah termed congress unconstitutional politically bankrupt saying party reaffirmed hatred towards prime minister born poor family casteism appeasement \n",
      "실제 요약 : pm modi win in no trust vote defeat of shah \n",
      "예측 요약 :  pm modi is the opposition of opposition amit shah\n",
      "\n",
      "\n",
      "원문 : spain go ahead sale laser guided bombs saudi arabia deal halted amid concerns saudi arabia role yemen war spanish authorities said found reason carry strikes saudi led coalition fighting iran backed houthi rebels yemen caused heavy civilian casualties \n",
      "실제 요약 : spain decision to halt bomb sales to saudi \n",
      "예측 요약 :  saudi arabia to be shut against saudi arabia for yemen\n",
      "\n",
      "\n",
      "원문 : jawaharlal nehru university held convocation wednesday years first ceremony held varsity event boycotted jnu students union speaking reason boycotting event president geeta kumari alleged university systematically destroyed anti student anti social justice policies vice chancellor \n",
      "실제 요약 : jnu holds after years students boycott event \n",
      "예측 요약 :  jnu to host its first jnu college for years\n",
      "\n",
      "\n",
      "원문 : russian astronomers discovered black hole observing gamma ray burst march two days stephen hawking demise burst captured spain based master telescope followed stellar explosion led formation black hole master devoted optical discovery stephen hawking lord black holes researchers wrote astronomer telegram journal \n",
      "실제 요약 : astronomers new found black hole to stephen hawking \n",
      "예측 요약 :  astronomers astronomers astronomers black hole at\n",
      "\n",
      "\n",
      "원문 : apple globally offered replace batteries limited number inch macbook pro devices concerns component may fail cause built battery expand apple said safety issue adding batteries replaced free affected units manufactured october october \n",
      "실제 요약 : apple to replace macbook pro batteries over faulty \n",
      "예측 요약 :  apple confirms battery battery battery\n",
      "\n",
      "\n",
      "원문 : delhi batsman rishabh pant became first indian cricketer score first runs test cricket six year old making debut third test england hit spinner adil rashid six test career second delivery pant overall test cricket th player get mark six \n",
      "실제 요약 : pant st indian to begin scoring in test cricket with six \n",
      "예측 요약 :  rishabh pant becomes st indian to hit runs in test series\n",
      "\n",
      "\n",
      "원문 : rbi shortly issue new notes mahatma gandhi series chocolate brown colour base according reports note reportedly feature picture sun temple design approved government last week rbi already printed around billion pieces new note reports claimed \n",
      "실제 요약 : rbi to issue new notes in chocolate brown colour report \n",
      "예측 요약 :  rbi to remain new notes in new notes\n",
      "\n",
      "\n",
      "원문 : reacting shashi tharoor tweet arnab goswami channel republic tv claims wife sunanda pushkar death user tweeted english hair kill someone difference twitter yesterday twitter today today twitter knows farrago means tweeted another user tharoor usage farrago \n",
      "실제 요약 : twitter reacts to shashi tharoor tweet about republic tv \n",
      "예측 요약 :  twitter reacts to arnab goswami on twitter row\n",
      "\n",
      "\n",
      "원문 : security researchers annual hacking conference germany said successfully defeated biometric authentication creating fake hand wax researchers took around photos hand using camera removing infrared sensor better highlight veins authentication system hackers jan julian \n",
      "실제 요약 : hackers make fake wax hand fool authentication system \n",
      "예측 요약 :  hacked to be made by seconds\n",
      "\n",
      "\n",
      "원문 : us twitter user shared story stranger paid sister birthday cake stranger left note saying year random act kindness unable buy daughter cake paid cake would late daughter birthday \n",
      "실제 요약 : stranger pays for girl cake on her late daughter day \n",
      "예측 요약 :  twitter users react to us man who called his own baby\n",
      "\n",
      "\n",
      "원문 : using electron whose developers chemistry nobel swedish researchers identified new inside human sperm tail method produced images freezing sperm showed spiral structure stretching tip scientists believe prevents sperm growing shrinking helping swim towards egg \n",
      "실제 요약 : new feature found in human sperm using nobel winning method \n",
      "예측 요약 :  scientists discover first ever human tissue\n",
      "\n",
      "\n",
      "원문 : couple harassed thrashed monday hugging inside compartment kolkata metro according reports victims dragged station verbal fight old man couple people eventually helped couple escape crowd reports added \n",
      "실제 요약 : couple beaten up for hugging inside kolkata metro \n",
      "예측 요약 :  couple thrashed by train at delhi station\n",
      "\n",
      "\n",
      "원문 : online platform hidden service offers access telecom private ss network month access could used intercept texts track location individual phone cut cellular service entirely customers however claimed paid site fee ignored site manager \n",
      "실제 요약 : site promises to track phones texts for \n",
      "예측 요약 :  launches online network to be\n",
      "\n",
      "\n",
      "원문 : atletico madrid former footballer left teammate needing hospital treatment nose injury fight reportedly broke players training chinese super league club joined atletico madrid february said offered injured teammate compensation \n",
      "실제 요약 : ex madrid player breaks chinese teammate nose \n",
      "예측 요약 :  player dies after being sent by mid air\n",
      "\n",
      "\n",
      "원문 : indonesian court sentenced eight workers two visitors gay club three years prison anti pornography charges around men detained club may raid authorities described sex party however detainees later released homosexuality legal indonesia nn \n",
      "실제 요약 : indonesia sentences gay club workers to up to yrs in jail \n",
      "예측 요약 :  indonesian jails jailed for years after sexual assault\n",
      "\n",
      "\n",
      "원문 : france former national artistic roller skating coach sentenced years prison found guilty sexual assault rape minor year old denying charges since admitted sexually assaulted teenage girls denied rape one athlete reported raped two years \n",
      "실제 요약 : french roller coach given yrs jail for sexual abuse \n",
      "예측 요약 :  french coach jailed for raping yr old girl in jail\n",
      "\n",
      "\n",
      "원문 : man haryana trees upside thirty two year old mukesh kumar says started climbing trees upside years old everybody straight thought climb upside set unique example although injured several times says wants set guinness world record feat \n",
      "실제 요약 : haryana man climbs trees upside down \n",
      "예측 요약 :  man gets his own statue to avoid us zoo\n",
      "\n",
      "\n",
      "원문 : talking campaign violations former personal lawyer michael cohen us president donald trump said ever got impeached think market would crash think everybody would poor added know impeach somebody done great job trump said \n",
      "실제 요약 : markets will crash everyone will be poor if am impeached trump \n",
      "예측 요약 :  trump has been better than world lawyer\n",
      "\n",
      "\n",
      "원문 : reliance jio letter trai said airtel creating hide ill gotten profits existing interconnection usage charge regime earlier jio said india top three telcos generated lakh crore revenue last five years excess reply airtel claimed incurred loss crore \n",
      "실제 요약 : airtel creating to hide ill profits jio \n",
      "예측 요약 :  jio idea rate to continue in telcos industry idea\n",
      "\n",
      "\n",
      "원문 : seven year old class student lost vision one eye teacher punched face eye fountain pen uttar shahjahanpur district teacher allegedly boy eye latter failed read chapter class school teacher principal run \n",
      "실제 요약 : yr old boy loses vision after teacher eye with pen \n"
     ]
    },
    {
     "name": "stdout",
     "output_type": "stream",
     "text": [
      "예측 요약 :  yr old girl loses yr old for refusing to write her\n",
      "\n",
      "\n",
      "원문 : houthi rebels recently fired ballistic missile towards saudi arabia said willing offer political asylum yemen saudi princes want flee oppression persecution according reports comes saudi princes four current ministers tens former ministers arrested kingdom anti corruption probe \n",
      "실제 요약 : offer saudi political asylum in yemen \n",
      "예측 요약 :  us air force missile to saudi arabia for yemen\n",
      "\n",
      "\n",
      "원문 : pakistan needs restrict activities terror groups lashkar taiba jaish mohammed country tell world set house order pakistan foreign minister khawaja asif said comes five brics nations issued declaration slamming pakistan based terror groups including let jem first time \n",
      "실제 요약 : pakistan needs to restrict terror activities pak minister \n",
      "예측 요약 :  pakistan terror groups not terror groups list terror groups pak\n",
      "\n",
      "\n",
      "원문 : mercedes benz india launched powerful version class new mercedes never explosive mix performance intelligence powered twin turbo engine hp power car zoom km seconds mercedes priced crore \n",
      "실제 요약 : mercedes benz india launches most powerful version of the class \n",
      "예측 요약 :  mercedes benz launches india first ever\n",
      "\n",
      "\n",
      "원문 : excise taxation department himachal pradesh filed cheating fraud case indian company allegedly stealing crore sales tax company allegedly took central sales tax exemption showing forged documents also pay sales tax later company closed operations \n",
      "실제 요약 : himachal firm accused of stealing cr worth sales tax \n",
      "예측 요약 :  delhi firm booked for cr for cheating of crore\n",
      "\n",
      "\n",
      "원문 : canadian startup created watch removable mah battery pack charge smartphones face watch solar panel power bank batteries additionally link watch strap contains miniature power bank together fully recharge main battery drained \n",
      "실제 요약 : watch with smartphone battery pack made \n",
      "예측 요약 :  startup makes battery powered fingerprint sensor\n",
      "\n",
      "\n",
      "원문 : microsoft first windows keyboard iphone one handed mode keyboard semi circle removed app store technology giant pushing users use keyboard instead uses artificial intelligence automatically learn user writing style acquired microsoft crore last year \n",
      "실제 요약 : microsoft shuts its keyboard app for iphone \n",
      "예측 요약 :  microsoft launches new app for users into\n",
      "\n",
      "\n",
      "원문 : stating experts predicted bad weather next five days madhya pradesh bjp leader ramesh saxena advised farmers chant hanuman chalisa hour every day protect crops heavy rainfall added one way avert natural disasters every village one hour hanuman chalisa \n",
      "실제 요약 : chant hanuman chalisa to prevent disasters bjp leader \n",
      "예측 요약 :  cows will not be in west bengal bjp mp cm\n",
      "\n",
      "\n",
      "원문 : actor neil nitin mukesh took social media share first pictures newborn daughter named one pictures also featured wife born thursday neil first child together couple got married february \n",
      "실제 요약 : neil nitin mukesh shares first pics with newborn daughter \n",
      "예측 요약 :  mukesh ambani shares picture of daughter twins\n",
      "\n",
      "\n",
      "원문 : three year old girl fell feet deep playing outside grandfather house bihar tuesday girl safe might take four hours rescue said official provided oxygen made arrangements safety placed rods ensure fall added nn \n",
      "실제 요약 : year old girl falls into feet deep in bihar \n",
      "예측 요약 :  yr old girl dies after being hit by in bihar\n",
      "\n",
      "\n",
      "원문 : class student suffered head injuries school headmaster allegedly hit serving spoon karnataka earlier week headmaster hit student follow queue milk served victim provided medical help another student headmaster care take hospital \n",
      "실제 요약 : student injured as headmaster hits him with in taka \n",
      "예측 요약 :  class student beaten up for not being denied school\n",
      "\n",
      "\n",
      "원문 : rang director mehta said curiosity watch kangana ranaut starrer manikarnika queen jhansi mehta ranaut supposed team mehta film rani jhansi warrior queen actress announced film producer kamal jain mehta accused kangana hijacking film \n",
      "실제 요약 : no to watch manikarnika director mehta \n",
      "예측 요약 :  kangana manikarnika to be kangana on manikarnika\n",
      "\n",
      "\n",
      "원문 : bjp mp ex bcci president anurag thakur private member bill proposed jail term least years match fixing fine five times amount involved case bill also proposes setting regulatory body sports federations powers equal civil courts \n",
      "실제 요약 : ex bcci prez proposes jail term of years for match fixing \n",
      "예측 요약 :  ex bjp mp to release in jail for year jail\n",
      "\n",
      "\n",
      "원문 : karnataka government planning launch skill development programme providing training domestic workers includes people employed house help month long certification programme karnataka scheme aims help workers learn skills line work enable access better employment opportunities \n",
      "실제 요약 : taka plans skill development project for domestic workers \n",
      "예측 요약 :  karnataka to get new vehicle accidents in bengaluru\n",
      "\n",
      "\n",
      "원문 : diljit dosanjh taapsee pannu starrer soorma released today laced promising plot weak execution impact wrote bollywood hungama hindustan times called soorma love story sports biopic film fails short full dramatic potential said ndtv rated \n",
      "실제 요약 : diljit dosanjh taapsee pannu starrer soorma hits theatres \n",
      "예측 요약 :  diljit diljit starrer diljit starrer hits theatres\n",
      "\n",
      "\n",
      "원문 : supreme court tuesday ruled members parliament members legislative assemblies cannot barred practising law apex court said mps mlas practise law full time salaried employees judgment delivered petition filed bjp ashwini kumar upadhyay sought ban lawmakers practising law \n",
      "실제 요약 : mps mlas cannot be barred from practising law supreme court \n",
      "예측 요약 :  sc refuses to stay mps from giving triple talaq bill\n",
      "\n",
      "\n",
      "원문 : zee group owned dth operator dish tv friday said received final approval information broadcasting ministry closing merger videocon new entity called dish tv videocon serve nearly million subscribers september dish tv videocon market share respectively \n",
      "실제 요약 : ministry approves merger of dish tv and videocon \n",
      "예측 요약 :  cigarette maker moves to be misleading on tv show\n",
      "\n",
      "\n",
      "원문 : us based turing robotic industries developed lakh smartphone last year august filed bankruptcy finland company phones produced turing robotic ceo steve said company filed bankruptcy order temporarily suspend manufacturing intentions company allegedly owes creditors nearly million \n",
      "실제 요약 : maker of phone files for bankruptcy stops production \n",
      "예측 요약 :  phone maker files patent for ipo in aircel\n",
      "\n",
      "\n",
      "원문 : nasa cassini spacecraft launched become first man made object go beyond saturn rings towards planet cassini perform orbits km gap ring particles ending mission september final orbit cassini plunge saturn atmosphere sending back detailed images planet surface earth \n",
      "실제 요약 : nasa sends st man made object between saturn and its rings \n",
      "예측 요약 :  nasa spacecraft to touch the sun in saturn\n",
      "\n",
      "\n",
      "원문 : music teacher us california arrested sexual misconduct allegedly giving tainted semen students reportedly distributed part non profit group programme decorated students gifted underprivileged children parents asked hand authorities testing \n",
      "실제 요약 : us teacher held for giving semen to students \n",
      "예측 요약 :  us teacher arrested for sexually assaulting students\n",
      "\n",
      "\n",
      "원문 : uk queen elizabeth ii cousin lord married partner james private ceremony last week marking extended royal family first sex wedding divorced father three walked altar ex wife three daughters attendance unclear queen royal family members attended union \n",
      "실제 요약 : uk royal family witnesses its first ever gay wedding \n",
      "예측 요약 :  queen elizabeth ii prince charles to marry british royal wedding\n",
      "\n",
      "\n",
      "원문 : man us accused negligent homicide leaving india origin fellow passenger grewal car alone vehicle met accident caught fire man suspended driving licence took taxi accident go hospital leaving grewal car \n",
      "실제 요약 : man leaves india origin woman to die in car in us \n",
      "예측 요약 :  man arrested for car with his own car in us\n",
      "\n",
      "\n",
      "원문 : dubai police dubai motorbike festival recently set guinness world record longest captain abdulla al member dubai police force performed non stop km broke previous record km convoy police vehicles guided attempt \n",
      "실제 요약 : dubai police sets world record for longest \n",
      "예측 요약 :  dubai dubai bridge set record for most ft\n",
      "\n",
      "\n",
      "원문 : indonesian judo player banned competing women kg visual impairment category asian para games refused remove hijab president indonesian national paralympic committee said team coach unaware rule english poor athlete broke disqualified \n",
      "실제 요약 : blind athlete disqualified from para games for not removing hijab \n",
      "예측 요약 :  indonesia bans athletes for olympics\n",
      "\n",
      "\n",
      "원문 : infosys announcement hire american workers two years us cited political victory president donald trump leadership newspaper reported glad see companies like infosys see opportunity american economy white house spokesperson noted earlier us accused infosys unfairly applying large number visas \n",
      "실제 요약 : infosys plan to hire americans political victory us \n"
     ]
    },
    {
     "name": "stdout",
     "output_type": "stream",
     "text": [
      "예측 요약 :  infosys cfo slams trump over security\n",
      "\n",
      "\n",
      "원문 : australia posthumously honoured peter sole white sprinter standing solidarity podium silent black power salute civil rights protest african american athletes mexico olympics aussie sprinter supported protest us smith john carlos wearing human rights badge leading frozen future olympics selection \n",
      "실제 요약 : aus honours white athlete involved in black power salute \n",
      "예측 요약 :  australia australia champ gay champ to be banned by white\n",
      "\n",
      "\n",
      "원문 : like humans possess ability pass information across generations behavioural discovered study done gps devices known ability find home long distances findings showed birds improvised routes learned older generations showing human like collective intelligence cumulative culture \n",
      "실제 요약 : can pass knowledge across generations study \n",
      "예측 요약 :  human trafficking cases in bhu study\n",
      "\n",
      "\n",
      "원문 : year old died four others sustained minor injuries van carrying kg ganesh idol ran people idol immersion procession bengaluru sunday driver lost control vehicle due steep road police said people reportedly drunk neglected safety measures procession \n",
      "실제 요약 : teen dies after being run over by van carrying ganesh idol \n",
      "예측 요약 :  dead as man dies while cleaning sewer in andhra\n",
      "\n",
      "\n"
     ]
    }
   ],
   "source": [
    "for i in range(50, 100):\n",
    "    print(\"원문 :\", seq2text(encoder_input_test[i]))\n",
    "    print(\"실제 요약 :\", seq2summary(decoder_input_test[i]))\n",
    "    print(\"예측 요약 :\", decode_sequence(encoder_input_test[i].reshape(1, text_maxlen)))\n",
    "    print(\"\\n\")"
   ]
  },
  {
   "cell_type": "markdown",
   "metadata": {},
   "source": [
    "추상적 요약을 통해 생성한 요약문을 실제 요약문과 비교해보았다.  \n",
    "재미있게도 유사한 부분도 있었지만 아직 생각보다 부족한 부분이 많다는 것을 느낀다.\n",
    "***\n",
    "### Step 5. Summa을 이용해서 추출적 요약해보기"
   ]
  },
  {
   "cell_type": "code",
   "execution_count": 78,
   "metadata": {},
   "outputs": [],
   "source": [
    "# Summa를 위한 라이브러리 적용\n",
    "import requests\n",
    "from summa.summarizer import summarize"
   ]
  },
  {
   "cell_type": "code",
   "execution_count": 79,
   "metadata": {},
   "outputs": [
    {
     "data": {
      "text/html": [
       "<div>\n",
       "<style scoped>\n",
       "    .dataframe tbody tr th:only-of-type {\n",
       "        vertical-align: middle;\n",
       "    }\n",
       "\n",
       "    .dataframe tbody tr th {\n",
       "        vertical-align: top;\n",
       "    }\n",
       "\n",
       "    .dataframe thead th {\n",
       "        text-align: right;\n",
       "    }\n",
       "</style>\n",
       "<table border=\"1\" class=\"dataframe\">\n",
       "  <thead>\n",
       "    <tr style=\"text-align: right;\">\n",
       "      <th></th>\n",
       "      <th>headlines</th>\n",
       "      <th>text</th>\n",
       "    </tr>\n",
       "  </thead>\n",
       "  <tbody>\n",
       "    <tr>\n",
       "      <th>0</th>\n",
       "      <td>upGrad learner switches to career in ML &amp; Al w...</td>\n",
       "      <td>Saurav Kant, an alumnus of upGrad and IIIT-B's...</td>\n",
       "    </tr>\n",
       "    <tr>\n",
       "      <th>1</th>\n",
       "      <td>Delhi techie wins free food from Swiggy for on...</td>\n",
       "      <td>Kunal Shah's credit card bill payment platform...</td>\n",
       "    </tr>\n",
       "    <tr>\n",
       "      <th>2</th>\n",
       "      <td>New Zealand end Rohit Sharma-led India's 12-ma...</td>\n",
       "      <td>New Zealand defeated India by 8 wickets in the...</td>\n",
       "    </tr>\n",
       "    <tr>\n",
       "      <th>3</th>\n",
       "      <td>Aegon life iTerm insurance plan helps customer...</td>\n",
       "      <td>With Aegon Life iTerm Insurance plan, customer...</td>\n",
       "    </tr>\n",
       "    <tr>\n",
       "      <th>4</th>\n",
       "      <td>Have known Hirani for yrs, what if MeToo claim...</td>\n",
       "      <td>Speaking about the sexual harassment allegatio...</td>\n",
       "    </tr>\n",
       "  </tbody>\n",
       "</table>\n",
       "</div>"
      ],
      "text/plain": [
       "                                           headlines  \\\n",
       "0  upGrad learner switches to career in ML & Al w...   \n",
       "1  Delhi techie wins free food from Swiggy for on...   \n",
       "2  New Zealand end Rohit Sharma-led India's 12-ma...   \n",
       "3  Aegon life iTerm insurance plan helps customer...   \n",
       "4  Have known Hirani for yrs, what if MeToo claim...   \n",
       "\n",
       "                                                text  \n",
       "0  Saurav Kant, an alumnus of upGrad and IIIT-B's...  \n",
       "1  Kunal Shah's credit card bill payment platform...  \n",
       "2  New Zealand defeated India by 8 wickets in the...  \n",
       "3  With Aegon Life iTerm Insurance plan, customer...  \n",
       "4  Speaking about the sexual harassment allegatio...  "
      ]
     },
     "execution_count": 79,
     "metadata": {},
     "output_type": "execute_result"
    }
   ],
   "source": [
    "Summa_data = pd.read_csv(data_path, encoding='iso-8859-1')\n",
    "Summa_data.head()"
   ]
  },
  {
   "cell_type": "code",
   "execution_count": 87,
   "metadata": {},
   "outputs": [
    {
     "name": "stdout",
     "output_type": "stream",
     "text": [
      "원문 : Former Finance Minister Yashwant Sinha on Tuesday demanded a probe into the alleged diversion of loans worth Ã¢ÂÂ¹31,000 crore by Dewan Housing Finance (DHFL). All agencies including regulators of the government have failed to track nefarious deals, he said. This comes after a media report on Tuesday accused DHFL's controlling shareholders of diverting funds to shell companies to buy assets.\n",
      "실제 요약 : Yashwant Sinha demands probe into alleged fund diversion by DHFL\n",
      "예측 요약 : Former Finance Minister Yashwant Sinha on Tuesday demanded a probe into the alleged diversion of loans worth Ã¢ÂÂ¹31,000 crore by Dewan Housing Finance (DHFL).\n",
      "\n",
      "\n",
      "원문 : US-based Boeing on Wednesday reported annual sales worth $101.12 billion in 2018, the first time the planemaker's sales crossed the $100-billion mark in its 102-year history. The company said it expects to deliver between 895 and 905 commercial aircraft in 2019. Boeing retained its position as the world's largest planemaker for the seventh straight year, delivering 806 aircraft in 2018. \n",
      "실제 요약 : Boeing sales cross $100bn for 1st time in its 102-yr history\n",
      "예측 요약 : Boeing retained its position as the world's largest planemaker for the seventh straight year, delivering 806 aircraft in 2018.\n",
      "\n",
      "\n",
      "원문 : text\n",
      "실제 요약 : headlines\n",
      "예측 요약 : \n",
      "\n",
      "\n",
      "원문 : OnePlus has emerged as India's best-selling premium smartphone brand of 2018, as per a report by Counterpoint. It captured 36% of the market share in the premium segment, in Q4 2018. Further, its OnePlus 6 emerged as the highest selling premium smartphone of 2018 followed by OnePlus 6T.\n",
      "실제 요약 : OnePlus named bestselling premium smartphone brand of 2018: Report\n",
      "예측 요약 : Further, its OnePlus 6 emerged as the highest selling premium smartphone of 2018 followed by OnePlus 6T.\n",
      "\n",
      "\n",
      "원문 : Filmmaker Pooja Bhatt, while talking about the presentation of women in her films, said, \"I can never look at a female body, even if it's naked, in a vulgar manner.\" \"Our audience can say...the women in my films are bold or sensual, but never ever vulgar,\" she added. Pooja further said her censor board is her \"own heart and mind\".\n",
      "실제 요약 : Can never look at female body, even if naked, in vulgar way: Pooja\n",
      "예측 요약 : \n",
      "\n",
      "\n",
      "원문 : Actress Mishti, who has featured in 'Manikarnika: The Queen of Jhansi', has said the film's co-director Kangana Ranaut made false promises to the cast. \"Kangana had said, 'I want dates because all characters look jumbled up...I'm trying my best to give everybody a prominent space on screen.' After watching the movie, there is no scope for other characters,\" Mishti added. \n",
      "실제 요약 : Kangana made fake promises to cast: 'Manikarnika' actress Mishti\n",
      "예측 요약 : \n",
      "\n",
      "\n",
      "원문 : The high-powered committee led by PM Narendra Modi to select the next CBI Director will meet again on February 1, Congress leader Mallikarjun Kharge has said. The panel consisting of Kharge and Chief Justice of India Ranjan Gogoi met on January 24, but the meeting ended \"inconclusively\" after Kharge cited lack of details in the list of 80 IPS officers. \n",
      "실제 요약 : PM-led panel to meet on Friday to pick new CBI chief: Kharge\n",
      "예측 요약 : \n",
      "\n",
      "\n",
      "원문 : Nevada State Athletic Commission has banned MMA fighters Conor McGregor and Khabib Nurmagomedov for six months and nine months respectively over their roles in the mass brawl that occurred after their fight at UFC 229 last October. McGregor and Khabib have been fined $50,000 (Ã¢ÂÂ¹35 lakh) and $500,000 (Ã¢ÂÂ¹3.5 crore) respectively. The brawl occurred after Nurmagomedov confronted McGregor's teammate.\n",
      "실제 요약 : McGregor fined Ã¢ÂÂ¹35 lakh, Khabib Ã¢ÂÂ¹3.5 crore for brawl; both banned\n",
      "예측 요약 : Nevada State Athletic Commission has banned MMA fighters Conor McGregor and Khabib Nurmagomedov for six months and nine months respectively over their roles in the mass brawl that occurred after their fight at UFC 229 last October.\n",
      "\n",
      "\n",
      "원문 : Pakistan captain Sarfaraz Ahmed, who has been banned for four matches over racist remarks, took an apparent dig at his critics by sharing a video of a child reciting 'log hai na' poem on Twitter. \"Pyaar karna hai to khud se kar...dushmani karne ke liye log hai na,\" the poem read. \"This is how the world is,\" Sarfaraz wrote.\n",
      "실제 요약 : Banned for 4 matches, Sarfaraz shares 'log hai na' poem for critics\n",
      "예측 요약 : Pakistan captain Sarfaraz Ahmed, who has been banned for four matches over racist remarks, took an apparent dig at his critics by sharing a video of a child reciting 'log hai na' poem on Twitter.\n",
      "\n",
      "\n",
      "원문 : Banned cricketer Sreesanth has told Supreme Court he initially confessed to Delhi Police about his alleged involvement in 2013 IPL spot-fixing scandal to escape continuous police torture. Sreesanth further said the bookie tried dragging him into spot-fixing but he didn't fall for it. Citing Sreesanth not informing BCCI about fixing approach, the apex court said Sreesanth's conduct \"wasn't good\".\n",
      "실제 요약 : Confessed to spot-fixing to escape police torture: Sreesanth to SC\n",
      "예측 요약 : Sreesanth further said the bookie tried dragging him into spot-fixing but he didn't fall for it.\n",
      "\n",
      "\n",
      "원문 : The Finance Ministry on Wednesday said the government will present an Interim Budget on February 1. The clarification came amid speculations that a full Budget may be presented during the session. The government recently assigned Piyush Goyal temporary additional charge of the Finance and Corporate Affairs ministries in the absence of Arun Jaitley, who is in the US for treatment.\n",
      "실제 요약 : Govt to present Interim Budget, not full Budget on February 1\n",
      "예측 요약 : The Finance Ministry on Wednesday said the government will present an Interim Budget on February 1.\n",
      "\n",
      "\n",
      "원문 : US President Donald Trump on Wednesday called his country's top intelligence chiefs \"naive\" and \"wrong\" on Iran and added that they should perhaps \"go back to school\". Trump claimed Iran is testing rockets, calling the country \"a source of potential danger and conflict\". Top US intelligence officials on Tuesday said that Iran isn't currently taking steps towards building nuclear weapons.\n",
      "실제 요약 : US intelligence naive and wrong, should go back to school: Trump\n",
      "예측 요약 : US President Donald Trump on Wednesday called his country's top intelligence chiefs \"naive\" and \"wrong\" on Iran and added that they should perhaps \"go back to school\".\n",
      "\n",
      "\n",
      "원문 : A senior priest at the Vatican who handled cases of sexual abuse has quit after being accused of sexual abuse by a former nun. The accused priest claimed he is innocent and said he would consider taking legal action. The Vatican said in a statement that a Church investigation of the case was underway.\n",
      "실제 요약 : Vatican priest handling sex abuse cases quits over alleged sex abuse\n",
      "예측 요약 : A senior priest at the Vatican who handled cases of sexual abuse has quit after being accused of sexual abuse by a former nun.\n",
      "\n",
      "\n",
      "원문 : A 22-year-old writer turned down a job offer, claiming she was bullied to the point of tears during her two-hour interview by a UK company's CEO. Olivia Bland added the \"brutal\" interview brought back painful memories of her abusive relationship. \"I am so sorry that anyone has been hurt, it is never my intent,\" Web Applications CEO Craig Dean replied. \n",
      "실제 요약 : Woman rejects job after CEO bullies her in interview; he apologises\n",
      "예측 요약 : A 22-year-old writer turned down a job offer, claiming she was bullied to the point of tears during her two-hour interview by a UK company's CEO.\n",
      "\n",
      "\n",
      "원문 : Noida Police has arrested Sector 20 station in-charge Manoj Pant and three journalists for allegedly extorting money from a call centre owner for removing his name from an FIR. The four were caught while taking bribe money of Ã¢ÂÂ¹8 lakh, police said. Pant was the lead investigator in the Paytm extortion case involving Founder Vijay Shekhar Sharma's secretary Sonia Dhawan.\n",
      "실제 요약 : Police officer probing Paytm extortion case arrested for extortion\n",
      "예측 요약 : Noida Police has arrested Sector 20 station in-charge Manoj Pant and three journalists for allegedly extorting money from a call centre owner for removing his name from an FIR.\n",
      "\n",
      "\n",
      "원문 : Airtel on Wednesday said that Qatar's sovereign wealth fund Qatar Investment Authority will invest $200 million through a primary equity issuance in Airtel Africa. India's second-largest telecom operator's Africa unit recently raised $1.25 billion from six investors. Airtel Africa, the holding company for Airtel's operations in 14 African countries, is preparing for an initial public offering.\n",
      "실제 요약 : Qatar to invest $200 million in Airtel Africa\n",
      "예측 요약 : Airtel Africa, the holding company for Airtel's operations in 14 African countries, is preparing for an initial public offering.\n",
      "\n",
      "\n",
      "원문 : Actor Shreyas Talpade said that 'Golmaal' filmmaker Rohit Shetty is still working on the script for the fifth instalment of the 'Golmaal' film franchise. \"He was telling us the other day that he...cracked some story. Once he's done with the...scripting, he'll take a call,Ã¢ÂÂ the actor added. The series features Shreyas along with Ajay Devgn, Arshad Warsi and Tusshar Kapoor.\n",
      "실제 요약 : Rohit Shetty still working on script for Golmaal 5: Shreyas\n",
      "예측 요약 : Actor Shreyas Talpade said that 'Golmaal' filmmaker Rohit Shetty is still working on the script for the fifth instalment of the 'Golmaal' film franchise.\n",
      "\n",
      "\n",
      "원문 : A 72-year-old man named Terry Sanderson has sued 'Avengers' actress Gwyneth Paltrow for allegedly crashing into him while skiing, and is seeking $3.1 million (over Ã¢ÂÂ¹22 crore) in damages. The lawsuit states the actress got up and skied away after knocking the man down, leaving him with broken ribs. The incident reportedly took place in 2016 in Utah, US. \n",
      "실제 요약 : Man sues Avengers actress Gwyneth for Ã¢ÂÂ¹22 crore over ski crash\n",
      "예측 요약 : A 72-year-old man named Terry Sanderson has sued 'Avengers' actress Gwyneth Paltrow for allegedly crashing into him while skiing, and is seeking $3.1 million (over Ã¢ÂÂ¹22 crore) in damages.\n",
      "\n",
      "\n",
      "원문 : Yami Gautam was felicitated by Border Security Force (BSF) in Amritsar for her performance in 'Uri: The Surgical Strike'. \"BSF is the first line of defence of our country and it gives me...pride to have met them,\" Yami said. The film, which also stars Vicky Kaushal, is based on the Indian Army's surgical strike operation which took place in 2016.\n",
      "실제 요약 : Yami Gautam felicitated by BSF for performance in 'Uri...'\n",
      "예측 요약 : Yami Gautam was felicitated by Border Security Force (BSF) in Amritsar for her performance in 'Uri: The Surgical Strike'.\n",
      "\n",
      "\n",
      "원문 : Social media giant Facebook has hired privacy critic Nate Cardozo, formerly the top legal counsel for US privacy watchdog EFF, as a privacy policy manager for WhatsApp. Cardozo had called Facebook a \"faceless corporation\" whose business model depends on user's confusion and indifference about privacy, in October 2015. Facebook has also hired attorney Robyn Greene as its privacy policy manager.\n",
      "실제 요약 : Facebook hires its privacy critic as privacy policy manager\n",
      "예측 요약 : \n",
      "\n",
      "\n",
      "원문 : Apple CEO Tim Cook said the company plans to lower some iPhones' prices in markets with currencies that weakened against the US dollar in the past year. \"WeÃ¢ÂÂve decided to go back to (iPhone prices) more commensurate with...local prices...a year ago,\" Cook added. The price cuts, in hopes of increasing sales, are reportedly occurring for second time in 12 years.\n",
      "실제 요약 : Apple to cut some iPhones' prices outside US over strong dollar\n",
      "예측 요약 : \"WeÃ¢ÂÂve decided to go back to (iPhone prices) more commensurate with...local prices...a year ago,\" Cook added.\n",
      "\n",
      "\n",
      "원문 : Scientists in Australia's Flinders University are testing a wetsuit prototype that could protect its wearer after a shark attack. The suit, made of synthetic material similar to the material used in bulletproof vests, could help reduce blood loss after a shark attack. \"The majority of fatalities from shark bites is due to blood loss...shock from blood loss,\" a scientist said.\n",
      "실제 요약 : Scientists test wetsuit to protect wearer after shark attack\n",
      "예측 요약 : \"The majority of fatalities from shark bites is due to blood loss...shock from blood loss,\" a scientist said.\n",
      "\n",
      "\n",
      "원문 : BJP National Secretary Rahul Sinha on Wednesday asked the party workers in West Bengal to come armed with sticks to PM Narendra Modi's rally in the state on February 2. His statement came a day after clashes broke out following BJP chief Amit Shah's WB rally. Sinha added the TMC is indulged in violence as they're afraid of BJP's strength.\n",
      "실제 요약 : Come armed with sticks for PM Modi's rally in WB: BJP leader\n",
      "예측 요약 : BJP National Secretary Rahul Sinha on Wednesday asked the party workers in West Bengal to come armed with sticks to PM Narendra Modi's rally in the state on February 2.\n",
      "\n",
      "\n",
      "원문 : BJP President Amit Shah on Wednesday took a dig at the Opposition parties saying that the 'mahagathbandhan' for the Opposition is 4B - \"Bua-Bhatija-Bhai-Behen\". He added that 4B for the BJP meant \"Badhta Bharat, Banta Bharat\". He said Opposition's government cannot take the country ahead and \"only Modiji can provide a 'mazboot' (strong) government\".\n",
      "실제 요약 : '4B' for Opposition is 'Bua-Bhatija-Bhai-Behen': Amit Shah\n",
      "예측 요약 : BJP President Amit Shah on Wednesday took a dig at the Opposition parties saying that the 'mahagathbandhan' for the Opposition is 4B - \"Bua-Bhatija-Bhai-Behen\".\n",
      "\n",
      "\n",
      "원문 : German automaker Volkswagen Group has retained the car industry's top spot in global sales, beating its Japanese rival Toyota. Volkswagen's sales, including its MAN and Scania heavy trucks and buses, rose 0.9% to 10.83 million in 2018, the company had said. Toyota came second with around 10.6 million deliveries, including its affiliated brands Daihatsu and Hino, in 2018.\n",
      "실제 요약 : Volkswagen retains top spot in global sales, beats Toyota\n",
      "예측 요약 : Volkswagen's sales, including its MAN and Scania heavy trucks and buses, rose 0.9% to 10.83 million in 2018, the company had said.\n",
      "\n",
      "\n",
      "원문 : Ousted Nissan Chairman Carlos Ghosn has said his arrest over alleged financial misconduct was led by \"plot and treason\" by the Japanese carmaker's executives who opposed its deeper integration with Renault and Mitsubishi. Ghosn added he had discussed the integration plans with Nissan's CEO in September, a month before his arrest. He further said he wouldn't flee if granted bail.\n",
      "실제 요약 : Plot, treason by Nissan executives led to my arrest: Ghosn\n",
      "예측 요약 : Ousted Nissan Chairman Carlos Ghosn has said his arrest over alleged financial misconduct was led by \"plot and treason\" by the Japanese carmaker's executives who opposed its deeper integration with Renault and Mitsubishi.\n",
      "\n",
      "\n",
      "원문 : The government has cut down customs duty on import of parts and components for electric vehicles to 10-15%, down from the previous 15-30%. The Central Board of Indirect Taxes and Customs said disassembled parts will attract 10% duty, whereas 15% will be levied on pre-assembled packs. However, fully built electric vehicles will continue to attract 25% import duty.\n",
      "실제 요약 : Govt cuts customs duty on electric vehicle parts to 10-15%\n",
      "예측 요약 : The government has cut down customs duty on import of parts and components for electric vehicles to 10-15%, down from the previous 15-30%.\n",
      "\n",
      "\n",
      "원문 : Government officials on Wednesday said that a swine flu outbreak has killed 76 people this year in Rajasthan. Colder weather has worsened the seasonal outbreak of the H1N1 virus in the country, officials added. Rajasthan recorded more than a third of all swine flu deaths in India with Jodhpur being the worst affected area in the state, officials said.\n",
      "실제 요약 : Swine flu outbreak kills 76 in Rajasthan\n",
      "예측 요약 : Government officials on Wednesday said that a swine flu outbreak has killed 76 people this year in Rajasthan.\n",
      "\n",
      "\n",
      "원문 : North Korea is \"unlikely to completely give up its nuclear weapons and production capabilities\", Director of US' National Intelligence, Daniel Coats, said. \"North Korean leaders view nuclear arms as critical to regime survival,\" he added. His statements come despite North Korea's agreement with the US at the Singapore summit last year to denuclearise the Korean Peninsula. \n",
      "실제 요약 : N Korea unlikely to give up nuclear weapons: US intelligence chief\n",
      "예측 요약 : \"North Korean leaders view nuclear arms as critical to regime survival,\" he added.\n",
      "\n",
      "\n",
      "원문 : Jet Airways on Wednesday denied it was directed by GE Capital Aviation Services to ground its aircraft due to non-payment of dues. The airline said it's in the process of delivering three aircraft to lessors due to the expiry of lease terms. Further, three aircraft have been temporarily grounded to carry out an engine normalisation exercise, it added.\n",
      "실제 요약 : Jet Airways denies being told to ground aircraft\n",
      "예측 요약 : Further, three aircraft have been temporarily grounded to carry out an engine normalisation exercise, it added.\n",
      "\n",
      "\n",
      "원문 : Retired Justice Srikrishna's enquiry panel has found that ex-CEO Chanda Kochhar violated ICICI Bank's code of conduct. The bank said it'll treat Kochhar's exit as termination and will take back all bonuses paid to her from April 2009 until March 2018. The CBI recently filed a case against Kochhar, her husband, and Videocon MD in the ICICI-Videocon loan case.\n",
      "실제 요약 : ICICI fires Chanda Kochhar, to take back bonuses paid in last 9 yrs\n",
      "예측 요약 : Retired Justice Srikrishna's enquiry panel has found that ex-CEO Chanda Kochhar violated ICICI Bank's code of conduct.\n",
      "\n",
      "\n",
      "원문 : Ex-India cricketer Jacob Martin has been shifted to general ward from the ICU after being on a ventilator for nearly a month following a road accident, wherein he severely injured his lungs. Martin's wife Khyati mentioned there are chances that Jacob will be in hospital for two more months. BCCI, CSK and various cricketers provided financial assistance for Martin's treatment.\n",
      "실제 요약 : Ex-cricketer Martin out of ICU after being on ventilator for a month\n",
      "예측 요약 : Ex-India cricketer Jacob Martin has been shifted to general ward from the ICU after being on a ventilator for nearly a month following a road accident, wherein he severely injured his lungs.\n",
      "\n",
      "\n",
      "원문 : Sri Lanka all-rounder Thisara Perera has written to Sri Lanka Cricket CEO Ashley de Silva, asking the board to intervene after ODI captain Lasith Malinga's wife Tanya targeted him on Facebook. Tanya accused Perera of meeting country's Sports Minister to secure his place in the team. \"We've become laughing stock of whole country...because of one person's personal vendetta,\" Perera wrote.\n",
      "실제 요약 : Malinga's wife targets Perera on Facebook, he seeks board's help\n",
      "예측 요약 : Tanya accused Perera of meeting country's Sports Minister to secure his place in the team.\n",
      "\n",
      "\n",
      "원문 : Goa CM and ex-Defence Minister Manohar Parrikar has written a letter to Congress President Rahul Gandhi over his claim that Parrikar told him he has nothing to do with new Rafale deal. Parrikar wrote, \"Kindly do not use your visit to an ailing person to feed political opportunism.\" In their five-minute meeting, they didn't discuss anything about Rafale, he added.\n",
      "실제 요약 : Don't use visit to ailing man for political gains: Goa CM to Rahul\n",
      "예측 요약 : \n",
      "\n",
      "\n",
      "원문 : Prime Minister Narendra Modi stopped his speech at the inauguration of the new terminal building at Surat airport after observing that a cameraman had fainted. PM Modi then asked his officers to urgently arrange for an ambulance for the cameraman. \"It's good that PM was paying attention to his surroundings during his speech,\" the cameraman later said from a hospital. \n",
      "실제 요약 : PM Modi stops speech after cameraman faints, asks officers to help\n",
      "예측 요약 : PM Modi then asked his officers to urgently arrange for an ambulance for the cameraman.\n",
      "\n",
      "\n",
      "원문 : A couple got divorced minutes after their wedding ceremony got over in Gujarat's Gondal as a disagreement broke out and relatives from both sides started throwing dishes at each other during lunch. The advocates representing both sides arrived at the marriage hall and got the couple divorced within minutes. The couple even reportedly returned the gifts exchanged during the ceremony.\n",
      "실제 요약 : Couple divorces minutes after marriage as families fight over lunch\n",
      "예측 요약 : A couple got divorced minutes after their wedding ceremony got over in Gujarat's Gondal as a disagreement broke out and relatives from both sides started throwing dishes at each other during lunch.\n",
      "\n",
      "\n",
      "원문 : Gujarat Education Minister Bhupendrasinh Chudasma has written a congratulatory message to a yoga ashram run by rape-convict Asaram's organisation for observing February 14 as \"Matru-Pitru Pujan Divas\" (Mother-Father worship day). After the Congress termed the letter as \"unfortunate\", saying it \"shows the nexus between BJP and godman\", Chudasma clarified, \"All I have done is sent best wishes.\" \n",
      "실제 요약 : Minister praises rape-convict Asaram over Matru-Pitru Divas\n",
      "예측 요약 : \n",
      "\n",
      "\n",
      "원문 : Venezuelan President NicolÃÂ¡s Maduro has claimed that his American counterpart Donald Trump ordered the Colombian government and the Colombian mafia to kill him. \"If something happens to me, Trump and Colombian President IvÃÂ¡n MÃÂ¡rquez will bear responsibility,\" he added. The US has blamed Maduro for the economic crisis in Venezuela and recognised opposition leader Juan GuaidÃÂ³ as interim President.\n",
      "실제 요약 : Trump ordered to kill me: Venezuela President Maduro\n",
      "예측 요약 : Venezuelan President NicolÃÂ¡s Maduro has claimed that his American counterpart Donald Trump ordered the Colombian government and the Colombian mafia to kill him.\n",
      "\n",
      "\n",
      "원문 : Eight Asian billionaires aged 90 or above on the Bloomberg Billionaires Index of world's 500 richest people have a combined net worth of $125 billion. The richest among them is Hong Kong's Li Ka Shing with a net worth of $30.5 billion. India's 90-year-old Pallonji Mistry, who controls 18.3% of Tata Sons through Shapoorji Pallonji Group, is worth $20.1 billion.\n",
      "실제 요약 : 8 Asian billionaires aged over 90, including Mistry, control $125bn\n",
      "예측 요약 : The richest among them is Hong Kong's Li Ka Shing with a net worth of $30.5 billion.\n",
      "\n",
      "\n",
      "원문 : Tamil Nadu food safety officials on Wednesday raided and seized 1,000 kgs of banned plastic items from Hotel Saravana Bhavan in Chennai's Vadapalani. Officials began a surprise check in the branch at 8 am. The state government had banned single-use plastics from January 1 and said the banned items should be handed over at the offices of the city corporation.\n",
      "실제 요약 : 1,000 kg banned plastic seized from Saravana Bhavan in Chennai\n",
      "예측 요약 : Tamil Nadu food safety officials on Wednesday raided and seized 1,000 kgs of banned plastic items from Hotel Saravana Bhavan in Chennai's Vadapalani.\n",
      "\n",
      "\n",
      "원문 : Actress Shamita Shetty was verbally abused and her driver was slapped in an incident of road rage in Mumbai on Tuesday, as per reports. The incident reportedly took place after a motorist who was accompanied by two friends, rammed his vehicle into Shamita's car. The men allegedly manhandled and threatened Shamita's driver when he stepped out to inspect the damage. \n",
      "실제 요약 : Shamita Shetty abused, driver slapped after accident: Report\n",
      "예측 요약 : Actress Shamita Shetty was verbally abused and her driver was slapped in an incident of road rage in Mumbai on Tuesday, as per reports.\n",
      "\n",
      "\n",
      "원문 : Actress Vaani Kapoor said that trolling has become a norm on social media, adding, \"There's no one who hasn't got trolled on social media.\" \"Everybody is out there to pull the other person down but it'll only bother [you] if you let it bother you,\" Vaani added. She further said, social media offers a platform \"where people enjoy belittling everybody\". \n",
      "실제 요약 : Trolling has become the norm on social media: Vaani\n",
      "예측 요약 : \n",
      "\n",
      "\n",
      "원문 : Actress Sushmita Sen took to Instagram to share a joke on the subject of marriage. \"Whoever invented marriage was creepy as hell. Like I love you so much IÃ¢ÂÂm gonna get the government involved so you canÃ¢ÂÂt leave,\" Sushmita's post read. \"This is an insult to [the] beauty of marriage,\" an Instagram user commented on her post.\n",
      "실제 요약 : Whoever invented marriage was creepy as hell: Sushmita posts joke\n",
      "예측 요약 : \"This is an insult to [the] beauty of marriage,\" an Instagram user commented on her post.\n",
      "\n",
      "\n",
      "원문 : Television actor Karanvir Bohra, who flew to Russia on Tuesday to attend a film festival, has been detained in Moscow due to passport damage. \"They [are] contemplating to deport me back to India,\" the actor wrote on Twitter. The Indian embassy in Russia's capital responded to his tweet and said that they were looking into the issue. \n",
      "실제 요약 : Actor Karanvir Bohra detained in Russia over passport damage\n",
      "예측 요약 : Television actor Karanvir Bohra, who flew to Russia on Tuesday to attend a film festival, has been detained in Moscow due to passport damage.\n",
      "\n",
      "\n",
      "원문 : While speaking about winning awards for his films, Shah Rukh Khan said, \"If I don't get an award, that award is at a loss.\" \"Sometimes, the prestige of an award increases when I receive it,\" the actor jokingly added. Shah Rukh further said that he was \"extremely ambitious\" but in a \"fair manner\". \n",
      "실제 요약 : If I don't get an award, that award is at loss: SRK\n",
      "예측 요약 : \n",
      "\n",
      "\n",
      "원문 : Actress Patralekhaa will make her debut in the Kannada film industry with the action-comedy film 'Where is my Kannadaka?' \"I can definitely say that itÃ¢ÂÂs a kind of role that I havenÃ¢ÂÂt portrayed on screen so far and that makes it special for me,\" the actress said in a statement. Shooting for the film will reportedly begin in April.\n",
      "실제 요약 : Actress Patralekhaa to make her Kannada film debut \n",
      "예측 요약 : \n",
      "\n",
      "\n",
      "원문 : Gmail on Tuesday faced a global outage, which also affected India, wherein certain users complained they faced a '404 error' message while trying to sign-in to their accounts. The error message read: \"The requested URL was not found on this server. That's all we know.\" Google responded saying \"problem with Gmail should be resolved (now). We apologise for the inconvenience\".\n",
      "실제 요약 : Gmail faces temporary global outage, users face '404 error'\n",
      "예측 요약 : Gmail on Tuesday faced a global outage, which also affected India, wherein certain users complained they faced a '404 error' message while trying to sign-in to their accounts.\n",
      "\n",
      "\n",
      "원문 : Shiv Sena chief Uddhav Thackeray has asked the BJP to decide about the alliance with the Sena within 15 days and said the BJP should make a concrete proposal on the alliance. Thackeray added that only if the BJP agrees to Sena's terms and conditions, the party will agree for an alliance. Sena is free to fight independently, he said. \n",
      "실제 요약 : Decide about an alliance within 15 days: Uddhav to BJP\n",
      "예측 요약 : Shiv Sena chief Uddhav Thackeray has asked the BJP to decide about the alliance with the Sena within 15 days and said the BJP should make a concrete proposal on the alliance.\n",
      "\n",
      "\n",
      "원문 : BJP President Amit Shah on Wednesday took a dig at the Opposition's proposed grand alliance saying if the \"mahagathbandhan comes to power, each opposition leader will be a Prime Minister every day of the week\". He added, \"[The] country will go on...holiday on Sunday\". He said the Opposition is thinking about leading the country but does not have a leader.\n",
      "실제 요약 : Grand alliance, if wins, will see a new PM every day: Shah\n",
      "예측 요약 : He said the Opposition is thinking about leading the country but does not have a leader.\n",
      "\n",
      "\n",
      "원문 : Prime Minister Narendra Modi on Wednesday said his government's demonetisation decision made houses affordable for the aspiring youth. He added decisions like demonetisation and RERA have put a check on black money that used to be \"parked in the real estate sector\". He said 'UDAN' (Ude Desh ka Aam Nagrik) scheme has boosted the development of the country's aviation sector.\n",
      "실제 요약 : Demonetisation made homes affordable for youth: PM Modi\n",
      "예측 요약 : He added decisions like demonetisation and RERA have put a check on black money that used to be \"parked in the real estate sector\".\n",
      "\n",
      "\n"
     ]
    }
   ],
   "source": [
    "for i in range(50, 100):\n",
    "    print(\"원문 :\", Summa_data['text'][i])\n",
    "    print(\"실제 요약 :\", Summa_data['headlines'][i])\n",
    "    print(\"예측 요약 :\", summarize(Summa_data['text'][i], ratio=0.4))\n",
    "    print(\"\\n\")\n"
   ]
  },
  {
   "cell_type": "markdown",
   "metadata": {},
   "source": [
    "**추상적(Abstractive) 요약결과**  \n",
    "원문 : security researchers annual hacking conference germany said successfully defeated biometric authentication creating fake hand wax researchers took around photos hand using camera removing infrared sensor better highlight veins authentication system hackers jan julian   \n",
    "실제 요약 : hackers make fake wax hand fool authentication system   \n",
    "예측 요약 :  hacked to be made by seconds  \n",
    "\n",
    "**=> 새로운 문장을 생성하여 때로는 이전의 요약보다 나은 요약을 만들기도 하지만, 아직 학습량이 부족하여 매끄럽고 자연스럽게 만들지 못한다.**  \n",
    " \n",
    "***\n",
    "**추출적(Extractive) 요약결과**  \n",
    "원문 : BJP President Amit Shah on Wednesday took a dig at the Opposition's proposed grand alliance saying if the \"mahagathbandhan comes to power, each opposition leader will be a Prime Minister every day of the week\". He added, \"[The] country will go on...holiday on Sunday\". He said the Opposition is thinking about leading the country but does not have a leader.  \n",
    "실제 요약 : Grand alliance, if wins, will see a new PM every day: Shah  \n",
    "예측 요약 : He said the Opposition is thinking about leading the country but does not have a leader.  \n",
    "\n",
    "**=> 위의 추상적 요약보다는 문법적으로 좀더 낫다고 판단된다. 하지만 추상적요약의 성장 가능성이 더 높다고 판단된다.**\n",
    "***\n",
    "### 회고록\n",
    "이번노드는 늘어진 문장을 요약하는 방법들에 대해서 배웠다.  \n",
    "확실히 CV노드보다 자연어처리 노드가 좀더 친근하게 다가온다.  \n",
    "생각보다 학습모델을 구현하는데에 어려움이 있었지만  \n",
    "그래도 CV노드를 진행할 때보다는 마음이 편한했다.  \n",
    "앞으로의 노드들에서도 자연어에 대한 부분을 좀더 습득하게 되기를 바란다."
   ]
  },
  {
   "cell_type": "code",
   "execution_count": null,
   "metadata": {},
   "outputs": [],
   "source": []
  }
 ],
 "metadata": {
  "kernelspec": {
   "display_name": "Python 3",
   "language": "python",
   "name": "python3"
  },
  "language_info": {
   "codemirror_mode": {
    "name": "ipython",
    "version": 3
   },
   "file_extension": ".py",
   "mimetype": "text/x-python",
   "name": "python",
   "nbconvert_exporter": "python",
   "pygments_lexer": "ipython3",
   "version": "3.7.9"
  }
 },
 "nbformat": 4,
 "nbformat_minor": 4
}
