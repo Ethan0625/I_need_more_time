{
 "cells": [
  {
   "cell_type": "markdown",
   "metadata": {},
   "source": [
    "## Movie Recommendation\n",
    "### 프로젝트 - Movielens 영화 추천 실습\n",
    "***\n",
    "> **1) 데이터 준비와 전처리\n",
    "> Movielens 데이터는 rating.dat 안에 이미 인덱싱까지 완료된 사용자-영화-평점 데이터가 깔끔하게 정리되어 있습니다.**  \n",
    "> \n",
    "> **2) 분석해 봅시다.  \n",
    "> -ratings에 있는 유니크한 영화 개수  \n",
    "> -rating에 있는 유니크한 사용자 수  \n",
    "> -가장 인기 있는 영화 30개(인기순)**  \n",
    "> \n",
    "> **3) 내가 선호하는 영화를 5가지 골라서 rating에 추가해 줍시다.**  \n",
    "> **4) CSR matrix를 직접 만들어 봅시다.**  \n",
    "> **5) als_model = AlternatingLeastSquares 모델을 직접 구성하여 훈련시켜 봅시다.**  \n",
    "> **6) 내가 선호하는 5가지 영화 중 하나와 그 외의 영화 하나를 골라 훈련된 모델이 예측한 나의 선호도를 파악해 보세요.**  \n",
    "> **7) 내가 좋아하는 영화와 비슷한 영화를 추천받아 봅시다.**  \n",
    "> **8) 내가 가장 좋아할 만한 영화들을 추천받아 봅시다.**\n",
    "***\n",
    "**평가문항**  \n",
    "> ***1. CSR matrix가 정상적으로 만들어졌다.  \n",
    "> -사용자와 아이템 개수를 바탕으로 정확한 사이즈로 만들었다.***  \n",
    ">  \n",
    "> ***2. MF 모델이 정상적으로 훈련되어 그럴듯한 추천이 이루어졌다.   \n",
    "> -사용자와 아이템 벡터 내적수치가 의미있게 형성되었다.***  \n",
    ">  \n",
    "> ***3. 비슷한 영화 찾기와 유저에게 추천하기의 과정이 정상적으로 진행되었다.  \n",
    "> -MF모델이 예측한 유저 선호도 및 아이템간 유사도, 기여도가 의미있게 측정되었다.***  \n",
    "***\n",
    "### **1) 데이터 준비와 전처리**"
   ]
  },
  {
   "cell_type": "code",
   "execution_count": 1,
   "metadata": {},
   "outputs": [
    {
     "data": {
      "text/html": [
       "<div>\n",
       "<style scoped>\n",
       "    .dataframe tbody tr th:only-of-type {\n",
       "        vertical-align: middle;\n",
       "    }\n",
       "\n",
       "    .dataframe tbody tr th {\n",
       "        vertical-align: top;\n",
       "    }\n",
       "\n",
       "    .dataframe thead th {\n",
       "        text-align: right;\n",
       "    }\n",
       "</style>\n",
       "<table border=\"1\" class=\"dataframe\">\n",
       "  <thead>\n",
       "    <tr style=\"text-align: right;\">\n",
       "      <th></th>\n",
       "      <th>user_id</th>\n",
       "      <th>movie_id</th>\n",
       "      <th>rating</th>\n",
       "      <th>timestamp</th>\n",
       "    </tr>\n",
       "  </thead>\n",
       "  <tbody>\n",
       "    <tr>\n",
       "      <th>0</th>\n",
       "      <td>1</td>\n",
       "      <td>1193</td>\n",
       "      <td>5</td>\n",
       "      <td>978300760</td>\n",
       "    </tr>\n",
       "    <tr>\n",
       "      <th>1</th>\n",
       "      <td>1</td>\n",
       "      <td>661</td>\n",
       "      <td>3</td>\n",
       "      <td>978302109</td>\n",
       "    </tr>\n",
       "    <tr>\n",
       "      <th>2</th>\n",
       "      <td>1</td>\n",
       "      <td>914</td>\n",
       "      <td>3</td>\n",
       "      <td>978301968</td>\n",
       "    </tr>\n",
       "    <tr>\n",
       "      <th>3</th>\n",
       "      <td>1</td>\n",
       "      <td>3408</td>\n",
       "      <td>4</td>\n",
       "      <td>978300275</td>\n",
       "    </tr>\n",
       "    <tr>\n",
       "      <th>4</th>\n",
       "      <td>1</td>\n",
       "      <td>2355</td>\n",
       "      <td>5</td>\n",
       "      <td>978824291</td>\n",
       "    </tr>\n",
       "  </tbody>\n",
       "</table>\n",
       "</div>"
      ],
      "text/plain": [
       "   user_id  movie_id  rating  timestamp\n",
       "0        1      1193       5  978300760\n",
       "1        1       661       3  978302109\n",
       "2        1       914       3  978301968\n",
       "3        1      3408       4  978300275\n",
       "4        1      2355       5  978824291"
      ]
     },
     "execution_count": 1,
     "metadata": {},
     "output_type": "execute_result"
    }
   ],
   "source": [
    "import pandas as pd\n",
    "import os\n",
    "from scipy.sparse import csr_matrix\n",
    "from implicit.als import AlternatingLeastSquares\n",
    "import numpy as np\n",
    "\n",
    "rating_file_path=os.getenv('HOME') + '/aiffel/recommendata_iu/data/ml-1m/ratings.dat'\n",
    "ratings_cols = ['user_id', 'movie_id', 'rating', 'timestamp']\n",
    "ratings = pd.read_csv(rating_file_path, sep='::', names=ratings_cols, engine='python')\n",
    "orginal_data_size = len(ratings)\n",
    "ratings.head()"
   ]
  },
  {
   "cell_type": "code",
   "execution_count": 2,
   "metadata": {},
   "outputs": [
    {
     "name": "stdout",
     "output_type": "stream",
     "text": [
      "orginal_data_size: 1000209, filtered_data_size: 836478\n",
      "Ratio of Remaining Data is 83.63%\n"
     ]
    }
   ],
   "source": [
    "# 3점 이상만 남기기\n",
    "ratings = ratings[ratings['rating']>=3]\n",
    "filtered_data_size = len(ratings)\n",
    "\n",
    "print(f'orginal_data_size: {orginal_data_size}, filtered_data_size: {filtered_data_size}')\n",
    "print(f'Ratio of Remaining Data is {filtered_data_size / orginal_data_size:.2%}')"
   ]
  },
  {
   "cell_type": "code",
   "execution_count": 3,
   "metadata": {},
   "outputs": [],
   "source": [
    "# ratings에서 timestamp 컬럼 삭제\n",
    "ratings.drop(['timestamp'], axis=1, inplace=True)"
   ]
  },
  {
   "cell_type": "code",
   "execution_count": 4,
   "metadata": {},
   "outputs": [
    {
     "data": {
      "text/html": [
       "<div>\n",
       "<style scoped>\n",
       "    .dataframe tbody tr th:only-of-type {\n",
       "        vertical-align: middle;\n",
       "    }\n",
       "\n",
       "    .dataframe tbody tr th {\n",
       "        vertical-align: top;\n",
       "    }\n",
       "\n",
       "    .dataframe thead th {\n",
       "        text-align: right;\n",
       "    }\n",
       "</style>\n",
       "<table border=\"1\" class=\"dataframe\">\n",
       "  <thead>\n",
       "    <tr style=\"text-align: right;\">\n",
       "      <th></th>\n",
       "      <th>user_id</th>\n",
       "      <th>movie_id</th>\n",
       "      <th>count</th>\n",
       "    </tr>\n",
       "  </thead>\n",
       "  <tbody>\n",
       "    <tr>\n",
       "      <th>0</th>\n",
       "      <td>1</td>\n",
       "      <td>1193</td>\n",
       "      <td>5</td>\n",
       "    </tr>\n",
       "    <tr>\n",
       "      <th>1</th>\n",
       "      <td>1</td>\n",
       "      <td>661</td>\n",
       "      <td>3</td>\n",
       "    </tr>\n",
       "    <tr>\n",
       "      <th>2</th>\n",
       "      <td>1</td>\n",
       "      <td>914</td>\n",
       "      <td>3</td>\n",
       "    </tr>\n",
       "    <tr>\n",
       "      <th>3</th>\n",
       "      <td>1</td>\n",
       "      <td>3408</td>\n",
       "      <td>4</td>\n",
       "    </tr>\n",
       "    <tr>\n",
       "      <th>4</th>\n",
       "      <td>1</td>\n",
       "      <td>2355</td>\n",
       "      <td>5</td>\n",
       "    </tr>\n",
       "  </tbody>\n",
       "</table>\n",
       "</div>"
      ],
      "text/plain": [
       "   user_id  movie_id  count\n",
       "0        1      1193      5\n",
       "1        1       661      3\n",
       "2        1       914      3\n",
       "3        1      3408      4\n",
       "4        1      2355      5"
      ]
     },
     "execution_count": 4,
     "metadata": {},
     "output_type": "execute_result"
    }
   ],
   "source": [
    "# rating 컬럼의 이름을 count로 바꿉니다.\n",
    "ratings.rename(columns={'rating':'count'}, inplace=True)\n",
    "ratings['count']\n",
    "ratings.head()"
   ]
  },
  {
   "cell_type": "code",
   "execution_count": 5,
   "metadata": {},
   "outputs": [
    {
     "data": {
      "text/html": [
       "<div>\n",
       "<style scoped>\n",
       "    .dataframe tbody tr th:only-of-type {\n",
       "        vertical-align: middle;\n",
       "    }\n",
       "\n",
       "    .dataframe tbody tr th {\n",
       "        vertical-align: top;\n",
       "    }\n",
       "\n",
       "    .dataframe thead th {\n",
       "        text-align: right;\n",
       "    }\n",
       "</style>\n",
       "<table border=\"1\" class=\"dataframe\">\n",
       "  <thead>\n",
       "    <tr style=\"text-align: right;\">\n",
       "      <th></th>\n",
       "      <th>movie_id</th>\n",
       "      <th>title</th>\n",
       "      <th>genre</th>\n",
       "    </tr>\n",
       "  </thead>\n",
       "  <tbody>\n",
       "    <tr>\n",
       "      <th>0</th>\n",
       "      <td>1</td>\n",
       "      <td>Toy Story (1995)</td>\n",
       "      <td>Animation|Children's|Comedy</td>\n",
       "    </tr>\n",
       "    <tr>\n",
       "      <th>1</th>\n",
       "      <td>2</td>\n",
       "      <td>Jumanji (1995)</td>\n",
       "      <td>Adventure|Children's|Fantasy</td>\n",
       "    </tr>\n",
       "    <tr>\n",
       "      <th>2</th>\n",
       "      <td>3</td>\n",
       "      <td>Grumpier Old Men (1995)</td>\n",
       "      <td>Comedy|Romance</td>\n",
       "    </tr>\n",
       "    <tr>\n",
       "      <th>3</th>\n",
       "      <td>4</td>\n",
       "      <td>Waiting to Exhale (1995)</td>\n",
       "      <td>Comedy|Drama</td>\n",
       "    </tr>\n",
       "    <tr>\n",
       "      <th>4</th>\n",
       "      <td>5</td>\n",
       "      <td>Father of the Bride Part II (1995)</td>\n",
       "      <td>Comedy</td>\n",
       "    </tr>\n",
       "  </tbody>\n",
       "</table>\n",
       "</div>"
      ],
      "text/plain": [
       "   movie_id                               title                         genre\n",
       "0         1                    Toy Story (1995)   Animation|Children's|Comedy\n",
       "1         2                      Jumanji (1995)  Adventure|Children's|Fantasy\n",
       "2         3             Grumpier Old Men (1995)                Comedy|Romance\n",
       "3         4            Waiting to Exhale (1995)                  Comedy|Drama\n",
       "4         5  Father of the Bride Part II (1995)                        Comedy"
      ]
     },
     "execution_count": 5,
     "metadata": {},
     "output_type": "execute_result"
    }
   ],
   "source": [
    "# 영화 제목을 보기 위해 메타 데이터를 읽어옵니다.\n",
    "movie_file_path=os.getenv('HOME') + '/aiffel/recommendata_iu/data/ml-1m/movies.dat'\n",
    "cols = ['movie_id', 'title', 'genre'] \n",
    "movies = pd.read_csv(movie_file_path, sep='::', names=cols, engine='python')\n",
    "movies.head()"
   ]
  },
  {
   "cell_type": "markdown",
   "metadata": {},
   "source": [
    "### 2) 분석해 봅시다. \n",
    "**-ratings에 있는 유니크한 영화 개수  \n",
    "-rating에 있는 유니크한 사용자 수  \n",
    "-가장 인기 있는 영화 30개(인기순)**  "
   ]
  },
  {
   "cell_type": "code",
   "execution_count": 6,
   "metadata": {},
   "outputs": [
    {
     "data": {
      "text/plain": [
       "3628"
      ]
     },
     "execution_count": 6,
     "metadata": {},
     "output_type": "execute_result"
    }
   ],
   "source": [
    "# ratings에 있는 유니크한 영화 개수\n",
    "ratings['movie_id'].nunique()"
   ]
  },
  {
   "cell_type": "code",
   "execution_count": 7,
   "metadata": {},
   "outputs": [
    {
     "data": {
      "text/plain": [
       "6039"
      ]
     },
     "execution_count": 7,
     "metadata": {},
     "output_type": "execute_result"
    }
   ],
   "source": [
    "# ratings에 있는 유니크한 사용자수\n",
    "ratings['user_id'].nunique()"
   ]
  },
  {
   "cell_type": "code",
   "execution_count": 8,
   "metadata": {},
   "outputs": [
    {
     "data": {
      "text/html": [
       "<div>\n",
       "<style scoped>\n",
       "    .dataframe tbody tr th:only-of-type {\n",
       "        vertical-align: middle;\n",
       "    }\n",
       "\n",
       "    .dataframe tbody tr th {\n",
       "        vertical-align: top;\n",
       "    }\n",
       "\n",
       "    .dataframe thead th {\n",
       "        text-align: right;\n",
       "    }\n",
       "</style>\n",
       "<table border=\"1\" class=\"dataframe\">\n",
       "  <thead>\n",
       "    <tr style=\"text-align: right;\">\n",
       "      <th></th>\n",
       "      <th>user_id</th>\n",
       "      <th>movie_id</th>\n",
       "      <th>count</th>\n",
       "      <th>title</th>\n",
       "    </tr>\n",
       "  </thead>\n",
       "  <tbody>\n",
       "    <tr>\n",
       "      <th>0</th>\n",
       "      <td>1</td>\n",
       "      <td>1193</td>\n",
       "      <td>5</td>\n",
       "      <td>One Flew Over the Cuckoo's Nest (1975)</td>\n",
       "    </tr>\n",
       "    <tr>\n",
       "      <th>1</th>\n",
       "      <td>1</td>\n",
       "      <td>661</td>\n",
       "      <td>3</td>\n",
       "      <td>James and the Giant Peach (1996)</td>\n",
       "    </tr>\n",
       "    <tr>\n",
       "      <th>2</th>\n",
       "      <td>1</td>\n",
       "      <td>914</td>\n",
       "      <td>3</td>\n",
       "      <td>My Fair Lady (1964)</td>\n",
       "    </tr>\n",
       "    <tr>\n",
       "      <th>3</th>\n",
       "      <td>1</td>\n",
       "      <td>3408</td>\n",
       "      <td>4</td>\n",
       "      <td>Erin Brockovich (2000)</td>\n",
       "    </tr>\n",
       "    <tr>\n",
       "      <th>4</th>\n",
       "      <td>1</td>\n",
       "      <td>2355</td>\n",
       "      <td>5</td>\n",
       "      <td>Bug's Life, A (1998)</td>\n",
       "    </tr>\n",
       "    <tr>\n",
       "      <th>...</th>\n",
       "      <td>...</td>\n",
       "      <td>...</td>\n",
       "      <td>...</td>\n",
       "      <td>...</td>\n",
       "    </tr>\n",
       "    <tr>\n",
       "      <th>836473</th>\n",
       "      <td>6040</td>\n",
       "      <td>1090</td>\n",
       "      <td>3</td>\n",
       "      <td>Platoon (1986)</td>\n",
       "    </tr>\n",
       "    <tr>\n",
       "      <th>836474</th>\n",
       "      <td>6040</td>\n",
       "      <td>1094</td>\n",
       "      <td>5</td>\n",
       "      <td>Crying Game, The (1992)</td>\n",
       "    </tr>\n",
       "    <tr>\n",
       "      <th>836475</th>\n",
       "      <td>6040</td>\n",
       "      <td>562</td>\n",
       "      <td>5</td>\n",
       "      <td>Welcome to the Dollhouse (1995)</td>\n",
       "    </tr>\n",
       "    <tr>\n",
       "      <th>836476</th>\n",
       "      <td>6040</td>\n",
       "      <td>1096</td>\n",
       "      <td>4</td>\n",
       "      <td>Sophie's Choice (1982)</td>\n",
       "    </tr>\n",
       "    <tr>\n",
       "      <th>836477</th>\n",
       "      <td>6040</td>\n",
       "      <td>1097</td>\n",
       "      <td>4</td>\n",
       "      <td>E.T. the Extra-Terrestrial (1982)</td>\n",
       "    </tr>\n",
       "  </tbody>\n",
       "</table>\n",
       "<p>836478 rows × 4 columns</p>\n",
       "</div>"
      ],
      "text/plain": [
       "        user_id  movie_id  count                                   title\n",
       "0             1      1193      5  One Flew Over the Cuckoo's Nest (1975)\n",
       "1             1       661      3        James and the Giant Peach (1996)\n",
       "2             1       914      3                     My Fair Lady (1964)\n",
       "3             1      3408      4                  Erin Brockovich (2000)\n",
       "4             1      2355      5                    Bug's Life, A (1998)\n",
       "...         ...       ...    ...                                     ...\n",
       "836473     6040      1090      3                          Platoon (1986)\n",
       "836474     6040      1094      5                 Crying Game, The (1992)\n",
       "836475     6040       562      5         Welcome to the Dollhouse (1995)\n",
       "836476     6040      1096      4                  Sophie's Choice (1982)\n",
       "836477     6040      1097      4       E.T. the Extra-Terrestrial (1982)\n",
       "\n",
       "[836478 rows x 4 columns]"
      ]
     },
     "execution_count": 8,
     "metadata": {},
     "output_type": "execute_result"
    }
   ],
   "source": [
    "# 합쳐주기\n",
    "ratings_title= pd.merge(ratings, movies[['title','movie_id']], on='movie_id', how='left')\n",
    "ratings_title"
   ]
  },
  {
   "cell_type": "code",
   "execution_count": 9,
   "metadata": {},
   "outputs": [
    {
     "data": {
      "text/plain": [
       "title\n",
       "American Beauty (1999)                                   3211\n",
       "Star Wars: Episode IV - A New Hope (1977)                2910\n",
       "Star Wars: Episode V - The Empire Strikes Back (1980)    2885\n",
       "Star Wars: Episode VI - Return of the Jedi (1983)        2716\n",
       "Saving Private Ryan (1998)                               2561\n",
       "Terminator 2: Judgment Day (1991)                        2509\n",
       "Silence of the Lambs, The (1991)                         2498\n",
       "Raiders of the Lost Ark (1981)                           2473\n",
       "Back to the Future (1985)                                2460\n",
       "Matrix, The (1999)                                       2434\n",
       "Jurassic Park (1993)                                     2413\n",
       "Sixth Sense, The (1999)                                  2385\n",
       "Fargo (1996)                                             2371\n",
       "Braveheart (1995)                                        2314\n",
       "Men in Black (1997)                                      2297\n",
       "Schindler's List (1993)                                  2257\n",
       "Princess Bride, The (1987)                               2252\n",
       "Shakespeare in Love (1998)                               2213\n",
       "L.A. Confidential (1997)                                 2210\n",
       "Shawshank Redemption, The (1994)                         2194\n",
       "Godfather, The (1972)                                    2167\n",
       "Groundhog Day (1993)                                     2121\n",
       "E.T. the Extra-Terrestrial (1982)                        2102\n",
       "Being John Malkovich (1999)                              2066\n",
       "Ghostbusters (1984)                                      2051\n",
       "Pulp Fiction (1994)                                      2030\n",
       "Forrest Gump (1994)                                      2022\n",
       "Terminator, The (1984)                                   2019\n",
       "Toy Story (1995)                                         2000\n",
       "Fugitive, The (1993)                                     1941\n",
       "Name: user_id, dtype: int64"
      ]
     },
     "execution_count": 9,
     "metadata": {},
     "output_type": "execute_result"
    }
   ],
   "source": [
    "# ratings에 가장 인기많은 영화\n",
    "movie_count = ratings_title.groupby('title')['user_id'].count()\n",
    "movie_count.sort_values(ascending=False).head(30)"
   ]
  },
  {
   "cell_type": "markdown",
   "metadata": {},
   "source": [
    "### 3) 선호하는 영화 5개 추가하기"
   ]
  },
  {
   "cell_type": "code",
   "execution_count": 10,
   "metadata": {},
   "outputs": [
    {
     "data": {
      "text/html": [
       "<div>\n",
       "<style scoped>\n",
       "    .dataframe tbody tr th:only-of-type {\n",
       "        vertical-align: middle;\n",
       "    }\n",
       "\n",
       "    .dataframe tbody tr th {\n",
       "        vertical-align: top;\n",
       "    }\n",
       "\n",
       "    .dataframe thead th {\n",
       "        text-align: right;\n",
       "    }\n",
       "</style>\n",
       "<table border=\"1\" class=\"dataframe\">\n",
       "  <thead>\n",
       "    <tr style=\"text-align: right;\">\n",
       "      <th></th>\n",
       "      <th>user_id</th>\n",
       "      <th>movie_id</th>\n",
       "      <th>count</th>\n",
       "      <th>title</th>\n",
       "    </tr>\n",
       "  </thead>\n",
       "  <tbody>\n",
       "    <tr>\n",
       "      <th>836473</th>\n",
       "      <td>6040</td>\n",
       "      <td>1090.0</td>\n",
       "      <td>3</td>\n",
       "      <td>Platoon (1986)</td>\n",
       "    </tr>\n",
       "    <tr>\n",
       "      <th>836474</th>\n",
       "      <td>6040</td>\n",
       "      <td>1094.0</td>\n",
       "      <td>5</td>\n",
       "      <td>Crying Game, The (1992)</td>\n",
       "    </tr>\n",
       "    <tr>\n",
       "      <th>836475</th>\n",
       "      <td>6040</td>\n",
       "      <td>562.0</td>\n",
       "      <td>5</td>\n",
       "      <td>Welcome to the Dollhouse (1995)</td>\n",
       "    </tr>\n",
       "    <tr>\n",
       "      <th>836476</th>\n",
       "      <td>6040</td>\n",
       "      <td>1096.0</td>\n",
       "      <td>4</td>\n",
       "      <td>Sophie's Choice (1982)</td>\n",
       "    </tr>\n",
       "    <tr>\n",
       "      <th>836477</th>\n",
       "      <td>6040</td>\n",
       "      <td>1097.0</td>\n",
       "      <td>4</td>\n",
       "      <td>E.T. the Extra-Terrestrial (1982)</td>\n",
       "    </tr>\n",
       "    <tr>\n",
       "      <th>0</th>\n",
       "      <td>ethan</td>\n",
       "      <td>NaN</td>\n",
       "      <td>4</td>\n",
       "      <td>Home Alone (1990)</td>\n",
       "    </tr>\n",
       "    <tr>\n",
       "      <th>1</th>\n",
       "      <td>ethan</td>\n",
       "      <td>NaN</td>\n",
       "      <td>4</td>\n",
       "      <td>Snow White and the Seven Dwarfs (1937)</td>\n",
       "    </tr>\n",
       "    <tr>\n",
       "      <th>2</th>\n",
       "      <td>ethan</td>\n",
       "      <td>NaN</td>\n",
       "      <td>4</td>\n",
       "      <td>Aladdin (1992)</td>\n",
       "    </tr>\n",
       "    <tr>\n",
       "      <th>3</th>\n",
       "      <td>ethan</td>\n",
       "      <td>NaN</td>\n",
       "      <td>4</td>\n",
       "      <td>Pinocchio (1940)</td>\n",
       "    </tr>\n",
       "    <tr>\n",
       "      <th>4</th>\n",
       "      <td>ethan</td>\n",
       "      <td>NaN</td>\n",
       "      <td>4</td>\n",
       "      <td>Beauty and the Beast (1991)</td>\n",
       "    </tr>\n",
       "  </tbody>\n",
       "</table>\n",
       "</div>"
      ],
      "text/plain": [
       "       user_id  movie_id  count                                   title\n",
       "836473    6040    1090.0      3                          Platoon (1986)\n",
       "836474    6040    1094.0      5                 Crying Game, The (1992)\n",
       "836475    6040     562.0      5         Welcome to the Dollhouse (1995)\n",
       "836476    6040    1096.0      4                  Sophie's Choice (1982)\n",
       "836477    6040    1097.0      4       E.T. the Extra-Terrestrial (1982)\n",
       "0        ethan       NaN      4                       Home Alone (1990)\n",
       "1        ethan       NaN      4  Snow White and the Seven Dwarfs (1937)\n",
       "2        ethan       NaN      4                          Aladdin (1992)\n",
       "3        ethan       NaN      4                        Pinocchio (1940)\n",
       "4        ethan       NaN      4             Beauty and the Beast (1991)"
      ]
     },
     "execution_count": 10,
     "metadata": {},
     "output_type": "execute_result"
    }
   ],
   "source": [
    "# 내가 좋아하는 영화 5개 고르기\n",
    "my_favorite = ['Home Alone (1990)' , 'Snow White and the Seven Dwarfs (1937)' ,'Aladdin (1992)' ,'Pinocchio (1940)' ,'Beauty and the Beast (1991)']\n",
    "\n",
    "# 'ethan'이라는 user_id가 위영화의 평가점수를 4점씩 주었다고 가정하겠습니다.\n",
    "my_movielist = pd.DataFrame({'user_id': ['ethan']*5, 'title': my_favorite, 'count':[4]*5})\n",
    "\n",
    "if not ratings_title.isin({'user_id':['ethan']})['user_id'].any():  # user_id에 'ethan'이라는 데이터가 없다면\n",
    "    ratings_title = ratings_title.append(my_movielist)                           # 위에 임의로 만든 my_favorite 데이터를 추가해 줍니다. \n",
    "\n",
    "ratings_title.tail(10) "
   ]
  },
  {
   "cell_type": "code",
   "execution_count": 11,
   "metadata": {},
   "outputs": [
    {
     "data": {
      "text/html": [
       "<div>\n",
       "<style scoped>\n",
       "    .dataframe tbody tr th:only-of-type {\n",
       "        vertical-align: middle;\n",
       "    }\n",
       "\n",
       "    .dataframe tbody tr th {\n",
       "        vertical-align: top;\n",
       "    }\n",
       "\n",
       "    .dataframe thead th {\n",
       "        text-align: right;\n",
       "    }\n",
       "</style>\n",
       "<table border=\"1\" class=\"dataframe\">\n",
       "  <thead>\n",
       "    <tr style=\"text-align: right;\">\n",
       "      <th></th>\n",
       "      <th>user_id</th>\n",
       "      <th>movie_id</th>\n",
       "      <th>count</th>\n",
       "      <th>title</th>\n",
       "    </tr>\n",
       "  </thead>\n",
       "  <tbody>\n",
       "    <tr>\n",
       "      <th>836473</th>\n",
       "      <td>6040</td>\n",
       "      <td>1090.0</td>\n",
       "      <td>3</td>\n",
       "      <td>Platoon (1986)</td>\n",
       "    </tr>\n",
       "    <tr>\n",
       "      <th>836474</th>\n",
       "      <td>6040</td>\n",
       "      <td>1094.0</td>\n",
       "      <td>5</td>\n",
       "      <td>Crying Game, The (1992)</td>\n",
       "    </tr>\n",
       "    <tr>\n",
       "      <th>836475</th>\n",
       "      <td>6040</td>\n",
       "      <td>562.0</td>\n",
       "      <td>5</td>\n",
       "      <td>Welcome to the Dollhouse (1995)</td>\n",
       "    </tr>\n",
       "    <tr>\n",
       "      <th>836476</th>\n",
       "      <td>6040</td>\n",
       "      <td>1096.0</td>\n",
       "      <td>4</td>\n",
       "      <td>Sophie's Choice (1982)</td>\n",
       "    </tr>\n",
       "    <tr>\n",
       "      <th>836477</th>\n",
       "      <td>6040</td>\n",
       "      <td>1097.0</td>\n",
       "      <td>4</td>\n",
       "      <td>E.T. the Extra-Terrestrial (1982)</td>\n",
       "    </tr>\n",
       "    <tr>\n",
       "      <th>836478</th>\n",
       "      <td>ethan</td>\n",
       "      <td>NaN</td>\n",
       "      <td>4</td>\n",
       "      <td>Home Alone (1990)</td>\n",
       "    </tr>\n",
       "    <tr>\n",
       "      <th>836479</th>\n",
       "      <td>ethan</td>\n",
       "      <td>NaN</td>\n",
       "      <td>4</td>\n",
       "      <td>Snow White and the Seven Dwarfs (1937)</td>\n",
       "    </tr>\n",
       "    <tr>\n",
       "      <th>836480</th>\n",
       "      <td>ethan</td>\n",
       "      <td>NaN</td>\n",
       "      <td>4</td>\n",
       "      <td>Aladdin (1992)</td>\n",
       "    </tr>\n",
       "    <tr>\n",
       "      <th>836481</th>\n",
       "      <td>ethan</td>\n",
       "      <td>NaN</td>\n",
       "      <td>4</td>\n",
       "      <td>Pinocchio (1940)</td>\n",
       "    </tr>\n",
       "    <tr>\n",
       "      <th>836482</th>\n",
       "      <td>ethan</td>\n",
       "      <td>NaN</td>\n",
       "      <td>4</td>\n",
       "      <td>Beauty and the Beast (1991)</td>\n",
       "    </tr>\n",
       "  </tbody>\n",
       "</table>\n",
       "</div>"
      ],
      "text/plain": [
       "       user_id  movie_id  count                                   title\n",
       "836473    6040    1090.0      3                          Platoon (1986)\n",
       "836474    6040    1094.0      5                 Crying Game, The (1992)\n",
       "836475    6040     562.0      5         Welcome to the Dollhouse (1995)\n",
       "836476    6040    1096.0      4                  Sophie's Choice (1982)\n",
       "836477    6040    1097.0      4       E.T. the Extra-Terrestrial (1982)\n",
       "836478   ethan       NaN      4                       Home Alone (1990)\n",
       "836479   ethan       NaN      4  Snow White and the Seven Dwarfs (1937)\n",
       "836480   ethan       NaN      4                          Aladdin (1992)\n",
       "836481   ethan       NaN      4                        Pinocchio (1940)\n",
       "836482   ethan       NaN      4             Beauty and the Beast (1991)"
      ]
     },
     "execution_count": 11,
     "metadata": {},
     "output_type": "execute_result"
    }
   ],
   "source": [
    "# index번호를 다시 매겨주기\n",
    "ratings_title.reset_index(drop=True, inplace=True)\n",
    "ratings_title.tail(10)"
   ]
  },
  {
   "cell_type": "markdown",
   "metadata": {},
   "source": [
    "**movie_id의 NaN값을 영화의 movie_id로 대체하기 위해 title merge 실행합니다.**"
   ]
  },
  {
   "cell_type": "code",
   "execution_count": 12,
   "metadata": {},
   "outputs": [
    {
     "data": {
      "text/html": [
       "<div>\n",
       "<style scoped>\n",
       "    .dataframe tbody tr th:only-of-type {\n",
       "        vertical-align: middle;\n",
       "    }\n",
       "\n",
       "    .dataframe tbody tr th {\n",
       "        vertical-align: top;\n",
       "    }\n",
       "\n",
       "    .dataframe thead th {\n",
       "        text-align: right;\n",
       "    }\n",
       "</style>\n",
       "<table border=\"1\" class=\"dataframe\">\n",
       "  <thead>\n",
       "    <tr style=\"text-align: right;\">\n",
       "      <th></th>\n",
       "      <th>user_id</th>\n",
       "      <th>movie_id_x</th>\n",
       "      <th>count</th>\n",
       "      <th>title</th>\n",
       "      <th>movie_id_y</th>\n",
       "    </tr>\n",
       "  </thead>\n",
       "  <tbody>\n",
       "    <tr>\n",
       "      <th>836473</th>\n",
       "      <td>6040</td>\n",
       "      <td>1090.0</td>\n",
       "      <td>3</td>\n",
       "      <td>Platoon (1986)</td>\n",
       "      <td>1090</td>\n",
       "    </tr>\n",
       "    <tr>\n",
       "      <th>836474</th>\n",
       "      <td>6040</td>\n",
       "      <td>1094.0</td>\n",
       "      <td>5</td>\n",
       "      <td>Crying Game, The (1992)</td>\n",
       "      <td>1094</td>\n",
       "    </tr>\n",
       "    <tr>\n",
       "      <th>836475</th>\n",
       "      <td>6040</td>\n",
       "      <td>562.0</td>\n",
       "      <td>5</td>\n",
       "      <td>Welcome to the Dollhouse (1995)</td>\n",
       "      <td>562</td>\n",
       "    </tr>\n",
       "    <tr>\n",
       "      <th>836476</th>\n",
       "      <td>6040</td>\n",
       "      <td>1096.0</td>\n",
       "      <td>4</td>\n",
       "      <td>Sophie's Choice (1982)</td>\n",
       "      <td>1096</td>\n",
       "    </tr>\n",
       "    <tr>\n",
       "      <th>836477</th>\n",
       "      <td>6040</td>\n",
       "      <td>1097.0</td>\n",
       "      <td>4</td>\n",
       "      <td>E.T. the Extra-Terrestrial (1982)</td>\n",
       "      <td>1097</td>\n",
       "    </tr>\n",
       "    <tr>\n",
       "      <th>836478</th>\n",
       "      <td>ethan</td>\n",
       "      <td>NaN</td>\n",
       "      <td>4</td>\n",
       "      <td>Home Alone (1990)</td>\n",
       "      <td>586</td>\n",
       "    </tr>\n",
       "    <tr>\n",
       "      <th>836479</th>\n",
       "      <td>ethan</td>\n",
       "      <td>NaN</td>\n",
       "      <td>4</td>\n",
       "      <td>Snow White and the Seven Dwarfs (1937)</td>\n",
       "      <td>594</td>\n",
       "    </tr>\n",
       "    <tr>\n",
       "      <th>836480</th>\n",
       "      <td>ethan</td>\n",
       "      <td>NaN</td>\n",
       "      <td>4</td>\n",
       "      <td>Aladdin (1992)</td>\n",
       "      <td>588</td>\n",
       "    </tr>\n",
       "    <tr>\n",
       "      <th>836481</th>\n",
       "      <td>ethan</td>\n",
       "      <td>NaN</td>\n",
       "      <td>4</td>\n",
       "      <td>Pinocchio (1940)</td>\n",
       "      <td>596</td>\n",
       "    </tr>\n",
       "    <tr>\n",
       "      <th>836482</th>\n",
       "      <td>ethan</td>\n",
       "      <td>NaN</td>\n",
       "      <td>4</td>\n",
       "      <td>Beauty and the Beast (1991)</td>\n",
       "      <td>595</td>\n",
       "    </tr>\n",
       "  </tbody>\n",
       "</table>\n",
       "</div>"
      ],
      "text/plain": [
       "       user_id  movie_id_x  count                                   title  \\\n",
       "836473    6040      1090.0      3                          Platoon (1986)   \n",
       "836474    6040      1094.0      5                 Crying Game, The (1992)   \n",
       "836475    6040       562.0      5         Welcome to the Dollhouse (1995)   \n",
       "836476    6040      1096.0      4                  Sophie's Choice (1982)   \n",
       "836477    6040      1097.0      4       E.T. the Extra-Terrestrial (1982)   \n",
       "836478   ethan         NaN      4                       Home Alone (1990)   \n",
       "836479   ethan         NaN      4  Snow White and the Seven Dwarfs (1937)   \n",
       "836480   ethan         NaN      4                          Aladdin (1992)   \n",
       "836481   ethan         NaN      4                        Pinocchio (1940)   \n",
       "836482   ethan         NaN      4             Beauty and the Beast (1991)   \n",
       "\n",
       "        movie_id_y  \n",
       "836473        1090  \n",
       "836474        1094  \n",
       "836475         562  \n",
       "836476        1096  \n",
       "836477        1097  \n",
       "836478         586  \n",
       "836479         594  \n",
       "836480         588  \n",
       "836481         596  \n",
       "836482         595  "
      ]
     },
     "execution_count": 12,
     "metadata": {},
     "output_type": "execute_result"
    }
   ],
   "source": [
    "ratings_title_num= pd.merge(ratings_title, movies[['title','movie_id']], on='title', how='left')\n",
    "ratings_title_num.tail(10)"
   ]
  },
  {
   "cell_type": "code",
   "execution_count": 13,
   "metadata": {},
   "outputs": [],
   "source": [
    "# ratings_title_num에서 movie_id_x 컬럼 삭제\n",
    "ratings_title_num.drop(['movie_id_x'], axis=1, inplace=True)\n",
    "# movie_id_y 컬럼의 이름을 movie_id로 바꿉니다.\n",
    "ratings_title_num.rename(columns={'movie_id_y':'movie_id'}, inplace=True)"
   ]
  },
  {
   "cell_type": "code",
   "execution_count": 14,
   "metadata": {},
   "outputs": [
    {
     "data": {
      "text/html": [
       "<div>\n",
       "<style scoped>\n",
       "    .dataframe tbody tr th:only-of-type {\n",
       "        vertical-align: middle;\n",
       "    }\n",
       "\n",
       "    .dataframe tbody tr th {\n",
       "        vertical-align: top;\n",
       "    }\n",
       "\n",
       "    .dataframe thead th {\n",
       "        text-align: right;\n",
       "    }\n",
       "</style>\n",
       "<table border=\"1\" class=\"dataframe\">\n",
       "  <thead>\n",
       "    <tr style=\"text-align: right;\">\n",
       "      <th></th>\n",
       "      <th>user_id</th>\n",
       "      <th>count</th>\n",
       "      <th>title</th>\n",
       "      <th>movie_id</th>\n",
       "    </tr>\n",
       "  </thead>\n",
       "  <tbody>\n",
       "    <tr>\n",
       "      <th>836473</th>\n",
       "      <td>6040</td>\n",
       "      <td>3</td>\n",
       "      <td>Platoon (1986)</td>\n",
       "      <td>1090</td>\n",
       "    </tr>\n",
       "    <tr>\n",
       "      <th>836474</th>\n",
       "      <td>6040</td>\n",
       "      <td>5</td>\n",
       "      <td>Crying Game, The (1992)</td>\n",
       "      <td>1094</td>\n",
       "    </tr>\n",
       "    <tr>\n",
       "      <th>836475</th>\n",
       "      <td>6040</td>\n",
       "      <td>5</td>\n",
       "      <td>Welcome to the Dollhouse (1995)</td>\n",
       "      <td>562</td>\n",
       "    </tr>\n",
       "    <tr>\n",
       "      <th>836476</th>\n",
       "      <td>6040</td>\n",
       "      <td>4</td>\n",
       "      <td>Sophie's Choice (1982)</td>\n",
       "      <td>1096</td>\n",
       "    </tr>\n",
       "    <tr>\n",
       "      <th>836477</th>\n",
       "      <td>6040</td>\n",
       "      <td>4</td>\n",
       "      <td>E.T. the Extra-Terrestrial (1982)</td>\n",
       "      <td>1097</td>\n",
       "    </tr>\n",
       "    <tr>\n",
       "      <th>836478</th>\n",
       "      <td>ethan</td>\n",
       "      <td>4</td>\n",
       "      <td>Home Alone (1990)</td>\n",
       "      <td>586</td>\n",
       "    </tr>\n",
       "    <tr>\n",
       "      <th>836479</th>\n",
       "      <td>ethan</td>\n",
       "      <td>4</td>\n",
       "      <td>Snow White and the Seven Dwarfs (1937)</td>\n",
       "      <td>594</td>\n",
       "    </tr>\n",
       "    <tr>\n",
       "      <th>836480</th>\n",
       "      <td>ethan</td>\n",
       "      <td>4</td>\n",
       "      <td>Aladdin (1992)</td>\n",
       "      <td>588</td>\n",
       "    </tr>\n",
       "    <tr>\n",
       "      <th>836481</th>\n",
       "      <td>ethan</td>\n",
       "      <td>4</td>\n",
       "      <td>Pinocchio (1940)</td>\n",
       "      <td>596</td>\n",
       "    </tr>\n",
       "    <tr>\n",
       "      <th>836482</th>\n",
       "      <td>ethan</td>\n",
       "      <td>4</td>\n",
       "      <td>Beauty and the Beast (1991)</td>\n",
       "      <td>595</td>\n",
       "    </tr>\n",
       "  </tbody>\n",
       "</table>\n",
       "</div>"
      ],
      "text/plain": [
       "       user_id  count                                   title  movie_id\n",
       "836473    6040      3                          Platoon (1986)      1090\n",
       "836474    6040      5                 Crying Game, The (1992)      1094\n",
       "836475    6040      5         Welcome to the Dollhouse (1995)       562\n",
       "836476    6040      4                  Sophie's Choice (1982)      1096\n",
       "836477    6040      4       E.T. the Extra-Terrestrial (1982)      1097\n",
       "836478   ethan      4                       Home Alone (1990)       586\n",
       "836479   ethan      4  Snow White and the Seven Dwarfs (1937)       594\n",
       "836480   ethan      4                          Aladdin (1992)       588\n",
       "836481   ethan      4                        Pinocchio (1940)       596\n",
       "836482   ethan      4             Beauty and the Beast (1991)       595"
      ]
     },
     "execution_count": 14,
     "metadata": {},
     "output_type": "execute_result"
    }
   ],
   "source": [
    "ratings_title_num.tail(10)"
   ]
  },
  {
   "cell_type": "code",
   "execution_count": 15,
   "metadata": {},
   "outputs": [],
   "source": [
    "# 고유한 유저, 아티스트를 찾아내는 코드\n",
    "user_unique = ratings_title_num['user_id'].unique()\n",
    "movie_unique = ratings_title_num['title'].unique()\n",
    "\n",
    "# 유저, 아티스트 indexing 하는 코드 idx는 index의 약자입니다.\n",
    "# 고유한 유저id와 영화타이틀의 객체:인덱스 순으로 하는 딕셔너리를 각각 생성합니다.\n",
    "user_to_idx = {v:k for k,v in enumerate(user_unique)}\n",
    "movie_to_idx = {v:k for k,v in enumerate(movie_unique)}"
   ]
  },
  {
   "cell_type": "code",
   "execution_count": 40,
   "metadata": {},
   "outputs": [
    {
     "name": "stdout",
     "output_type": "stream",
     "text": [
      "{\"One Flew Over the Cuckoo's Nest (1975)\": 0, 'James and the Giant Peach (1996)': 1, 'My Fair Lady (1964)': 2, 'Erin Brockovich (2000)': 3, \"Bug's Life, A (1998)\": 4, 'Princess Bride, The (1987)': 5, 'Ben-Hur (1959)': 6, 'Christmas Story, A (1983)': 7, 'Snow White and the Seven Dwarfs (1937)': 8, 'Wizard of Oz, The (1939)': 9, 'Beauty and the Beast (1991)': 10, 'Gigi (1958)': 11, 'Miracle on 34th Street (1947)': 12, \"Ferris Bueller's Day Off (1986)\": 13, 'Sound of Music, The (1965)': 14, 'Airplane! (1980)': 15, 'Tarzan (1999)': 16, 'Bambi (1942)': 17, 'Awakenings (1990)': 18, 'Big (1988)': 19, 'Pleasantville (1998)': 20, 'Wallace & Gromit: The Best of Aardman Animation (1996)': 21, 'Back to the Future (1985)': 22, \"Schindler's List (1993)\": 23, 'Meet Joe Black (1998)': 24, 'Pocahontas (1995)': 25, 'E.T. the Extra-Terrestrial (1982)': 26, 'Titanic (1997)': 27, 'Ponette (1996)': 28, 'Close Shave, A (1995)': 29, 'Antz (1998)': 30, 'Girl, Interrupted (1999)': 31, 'Hercules (1997)': 32, 'Aladdin (1992)': 33, 'Mulan (1998)': 34, 'Hunchback of Notre Dame, The (1996)': 35, 'Last Days of Disco, The (1998)': 36, 'Cinderella (1950)': 37, 'Sixth Sense, The (1999)': 38, 'Apollo 13 (1995)': 39, 'Toy Story (1995)': 40, 'Rain Man (1988)': 41, 'Driving Miss Daisy (1989)': 42, 'Run Lola Run (Lola rennt) (1998)': 43, 'Star Wars: Episode IV - A New Hope (1977)': 44, 'Mary Poppins (1964)': 45, 'Dumbo (1941)': 46, 'To Kill a Mockingbird (1962)': 47, 'Saving Private Ryan (1998)': 48, 'Secret Garden, The (1993)': 49, 'Toy Story 2 (1999)': 50, 'Fargo (1996)': 51, 'Dead Poets Society (1989)': 52, 'Shine (1996)': 53, 'Verdict, The (1982)': 54, 'Shall We Dance? (Shall We Dansu?) (1996)': 55, 'Courage Under Fire (1996)': 56, 'Untouchables, The (1987)': 57, 'Mission: Impossible (1996)': 58, 'Few Good Men, A (1992)': 59, 'Star Wars: Episode I - The Phantom Menace (1999)': 60, 'Rebel Without a Cause (1955)': 61, 'Total Recall (1990)': 62, 'Hustler, The (1961)': 63, 'Star Wars: Episode VI - Return of the Jedi (1983)': 64, 'U.S. Marshalls (1998)': 65, 'Jackal, The (1997)': 66, 'Gladiator (2000)': 67, 'Double Jeopardy (1999)': 68, 'Yojimbo (1961)': 69, 'Ran (1985)': 70, 'Snake Eyes (1998)': 71, 'Fisher King, The (1991)': 72, 'Mister Roberts (1955)': 73, 'Day the Earth Stood Still, The (1951)': 74, 'Hunt for Red October, The (1990)': 75, 'Outbreak (1995)': 76, 'Simon Birch (1998)': 77, 'Stand and Deliver (1987)': 78, 'Maverick (1994)': 79, 'Stand by Me (1986)': 80, 'Green Mile, The (1999)': 81, 'Lost World: Jurassic Park, The (1997)': 82, 'Gandhi (1982)': 83, 'Strictly Ballroom (1992)': 84, 'League of Their Own, A (1992)': 85, 'Bodyguard, The (1992)': 86, 'Braveheart (1995)': 87, 'Ronin (1998)': 88, 'Payback (1999)': 89, 'Spanish Prisoner, The (1997)': 90, 'Close Encounters of the Third Kind (1977)': 91, 'Terminator 2: Judgment Day (1991)': 92, 'Alien: Resurrection (1997)': 93, 'Guns of Navarone, The (1961)': 94, \"Soldier's Story, A (1984)\": 95, 'On the Waterfront (1954)': 96, 'Picnic (1955)': 97, 'Mis�rables, Les (1998)': 98, 'American Beauty (1999)': 99, 'Amadeus (1984)': 100, 'Remains of the Day, The (1993)': 101, 'Demolition Man (1993)': 102, 'Children of a Lesser God (1986)': 103, 'Like Water for Chocolate (Como agua para chocolate) (1992)': 104, 'Last of the Mohicans, The (1992)': 105, 'Bonnie and Clyde (1967)': 106, 'Jurassic Park (1993)': 107, 'Prefontaine (1997)': 108, 'Doctor Zhivago (1965)': 109, 'Groundhog Day (1993)': 110, 'Die Hard 2 (1990)': 111, 'Man in the Iron Mask, The (1998)': 112, 'Star Trek VI: The Undiscovered Country (1991)': 113, 'Enemy of the State (1998)': 114, 'Key Largo (1948)': 115, 'Dances with Wolves (1990)': 116, 'Star Wars: Episode V - The Empire Strikes Back (1980)': 117, 'Con Air (1997)': 118, 'Twister (1996)': 119, 'Raiders of the Lost Ark (1981)': 120, 'Silence of the Lambs, The (1991)': 121, 'Waking Ned Devine (1998)': 122, 'Ghostbusters II (1989)': 123, 'Matrix, The (1999)': 124, 'Armageddon (1998)': 125, 'Shakespeare in Love (1998)': 126, 'Serpico (1973)': 127, 'French Connection, The (1971)': 128, 'Conspiracy Theory (1997)': 129, 'What About Bob? (1991)': 130, 'Rocky (1976)': 131, 'Kramer Vs. Kramer (1979)': 132, 'Ed Wood (1994)': 133, 'On Golden Pond (1981)': 134, 'Chariots of Fire (1981)': 135, 'Desperado (1995)': 136, 'Die Hard: With a Vengeance (1995)': 137, 'True Lies (1994)': 138, 'October Sky (1999)': 139, 'Clear and Present Danger (1994)': 140, 'Fugitive, The (1993)': 141, \"Sophie's Choice (1982)\": 142, 'Gone with the Wind (1939)': 143, 'Getaway, The (1994)': 144, 'Fifth Element, The (1997)': 145, 'Thelma & Louise (1991)': 146, 'Under Siege (1992)': 147, \"Guess Who's Coming to Dinner (1967)\": 148, 'Grapes of Wrath, The (1940)': 149, 'Independence Day (ID4) (1996)': 150, 'Mr. Jones (1993)': 151, 'Spartacus (1960)': 152, 'Lethal Weapon 3 (1992)': 153, 'As Good As It Gets (1997)': 154, 'Indochine (1992)': 155, 'Mask of Zorro, The (1998)': 156, 'Shawshank Redemption, The (1994)': 157, 'Man with the Golden Arm, The (1955)': 158, 'Manhattan (1979)': 159, 'Forrest Gump (1994)': 160, 'Graduate, The (1967)': 161, 'Animal House (1978)': 162, 'Raising Arizona (1987)': 163, '28 Days (2000)': 164, 'Happy Gilmore (1996)': 165, 'Golden Child, The (1986)': 166, 'Beverly Hills Ninja (1997)': 167, 'Naked Gun: From the Files of Police Squad!, The (1988)': 168, 'Fish Called Wanda, A (1988)': 169, 'Being John Malkovich (1999)': 170, 'Edge, The (1997)': 171, 'Indiana Jones and the Last Crusade (1989)': 172, 'Dragonheart (1996)': 173, 'Blade (1998)': 174, 'Men in Black (1997)': 175, 'Ghost and the Darkness, The (1996)': 176, 'Three Musketeers, The (1993)': 177, 'Unforgiven (1992)': 178, 'Rock, The (1996)': 179, 'Young Guns (1988)': 180, 'Young Guns II (1990)': 181, 'Caddyshack (1980)': 182, 'Butch Cassidy and the Sundance Kid (1969)': 183, 'Crocodile Dundee (1986)': 184, 'Easy Rider (1969)': 185, 'Blazing Saddles (1974)': 186, 'Deliverance (1972)': 187, 'Indiana Jones and the Temple of Doom (1984)': 188, 'Breakfast Club, The (1985)': 189, 'Monty Python and the Holy Grail (1974)': 190, 'Little Mermaid, The (1989)': 191, 'Fistful of Dollars, A (1964)': 192, 'Alien (1979)': 193, 'Die Hard (1988)': 194, 'Mad Max (1979)': 195, 'King Kong (1933)': 196, 'Jaws (1975)': 197, 'Good, The Bad and The Ugly, The (1966)': 198, 'Goldfinger (1964)': 199, 'Terminator, The (1984)': 200, 'Who Framed Roger Rabbit? (1988)': 201, 'Gods and Monsters (1998)': 202, 'Delicatessen (1991)': 203, 'Clueless (1995)': 204, 'Velvet Goldmine (1998)': 205, 'Love! Valour! Compassion! (1997)': 206, 'Citizen Ruth (1996)': 207, 'Donnie Brasco (1997)': 208, 'Wings of the Dove, The (1997)': 209, 'Bound (1996)': 210, 'Mrs. Dalloway (1997)': 211, 'Bowfinger (1999)': 212, 'Before Sunrise (1995)': 213, 'Four Days in September (1997)': 214, 'Orlando (1993)': 215, 'Bridge on the River Kwai, The (1957)': 216, 'Piano, The (1993)': 217, 'Richard III (1995)': 218, 'Pok�mon the Movie 2000 (2000)': 219, 'Seven (Se7en) (1995)': 220, 'South Park: Bigger, Longer and Uncut (1999)': 221, 'Pulp Fiction (1994)': 222, 'Celluloid Closet, The (1995)': 223, 'L.A. Confidential (1997)': 224, 'Cold Comfort Farm (1995)': 225, 'Priest (1994)': 226, 'Ravenous (1999)': 227, 'X-Files: Fight the Future, The (1998)': 228, 'Don Juan DeMarco (1995)': 229, 'Death and the Maiden (1994)': 230, 'Insider, The (1999)': 231, 'Beautiful Thing (1996)': 232, 'Usual Suspects, The (1995)': 233, 'Paris Is Burning (1990)': 234, 'Sleepy Hollow (1999)': 235, 'Speed (1994)': 236, 'All About My Mother (Todo Sobre Mi Madre) (1999)': 237, 'Thin Red Line, The (1998)': 238, 'Faculty, The (1998)': 239, 'Pecker (1998)': 240, 'Pillow Book, The (1995)': 241, 'Out of Sight (1998)': 242, 'Ghostbusters (1984)': 243, 'Liar Liar (1997)': 244, 'Player, The (1992)': 245, 'Crumb (1994)': 246, 'Creepshow (1982)': 247, 'Good Will Hunting (1997)': 248, 'Topsy-Turvy (1999)': 249, 'Edward Scissorhands (1990)': 250, 'Ice Storm, The (1997)': 251, 'Trick (1999)': 252, 'Mystery Men (1999)': 253, 'Pi (1998)': 254, \"There's Something About Mary (1998)\": 255, 'Go (1999)': 256, 'Night of the Living Dead (1968)': 257, 'Wild Reeds (1994)': 258, 'Men With Guns (1997)': 259, 'Living in Oblivion (1995)': 260, 'Go Fish (1994)': 261, \"Jackie Chan's First Strike (1996)\": 262, 'Office Killer (1997)': 263, 'Mrs. Brown (Her Majesty, Mrs. Brown) (1997)': 264, 'Sweet Hereafter, The (1997)': 265, 'Fast, Cheap & Out of Control (1997)': 266, 'Strawberry and Chocolate (Fresa y chocolate) (1993)': 267, 'Poseidon Adventure, The (1972)': 268, 'GoodFellas (1990)': 269, 'Love and Death on Long Island (1997)': 270, 'Election (1999)': 271, 'Grosse Pointe Blank (1997)': 272, 'Fight Club (1999)': 273, 'All Over Me (1997)': 274, 'Washington Square (1997)': 275, 'North by Northwest (1959)': 276, 'Babe: Pig in the City (1998)': 277, 'Jackie Brown (1997)': 278, \"Jacob's Ladder (1990)\": 279, 'Three Kings (1999)': 280, 'Casino (1995)': 281, \"Billy's Hollywood Screen Kiss (1997)\": 282, 'Smoke (1995)': 283, 'Nightmare Before Christmas, The (1993)': 284, \"Romy and Michele's High School Reunion (1997)\": 285, 'Incredibly True Adventure of Two Girls in Love, The (1995)': 286, 'Happiness (1998)': 287, 'Austin Powers: International Man of Mystery (1997)': 288, 'Reservoir Dogs (1992)': 289, 'Howards End (1992)': 290, 'Maltese Falcon, The (1941)': 291, 'Kundun (1997)': 292, 'Final Destination (2000)': 293, 'Waiting for Guffman (1996)': 294, 'Big Lebowski, The (1998)': 295, 'Afterglow (1997)': 296, 'Little Voice (1998)': 297, 'My Life in Pink (Ma vie en rose) (1997)': 298, 'Mariachi, El (1992)': 299, 'Shanghai Noon (2000)': 300, 'Rushmore (1998)': 301, 'Austin Powers: The Spy Who Shagged Me (1999)': 302, 'Dick (1999)': 303, 'Big Night (1996)': 304, 'Fear and Loathing in Las Vegas (1998)': 305, 'Opposite of Sex, The (1998)': 306, 'Madness of King George, The (1994)': 307, 'Bullets Over Broadway (1994)': 308, 'Cruise, The (1998)': 309, 'City of Lost Children, The (1995)': 310, 'Welcome to the Dollhouse (1995)': 311, 'Glengarry Glen Ross (1992)': 312, 'Nowhere (1997)': 313, 'Much Ado About Nothing (1993)': 314, \"Boys Don't Cry (1999)\": 315, 'Misery (1990)': 316, 'Twelve Monkeys (1995)': 317, 'Rosencrantz and Guildenstern Are Dead (1990)': 318, 'High Art (1998)': 319, 'Bob Roberts (1992)': 320, \"But I'm a Cheerleader (1999)\": 321, 'Babe (1995)': 322, 'Dead Man Walking (1995)': 323, 'Dead Man (1995)': 324, 'Romancing the Stone (1984)': 325, 'Top Gun (1986)': 326, 'Gone in 60 Seconds (2000)': 327, \"Pete's Dragon (1977)\": 328, 'Anastasia (1997)': 329, 'Lion King, The (1994)': 330, \"Murphy's Romance (1985)\": 331, 'Moonstruck (1987)': 332, 'Jeremiah Johnson (1972)': 333, 'Outlaw Josey Wales, The (1976)': 334, 'To Gillian on Her 37th Birthday (1996)': 335, 'Pretty Woman (1990)': 336, 'Wyatt Earp (1994)': 337, 'Other Sister, The (1999)': 338, 'Arthur (1981)': 339, \"My Best Friend's Wedding (1997)\": 340, 'Mighty Ducks, The (1992)': 341, 'Blue Hawaii (1961)': 342, 'Gypsy (1962)': 343, 'Tequila Sunrise (1988)': 344, 'Keeping the Faith (2000)': 345, 'Patriot, The (2000)': 346, 'Magnum Force (1973)': 347, 'Babes in Toyland (1961)': 348, \"Prizzi's Honor (1985)\": 349, 'Roustabout (1964)': 350, 'Room with a View, A (1986)': 351, 'Emma (1996)': 352, 'Apple Dumpling Gang, The (1975)': 353, 'West Side Story (1961)': 354, 'Straight Story, The (1999)': 355, 'Legends of the Fall (1994)': 356, 'Sense and Sensibility (1995)': 357, 'Starman (1984)': 358, 'Benny & Joon (1993)': 359, 'Dirty Dancing (1987)': 360, 'Casablanca (1942)': 361, 'Umbrellas of Cherbourg, The (Parapluies de Cherbourg, Les) (1964)': 362, 'Paulie (1998)': 363, 'Peggy Sue Got Married (1986)': 364, 'Splash (1984)': 365, 'Out of Africa (1985)': 366, 'Grease (1978)': 367, 'Little Big League (1994)': 368, 'Witness (1985)': 369, 'Where the Heart Is (2000)': 370, 'Supercop (1992)': 371, 'X-Men (2000)': 372, 'Heat (1995)': 373, 'Exorcist, The (1973)': 374, 'Face/Off (1997)': 375, 'Backdraft (1991)': 376, 'In the Line of Fire (1993)': 377, 'Tomorrow Never Dies (1997)': 378, 'Patriot Games (1992)': 379, 'Godfather: Part II, The (1974)': 380, 'Elizabeth (1998)': 381, 'Natural Born Killers (1994)': 382, \"Mo' Better Blues (1990)\": 383, 'Jerry Maguire (1996)': 384, 'Truman Show, The (1998)': 385, 'Philadelphia (1993)': 386, 'Batman: Mask of the Phantasm (1993)': 387, 'Dead Presidents (1995)': 388, 'Moll Flanders (1996)': 389, 'Mr. Saturday Night (1992)': 390, 'Cider House Rules, The (1999)': 391, 'Summer of Sam (1999)': 392, 'Private Parts (1997)': 393, 'Amistad (1997)': 394, 'Rob Roy (1995)': 395, 'Poetic Justice (1993)': 396, 'Waiting to Exhale (1995)': 397, 'Soul Food (1997)': 398, 'Anna and the King (1999)': 399, 'Postino, Il (The Postman) (1994)': 400, 'Eyes Wide Shut (1999)': 401, 'He Got Game (1998)': 402, 'Buffalo 66 (1998)': 403, \"Devil's Own, The (1997)\": 404, 'Dolores Claiborne (1994)': 405, 'People vs. Larry Flynt, The (1996)': 406, 'Crimson Tide (1995)': 407, 'Hamlet (1996)': 408, 'Rudy (1993)': 409, \"William Shakespeare's Romeo and Juliet (1996)\": 410, 'Firm, The (1993)': 411, 'Deconstructing Harry (1997)': 412, 'Akira (1988)': 413, 'Ghost in the Shell (Kokaku kidotai) (1995)': 414, 'Cyrano de Bergerac (1990)': 415, 'Chasing Amy (1997)': 416, 'Prince of Tides, The (1991)': 417, 'What Dreams May Come (1998)': 418, 'JFK (1991)': 419, 'Heaven & Earth (1993)': 420, 'Midnight in the Garden of Good and Evil (1997)': 421, 'Six Degrees of Separation (1993)': 422, 'Hilary and Jackie (1998)': 423, 'Mis�rables, Les (1995)': 424, 'Malcolm X (1992)': 425, 'Bridges of Madison County, The (1995)': 426, 'Interview with the Vampire (1994)': 427, 'Alive (1993)': 428, 'Scent of a Woman (1992)': 429, 'Inkwell, The (1994)': 430, 'Gattaca (1997)': 431, 'Taxi Driver (1976)': 432, 'Far and Away (1992)': 433, 'Cop Land (1997)': 434, 'Godfather: Part III, The (1990)': 435, 'Nixon (1995)': 436, \"What's Eating Gilbert Grape (1993)\": 437, 'Beloved (1998)': 438, 'My Crazy Life (Mi vida loca) (1993)': 439, 'True Romance (1993)': 440, \"Eve's Bayou (1997)\": 441, 'Hard-Boiled (Lashou shentan) (1992)': 442, 'Great Expectations (1998)': 443, 'High Fidelity (2000)': 444, 'Red Violin, The (Le Violon rouge) (1998)': 445, \"General's Daughter, The (1999)\": 446, 'Adventures of Priscilla, Queen of the Desert, The (1994)': 447, 'Powder (1995)': 448, 'Leaving Las Vegas (1995)': 449, 'Life Is Beautiful (La Vita � bella) (1997)': 450, 'American History X (1998)': 451, 'Cruel Intentions (1999)': 452, 'Boogie Nights (1997)': 453, 'Joy Luck Club, The (1993)': 454, 'Robin Hood: Prince of Thieves (1991)': 455, 'Arachnophobia (1990)': 456, 'Nell (1994)': 457, 'Mask, The (1994)': 458, 'Clerks (1994)': 459, 'Boiler Room (2000)': 460, 'Meet the Parents (2000)': 461, 'Time to Kill, A (1996)': 462, 'Frequency (2000)': 463, 'Rules of Engagement (2000)': 464, 'Quiz Show (1994)': 465, 'Wedding Singer, The (1998)': 466, 'Cape Fear (1991)': 467, 'Magnolia (1999)': 468, 'Searching for Bobby Fischer (1993)': 469, 'Swingers (1996)': 470, 'Star Trek: First Contact (1996)': 471, 'Sling Blade (1996)': 472, 'Hurricane, The (1999)': 473, 'Chicken Run (2000)': 474, 'My Cousin Vinny (1992)': 475, 'Wrong Trousers, The (1993)': 476, 'Return to Paradise (1998)': 477, \"Wayne's World (1992)\": 478, 'Contact (1997)': 479, 'Grand Day Out, A (1992)': 480, 'Kolya (1996)': 481, 'Mission: Impossible 2 (2000)': 482, 'Trainspotting (1996)': 483, 'Tango Lesson, The (1997)': 484, 'Age of Innocence, The (1993)': 485, 'Remember the Titans (2000)': 486, 'Boat, The (Das Boot) (1981)': 487, 'When Harry Met Sally... (1989)': 488, 'Cutting Edge, The (1992)': 489, 'Hype! (1996)': 490, 'Bronx Tale, A (1993)': 491, \"Midsummer Night's Dream, A (1999)\": 492, 'Defending Your Life (1991)': 493, 'Breaking Away (1979)': 494, 'Prophecy II, The (1998)': 495, 'Alien� (1992)': 496, 'Addams Family, The (1991)': 497, 'Ever After: A Cinderella Story (1998)': 498, 'Honey, I Shrunk the Kids (1989)': 499, 'Chinatown (1974)': 500, 'Treasure of the Sierra Madre, The (1948)': 501, 'Naked Gun 2 1/2: The Smell of Fear, The (1991)': 502, 'Duck Soup (1933)': 503, 'Better Off Dead... (1985)': 504, 'Lost in Space (1998)': 505, 'American Graffiti (1973)': 506, 'Home Alone (1990)': 507, 'Ghost (1990)': 508, 'Teenage Mutant Ninja Turtles (1990)': 509, 'To Sir with Love (1967)': 510, 'Blast from the Past (1999)': 511, 'Message in a Bottle (1999)': 512, 'Jumanji (1995)': 513, 'My Favorite Martian (1999)': 514, 'Batman Forever (1995)': 515, 'Sabrina (1995)': 516, 'Adventures in Babysitting (1987)': 517, 'Doctor Dolittle (1967)': 518, 'Nutty Professor, The (1963)': 519, \"Charlotte's Web (1973)\": 520, 'Phenomenon (1996)': 521, 'Watership Down (1978)': 522, 'Michael (1996)': 523, \"Bram Stoker's Dracula (1992)\": 524, 'Arsenic and Old Lace (1944)': 525, 'Superman (1978)': 526, 'Batman (1989)': 527, 'Pinocchio (1940)': 528, 'Good Earth, The (1937)': 529, 'Lethal Weapon 4 (1998)': 530, 'Dark Crystal, The (1982)': 531, \"'burbs, The (1989)\": 532, 'Fried Green Tomatoes (1991)': 533, 'Carrie (1976)': 534, 'Journey of Natty Gann, The (1985)': 535, 'Jungle Book, The (1967)': 536, 'Cool Hand Luke (1967)': 537, 'Spy Hard (1996)': 538, 'Mystery Science Theater 3000: The Movie (1996)': 539, 'Young Frankenstein (1974)': 540, 'All Quiet on the Western Front (1930)': 541, 'Rocky Horror Picture Show, The (1975)': 542, 'Harry and the Hendersons (1987)': 543, 'Stargate (1994)': 544, 'Santa Clause, The (1994)': 545, 'Houseguest (1994)': 546, 'Lady and the Tramp (1955)': 547, 'Fantasia (1940)': 548, 'High Noon (1952)': 549, 'Dr. Strangelove or: How I Learned to Stop Worrying and Love the Bomb (1963)': 550, 'Peter Pan (1953)': 551, 'Somewhere in Time (1980)': 552, \"Pee-wee's Big Adventure (1985)\": 553, 'War of the Worlds, The (1953)': 554, 'Heart and Souls (1993)': 555, 'River Runs Through It, A (1992)': 556, 'Producers, The (1968)': 557, 'Star Trek: Generations (1994)': 558, 'Robin Hood (1973)': 559, 'Nine Months (1995)': 560, 'NeverEnding Story, The (1984)': 561, 'Little Big Man (1970)': 562, 'Rescuers, The (1977)': 563, 'Trading Places (1983)': 564, 'Return from Witch Mountain (1978)': 565, \"Breakfast at Tiffany's (1961)\": 566, 'First Wives Club, The (1996)': 567, 'Return to Oz (1985)': 568, 'Rear Window (1954)': 569, 'Rocketeer, The (1991)': 570, 'Being There (1979)': 571, 'Sleeping Beauty (1959)': 572, 'M*A*S*H (1970)': 573, 'Jack (1996)': 574, 'Little Shop of Horrors (1986)': 575, 'Escape to Witch Mountain (1975)': 576, 'Tom Jones (1963)': 577, 'Tommy Boy (1995)': 578, 'While You Were Sleeping (1995)': 579, 'Practical Magic (1998)': 580, 'Star Trek: The Motion Picture (1979)': 581, 'Beetlejuice (1988)': 582, 'Star Trek: The Wrath of Khan (1982)': 583, 'Star Trek III: The Search for Spock (1984)': 584, 'Sabrina (1954)': 585, 'Star Trek IV: The Voyage Home (1986)': 586, 'Batman Returns (1992)': 587, 'Roman Holiday (1953)': 588, 'Meet Me in St. Louis (1944)': 589, 'Old Yeller (1957)': 590, '13th Warrior, The (1999)': 591, 'Gold Rush, The (1925)': 592, 'Homeward Bound: The Incredible Journey (1993)': 593, 'Shaggy Dog, The (1959)': 594, '20,000 Leagues Under the Sea (1954)': 595, 'Hook (1991)': 596, 'Ace Ventura: Pet Detective (1994)': 597, 'Mixed Nuts (1994)': 598, 'Hero (1992)': 599, 'Miracle on 34th Street (1994)': 600, 'Citizen Kane (1941)': 601, '2001: A Space Odyssey (1968)': 602, 'Alien Nation (1988)': 603, 'All About Eve (1950)': 604, 'Cool Runnings (1993)': 605, 'Cable Guy, The (1996)': 606, 'Godfather, The (1972)': 607, 'Winnie the Pooh and the Blustery Day (1968)': 608, 'Sword in the Stone, The (1963)': 609, 'Trekkies (1997)': 610, 'Labyrinth (1986)': 611, 'Corrina, Corrina (1994)': 612, 'Four Weddings and a Funeral (1994)': 613, 'Jewel of the Nile, The (1985)': 614, 'Cocoon (1985)': 615, 'Willow (1988)': 616, 'Bedknobs and Broomsticks (1971)': 617, 'Streetcar Named Desire, A (1951)': 618, 'Alice in Wonderland (1951)': 619, 'Coneheads (1993)': 620, 'Ghost and Mrs. Muir, The (1947)': 621, 'Hamlet (1990)': 622, 'That Thing You Do! (1996)': 623, 'Naked Gun 33 1/3: The Final Insult (1994)': 624, 'Christmas Vacation (1989)': 625, \"You've Got Mail (1998)\": 626, 'March of the Wooden Soldiers (a.k.a. Laurel & Hardy in Toyland) (1934)': 627, 'Scrooged (1988)': 628, \"It's a Wonderful Life (1946)\": 629, 'Mr. Smith Goes to Washington (1939)': 630, 'Mr. Mom (1983)': 631, \"Hard Day's Night, A (1964)\": 632, 'Battlefield Earth (2000)': 633, 'Return of the Pink Panther, The (1974)': 634, 'Robin Hood: Men in Tights (1993)': 635, 'Romeo and Juliet (1968)': 636, 'Abyss, The (1989)': 637, 'Vacation (1983)': 638, 'Escape from New York (1981)': 639, 'Patch Adams (1998)': 640, \"Mr. Holland's Opus (1995)\": 641, \"Dog's Life, A (1920)\": 642, \"Ulee's Gold (1997)\": 643, 'Tea with Mussolini (1999)': 644, 'Shop Around the Corner, The (1940)': 645, 'Shampoo (1975)': 646, 'Everything You Always Wanted to Know About Sex (1972)': 647, 'Lethal Weapon (1987)': 648, 'Inspector General, The (1949)': 649, 'Lethal Weapon 2 (1989)': 650, 'Aliens (1986)': 651, 'Gremlins (1984)': 652, '12 Angry Men (1957)': 653, 'Goonies, The (1985)': 654, 'Lawrence of Arabia (1962)': 655, 'African Queen, The (1951)': 656, 'Excalibur (1981)': 657, 'White Christmas (1954)': 658, 'Help! (1965)': 659, 'Philadelphia Story, The (1940)': 660, 'Soylent Green (1973)': 661, 'Pajama Game, The (1957)': 662, \"Singin' in the Rain (1952)\": 663, 'Private Benjamin (1980)': 664, 'From Russia with Love (1963)': 665, 'Sleepless in Seattle (1993)': 666, 'Fletch (1985)': 667, 'Sister Act (1992)': 668, 'Man on the Moon (1999)': 669, 'Galaxy Quest (1999)': 670, 'Money Pit, The (1986)': 671, 'Police Academy (1984)': 672, 'Cat on a Hot Tin Roof (1958)': 673, 'Back to the Future Part II (1989)': 674, 'Back to the Future Part III (1990)': 675, 'Absent Minded Professor, The (1961)': 676, 'Army of Darkness (1993)': 677, 'Willy Wonka and the Chocolate Factory (1971)': 678, \"Porky's (1981)\": 679, 'Blade Runner (1982)': 680, 'Son in Law (1993)': 681, 'So I Married an Axe Murderer (1993)': 682, \"Wayne's World 2 (1993)\": 683, 'Boy Who Could Fly, The (1986)': 684, 'Planet of the Apes (1968)': 685, 'FairyTale: A True Story (1997)': 686, 'Simple Wish, A (1997)': 687, 'My Dog Skip (1999)': 688, 'Anne Frank Remembered (1995)': 689, 'G.I. Jane (1997)': 690, 'Dune (1984)': 691, 'Blues Brothers, The (1980)': 692, \"Monty Python's Life of Brian (1979)\": 693, 'Bad Seed, The (1956)': 694, 'Time Bandits (1981)': 695, 'Beneath the Planet of the Apes (1970)': 696, 'Buffy the Vampire Slayer (1992)': 697, 'Way We Were, The (1973)': 698, 'Star Trek: Insurrection (1998)': 699, 'Papillon (1973)': 700, 'Santa Claus: The Movie (1985)': 701, 'Field of Dreams (1989)': 702, 'Annie Hall (1977)': 703, 'Tron (1982)': 704, 'Black Cauldron, The (1985)': 705, 'L.A. Story (1991)': 706, 'Sting, The (1973)': 707, 'Jerk, The (1979)': 708, \"Weekend at Bernie's (1989)\": 709, 'Mummy, The (1999)': 710, 'Never Cry Wolf (1983)': 711, 'To Wong Foo, Thanks for Everything! Julie Newmar (1995)': 712, 'Starship Troopers (1997)': 713, 'Waterworld (1995)': 714, 'Man with Two Brains, The (1983)': 715, 'Computer Wore Tennis Shoes, The (1970)': 716, 'Condorman (1981)': 717, 'Abbott and Costello Meet Frankenstein (1948)': 718, \"Darby O'Gill and the Little People (1959)\": 719, 'Far Off Place, A (1993)': 720, 'Flight of the Navigator (1986)': 721, 'Gnome-Mobile, The (1967)': 722, 'Happiest Millionaire, The (1967)': 723, 'Half Baked (1998)': 724, 'Billy Madison (1995)': 725, 'Blair Witch Project, The (1999)': 726, 'Kids in the Hall: Brain Candy (1996)': 727, 'Good Morning, Vietnam (1987)': 728, 'Dumb & Dumber (1994)': 729, 'Blue Velvet (1986)': 730, 'Hoop Dreams (1994)': 731, 'Immortal Beloved (1994)': 732, 'This Is Spinal Tap (1984)': 733, 'Heavy (1995)': 734, \"Muriel's Wedding (1994)\": 735, 'Orgazmo (1997)': 736, 'Sweet and Lowdown (1999)': 737, 'Adventures of Sebastian Cole, The (1998)': 738, 'Waterboy, The (1998)': 739, 'Deuce Bigalow: Male Gigolo (1999)': 740, 'Schizopolis (1996)': 741, 'Dazed and Confused (1993)': 742, 'Dream With the Fishes (1997)': 743, 'Inventing the Abbotts (1997)': 744, 'Talented Mr. Ripley, The (1999)': 745, 'Perfect Storm, The (2000)': 746, 'Mumford (1999)': 747, 'Black Sheep (1996)': 748, 'Kalifornia (1993)': 749, 'Analyze This (1999)': 750, 'Swing Kids (1993)': 751, 'Wag the Dog (1997)': 752, 'Dog Day Afternoon (1975)': 753, 'Larger Than Life (1996)': 754, 'Almost Famous (2000)': 755, 'Quatermass and the Pit (1967)': 756, 'Full Monty, The (1997)': 757, 'Man Who Would Be King, The (1975)': 758, '2 Days in the Valley (1996)': 759, 'Scary Movie (2000)': 760, 'Audrey Rose (1977)': 761, 'Great Escape, The (1963)': 762, 'Superman II (1980)': 763, 'Quest for Fire (1981)': 764, 'Ladyhawke (1985)': 765, 'GoldenEye (1995)': 766, 'Medicine Man (1992)': 767, 'Get Shorty (1995)': 768, 'Black Beauty (1994)': 769, 'Cliffhanger (1993)': 770, 'Saint, The (1997)': 771, 'Rising Sun (1993)': 772, 'Around the World in 80 Days (1956)': 773, 'Titan A.E. (2000)': 774, 'Emerald Forest, The (1985)': 775, 'Big Blue, The (Le Grand Bleu) (1988)': 776, \"Logan's Run (1976)\": 777, 'Conan the Barbarian (1982)': 778, 'Forever Young (1992)': 779, 'Crimson Pirate, The (1952)': 780, 'Dick Tracy (1990)': 781, 'Mission to Mars (2000)': 782, 'Deer Hunter, The (1978)': 783, '400 Blows, The (Les Quatre cents coups) (1959)': 784, 'Spaceballs (1987)': 785, 'Broadcast News (1987)': 786, 'Children of Paradise (Les enfants du paradis) (1945)': 787, 'Bringing Out the Dead (1999)': 788, \"She's All That (1999)\": 789, 'Birdcage, The (1996)': 790, 'Negotiator, The (1998)': 791, 'What Lies Beneath (2000)': 792, 'American Pie (1999)': 793, 'Arlington Road (1999)': 794, 'EDtv (1999)': 795, 'Bone Collector, The (1999)': 796, 'Haunting, The (1999)': 797, 'Arrival, The (1996)': 798, 'Runaway Bride (1999)': 799, 'Never Been Kissed (1999)': 800, 'Murder at 1600 (1997)': 801, 'Lord of the Flies (1963)': 802, 'Pushing Tin (1999)': 803, 'Just Cause (1995)': 804, 'Ransom (1996)': 805, 'Striptease (1996)': 806, 'Instinct (1999)': 807, 'End of Days (1999)': 808, 'Bulworth (1998)': 809, '54 (1998)': 810, 'Thomas Crown Affair, The (1999)': 811, 'Nutty Professor, The (1996)': 812, 'Thomas Crown Affair, The (1968)': 813, 'Big Daddy (1999)': 814, 'Perfect Murder, A (1998)': 815, 'Air Force One (1997)': 816, 'Sneakers (1992)': 817, 'Stigmata (1999)': 818, 'Stir of Echoes (1999)': 819, \"Big Momma's House (2000)\": 820, 'Mrs. Doubtfire (1993)': 821, 'Cradle Will Rock, The (1999)': 822, 'One True Thing (1998)': 823, 'Rush Hour (1998)': 824, 'Seven Years in Tibet (1997)': 825, 'Game, The (1997)': 826, 'Selena (1997)': 827, 'Flubber (1997)': 828, 'Civil Action, A (1998)': 829, 'I Know What You Did Last Summer (1997)': 830, \"Devil's Advocate, The (1997)\": 831, 'Jakob the Liar (1999)': 832, 'Psycho (1998)': 833, 'Story of Us, The (1999)': 834, 'Tombstone (1993)': 835, 'Primal Fear (1996)': 836, 'Entrapment (1999)': 837, 'Newton Boys, The (1998)': 838, 'Wild Things (1998)': 839, 'Simple Plan, A (1998)': 840, 'Prince of Egypt, The (1998)': 841, 'Basic Instinct (1992)': 842, 'Primary Colors (1998)': 843, 'Rainmaker, The (1997)': 844, 'Bachelor, The (1999)': 845, 'Doctor Dolittle (1998)': 846, 'Bell, Book and Candle (1958)': 847, 'Superman IV: The Quest for Peace (1987)': 848, '10 Things I Hate About You (1999)': 849, 'Mickey Blue Eyes (1999)': 850, 'Iron Giant, The (1999)': 851, 'Desperately Seeking Susan (1985)': 852, 'Drive Me Crazy (1999)': 853, 'Best Man, The (1999)': 854, 'Grifters, The (1990)': 855, 'Village of the Damned (1960)': 856, 'Children of the Damned (1963)': 857, 'Invisible Man, The (1933)': 858, 'Cell, The (2000)': 859, 'My Left Foot (1989)': 860, 'Solaris (Solyaris) (1972)': 861, 'Art of War, The (2000)': 862, 'Destination Moon (1950)': 863, 'Devil in a Blue Dress (1995)': 864, 'Predator (1987)': 865, 'Waking the Dead (1999)': 866, 'Shallow Grave (1994)': 867, 'Heavenly Creatures (1994)': 868, 'Angel Baby (1995)': 869, 'Big Sleep, The (1946)': 870, 'Thing From Another World, The (1951)': 871, 'It Came from Outer Space (1953)': 872, 'It Came from Beneath the Sea (1955)': 873, 'Invasion of the Body Snatchers (1956)': 874, 'Omega Man, The (1971)': 875, '2010 (1984)': 876, 'Navigator: A Mediaeval Odyssey, The (1988)': 877, 'Strange Days (1995)': 878, 'Outrageous Fortune (1987)': 879, 'War, The (1994)': 880, 'Brother from Another Planet, The (1984)': 881, 'Mad Max 2 (a.k.a. The Road Warrior) (1981)': 882, 'Phantasm (1979)': 883, 'Mad Max Beyond Thunderdome (1985)': 884, 'Shanghai Triad (Yao a yao yao dao waipo qiao) (1995)': 885, 'Hoodlum (1997)': 886, 'Long Walk Home, The (1990)': 887, 'Limey, The (1999)': 888, 'Hidden, The (1987)': 889, 'Professional, The (a.k.a. Leon: The Professional) (1994)': 890, 'Adventures of Buckaroo Bonzai Across the 8th Dimension, The (1984)': 891, 'In & Out (1997)': 892, 'Stepford Wives, The (1975)': 893, 'Laura (1944)': 894, 'Farewell My Concubine (1993)': 895, 'Thousand Acres, A (1997)': 896, 'Bicentennial Man (1999)': 897, 'Them! (1954)': 898, 'Thing, The (1982)': 899, \"Puppet Master III: Toulon's Revenge (1991)\": 900, 'Center Stage (2000)': 901, 'Pitch Black (2000)': 902, 'Shaft (2000)': 903, 'Clockwork Orange, A (1971)': 904, 'Murder, My Sweet (1944)': 905, 'Screamers (1995)': 906, 'Lifeforce (1985)': 907, 'Metropolis (1926)': 908, 'Space Cowboys (2000)': 909, 'Heavy Metal (1981)': 910, 'Sleeper (1973)': 911, 'Westworld (1973)': 912, 'Fly, The (1986)': 913, 'Night of the Creeps (1986)': 914, 'eXistenZ (1999)': 915, 'Escape from the Planet of the Apes (1971)': 916, 'In the Company of Men (1997)': 917, 'Forbidden Planet (1956)': 918, 'Mulholland Falls (1996)': 919, 'Night of the Comet (1984)': 920, 'Lock, Stock & Two Smoking Barrels (1998)': 921, 'What Happened Was... (1994)': 922, 'Wing Commander (1999)': 923, 'Dark City (1998)': 924, 'Fantastic Voyage (1966)': 925, 'Lord of the Rings, The (1978)': 926, 'Nineteen Eighty-Four (1984)': 927, 'Robocop (1987)': 928, 'For Your Eyes Only (1981)': 929, 'All Dogs Go to Heaven (1989)': 930, 'Hocus Pocus (1993)': 931, 'Thunderball (1965)': 932, 'Wild Wild West (1999)': 933, 'Circle of Friends (1995)': 934, 'Casper (1995)': 935, 'Secret of NIMH, The (1982)': 936, 'Tango (1998)': 937, 'Queen Margot (La Reine Margot) (1994)': 938, 'Eat Drink Man Woman (1994)': 939, 'American Tail, An (1986)': 940, 'American Tail: Fievel Goes West, An (1991)': 941, 'Legend (1985)': 942, 'Pretty in Pink (1986)': 943, 'Cape Fear (1962)': 944, 'Highlander (1986)': 945, 'Parenthood (1989)': 946, 'Swan Princess, The (1994)': 947, 'Avengers, The (1998)': 948, 'Muppet Christmas Carol, The (1992)': 949, '101 Dalmatians (1961)': 950, 'Rescuers Down Under, The (1990)': 951, 'Color Purple, The (1985)': 952, 'Muppet Movie, The (1979)': 953, 'Great Muppet Caper, The (1981)': 954, 'Muppets Take Manhattan, The (1984)': 955, 'Sesame Street Presents Follow That Bird (1985)': 956, 'Tank Girl (1995)': 957, 'Deep Impact (1998)': 958, 'Little Women (1994)': 959, 'Little Princess, A (1995)': 960, 'Say Anything... (1989)': 961, 'Parent Trap, The (1961)': 962, 'Ordinary People (1980)': 963, 'Othello (1995)': 964, 'Bird on a Wire (1990)': 965, \"On Her Majesty's Secret Service (1969)\": 966, 'Spy Who Loved Me, The (1977)': 967, 'Last Emperor, The (1987)': 968, 'Man with the Golden Gun, The (1974)': 969, 'True Grit (1969)': 970, 'Crow, The (1994)': 971, 'Mars Attacks! (1996)': 972, 'Fox and the Hound, The (1981)': 973, 'Mortal Kombat (1995)': 974, 'Young Sherlock Holmes (1985)': 975, 'Sid and Nancy (1986)': 976, 'Adventures of Robin Hood, The (1938)': 977, 'Hot Shots! Part Deux (1993)': 978, 'Red Sonja (1985)': 979, 'Seven Samurai (The Magnificent Seven) (Shichinin no samurai) (1954)': 980, 'Aristocats, The (1970)': 981, 'In the Name of the Father (1993)': 982, 'White Squall (1996)': 983, 'Dangerous Liaisons (1988)': 984, 'Running Man, The (1987)': 985, 'Crying Game, The (1992)': 986, 'Menace II Society (1993)': 987, 'Glory (1989)': 988, 'Creature From the Black Lagoon, The (1954)': 989, 'American Werewolf in London, An (1981)': 990, 'Licence to Kill (1989)': 991, 'Live and Let Die (1973)': 992, 'Shining, The (1980)': 993, 'Mummy, The (1932)': 994, \"Mummy's Tomb, The (1942)\": 995, 'Mod Squad, The (1999)': 996, 'Scream (1996)': 997, 'Blob, The (1958)': 998, 'Evil Dead II (Dead By Dawn) (1987)': 999, 'Roger & Me (1989)': 1000, 'Dracula (1931)': 1001, 'Out-of-Towners, The (1999)': 1002, 'Blues Brothers 2000 (1998)': 1003, 'Frankenstein (1931)': 1004, 'Bride of Frankenstein (1935)': 1005, 'Highlander: Endgame (2000)': 1006, 'Omen, The (1976)': 1007, 'Tales from the Hood (1995)': 1008, 'Kingpin (1996)': 1009, 'Moonraker (1979)': 1010, 'Outside Providence (1999)': 1011, 'Beverly Hills Cop III (1994)': 1012, 'Loaded Weapon 1 (1993)': 1013, 'Dirty Work (1998)': 1014, 'Friday the 13th (1980)': 1015, 'Halloween (1978)': 1016, 'Damien: Omen II (1978)': 1017, 'World Is Not Enough, The (1999)': 1018, 'Blue Streak (1999)': 1019, 'Final Conflict, The (a.k.a. Omen III: The Final Conflict) (1981)': 1020, 'Screwed (2000)': 1021, 'Poltergeist (1982)': 1022, 'Office Space (1999)': 1023, 'Night at the Roxbury, A (1998)': 1024, 'Dr. No (1962)': 1025, 'View to a Kill, A (1985)': 1026, 'Me, Myself and Irene (2000)': 1027, 'Psycho (1960)': 1028, 'Fly, The (1958)': 1029, 'Platoon (1986)': 1030, 'Scream 3 (2000)': 1031, 'Apostle, The (1997)': 1032, 'Booty Call (1997)': 1033, 'From Dusk Till Dawn (1996)': 1034, 'Brady Bunch Movie, The (1995)': 1035, 'Princess Mononoke, The (Mononoke Hime) (1997)': 1036, 'Little Nemo: Adventures in Slumberland (1992)': 1037, 'Stop! Or My Mom Will Shoot (1992)': 1038, 'Fallen (1998)': 1039, 'Man Who Knew Too Little, The (1997)': 1040, 'Children of the Corn (1984)': 1041, 'Beavis and Butt-head Do America (1996)': 1042, 'Creepshow 2 (1987)': 1043, 'Very Brady Sequel, A (1996)': 1044, 'Grumpy Old Men (1993)': 1045, 'Some Folks Call It a Sling Blade (1993)': 1046, 'Falling Down (1993)': 1047, 'Judge Dredd (1995)': 1048, 'Gods Must Be Crazy, The (1980)': 1049, 'Fierce Creatures (1997)': 1050, 'Mallrats (1995)': 1051, 'Suicide Kings (1997)': 1052, 'Attack of the Killer Tomatoes! (1980)': 1053, 'Some Like It Hot (1959)': 1054, 'My Blue Heaven (1990)': 1055, 'Vie est belle, La (Life is Rosey) (1987)': 1056, 'Escape from L.A. (1996)': 1057, 'Distinguished Gentleman, The (1992)': 1058, 'Apt Pupil (1998)': 1059, 'Dogma (1999)': 1060, 'I Married A Strange Person (1997)': 1061, 'Cabin Boy (1994)': 1062, 'Kull the Conqueror (1997)': 1063, 'Seventh Sign, The (1988)': 1064, 'Nothing But Trouble (1991)': 1065, 'Freeway (1996)': 1066, 'Fast Times at Ridgemont High (1982)': 1067, 'Clue (1985)': 1068, 'Back to School (1986)': 1069, 'Long Kiss Goodnight, The (1996)': 1070, 'Puppet Master (1989)': 1071, 'Puppet Master II (1990)': 1072, 'Airplane II: The Sequel (1982)': 1073, 'European Vacation (1985)': 1074, 'Bio-Dome (1996)': 1075, 'Gremlins 2: The New Batch (1990)': 1076, 'Transformers: The Movie, The (1986)': 1077, 'Serial Mom (1994)': 1078, 'Encino Man (1992)': 1079, 'Gung Ho (1986)': 1080, 'Howard the Duck (1986)': 1081, \"Things to Do in Denver when You're Dead (1995)\": 1082, 'Death Becomes Her (1992)': 1083, 'Full Metal Jacket (1987)': 1084, 'Last Action Hero (1993)': 1085, 'Broken Arrow (1996)': 1086, 'Hellraiser (1987)': 1087, 'Truth About Cats & Dogs, The (1996)': 1088, 'Three Amigos! (1986)': 1089, 'Nikita (La Femme Nikita) (1990)': 1090, 'No Way Out (1987)': 1091, 'Thin Blue Line, The (1988)': 1092, 'Odd Couple, The (1968)': 1093, 'Double Indemnity (1944)': 1094, 'Lifeboat (1944)': 1095, 'Manchurian Candidate, The (1962)': 1096, 'Brazil (1985)': 1097, 'Zero Effect (1998)': 1098, 'Contender, The (2000)': 1099, 'House (1986)': 1100, 'House II: The Second Story (1987)': 1101, 'Deep Blue Sea (1999)': 1102, 'Barbarella (1968)': 1103, 'Killing, The (1956)': 1104, 'Universal Soldier (1992)': 1105, 'Midnight Run (1988)': 1106, \"Rosemary's Baby (1968)\": 1107, 'Party Girl (1995)': 1108, 'Vertigo (1958)': 1109, 'Small Time Crooks (2000)': 1110, 'Retroactive (1997)': 1111, 'Class (1983)': 1112, 'Dead Again (1991)': 1113, 'Species (1995)': 1114, 'Charade (1963)': 1115, 'Marathon Man (1976)': 1116, 'Virgin Suicides, The (1999)': 1117, 'Terms of Endearment (1983)': 1118, 'Soldier (1998)': 1119, 'Jaws 2 (1978)': 1120, 'Firestarter (1984)': 1121, 'Repo Man (1984)': 1122, 'Rocky II (1979)': 1123, 'Body Heat (1981)': 1124, \"Carlito's Way (1993)\": 1125, 'Rocky III (1982)': 1126, 'To Die For (1995)': 1127, 'Mighty Aphrodite (1995)': 1128, 'His Girl Friday (1940)': 1129, 'Indian in the Cupboard, The (1995)': 1130, 'Big Trouble in Little China (1986)': 1131, 'Long Goodbye, The (1973)': 1132, 'Third Man, The (1949)': 1133, 'Killer, The (Die xue shuang xiong) (1989)': 1134, 'For All Mankind (1989)': 1135, 'Flirting With Disaster (1996)': 1136, 'Dreamscape (1984)': 1137, 'Until the End of the World (Bis ans Ende der Welt) (1991)': 1138, 'Crimes and Misdemeanors (1989)': 1139, 'Mad Dog Time (1996)': 1140, 'Dead Zone, The (1983)': 1141, 'Maximum Overdrive (1986)': 1142, 'Do the Right Thing (1989)': 1143, 'Bull Durham (1988)': 1144, \"Who's Afraid of Virginia Woolf? (1966)\": 1145, 'Quick and the Dead, The (1995)': 1146, 'Sixteen Candles (1984)': 1147, 'Kids (1995)': 1148, 'Mosquito Coast, The (1986)': 1149, 'History of the World: Part I (1981)': 1150, 'Notting Hill (1999)': 1151, 'Working Girl (1988)': 1152, 'Frances (1982)': 1153, 'Blue Sky (1994)': 1154, 'Risky Business (1983)': 1155, 'Big Chill, The (1983)': 1156, 'Everyone Says I Love You (1996)': 1157, 'Englishman Who Went Up a Hill, But Came Down a Mountain, The (1995)': 1158, 'Stripes (1981)': 1159, 'Muppets From Space (1999)': 1160, 'Canadian Bacon (1994)': 1161, 'Barb Wire (1996)': 1162, 'Operation Dumbo Drop (1995)': 1163, 'Star Trek V: The Final Frontier (1989)': 1164, 'Toys (1992)': 1165, 'Super Mario Bros. (1993)': 1166, 'In the Army Now (1994)': 1167, \"She's Gotta Have It (1986)\": 1168, 'School Daze (1988)': 1169, 'Multiplicity (1996)': 1170, 'Jungle Fever (1991)': 1171, 'Forces of Nature (1999)': 1172, 'Babysitter, The (1995)': 1173, 'Craft, The (1996)': 1174, 'My Life (1993)': 1175, 'Sex, Lies, and Videotape (1989)': 1176, 'North Dallas Forty (1979)': 1177, 'Hoosiers (1986)': 1178, 'Mercury Rising (1998)': 1179, 'Father of the Bride Part II (1995)': 1180, \"She's the One (1996)\": 1181, 'Red Dawn (1984)': 1182, 'Congo (1995)': 1183, 'Exit to Eden (1994)': 1184, 'Sphere (1998)': 1185, 'French Kiss (1995)': 1186, 'Forget Paris (1995)': 1187, 'First Knight (1995)': 1188, \"St. Elmo's Fire (1985)\": 1189, 'Bachelor Party (1984)': 1190, 'Specialist, The (1994)': 1191, 'How Stella Got Her Groove Back (1998)': 1192, 'Heathers (1989)': 1193, 'Fatal Attraction (1987)': 1194, 'I.Q. (1994)': 1195, 'Net, The (1995)': 1196, 'Honeymoon in Vegas (1992)': 1197, 'Diner (1982)': 1198, 'Substitute, The (1996)': 1199, 'American President, The (1995)': 1200, 'Meatballs (1979)': 1201, 'Elephant Man, The (1980)': 1202, 'Something to Talk About (1995)': 1203, 'Lawn Dogs (1997)': 1204, 'Bad Girls (1994)': 1205, 'Hope Floats (1998)': 1206, 'Milk Money (1994)': 1207, 'Miami Rhapsody (1995)': 1208, 'Oxygen (1999)': 1209, 'Blame It on Rio (1984)': 1210, 'Fools Rush In (1997)': 1211, 'Tin Cup (1996)': 1212, 'Nine 1/2 Weeks (1986)': 1213, 'Random Hearts (1999)': 1214, 'Metropolitan (1990)': 1215, 'Client, The (1994)': 1216, 'Blue Chips (1994)': 1217, 'Bonfire of the Vanities (1990)': 1218, 'First Blood (1982)': 1219, 'Against All Odds (1984)': 1220, 'Rambo III (1988)': 1221, 'Poison Ivy (1992)': 1222, 'One Crazy Summer (1986)': 1223, 'About Last Night... (1986)': 1224, \"Butcher's Wife, The (1991)\": 1225, 'Indecent Proposal (1993)': 1226, 'Heaven Can Wait (1978)': 1227, 'It Could Happen to You (1994)': 1228, 'Rocky IV (1985)': 1229, 'Addicted to Love (1997)': 1230, 'Pacific Heights (1990)': 1231, 'Breathless (1983)': 1232, 'Program, The (1993)': 1233, 'Dave (1993)': 1234, 'Karate Kid, The (1984)': 1235, 'Last Picture Show, The (1971)': 1236, 'Speechless (1994)': 1237, 'Mighty Joe Young (1998)': 1238, 'Lords of Flatbush, The (1974)': 1239, 'When a Man Loves a Woman (1994)': 1240, 'Flamingo Kid, The (1984)': 1241, 'Natural, The (1984)': 1242, 'Flashdance (1983)': 1243, 'Sommersby (1993)': 1244, 'One Fine Day (1996)': 1245, 'Homeward Bound II: Lost in San Francisco (1996)': 1246, 'Guilty as Sin (1993)': 1247, 'Mouse Hunt (1997)': 1248, 'How to Be a Player (1997)': 1249, 'Live Nude Girls (1995)': 1250, 'Bed of Roses (1996)': 1251, 'Any Given Sunday (1999)': 1252, 'Hand That Rocks the Cradle, The (1992)': 1253, 'Varsity Blues (1999)': 1254, 'Blue Lagoon, The (1980)': 1255, 'Freaky Friday (1977)': 1256, 'Fabulous Baker Boys, The (1989)': 1257, 'Flatliners (1990)': 1258, 'Sliver (1993)': 1259, \"Porky's II: The Next Day (1983)\": 1260, 'Hudsucker Proxy, The (1994)': 1261, \"I'll Do Anything (1994)\": 1262, 'Very Bad Things (1998)': 1263, 'If Lucy Fell (1996)': 1264, 'Crush, The (1993)': 1265, \"Porky's Revenge (1985)\": 1266, 'Threesome (1994)': 1267, 'My Tutor (1983)': 1268, 'Singles (1992)': 1269, \"White Men Can't Jump (1992)\": 1270, 'Ruthless People (1986)': 1271, 'Beautiful Girls (1996)': 1272, 'Picture Perfect (1997)': 1273, 'Man Without a Face, The (1993)': 1274, 'Single White Female (1992)': 1275, 'Soul Man (1986)': 1276, 'Mr. Wonderful (1993)': 1277, 'Walk in the Clouds, A (1995)': 1278, 'Touch of Evil (1958)': 1279, 'Hear My Song (1991)': 1280, 'Asphalt Jungle, The (1950)': 1281, 'Out of the Past (1947)': 1282, 'Inherit the Wind (1960)': 1283, 'It Happened One Night (1934)': 1284, 'Sunset Blvd. (a.k.a. Sunset Boulevard) (1950)': 1285, 'Strangers on a Train (1951)': 1286, 'Notorious (1946)': 1287, 'My Man Godfrey (1936)': 1288, 'Conversation, The (1974)': 1289, 'Bringing Up Baby (1938)': 1290, 'Blood Simple (1984)': 1291, 'Seventh Seal, The (Sjunde inseglet, Det) (1957)': 1292, 'Haunting, The (1963)': 1293, 'Funny Face (1957)': 1294, 'Gaslight (1944)': 1295, 'Auntie Mame (1958)': 1296, 'Vanya on 42nd Street (1994)': 1297, 'Flirt (1995)': 1298, 'Rebecca (1940)': 1299, 'Apocalypse Now (1979)': 1300, 'Henry V (1989)': 1301, 'Betrayed (1988)': 1302, 'King of New York (1990)': 1303, 'Jagged Edge (1985)': 1304, 'Longest Day, The (1962)': 1305, 'Assault on Precinct 13 (1976)': 1306, 'Godzilla (Gojira) (1954)': 1307, 'Dirty Dozen, The (1967)': 1308, \"Kelly's Heroes (1970)\": 1309, 'Thunderbolt and Lightfoot (1974)': 1310, 'Old Man and the Sea, The (1958)': 1311, 'Night to Remember, A (1958)': 1312, 'Avalanche (1978)': 1313, 'Presidio, The (1988)': 1314, 'Executive Decision (1996)': 1315, 'Double Life of Veronique, The (La Double Vie de V�ronique) (1991)': 1316, 'Bamboozled (2000)': 1317, 'Requiem for a Dream (2000)': 1318, 'Whatever (1998)': 1319, 'Love and Basketball (2000)': 1320, 'Secrets & Lies (1996)': 1321, 'Wonderland (1997)': 1322, \"School of Flesh, The (L' �cole de la chair) (1998)\": 1323, 'Lady Vanishes, The (1938)': 1324, 'Purple Rose of Cairo, The (1985)': 1325, 'General, The (1927)': 1326, 'Taming of the Shrew, The (1967)': 1327, 'Great Dictator, The (1940)': 1328, 'Modern Times (1936)': 1329, 'Going My Way (1944)': 1330, 'Real Genius (1985)': 1331, 'Little Shop of Horrors, The (1960)': 1332, 'Last Detail, The (1973)': 1333, 'To Catch a Thief (1955)': 1334, 'Father of the Bride (1950)': 1335, 'To Be or Not to Be (1942)': 1336, \"Hang 'em High (1967)\": 1337, 'Harvey (1950)': 1338, 'Scarlet Letter, The (1926)': 1339, 'Lady Eve, The (1941)': 1340, \"Sullivan's Travels (1942)\": 1341, 'My Man Godfrey (1957)': 1342, 'Little Lord Fauntleroy (1936)': 1343, 'Barefoot in the Park (1967)': 1344, 'Goodbye Girl, The (1977)': 1345, 'Harold and Maude (1971)': 1346, 'Born Yesterday (1950)': 1347, 'Creature Comforts (1990)': 1348, 'Persuasion (1995)': 1349, 'Mansfield Park (1999)': 1350, 'Shower (Xizhao) (1999)': 1351, 'Sliding Doors (1998)': 1352, 'Network (1976)': 1353, \"Mummy's Hand, The (1940)\": 1354, 'King and I, The (1956)': 1355, 'Belle de jour (1967)': 1356, 'Suspicion (1941)': 1357, 'Birds, The (1963)': 1358, 'House of Dracula (1945)': 1359, 'House of Frankenstein (1944)': 1360, 'Son of Frankenstein (1939)': 1361, 'Tender Mercies (1983)': 1362, 'Drugstore Cowboy (1989)': 1363, 'And the Band Played On (1993)': 1364, 'Patton (1970)': 1365, 'Nosferatu (Nosferatu, eine Symphonie des Grauens) (1922)': 1366, 'Ghost of Frankenstein, The (1942)': 1367, 'Henry: Portrait of a Serial Killer (1990)': 1368, '101 Dalmatians (1996)': 1369, 'Killing Fields, The (1984)': 1370, 'What Ever Happened to Baby Jane? (1962)': 1371, 'Loss of Sexual Innocence, The (1999)': 1372, 'Marty (1955)': 1373, 'Country (1984)': 1374, 'Places in the Heart (1984)': 1375, 'Rope (1948)': 1376, 'Frenzy (1972)': 1377, 'Swiss Family Robinson (1960)': 1378, 'Hitch-Hiker, The (1953)': 1379, 'Man Who Knew Too Much, The (1956)': 1380, 'Midnight Express (1978)': 1381, 'Dead Calm (1989)': 1382, 'Boys from Brazil, The (1978)': 1383, 'Lost Highway (1997)': 1384, 'Spellbound (1945)': 1385, 'Affair to Remember, An (1957)': 1386, 'Runaway Train (1985)': 1387, 'High Plains Drifter (1972)': 1388, 'East of Eden (1955)': 1389, 'Near Dark (1987)': 1390, 'Hairspray (1988)': 1391, 'Inferno (1980)': 1392, 'Paper Chase, The (1973)': 1393, 'Anchors Aweigh (1945)': 1394, 'Odessa File, The (1974)': 1395, 'Carnal Knowledge (1971)': 1396, 'Falcon and the Snowman, The (1984)': 1397, 'South Pacific (1958)': 1398, 'Howling, The (1980)': 1399, 'Sleepers (1996)': 1400, 'Eraserhead (1977)': 1401, 'Scream 2 (1997)': 1402, 'For a Few Dollars More (1965)': 1403, 'Texas Chainsaw Massacre, The (1974)': 1404, 'Kentucky Fried Movie, The (1977)': 1405, 'He Walked by Night (1948)': 1406, 'Once Upon a Time in America (1984)': 1407, 'Dial M for Murder (1954)': 1408, 'Name of the Rose, The (1986)': 1409, 'My Life as a Dog (Mitt liv som hund) (1985)': 1410, 'Steel Magnolias (1989)': 1411, 'Right Stuff, The (1983)': 1412, 'Bride of the Monster (1956)': 1413, 'Mildred Pierce (1945)': 1414, 'Cronos (1992)': 1415, 'Of Mice and Men (1992)': 1416, 'Ipcress File, The (1965)': 1417, 'City of Angels (1998)': 1418, 'Weird Science (1985)': 1419, 'Matilda (1996)': 1420, \"Can't Hardly Wait (1998)\": 1421, 'Soapdish (1991)': 1422, 'Days of Thunder (1990)': 1423, 'Funny Farm (1988)': 1424, 'Stepmom (1998)': 1425, 'Police Academy 2: Their First Assignment (1985)': 1426, 'Police Academy 3: Back in Training (1986)': 1427, '8 1/2 (1963)': 1428, \"Autumn Tale, An (Conte d'automne) (1998)\": 1429, 'Searchers, The (1956)': 1430, 'Beyond Rangoon (1995)': 1431, 'Shane (1953)': 1432, 'Lone Star (1996)': 1433, 'Walking and Talking (1996)': 1434, 'Diva (1981)': 1435, 'Dreamlife of Angels, The (La Vie r�v�e des anges) (1998)': 1436, 'Walkabout (1971)': 1437, 'Kaspar Hauser (1993)': 1438, 'Popeye (1980)': 1439, 'Jules and Jim (Jules et Jim) (1961)': 1440, 'Hud (1963)': 1441, 'Nashville (1975)': 1442, 'Seven Beauties (Pasqualino Settebellezze) (1976)': 1443, \"Swept Away (Travolti da un insolito destino nell'azzurro mare d'Agosto) (1975)\": 1444, 'Jonah Who Will Be 25 in the Year 2000 (1976)': 1445, 'Guys and Dolls (1955)': 1446, 'Man for All Seasons, A (1966)': 1447, 'Next Stop, Wonderland (1998)': 1448, 'Limbo (1999)': 1449, 'Big Kahuna, The (2000)': 1450, 'Bossa Nova (1999)': 1451, 'Klute (1971)': 1452, 'Commitments, The (1991)': 1453, 'Living Out Loud (1998)': 1454, 'Holiday Inn (1942)': 1455, 'Year of Living Dangerously (1982)': 1456, 'American Gigolo (1980)': 1457, 'Top Hat (1935)': 1458, 'Days of Heaven (1978)': 1459, 'Kagemusha (1980)': 1460, '39 Steps, The (1935)': 1461, 'Mifune (Mifunes sidste sang) (1999)': 1462, 'Bananas (1971)': 1463, 'Home Fries (1998)': 1464, 'Saving Grace (2000)': 1465, 'Victor/Victoria (1982)': 1466, 'Man and a Woman, A (Un Homme et une Femme) (1966)': 1467, 'Chungking Express (1994)': 1468, 'Ruling Class, The (1972)': 1469, 'Tao of Steve, The (2000)': 1470, 'Cinema Paradiso (1988)': 1471, 'Blowup (1966)': 1472, 'Big One, The (1997)': 1473, 'Brothers McMullen, The (1995)': 1474, 'Madonna: Truth or Dare (1991)': 1475, 'Return to Me (2000)': 1476, 'Exotica (1994)': 1477, 'Johnny Mnemonic (1995)': 1478, 'Love & Human Remains (1993)': 1479, 'Slums of Beverly Hills, The (1998)': 1480, 'Junior (1994)': 1481, 'Unbearable Lightness of Being, The (1988)': 1482, 'Clockwatchers (1997)': 1483, 'Lucas (1986)': 1484, \"Men Don't Leave (1990)\": 1485, 'Angel Heart (1987)': 1486, 'Take the Money and Run (1969)': 1487, 'Mimic (1997)': 1488, 'Siege, The (1998)': 1489, 'Tora! Tora! Tora! (1970)': 1490, 'Tin Men (1987)': 1491, 'Better Than Chocolate (1999)': 1492, 'Perfect World, A (1993)': 1493, 'U2: Rattle and Hum (1988)': 1494, 'Nothing in Common (1986)': 1495, 'Peacemaker, The (1997)': 1496, 'Fear of a Black Hat (1993)': 1497, \"Smilla's Sense of Snow (1997)\": 1498, 'Whole Nine Yards, The (2000)': 1499, 'Nutty Professor II: The Klumps (2000)': 1500, 'When We Were Kings (1996)': 1501, 'F/X (1986)': 1502, 'Predator 2 (1990)': 1503, 'War Room, The (1993)': 1504, 'Stalag 17 (1953)': 1505, 'Red Sorghum (Hong Gao Liang) (1987)': 1506, 'Corruptor, The (1999)': 1507, 'Fantasia 2000 (1999)': 1508, 'English Patient, The (1996)': 1509, 'Parent Trap, The (1998)': 1510, 'Mirror Has Two Faces, The (1996)': 1511, 'Buena Vista Social Club (1999)': 1512, 'Balto (1995)': 1513, 'Six Days Seven Nights (1998)': 1514, 'That Old Feeling (1997)': 1515, 'How to Make an American Quilt (1995)': 1516, 'Kiss the Girls (1997)': 1517, 'Free Willy (1993)': 1518, 'Detroit Rock City (1999)': 1519, 'Mafia! (1998)': 1520, 'Pork Chop Hill (1959)': 1521, 'Allan Quartermain and the Lost City of Gold (1987)': 1522, 'Flying Tigers (1942)': 1523, 'Fighting Seabees, The (1944)': 1524, 'Mighty Joe Young (1949)': 1525, 'For Whom the Bell Tolls (1943)': 1526, 'Farewell to Arms, A (1932)': 1527, 'Captain Horatio Hornblower (1951)': 1528, 'Bear, The (1988)': 1529, 'Crocodile Dundee II (1988)': 1530, 'Life Less Ordinary, A (1997)': 1531, 'Deep End of the Ocean, The (1999)': 1532, 'Runaway (1984)': 1533, 'Superman III (1983)': 1534, 'Force 10 from Navarone (1978)': 1535, 'Breakdown (1997)': 1536, 'U-571 (2000)': 1537, 'Free Enterprise (1998)': 1538, 'Cocoon: The Return (1988)': 1539, 'Lawnmower Man, The (1992)': 1540, '7th Voyage of Sinbad, The (1958)': 1541, 'Timecop (1994)': 1542, 'Freejack (1992)': 1543, 'Sinbad and the Eye of the Tiger (1977)': 1544, 'Communion (1989)': 1545, 'Airport (1970)': 1546, 'Fly II, The (1989)': 1547, 'Event Horizon (1997)': 1548, 'Black Hole, The (1979)': 1549, 'Rocketship X-M (1950)': 1550, 'Robocop 2 (1990)': 1551, 'Something Wicked This Way Comes (1983)': 1552, 'Slipper and the Rose, The (1976)': 1553, 'Midnight Cowboy (1969)': 1554, 'Adventures of Milo and Otis, The (1986)': 1555, 'Aladdin and the King of Thieves (1996)': 1556, 'Muppet Treasure Island (1996)': 1557, 'Agnes of God (1985)': 1558, 'Golden Voyage of Sinbad, The (1974)': 1559, \"Dead Men Don't Wear Plaid (1982)\": 1560, 'Object of My Affection, The (1998)': 1561, 'They Might Be Giants (1971)': 1562, 'Love Letter, The (1999)': 1563, 'Up Close and Personal (1996)': 1564, 'Boys on the Side (1995)': 1565, 'Cat Ballou (1965)': 1566, 'Couch in New York, A (1996)': 1567, 'Crimes of the Heart (1986)': 1568, 'American in Paris, An (1951)': 1569, 'Dance with Me (1998)': 1570, 'Apartment, The (1960)': 1571, 'Mrs. Winterbourne (1996)': 1572, 'Pollyanna (1960)': 1573, 'That Darn Cat! (1965)': 1574, 'Only You (1994)': 1575, 'My Fellow Americans (1996)': 1576, \"I'll Be Home For Christmas (1998)\": 1577, 'Love in the Afternoon (1957)': 1578, 'Irma la Douce (1963)': 1579, 'Paper, The (1994)': 1580, 'Favor, The (1994)': 1581, 'Theory of Flight, The (1998)': 1582, 'Celebrity (1998)': 1583, 'Love and Death (1975)': 1584, 'Playing by Heart (1998)': 1585, 'Sister Act 2: Back in the Habit (1993)': 1586, 'Quiet Man, The (1952)': 1587, 'Great Race, The (1965)': 1588, 'Made in America (1993)': 1589, \"Jumpin' Jack Flash (1986)\": 1590, 'Hugo Pool (1997)': 1591, 'Manhattan Murder Mystery (1993)': 1592, 'Baby, The (1973)': 1593, 'Slumber Party Massacre II, The (1987)': 1594, 'Amityville Horror, The (1979)': 1595, 'Nightmare on Elm Street, A (1984)': 1596, \"Nightmare on Elm Street Part 2: Freddy's Revenge, A (1985)\": 1597, 'I Still Know What You Did Last Summer (1998)': 1598, 'Nightmare on Elm Street 3: Dream Warriors, A (1987)': 1599, 'Nightmare on Elm Street 4: The Dream Master, A (1988)': 1600, 'Nightmare on Elm Street 5: The Dream Child, A (1989)': 1601, \"Freddy's Dead: The Final Nightmare (1991)\": 1602, 'Friday the 13th Part 2 (1981)': 1603, 'Friday the 13th Part 3: 3D (1982)': 1604, 'Friday the 13th: The Final Chapter (1984)': 1605, 'Friday the 13th Part V: A New Beginning (1985)': 1606, 'Friday the 13th Part VI: Jason Lives (1986)': 1607, \"Wes Craven's New Nightmare (1994)\": 1608, 'Friday the 13th Part VII: The New Blood (1988)': 1609, 'Friday the 13th Part VIII: Jason Takes Manhattan (1989)': 1610, 'Halloween II (1981)': 1611, 'Halloween III: Season of the Witch (1983)': 1612, 'Halloween 4: The Return of Michael Myers (1988)': 1613, 'Halloween 5: The Revenge of Michael Myers (1989)': 1614, 'Halloween: The Curse of Michael Myers (1995)': 1615, 'Halloween: H20 (1998)': 1616, 'Little Rascals, The (1994)': 1617, 'Wild Bunch, The (1969)': 1618, 'Chain Reaction (1996)': 1619, 'Anywhere But Here (1999)': 1620, 'Absolute Power (1997)': 1621, 'Eraser (1996)': 1622, 'Pale Rider (1985)': 1623, 'Vegas Vacation (1997)': 1624, 'In Love and War (1996)': 1625, 'Titanic (1953)': 1626, 'Battle for the Planet of the Apes (1973)': 1627, 'Conquest of the Planet of the Apes (1972)': 1628, 'Michael Collins (1996)': 1629, 'Last Man Standing (1996)': 1630, 'Deep Rising (1998)': 1631, 'Hackers (1995)': 1632, 'Mutiny on the Bounty (1935)': 1633, 'Everest (1998)': 1634, 'Dinosaur (2000)': 1635, 'From Here to Eternity (1953)': 1636, 'Empire Records (1995)': 1637, 'Walking Dead, The (1995)': 1638, 'Love Bug, The (1969)': 1639, 'Road to El Dorado, The (2000)': 1640, 'Airheads (1994)': 1641, 'Backbeat (1993)': 1642, 'Blown Away (1994)': 1643, 'Murder in the First (1995)': 1644, 'Flintstones, The (1994)': 1645, 'Yellow Submarine (1968)': 1646, 'Radioland Murders (1994)': 1647, 'Renaissance Man (1994)': 1648, 'Reality Bites (1994)': 1649, 'River Wild, The (1994)': 1650, 'With Honors (1994)': 1651, 'For Love or Money (1993)': 1652, 'Shadow, The (1994)': 1653, 'Shadowlands (1993)': 1654, 'Voyage to the Bottom of the Sea (1961)': 1655, 'Rumble in the Bronx (1995)': 1656, 'Clockers (1995)': 1657, 'Get on the Bus (1996)': 1658, 'Badlands (1973)': 1659, 'Nick of Time (1995)': 1660, 'Replacements, The (2000)': 1661, \"She's So Lovely (1997)\": 1662, 'Assassins (1995)': 1663, 'Polish Wedding (1998)': 1664, 'Body Snatcher, The (1945)': 1665, 'Frighteners, The (1996)': 1666, 'Jawbreaker (1999)': 1667, 'Snow Day (2000)': 1668, 'Road Trip (2000)': 1669, 'Gossip (2000)': 1670, 'Skulls, The (2000)': 1671, 'Bulletproof (1996)': 1672, 'Enchanted April (1991)': 1673, 'Wedding Gift, The (1994)': 1674, 'Visitors, The (Les Visiteurs) (1993)': 1675, 'Needful Things (1993)': 1676, 'Mediterraneo (1991)': 1677, 'Tie Me Up! Tie Me Down! (1990)': 1678, 'Pump Up the Volume (1990)': 1679, 'Cemetery Man (Dellamorte Dellamore) (1994)': 1680, 'Re-Animator (1985)': 1681, 'Portrait of a Lady, The (1996)': 1682, 'Night on Earth (1991)': 1683, 'Albino Alligator (1996)': 1684, 'Raise the Red Lantern (1991)': 1685, \"Joe's Apartment (1996)\": 1686, 'Cube (1997)': 1687, 'Your Friends and Neighbors (1998)': 1688, 'Some Kind of Wonderful (1987)': 1689, 'Ridicule (1996)': 1690, 'I Shot Andy Warhol (1996)': 1691, 'Feeling Minnesota (1996)': 1692, 'Bride of Chucky (1998)': 1693, \"Peter's Friends (1992)\": 1694, 'Messenger: The Story of Joan of Arc, The (1999)': 1695, 'Ripe (1996)': 1696, 'Vampires (1998)': 1697, 'Rambo: First Blood Part II (1985)': 1698, 'Women on the Verge of a Nervous Breakdown (1988)': 1699, '187 (1997)': 1700, 'My Own Private Idaho (1991)': 1701, 'Liberty Heights (1999)': 1702, 'Mona Lisa (1986)': 1703, 'Karate Kid, Part II, The (1986)': 1704, 'Wishmaster (1997)': 1705, 'Stuart Little (1999)': 1706, 'U Turn (1997)': 1707, 'Crash (1996)': 1708, 'Thin Man, The (1934)': 1709, 'Island of Dr. Moreau, The (1996)': 1710, 'City Lights (1931)': 1711, 'Chushingura (1962)': 1712, 'Mother Night (1996)': 1713, 'Christine (1983)': 1714, 'City Hall (1996)': 1715, \"Angela's Ashes (1999)\": 1716, 'House of Yes, The (1997)': 1717, 'What Planet Are You From? (2000)': 1718, 'Postman, The (1997)': 1719, 'Idle Hands (1999)': 1720, \"Man Bites Dog (C'est arriv� pr�s de chez vous) (1992)\": 1721, 'Spawn (1997)': 1722, 'Birdy (1984)': 1723, 'Two Girls and a Guy (1997)': 1724, 'Beach, The (2000)': 1725, 'Red Corner (1997)': 1726, 'Awfully Big Adventure, An (1995)': 1727, 'Black and White (1999)': 1728, 'Mommie Dearest (1981)': 1729, 'Replacement Killers, The (1998)': 1730, 'Picnic at Hanging Rock (1975)': 1731, 'Drop Dead Gorgeous (1999)': 1732, 'Borrowers, The (1997)': 1733, 'Three Colors: Blue (1993)': 1734, 'Red Firecracker, Green Firecracker (1994)': 1735, 'Small Soldiers (1998)': 1736, 'Romeo Must Die (2000)': 1737, 'Twin Falls Idaho (1999)': 1738, 'Lord of Illusions (1995)': 1739, 'King Creole (1958)': 1740, 'Solar Crisis (1993)': 1741, 'Junk Mail (1997)': 1742, 'Date with an Angel (1987)': 1743, 'Swimming with Sharks (1995)': 1744, 'To Live (Huozhe) (1994)': 1745, 'Nadja (1994)': 1746, 'Kiss of Death (1995)': 1747, 'Prophecy, The (1995)': 1748, 'Iron Eagle (1986)': 1749, 'Bamba, La (1987)': 1750, 'Safe (1995)': 1751, 'Showgirls (1995)': 1752, 'Four Rooms (1995)': 1753, 'Little Odessa (1994)': 1754, 'Myth of Fingerprints, The (1997)': 1755, 'Hunger, The (1983)': 1756, 'Radio Days (1987)': 1757, 'In the Heat of the Night (1967)': 1758, 'Jennifer 8 (1992)': 1759, 'Godzilla (1998)': 1760, 'Double Happiness (1994)': 1761, 'Another Stakeout (1993)': 1762, 'Copycat (1995)': 1763, \"Nobody's Fool (1994)\": 1764, 'Carrington (1995)': 1765, 'Higher Learning (1995)': 1766, 'Time Code (2000)': 1767, 'Naked (1993)': 1768, \"City Slickers II: The Legend of Curly's Gold (1994)\": 1769, 'Color of Night (1994)': 1770, 'Once Were Warriors (1994)': 1771, 'Little Buddha (1993)': 1772, 'Saturn 3 (1979)': 1773, 'Tingler, The (1959)': 1774, \"Cat's Eye (1985)\": 1775, 'Robocop 3 (1993)': 1776, 'Fearless (1993)': 1777, 'Georgia (1995)': 1778, 'American Werewolf in Paris, An (1997)': 1779, \"Child's Play (1988)\": 1780, 'Romeo Is Bleeding (1993)': 1781, 'Fright Night (1985)': 1782, 'Romper Stomper (1992)': 1783, 'Wolf (1994)': 1784, 'Fresh (1994)': 1785, \"Jesus' Son (1999)\": 1786, 'Wings of Desire (Der Himmel �ber Berlin) (1987)': 1787, 'Hard 8 (a.k.a. Sydney, a.k.a. Hard Eight) (1996)': 1788, 'Someone to Watch Over Me (1987)': 1789, 'Flower of My Secret, The (La Flor de Mi Secreto) (1995)': 1790, 'F/X 2 (1992)': 1791, 'Toxic Avenger, The (1985)': 1792, 'Killing Zoe (1994)': 1793, 'Hellbound: Hellraiser II (1988)': 1794, 'Paris, Texas (1984)': 1795, 'Cat from Outer Space, The (1978)': 1796, 'Doors, The (1991)': 1797, 'Killer (Bulletproof Heart) (1994)': 1798, 'Grand Canyon (1991)': 1799, 'Outsiders, The (1983)': 1800, 'Cook the Thief His Wife & Her Lover, The (1989)': 1801, 'How I Won the War (1967)': 1802, 'Star Is Born, A (1937)': 1803, 'And Now for Something Completely Different (1971)': 1804, 'Benji (1974)': 1805, 'One False Move (1991)': 1806, 'Ref, The (1994)': 1807, 'Chuck & Buck (2000)': 1808, 'Mighty, The (1998)': 1809, 'Toxic Avenger, Part II, The (1989)': 1810, 'Raging Bull (1980)': 1811, 'Godzilla 2000 (Gojira ni-sen mireniamu) (1999)': 1812, 'Incredible Journey, The (1963)': 1813, 'Nurse Betty (2000)': 1814, 'Pink Floyd - The Wall (1982)': 1815, 'True Crime (1995)': 1816, 'Trouble with Harry, The (1955)': 1817, 'Godzilla (Gojira) (1984)': 1818, 'King Kong vs. Godzilla (Kingukongu tai Gojira) (1962)': 1819, 'Ghost Dog: The Way of the Samurai (1999)': 1820, 'My Science Project (1985)': 1821, 'Species II (1998)': 1822, 'Swamp Thing (1982)': 1823, 'Otello (1986)': 1824, 'Secret Adventures of Tom Thumb, The (1993)': 1825, 'Hollow Man (2000)': 1826, 'Hellraiser: Bloodline (1996)': 1827, 'Lolita (1997)': 1828, 'Happy, Texas (1999)': 1829, 'Return of the Fly (1959)': 1830, 'Five Easy Pieces (1970)': 1831, 'Grand Illusion (Grande illusion, La) (1937)': 1832, 'Woman in the Dunes (Suna no onna) (1964)': 1833, 'Bicycle Thief, The (Ladri di biciclette) (1948)': 1834, 'Of Human Bondage (1934)': 1835, 'Blue Angel, The (Blaue Engel, Der) (1930)': 1836, 'Snow Falling on Cedars (1999)': 1837, 'Love Is a Many-Splendored Thing (1955)': 1838, 'Raisin in the Sun, A (1961)': 1839, 'Secret of Roan Inish, The (1994)': 1840, 'How Green Was My Valley (1941)': 1841, 'Cabaret (1972)': 1842, 'Run Silent, Run Deep (1958)': 1843, 'Oliver! (1968)': 1844, 'Blow-Out (La Grande Bouffe) (1973)': 1845, 'Two Women (La Ciociara) (1961)': 1846, 'Breaker Morant (1980)': 1847, 'Battleship Potemkin, The (Bronenosets Potyomkin) (1925)': 1848, 'Official Story, The (La Historia Oficial) (1985)': 1849, 'Shall We Dance? (1937)': 1850, 'Bread and Chocolate (Pane e cioccolata) (1973)': 1851, 'Dancer in the Dark (2000)': 1852, 'Best in Show (2000)': 1853, 'Before and After (1996)': 1854, 'Fly Away Home (1996)': 1855, \"Cookie's Fortune (1999)\": 1856, 'Bring It On (2000)': 1857, 'Reindeer Games (2000)': 1858, 'Flintstones in Viva Rock Vegas, The (2000)': 1859, 'Kid, The (2000)': 1860, 'Pawnbroker, The (1965)': 1861, 'Grumpier Old Men (1995)': 1862, 'Atlantic City (1980)': 1863, 'Ghosts of Mississippi (1996)': 1864, 'American Buffalo (1996)': 1865, 'Trip to Bountiful, The (1985)': 1866, 'Faithful (1996)': 1867, \"They Shoot Horses, Don't They? (1969)\": 1868, 'Man Who Knew Too Much, The (1934)': 1869, 'Coma (1978)': 1870, 'Mother (1996)': 1871, 'Kidnapped (1960)': 1872, 'Stanley & Iris (1990)': 1873, 'River, The (1984)': 1874, 'Metro (1997)': 1875, \"Preacher's Wife, The (1996)\": 1876, 'Family Plot (1976)': 1877, 'Spitfire Grill, The (1996)': 1878, 'Prisoner of the Mountains (Kavkazsky Plennik) (1996)': 1879, 'Foreign Correspondent (1940)': 1880, 'Dancing at Lughnasa (1998)': 1881, 'Love Jones (1997)': 1882, 'MatchMaker, The (1997)': 1883, 'Penny Serenade (1941)': 1884, 'Hurlyburly (1998)': 1885, 'Angel on My Shoulder (1946)': 1886, 'Wonder Boys (2000)': 1887, 'Algiers (1938)': 1888, 'Horse Whisperer, The (1998)': 1889, 'Running Scared (1986)': 1890, 'Splendor in the Grass (1961)': 1891, 'Boomerang (1992)': 1892, 'Tough Guys (1986)': 1893, 'Color of Money, The (1986)': 1894, 'Jade (1995)': 1895, '...And Justice for All (1979)': 1896, 'End of Violence, The (1997)': 1897, 'Smoke Signals (1998)': 1898, 'Postman Always Rings Twice, The (1981)': 1899, 'Lolita (1962)': 1900, 'Palmetto (1998)': 1901, 'G. I. Blues (1960)': 1902, \"You Can't Take It With You (1938)\": 1903, 'Lost Weekend, The (1945)': 1904, 'Jefferson in Paris (1995)': 1905, 'Things Change (1988)': 1906, 'Three Days of the Condor (1975)': 1907, 'Hamlet (1964)': 1908, 'Addams Family Values (1993)': 1909, 'My Family (1995)': 1910, 'Seven Days in May (1964)': 1911, 'Coming Home (1978)': 1912, 'Shaft (1971)': 1913, 'Pit and the Pendulum (1961)': 1914, 'Fatal Instinct (1993)': 1915, 'Looking for Richard (1996)': 1916, 'Sugarland Express, The (1974)': 1917, 'Niagara (1953)': 1918, 'Flesh and Bone (1993)': 1919, 'Gilda (1946)': 1920, 'Once Upon a Time in the West (1969)': 1921, 'Crossing Guard, The (1995)': 1922, 'Juror, The (1996)': 1923, \"Antonia's Line (Antonia) (1995)\": 1924, 'Candidate, The (1972)': 1925, 'Air America (1990)': 1926, 'Tin Drum, The (Blechtrommel, Die) (1979)': 1927, 'Carried Away (1996)': 1928, 'Christmas Carol, A (1938)': 1929, 'Bank Dick, The (1940)': 1930, \"Miller's Crossing (1990)\": 1931, 'American Movie (1999)': 1932, '8MM (1999)': 1933, 'Doom Generation, The (1995)': 1934, 'SLC Punk! (1998)': 1935, 'Thirteenth Floor, The (1999)': 1936, 'Desert Blue (1999)': 1937, 'Superstar (1999)': 1938, 'Evita (1996)': 1939, 'Mating Habits of the Earthbound Human, The (1998)': 1940, 'Sudden Death (1995)': 1941, 'Karate Kid III, The (1989)': 1942, 'Batman & Robin (1997)': 1943, 'Pelican Brief, The (1993)': 1944, 'Sgt. Bilko (1996)': 1945, 'Meet John Doe (1941)': 1946, 'Best Years of Our Lives, The (1946)': 1947, 'Reds (1981)': 1948, \"'Night Mother (1986)\": 1949, 'Effect of Gamma Rays on Man-in-the-Moon Marigolds, The (1972)': 1950, 'Broadway Melody, The (1929)': 1951, 'Ideal Husband, An (1999)': 1952, 'Affliction (1997)': 1953, 'Henry Fool (1997)': 1954, 'Cry, the Beloved Country (1995)': 1955, 'Restoration (1995)': 1956, 'Body Shots (1999)': 1957, 'Passion Fish (1992)': 1958, 'Agnes Browne (1999)': 1959, 'Solo (1996)': 1960, 'Wrongfully Accused (1998)': 1961, 'Rocky V (1990)': 1962, 'Maximum Risk (1996)': 1963, 'Black Mask (Hak hap) (1996)': 1964, 'Teenage Mutant Ninja Turtles II: The Secret of the Ooze (1991)': 1965, 'Teenage Mutant Ninja Turtles III (1993)': 1966, 'Bloodsport (1988)': 1967, 'Hideaway (1995)': 1968, 'Mr. Nice Guy (1997)': 1969, 'Glimmer Man, The (1996)': 1970, 'Operation Condor (Feiying gaiwak) (1990)': 1971, 'Hard Target (1993)': 1972, 'Missing in Action 2: The Beginning (1985)': 1973, 'Braddock: Missing in Action III (1988)': 1974, 'Quest, The (1996)': 1975, 'Kansas City (1996)': 1976, 'Central Station (Central do Brasil) (1998)': 1977, 'Andre (1994)': 1978, 'Honey, I Blew Up the Kid (1992)': 1979, 'Tom and Huck (1995)': 1980, 'Harriet the Spy (1996)': 1981, 'Space Jam (1996)': 1982, 'Air Bud: Golden Receiver (1998)': 1983, 'Jingle All the Way (1996)': 1984, 'NeverEnding Story II: The Next Chapter, The (1990)': 1985, 'Return of Jafar, The (1993)': 1986, 'Pok�mon: The First Movie (1998)': 1987, 'That Darn Cat! (1997)': 1988, 'Jungle2Jungle (a.k.a. Jungle 2 Jungle) (1997)': 1989, 'Buddy (1997)': 1990, 'Rugrats Movie, The (1998)': 1991, \"Cats Don't Dance (1997)\": 1992, 'Bogus (1996)': 1993, 'Home Alone 3 (1997)': 1994, 'Wild America (1997)': 1995, 'George of the Jungle (1997)': 1996, \"We're Back! A Dinosaur's Story (1993)\": 1997, 'Jack Frost (1998)': 1998, 'Air Bud (1997)': 1999, 'Baby Geniuses (1999)': 2000, 'King and I, The (1999)': 2001, 'Amazing Panda Adventure, The (1995)': 2002, 'Madeline (1998)': 2003, 'Far From Home: The Adventures of Yellow Dog (1995)': 2004, 'Goofy Movie, A (1995)': 2005, 'Free Willy 2: The Adventure Home (1995)': 2006, 'Inspector Gadget (1999)': 2007, 'Mighty Morphin Power Rangers: The Movie (1995)': 2008, \"Kid in King Arthur's Court, A (1995)\": 2009, 'Ace Ventura: When Nature Calls (1995)': 2010, 'Dudley Do-Right (1999)': 2011, 'Angels in the Outfield (1994)': 2012, 'Next Karate Kid, The (1994)': 2013, 'Jungle Book, The (1994)': 2014, 'Home Alone 2: Lost in New York (1992)': 2015, 'Dunston Checks In (1996)': 2016, 'Pagemaster, The (1994)': 2017, 'Angus (1995)': 2018, 'Blank Check (1994)': 2019, 'All Dogs Go to Heaven 2 (1996)': 2020, 'Theodore Rex (1995)': 2021, 'Oliver & Company (1988)': 2022, 'Flipper (1996)': 2023, 'Get Carter (2000)': 2024, 'Bait (2000)': 2025, 'Simple Twist of Fate, A (1994)': 2026, 'Croupier (1998)': 2027, 'Jean de Florette (1986)': 2028, 'Critical Care (1997)': 2029, 'Different for Girls (1996)': 2030, \"God Said 'Ha!' (1998)\": 2031, 'On the Town (1949)': 2032, 'Friend of the Deceased, A (1997)': 2033, 'Barcelona (1994)': 2034, 'Three Caballeros, The (1945)': 2035, 'Pushing Hands (1992)': 2036, 'Kicking and Screaming (1995)': 2037, 'Last Summer in the Hamptons (1995)': 2038, 'All That Jazz (1979)': 2039, 'Bhaji on the Beach (1993)': 2040, 'Rapture, The (1991)': 2041, 'Paths of Glory (1957)': 2042, 'M (1931)': 2043, 'Drunken Master (Zui quan) (1979)': 2044, 'For Love of the Game (1999)': 2045, 'Drowning Mona (2000)': 2046, 'Coyote Ugly (2000)': 2047, 'Broken Hearts Club, The (2000)': 2048, 'Eyes of Tammy Faye, The (2000)': 2049, 'Gold Diggers: The Secret of Bear Mountain (1995)': 2050, 'Tumbleweeds (1999)': 2051, 'Spice World (1997)': 2052, 'Big Green, The (1995)': 2053, 'Bad Boys (1995)': 2054, 'Brief Encounter (1946)': 2055, 'Way of the Gun, The (2000)': 2056, 'Cement Garden, The (1993)': 2057, 'Why Do Fools Fall In Love? (1998)': 2058, 'Two Jakes, The (1990)': 2059, 'Urban Legend (1998)': 2060, 'Infinity (1996)': 2061, 'Twin Dragons (Shuang long hui) (1992)': 2062, 'Dracula: Dead and Loving It (1995)': 2063, 'Perez Family, The (1995)': 2064, 'Red Rock West (1992)': 2065, \"Don't Be a Menace to South Central While Drinking Your Juice in the Hood (1996)\": 2066, 'Operation Condor 2 (Longxiong hudi) (1990)': 2067, \"What's Love Got to Do with It? (1993)\": 2068, 'Fandango (1985)': 2069, 'My Favorite Year (1982)': 2070, 'Local Hero (1983)': 2071, 'Newsies (1992)': 2072, 'Grease 2 (1982)': 2073, 'NeverEnding Story III, The (1994)': 2074, 'I Love Trouble (1994)': 2075, 'Life with Mikey (1993)': 2076, 'Steamboat Willie (1940)': 2077, 'Three to Tango (1999)': 2078, 'Great Mouse Detective, The (1986)': 2079, \"Dante's Peak (1997)\": 2080, 'Heartbreak Ridge (1986)': 2081, 'Killer Shrews, The (1959)': 2082, 'Nosferatu a Venezia (1986)': 2083, 'Phantasm II (1988)': 2084, 'Shadow of a Doubt (1943)': 2085, 'Our Town (1940)': 2086, 'Saboteur (1942)': 2087, 'Sabotage (1936)': 2088, 'Paradise Road (1997)': 2089, 'Gay Divorcee, The (1934)': 2090, 'Ninotchka (1939)': 2091, 'Lost Horizon (1937)': 2092, 'McCabe & Mrs. Miller (1971)': 2093, 'Career Girls (1997)': 2094, 'Taking of Pelham One Two Three, The (1974)': 2095, 'Grand Hotel (1932)': 2096, 'Mrs. Miniver (1942)': 2097, \"Gentleman's Agreement (1947)\": 2098, 'Rain (1932)': 2099, 'Big Carnival, The (1951)': 2100, 'Palm Beach Story, The (1942)': 2101, \"Gulliver's Travels (1939)\": 2102, 'Loser (2000)': 2103, 'King Kong (1976)': 2104, 'Cutthroat Island (1995)': 2105, 'Phantom of the Opera, The (1943)': 2106, 'Towering Inferno, The (1974)': 2107, 'Herbie Rides Again (1974)': 2108, 'Fair Game (1995)': 2109, 'Suddenly, Last Summer (1959)': 2110, 'Down in the Delta (1998)': 2111, 'Next Friday (1999)': 2112, 'Wood, The (1999)': 2113, 'Speed 2: Cruise Control (1997)': 2114, 'Street Fighter (1994)': 2115, 'If.... (1968)': 2116, 'Nighthawks (1981)': 2117, 'Marnie (1964)': 2118, 'Switchback (1997)': 2119, 'Wings (1927)': 2120, \"All the King's Men (1949)\": 2121, 'Dear God (1996)': 2122, 'Slumber Party Massacre, The (1982)': 2123, 'Mystery Train (1989)': 2124, 'Son of Flubber (1963)': 2125, 'Rounders (1998)': 2126, 'Clay Pigeons (1998)': 2127, 'Brassed Off (1996)': 2128, 'Character (Karakter) (1997)': 2129, 'Wrong Man, The (1956)': 2130, 'Watcher, The (2000)': 2131, 'Eye of the Beholder (1999)': 2132, 'Supernova (2000)': 2133, 'Universal Soldier: The Return (1999)': 2134, 'Clan of the Cave Bear, The (1986)': 2135, 'Song of the South (1946)': 2136, 'Tigger Movie, The (2000)': 2137, \"Doug's 1st Movie (1999)\": 2138, 'Urban Legends: Final Cut (2000)': 2139, 'Where the Money Is (2000)': 2140, 'Poltergeist II: The Other Side (1986)': 2141, \"Amityville 1992: It's About Time (1992)\": 2142, 'Amityville II: The Possession (1982)': 2143, 'Amityville Curse, The (1990)': 2144, 'House on Haunted Hill, The (1999)': 2145, \"Blood For Dracula (Andy Warhol's Dracula) (1974)\": 2146, 'Supergirl (1984)': 2147, 'Bride of Re-Animator (1990)': 2148, 'Piranha (1978)': 2149, 'Stealing Home (1988)': 2150, 'House on Haunted Hill (1958)': 2151, 'Gate, The (1987)': 2152, 'Raise the Titanic (1980)': 2153, 'Mummy, The (1959)': 2154, \"Mummy's Curse, The (1944)\": 2155, 'Dracula (1958)': 2156, 'Curse of Frankenstein, The (1957)': 2157, 'Plan 9 from Outer Space (1958)': 2158, 'Earth Vs. the Flying Saucers (1956)': 2159, 'Hunted, The (1995)': 2160, 'Tales From the Crypt Presents: Demon Knight (1995)': 2161, 'Aces: Iron Eagle III (1992)': 2162, 'Highlander III: The Sorcerer (1994)': 2163, 'In the Mouth of Madness (1995)': 2164, \"Mary Shelley's Frankenstein (1994)\": 2165, 'My Chauffeur (1986)': 2166, 'Quatermass II (1957)': 2167, \"MacKenna's Gold (1969)\": 2168, 'Puppet Master 4 (1993)': 2169, 'Fog, The (1980)': 2170, 'Exorcist III, The (1990)': 2171, 'Tommy (1975)': 2172, 'Hell Night (1981)': 2173, 'Candyman: Farewell to the Flesh (1995)': 2174, 'Hellraiser III: Hell on Earth (1992)': 2175, 'Graveyard Shift (1990)': 2176, 'Mark of Zorro, The (1940)': 2177, 'Twelfth Night (1996)': 2178, 'Fluke (1995)': 2179, 'Teaching Mrs. Tingle (1999)': 2180, 'East is East (1999)': 2181, 'Thumbelina (1994)': 2182, 'Kronos (1957)': 2183, 'Thinner (1996)': 2184, 'Tales from the Darkside: The Movie (1990)': 2185, 'Relic, The (1997)': 2186, 'Cujo (1983)': 2187, 'Footloose (1984)': 2188, 'Duel in the Sun (1946)': 2189, \"Bustin' Loose (1981)\": 2190, 'Nightwatch (1997)': 2191, 'Mortal Thoughts (1991)': 2192, 'Cry in the Dark, A (1988)': 2193, 'Violets Are Blue... (1986)': 2194, 'Pope of Greenwich Village, The (1984)': 2195, 'Giant (1956)': 2196, 'Nothing to Lose (1994)': 2197, 'Blue Collar (1978)': 2198, 'Night Shift (1982)': 2199, 'Bottle Rocket (1996)': 2200, 'Cool Dry Place, A (1998)': 2201, 'Beyond the Poseidon Adventure (1979)': 2202, 'Set It Off (1996)': 2203, 'Death Wish (1974)': 2204, 'Disclosure (1994)': 2205, 'Lake Placid (1999)': 2206, 'Gingerbread Man, The (1998)': 2207, \"Who's Harry Crumb? (1989)\": 2208, \"Let's Get Harry (1986)\": 2209, 'Brighton Beach Memoirs (1986)': 2210, 'No Mercy (1986)': 2211, 'Mission, The (1986)': 2212, 'Morning After, The (1986)': 2213, 'Money Train (1995)': 2214, 'Little Boy Blue (1997)': 2215, 'Max Dugan Returns (1983)': 2216, 'Palookaville (1996)': 2217, \"Razor's Edge, The (1984)\": 2218, 'Buddy Holly Story, The (1978)': 2219, 'Problem Child (1990)': 2220, 'Low Down Dirty Shame, A (1994)': 2221, 'Bye Bye, Love (1995)': 2222, 'Striking Distance (1993)': 2223, 'Missing in Action (1984)': 2224, 'Easy Money (1983)': 2225, 'Spiral Staircase, The (1946)': 2226, 'End of the Affair, The (1999)': 2227, 'Malice (1993)': 2228, 'Thieves (Voleurs, Les) (1996)': 2229, 'Jeffrey (1995)': 2230, 'Hanging Garden, The (1997)': 2231, 'Johns (1996)': 2232, 'Faster Pussycat! Kill! Kill! (1965)': 2233, 'Horseman on the Roof, The (Hussard sur le toit, Le) (1995)': 2234, 'Original Kings of Comedy, The (2000)': 2235, 'Excess Baggage (1997)': 2236, 'War Zone, The (1999)': 2237, 'Bandit Queen (1994)': 2238, 'East-West (Est-ouest) (1999)': 2239, 'True Crime (1999)': 2240, 'Me Myself I (2000)': 2241, 'Insomnia (1997)': 2242, 'Yards, The (1999)': 2243, 'Sunshine (1999)': 2244, 'Girl on the Bridge, The (La Fille sur le Pont) (1999)': 2245, 'Golden Bowl, The (2000)': 2246, 'Bless the Child (2000)': 2247, 'Daddy Long Legs (1919)': 2248, 'Sandpiper, The (1965)': 2249, 'Blood on the Sun (1945)': 2250, 'Man from Laramie, The (1955)': 2251, 'Night Falls on Manhattan (1997)': 2252, 'City of Industry (1997)': 2253, 'Playing God (1997)': 2254, 'Gang Related (1997)': 2255, 'Bad Company (1995)': 2256, 'Where Eagles Dare (1969)': 2257, 'Wolf Man, The (1941)': 2258, 'Lightning Jack (1994)': 2259, 'Nelly & Monsieur Arnaud (1995)': 2260, 'Spanking the Monkey (1994)': 2261, 'Cold Fever (� k�ldum klaka) (1994)': 2262, 'Underground (1995)': 2263, 'Pather Panchali (1955)': 2264, 'Breaking the Waves (1996)': 2265, 'Crucible, The (1996)': 2266, 'Designated Mourner, The (1997)': 2267, 'Mr. Death: The Rise and Fall of Fred A. Leuchter Jr. (1999)': 2268, \"Young Poisoner's Handbook, The (1995)\": 2269, 'King of Masks, The (Bian Lian) (1996)': 2270, 'Trial, The (Le Proc�s) (1963)': 2271, 'Browning Version, The (1994)': 2272, 'Children of Heaven, The (Bacheha-Ye Aseman) (1997)': 2273, 'Three Colors: Red (1994)': 2274, 'Taste of Cherry (1997)': 2275, 'Federal Hill (1994)': 2276, 'Dinner Game, The (Le D�ner de cons) (1998)': 2277, 'My Son the Fanatic (1998)': 2278, 'Conformist, The (Il Conformista) (1970)': 2279, 'Tampopo (1986)': 2280, 'Butterfly (La Lengua de las Mariposas) (2000)': 2281, 'Short Cuts (1993)': 2282, 'Last Supper, The (1995)': 2283, 'Hate (Haine, La) (1995)': 2284, 'Stuart Saves His Family (1995)': 2285, 'Friday (1995)': 2286, 'Poison Ivy: New Seduction (1997)': 2287, 'Pie in the Sky (1995)': 2288, 'Welcome To Sarajevo (1997)': 2289, 'Ninth Gate, The (2000)': 2290, 'Dying Young (1991)': 2291, \"Astronaut's Wife, The (1999)\": 2292, 'I Dreamed of Africa (2000)': 2293, 'Autumn in New York (2000)': 2294, 'Daylight (1996)': 2295, \"Love's Labour's Lost (2000)\": 2296, \"Robert A. Heinlein's The Puppet Masters (1994)\": 2297, 'Brokedown Palace (1999)': 2298, 'Koyaanisqatsi (1983)': 2299, 'Pink Flamingos (1972)': 2300, 'Maurice (1987)': 2301, 'Butcher Boy, The (1998)': 2302, 'Ayn Rand: A Sense of Life (1997)': 2303, 'Kurt & Courtney (1998)': 2304, 'Farinelli: il castrato (1994)': 2305, 'Great Ziegfeld, The (1936)': 2306, 'She-Devil (1989)': 2307, 'Nadine (1987)': 2308, \"Microcosmos (Microcosmos: Le peuple de l'herbe) (1996)\": 2309, 'Interiors (1978)': 2310, 'Thirty-Two Short Films About Glenn Gould (1993)': 2311, 'Dreaming of Joseph Lees (1998)': 2312, '20 Dates (1998)': 2313, 'I Saw What You Did (1965)': 2314, 'Lulu on the Bridge (1998)': 2315, 'Celebration, The (Festen) (1998)': 2316, 'Burnt By the Sun (Utomlyonnye solntsem) (1994)': 2317, 'Sorority House Massacre (1986)': 2318, 'Unzipped (1995)': 2319, 'Fantastic Planet, The (La Plan�te sauvage) (1973)': 2320, 'Filth and the Fury, The (2000)': 2321, 'Decline of Western Civilization, The (1981)': 2322, 'American Psycho (2000)': 2323, 'Hamlet (1948)': 2324, 'Anatomy of a Murder (1959)': 2325, 'Women, The (1939)': 2326, 'Great Santini, The (1979)': 2327, 'Band Wagon, The (1953)': 2328, 'Big Combo, The (1955)': 2329, 'Bound for Glory (1976)': 2330, 'Walk on the Moon, A (1999)': 2331, 'Oscar and Lucinda (a.k.a. Oscar & Lucinda) (1997)': 2332, 'Bronco Billy (1980)': 2333, 'Tic Code, The (1998)': 2334, 'Affair of Love, An (Une Liaison Pornographique) (1999)': 2335, 'Stalingrad (1993)': 2336, 'Anaconda (1997)': 2337, 'Mad City (1997)': 2338, 'Alaska (1996)': 2339, 'One Magic Christmas (1985)': 2340, 'My Bodyguard (1980)': 2341, \"McHale's Navy (1997)\": 2342, 'American Flyers (1985)': 2343, 'For Richer or Poorer (1997)': 2344, 'Mr. Magoo (1997)': 2345, 'Under Siege 2: Dark Territory (1995)': 2346, 'Star Kid (1997)': 2347, 'Death Wish II (1982)': 2348, 'Death Wish 3 (1985)': 2349, 'Death Wish 4: The Crackdown (1987)': 2350, 'Death Wish V: The Face of Death (1994)': 2351, 'Last Days, The (1998)': 2352, 'Drop Zone (1994)': 2353, 'Volunteers (1985)': 2354, 'Blind Date (1987)': 2355, 'Davy Crockett, King of the Wild Frontier (1955)': 2356, 'Village of the Damned (1995)': 2357, '8 Seconds (1994)': 2358, 'Virtuosity (1995)': 2359, 'Beverly Hillbillies, The (1993)': 2360, 'Body Snatchers (1993)': 2361, 'Great Locomotive Chase, The (1956)': 2362, 'Richie Rich (1994)': 2363, 'Getting Even with Dad (1994)': 2364, 'Adventures of Rocky and Bullwinkle, The (2000)': 2365, 'Terminal Velocity (1994)': 2366, 'D2: The Mighty Ducks (1994)': 2367, 'Ride with the Devil (1999)': 2368, 'Children of the Revolution (1996)': 2369, \"Felicia's Journey (1999)\": 2370, 'Gate of Heavenly Peace, The (1995)': 2371, '42 Up (1998)': 2372, 'Terrorist, The (Malli) (1998)': 2373, 'Winslow Boy, The (1998)': 2374, 'Boondock Saints, The (1999)': 2375, 'Xiu Xiu: The Sent-Down Girl (Tian yu) (1998)': 2376, 'I Went Down (1997)': 2377, 'Three Colors: White (1994)': 2378, 'Barry Lyndon (1975)': 2379, 'Suture (1993)': 2380, 'Open Your Eyes (Abre los ojos) (1997)': 2381, 'In Too Deep (1999)': 2382, 'Better Living Through Circuitry (1999)': 2383, 'American Pimp (1999)': 2384, 'Wonderful, Horrible Life of Leni Riefenstahl, The (Die Macht der Bilder) (1993)': 2385, 'Stop Making Sense (1984)': 2386, 'Perfect Candidate, A (1996)': 2387, 'Shadow Conspiracy (1997)': 2388, 'Withnail and I (1987)': 2389, \"Jason's Lyric (1994)\": 2390, 'Urbania (2000)': 2391, 'Plunkett & MaCleane (1999)': 2392, 'Cecil B. Demented (2000)': 2393, 'Maya Lin: A Strong Clear Vision (1994)': 2394, 'Next Best Thing, The (2000)': 2395, 'Moonlight and Valentino (1995)': 2396, 'Opportunists, The (1999)': 2397, 'Tigerland (2000)': 2398, 'Kissed (1996)': 2399, 'Married to the Mob (1988)': 2400, 'Twin Town (1997)': 2401, 'Kiss Me, Guido (1997)': 2402, 'Beautiful People (1999)': 2403, \"Roseanna's Grave (For Roseanna) (1997)\": 2404, 'Bliss (1997)': 2405, 'Still Crazy (1998)': 2406, 'Passion of Mind (1999)': 2407, 'Cousin Bette (1998)': 2408, 'Human Traffic (1999)': 2409, 'Hamlet (2000)': 2410, 'French Twist (Gazon maudit) (1995)': 2411, 'Wonderland (1999)': 2412, 'Duets (2000)': 2413, 'Fever Pitch (1997)': 2414, 'Trust (1990)': 2415, 'Jack and Sarah (1995)': 2416, 'Crow: City of Angels, The (1996)': 2417, \"National Lampoon's Senior Trip (1995)\": 2418, 'Man of the House (1995)': 2419, 'Mirror, The (Zerkalo) (1975)': 2420, 'Dersu Uzala (1974)': 2421, \"'Til There Was You (1997)\": 2422, 'Up in Smoke (1978)': 2423, 'Down by Law (1986)': 2424, 'Young Doctors in Love (1982)': 2425, 'Impostors, The (1998)': 2426, 'Pal Joey (1957)': 2427, \"White Man's Burden (1995)\": 2428, 'Losing Isaiah (1995)': 2429, 'Sanjuro (1962)': 2430, 'Crooklyn (1994)': 2431, 'Crazy in Alabama (1999)': 2432, 'Chasers (1994)': 2433, 'Girl 6 (1996)': 2434, 'Wide Awake (1998)': 2435, 'Melvin and Howard (1980)': 2436, 'Fanny and Alexander (1982)': 2437, 'World of Apu, The (Apur Sansar) (1959)': 2438, 'Paradise Lost: The Child Murders at Robin Hood Hills (1996)': 2439, 'Hands on a Hard Body (1996)': 2440, 'Before the Rain (Pred dozhdot) (1994)': 2441, 'Ruby in Paradise (1993)': 2442, 'Great Day in Harlem, A (1994)': 2443, 'Once Upon a Time... When We Were Colored (1995)': 2444, 'Angels and Insects (1995)': 2445, 'Last Temptation of Christ, The (1988)': 2446, 'Tex (1982)': 2447, 'Stranger Than Paradise (1984)': 2448, 'Shanghai Surprise (1986)': 2449, 'Mad Love (1995)': 2450, 'Big Hit, The (1998)': 2451, 'Drop Dead Fred (1991)': 2452, 'Judgment Night (1993)': 2453, 'Music of the Heart (1999)': 2454, 'Bad Taste (1987)': 2455, 'Tarantula (1955)': 2456, 'It Conquered the World (1956)': 2457, 'Mole People, The (1956)': 2458, 'Time Masters (Les Ma�tres du Temps) (1982)': 2459, \"Blackbeard's Ghost (1968)\": 2460, 'Beach Party (1963)': 2461, 'Bikini Beach (1964)': 2462, 'Pajama Party (1964)': 2463, 'Stonewall (1995)': 2464, 'Volcano (1997)': 2465, 'Star Maps (1997)': 2466, '200 Cigarettes (1999)': 2467, 'Pet Sematary (1989)': 2468, 'Pompatus of Love, The (1996)': 2469, 'Baby... Secret of the Lost Legend (1985)': 2470, 'Twin Peaks: Fire Walk with Me (1992)': 2471, 'Dead Ringers (1988)': 2472, 'Sum of Us, The (1994)': 2473, 'Lost & Found (1999)': 2474, 'Boxing Helena (1993)': 2475, 'Trees Lounge (1996)': 2476, 'Benji the Hunted (1987)': 2477, 'For the Love of Benji (1977)': 2478, 'Disturbing Behavior (1998)': 2479, 'Three Wishes (1995)': 2480, 'BASEketball (1998)': 2481, 'Police Story 4: Project S (Chao ji ji hua) (1993)': 2482, 'Fletch Lives (1989)': 2483, 'Beyond the Mat (2000)': 2484, 'Ready to Rumble (2000)': 2485, 'Cimarron (1931)': 2486, 'Life (1999)': 2487, 'Cavalcade (1933)': 2488, 'Jerky Boys, The (1994)': 2489, 'Greatest Show on Earth, The (1952)': 2490, 'Place in the Sun, A (1951)': 2491, 'Lawnmower Man 2: Beyond Cyberspace (1996)': 2492, 'American Dream (1990)': 2493, 'Purple Noon (1960)': 2494, 'My Best Fiend (Mein liebster Feind) (1999)': 2495, 'Aparajito (1956)': 2496, 'Rosetta (1999)': 2497, 'Two Family House (2000)': 2498, 'Whole Wide World, The (1996)': 2499, 'Alphaville (1965)': 2500, 'Face in the Crowd, A (1957)': 2501, 'Experience Preferred... But Not Essential (1982)': 2502, 'Torn Curtain (1966)': 2503, 'Ballad of Narayama, The (Narayama Bushiko) (1958)': 2504, 'Repulsion (1965)': 2505, 'Nights of Cabiria (Le Notti di Cabiria) (1957)': 2506, 'Where the Buffalo Roam (1980)': 2507, 'Assignment, The (1997)': 2508, 'Matewan (1987)': 2509, 'Cup, The (Ph�rpa) (1999)': 2510, 'Ballad of Narayama, The (Narayama Bushiko) (1982)': 2511, 'Contempt (Le M�pris) (1963)': 2512, 'Beat the Devil (1954)': 2513, 'Year My Voice Broke, The (1987)': 2514, 'Life and Times of Hank Greenberg, The (1998)': 2515, 'Peeping Tom (1960)': 2516, 'On the Beach (1959)': 2517, 'Following (1998)': 2518, 'Color of Paradise, The (Rang-e Khoda) (1999)': 2519, 'It Came from Hollywood (1982)': 2520, 'Life of �mile Zola, The (1937)': 2521, 'Mute Witness (1994)': 2522, 'Prick Up Your Ears (1987)': 2523, 'On the Ropes (1999)': 2524, 'Carnival of Souls (1962)': 2525, 'Limelight (1952)': 2526, 'Get Bruce (1999)': 2527, 'Cabaret Balkan (Bure Baruta) (1998)': 2528, 'Raven, The (1963)': 2529, \"Cutter's Way (1981)\": 2530, 'Splendor (1999)': 2531, 'Manon of the Spring (Manon des sources) (1986)': 2532, 'Crossfire (1947)': 2533, 'Decline of Western Civilization Part II: The Metal Years, The (1988)': 2534, 'Heidi Fleiss: Hollywood Madam (1995)': 2535, 'Barenaked in America (1999)': 2536, 'Girlfight (2000)': 2537, 'Fitzcarraldo (1982)': 2538, 'Stalker (1979)': 2539, 'Holy Smoke (1999)': 2540, 'Basquiat (1996)': 2541, 'Permanent Midnight (1998)': 2542, 'Brandon Teena Story, The (1998)': 2543, 'Hideous Kinky (1998)': 2544, 'Surviving Picasso (1996)': 2545, 'Meatballs Part II (1984)': 2546, \"Who's That Girl? (1987)\": 2547, 'Burglar (1987)': 2548, 'Herbie Goes Bananas (1980)': 2549, 'Glass Bottom Boat, The (1966)': 2550, \"Joe Gould's Secret (2000)\": 2551, 'Normal Life (1996)': 2552, \"Player's Club, The (1998)\": 2553, 'Dangerous Minds (1995)': 2554, 'Action Jackson (1988)': 2555, 'Amityville 3-D (1983)': 2556, '52 Pick-Up (1986)': 2557, 'Extremities (1986)': 2558, 'Good Mother, The (1988)': 2559, 'Ciao, Professore! (Io speriamo che me la cavo ) (1993)': 2560, 'City, The (1998)': 2561, 'Last Night (1998)': 2562, 'Month by the Lake, A (1995)': 2563, \"It's My Party (1995)\": 2564, 'Flawless (1999)': 2565, 'Map of the World, A (1999)': 2566, 'Stealing Beauty (1996)': 2567, 'Rosewood (1997)': 2568, 'Bastard Out of Carolina (1996)': 2569, \"Marvin's Room (1996)\": 2570, \"Soldier's Daughter Never Cries, A (1998)\": 2571, 'Shiloh (1997)': 2572, 'Van, The (1996)': 2573, 'Wilde (1997)': 2574, 'Education of Little Tree, The (1997)': 2575, 'Winter Guest, The (1997)': 2576, 'Grace of My Heart (1996)': 2577, 'Three Seasons (1999)': 2578, 'Niagara, Niagara (1997)': 2579, 'Unstrung Heroes (1995)': 2580, 'Gloria (1999)': 2581, 'Harmonists, The (1997)': 2582, 'Hanging Up (2000)': 2583, 'My Life So Far (1999)': 2584, 'Picture Bride (1995)': 2585, 'Sarafina! (1992)': 2586, 'Mrs. Parker and the Vicious Circle (1994)': 2587, 'Drunks (1997)': 2588, 'Home for the Holidays (1995)': 2589, 'Boys Life (1995)': 2590, 'Jane Eyre (1996)': 2591, 'Joe the King (1999)': 2592, 'My Favorite Season (1993)': 2593, 'King of the Hill (1993)': 2594, 'Above the Rim (1994)': 2595, 'Kama Sutra: A Tale of Love (1996)': 2596, 'Firestorm (1998)': 2597, 'Babyfever (1994)': 2598, 'Man of the Year (1995)': 2599, 'Edge of Seventeen (1998)': 2600, 'Muse, The (1999)': 2601, 'Woman on Top (2000)': 2602, 'Here on Earth (2000)': 2603, 'Whatever It Takes (2000)': 2604, 'Boys and Girls (2000)': 2605, 'Mouth to Mouth (Boca a boca) (1995)': 2606, \"All the Rage (a.k.a. It's the Rage) (1999)\": 2607, 'Wisdom of Crocodiles, The (a.k.a. Immortality) (2000)': 2608, 'Great White Hype, The (1996)': 2609, 'Candyman (1992)': 2610, 'Steal This Movie! (2000)': 2611, 'Repossessed (1990)': 2612, 'Slam (1998)': 2613, '8 Heads in a Duffel Bag (1997)': 2614, 'Phantom, The (1996)': 2615, 'Grass Harp, The (1995)': 2616, 'Tales from the Crypt Presents: Bordello of Blood (1996)': 2617, \"Wend Kuuni (God's Gift) (1982)\": 2618, \"We're No Angels (1989)\": 2619, \"Gone Fishin' (1997)\": 2620, 'General, The (1998)': 2621, 'Emperor and the Assassin, The (Jing ke ci qin wang) (1999)': 2622, 'Pet Sematary II (1992)': 2623, 'I Am Cuba (Soy Cuba/Ya Kuba) (1964)': 2624, 'Titus (1999)': 2625, 'Phantoms (1998)': 2626, 'Mighty Peking Man (Hsing hsing wang) (1977)': 2627, 'Get Real (1998)': 2628, 'Bean (1997)': 2629, 'Midaq Alley (Callej�n de los milagros, El) (1995)': 2630, 'After Life (1998)': 2631, 'Day of the Beast, The (El D�a de la bestia) (1995)': 2632, \"Besieged (L' Assedio) (1998)\": 2633, 'Live Flesh (1997)': 2634, 'Night Flier (1997)': 2635, 'Gothic (1986)': 2636, \"Krippendorf's Tribe (1998)\": 2637, 'Lovers of the Arctic Circle, The (Los Amantes del C�rculo Polar) (1998)': 2638, 'Freedom for Us (� nous la libert� ) (1931)': 2639, 'Tarzan and the Lost City (1998)': 2640, 'Callej�n de los milagros, El (1995)': 2641, \"In God's Hands (1998)\": 2642, 'Major Payne (1994)': 2643, 'Ugly, The (1997)': 2644, 'Stiff Upper Lips (1998)': 2645, 'Minus Man, The (1999)': 2646, 'Road to Wellville, The (1994)': 2647, 'Man Facing Southeast (Hombre Mirando al Sudeste) (1986)': 2648, 'Bitter Sugar (Azucar Amargo) (1996)': 2649, 'Saint of Fort Washington, The (1993)': 2650, 'Exorcist II: The Heretic (1977)': 2651, 'Geronimo: An American Legend (1993)': 2652, 'Two Bits (1995)': 2653, 'White Balloon, The (Badkonake Sefid ) (1995)': 2654, 'Goya in Bordeaux (Goya en Bodeos) (1999)': 2655, 'Mary Reilly (1996)': 2656, 'Vampire in Brooklyn (1995)': 2657, 'M. Butterfly (1993)': 2658, 'Tall Tale (1994)': 2659, 'Land and Freedom (Tierra y libertad) (1995)': 2660, 'Family Thing, A (1996)': 2661, 'In the Realm of the Senses (Ai no corrida) (1976)': 2662, 'Rocket Man (1997)': 2663, 'Fled (1996)': 2664, 'Money Talks (1997)': 2665, 'Trial and Error (1997)': 2666, 'At First Sight (1999)': 2667, 'Now and Then (1995)': 2668, \"Pyromaniac's Love Story, A (1995)\": 2669, 'Simpatico (1999)': 2670, 'Still Breathing (1997)': 2671, 'Sugar Town (1999)': 2672, 'Dead Man on Campus (1998)': 2673, 'Jaws 3-D (1983)': 2674, 'Play it to the Bone (1999)': 2675, 'Senseless (1998)': 2676, 'Simply Irresistible (1999)': 2677, 'Frankenstein Meets the Wolf Man (1943)': 2678, 'Kissing a Fool (1998)': 2679, 'Cobb (1994)': 2680, 'Calendar Girl (1993)': 2681, 'Clean Slate (1994)': 2682, 'Two if by Sea (1996)': 2683, 'Mystery, Alaska (1999)': 2684, 'One Tough Cop (1998)': 2685, 'Boiling Point (1993)': 2686, 'Air Up There, The (1994)': 2687, 'Endless Summer, The (1966)': 2688, 'Apple Dumpling Gang Rides Again, The (1979)': 2689, 'Saltmen of Tibet, The (1997)': 2690, 'Get Carter (1971)': 2691, 'Amateur (1994)': 2692, 'Cat People (1982)': 2693, 'Diamonds (1999)': 2694, 'Tales of Terror (1962)': 2695, 'Turbulence (1997)': 2696, 'Little Princess, The (1939)': 2697, 'Truth or Consequences, N.M. (1997)': 2698, 'Losing Chase (1996)': 2699, 'Man of the Century (1999)': 2700, 'Evening Star, The (1996)': 2701, 'Breakfast of Champions (1999)': 2702, 'Love Stinks (1999)': 2703, \"I'm Not Rappaport (1996)\": 2704, 'Gods Must Be Crazy II, The (1989)': 2705, 'Holy Man (1998)': 2706, 'Under the Rainbow (1981)': 2707, \"Fathers' Day (1997)\": 2708, 'Desert Bloom (1986)': 2709, 'Onegin (1999)': 2710, 'Smile Like Yours, A (1997)': 2711, 'Angel and the Badman (1947)': 2712, 'Steal Big, Steal Little (1995)': 2713, 'Frankie Starlight (1995)': 2714, \"Coogan's Bluff (1968)\": 2715, 'My Giant (1998)': 2716, 'Real Blonde, The (1997)': 2717, 'Major League: Back to the Minors (1998)': 2718, 'D3: The Mighty Ducks (1996)': 2719, 'Twelve Chairs, The (1970)': 2720, 'Red Dwarf, The (Le Nain rouge) (1998)': 2721, 'Madame Sousatzka (1988)': 2722, 'North (1994)': 2723, 'Sirens (1994)': 2724, 'Monkey Shines (1988)': 2725, 'Daytrippers, The (1996)': 2726, 'Innocents, The (1961)': 2727, 'Down Periscope (1996)': 2728, 'Jury Duty (1995)': 2729, 'Hollywood Knights, The (1980)': 2730, 'Slingshot, The (K�disbellan ) (1993)': 2731, 'Fear (1996)': 2732, 'Promise, The (La Promesse) (1996)': 2733, 'Trans (1998)': 2734, 'Love Serenade (1996)': 2735, 'N�nette et Boni (1996)': 2736, 'Bad Lieutenant (1992)': 2737, 'Ladybird Ladybird (1994)': 2738, 'Committed (2000)': 2739, 'Return of Martin Guerre, The (Retour de Martin Guerre, Le) (1982)': 2740, 'Foxfire (1996)': 2741, 'Light It Up (1999)': 2742, 'Among Giants (1998)': 2743, 'West Beirut (West Beyrouth) (1998)': 2744, \"I'm the One That I Want (2000)\": 2745, 'Mephisto (1981)': 2746, 'Shakes the Clown (1991)': 2747, 'Bewegte Mann, Der (1994)': 2748, 'Careful (1992)': 2749, 'Traveller (1997)': 2750, \"Draughtsman's Contract, The (1982)\": 2751, 'Lady of Burlesque (1943)': 2752, \"Jupiter's Wife (1994)\": 2753, 'Time Regained (Le Temps Retrouv�) (1999)': 2754, 'Nico Icon (1995)': 2755, 'Psycho Beach Party (2000)': 2756, 'And the Ship Sails On (E la nave va) (1984)': 2757, 'Aim�e & Jaguar (1999)': 2758, 'Indian Summer (a.k.a. Alive & Kicking) (1996)': 2759, 'Hearts and Minds (1996)': 2760, 'Story of Xinghua, The (1993)': 2761, 'Voyage of the Damned (1976)': 2762, 'Boys Life 2 (1997)': 2763, 'Carmen (1984)': 2764, 'Room at the Top (1959)': 2765, \"Clara's Heart (1988)\": 2766, 'Idolmaker, The (1980)': 2767, 'Prince of the City (1981)': 2768, 'Lovers on the Bridge, The (Les Amants du Pont-Neuf) (1991)': 2769, 'Tarzan the Fearless (1933)': 2770, 'Alligator (1980)': 2771, 'Dorado, El (1967)': 2772, 'Wild Bill (1995)': 2773, 'Cowboy Way, The (1994)': 2774, 'Dancer, Texas Pop. 81 (1998)': 2775, 'From the Hip (1987)': 2776, 'Two Moon Juction (1988)': 2777, 'Funeral, The (1996)': 2778, 'Johnny 100 Pesos (1993)': 2779, 'Beautician and the Beast, The (1997)': 2780, 'Ed (1996)': 2781, 'Othello (1952)': 2782, 'Pest, The (1997)': 2783, 'Armed and Dangerous (1986)': 2784, 'Desperate Measures (1998)': 2785, 'Homegrown (1998)': 2786, 'Blood In, Blood Out (a.k.a. Bound by Honor) (1993)': 2787, 'Giant Gila Monster, The (1959)': 2788, 'Rawhead Rex (1986)': 2789, \"April Fool's Day (1986)\": 2790, 'Blood Beach (1981)': 2791, 'Funhouse, The (1981)': 2792, 'Eyes Without a Face (1959)': 2793, 'Ape, The (1940)': 2794, 'Texas Chainsaw Massacre 2, The (1986)': 2795, 'Leatherface: Texas Chainsaw Massacre III (1990)': 2796, 'Return of the Texas Chainsaw Massacre, The (1994)': 2797, 'Chopping Mall (a.k.a. Killbots) (1986)': 2798, 'Two Thousand Maniacs! (1964)': 2799, \"Mummy's Ghost, The (1944)\": 2800, 'Howling II: Your Sister Is a Werewolf (1985)': 2801, 'Kindred, The (1986)': 2802, 'Hideous Sun Demon, The (1959)': 2803, 'Psycho II (1983)': 2804, 'Psycho III (1986)': 2805, 'Sleepwalkers (1992)': 2806, 'Carnosaur (1993)': 2807, 'Carnosaur 2 (1995)': 2808, 'Masque of the Red Death, The (1964)': 2809, 'Prom Night (1980)': 2810, 'Fury, The (1978)': 2811, 'Puppet Master 5: The Final Chapter (1994)': 2812, \"Child's Play 2 (1990)\": 2813, \"Child's Play 3 (1992)\": 2814, \"Brain That Wouldn't Die, The (1962)\": 2815, 'Phantasm III: Lord of the Dead (1994)': 2816, 'Pumpkinhead (1988)': 2817, 'Braindead (1992)': 2818, 'Cross of Iron (1977)': 2819, 'Glen or Glenda (1953)': 2820, 'Steam: The Turkish Bath (Hamam) (1997)': 2821, 'Idiots, The (Idioterne) (1998)': 2822, 'Kim (1950)': 2823, 'Anna Karenina (1997)': 2824, 'Eddie (1996)': 2825, 'Deterrence (1998)': 2826, 'Arguing the World (1996)': 2827, 'Artemisia (1997)': 2828, 'Baraka (1992)': 2829, 'SubUrbia (1997)': 2830, \"Ed's Next Move (1996)\": 2831, 'Bridge at Remagen, The (1969)': 2832, 'Shaggy D.A., The (1976)': 2833, 'Meet the Deedles (1998)': 2834, 'Shooting Fish (1997)': 2835, 'All the Vermeers in New York (1990)': 2836, 'Heavyweights (1994)': 2837, 'No Escape (1994)': 2838, \"Class of Nuke 'Em High (1986)\": 2839, 'Garden of Finzi-Contini, The (Giardino dei Finzi-Contini, Il) (1970)': 2840, 'Funny Bones (1995)': 2841, 'Clean Slate (Coup de Torchon) (1981)': 2842, 'Believers, The (1987)': 2843, 'Phantasm IV: Oblivion (1998)': 2844, 'Dark Half, The (1993)': 2845, 'Surviving the Game (1994)': 2846, 'Go West (1925)': 2847, 'Kid, The (1921)': 2848, 'Blue in the Face (1995)': 2849, 'Down to You (2000)': 2850, 'Murder! (1930)': 2851, 'Last Dance (1996)': 2852, 'Come See the Paradise (1990)': 2853, 'Without Limits (1998)': 2854, 'Heartburn (1986)': 2855, 'Stardust Memories (1980)': 2856, 'Not One Less (Yi ge dou bu neng shao) (1999)': 2857, 'Ready to Wear (Pret-A-Porter) (1994)': 2858, 'Safe Passage (1994)': 2859, 'Haunted World of Edward D. Wood Jr., The (1995)': 2860, 'Solas (1999)': 2861, 'Substance of Fire, The (1996)': 2862, 'Celestial Clockwork (1994)': 2863, 'And God Created Woman (1988)': 2864, 'Eternity and a Day (Mia eoniotita ke mia mera ) (1998)': 2865, 'Black Cat, White Cat (Crna macka, beli macor) (1998)': 2866, 'Synthetic Pleasures (1995)': 2867, 'Fire Within, The (Le Feu Follet) (1963)': 2868, 'Mina Tannenbaum (1994)': 2869, 'Chill Factor (1999)': 2870, 'Big Tease, The (1999)': 2871, 'Blood & Wine (1997)': 2872, 'A Chef in Love (1996)': 2873, 'D�j� Vu (1997)': 2874, 'Monument Ave. (1998)': 2875, 'Shadrach (1998)': 2876, 'Telling Lies in America (1997)': 2877, 'Third Miracle, The (1999)': 2878, 'Caught (1996)': 2879, 'This Is My Father (1998)': 2880, 'Twilight (1998)': 2881, 'Extreme Measures (1996)': 2882, 'Underneath, The (1995)': 2883, 'Blink (1994)': 2884, 'Nina Takes a Lover (1994)': 2885, 'New Age, The (1994)': 2886, 'Guinevere (1999)': 2887, 'Prancer (1989)': 2888, 'Damsel in Distress, A (1937)': 2889, 'Under Suspicion (2000)': 2890, 'Mortal Kombat: Annihilation (1997)': 2891, 'Perfect Blue (1997)': 2892, 'Poison Ivy II (1995)': 2893, 'When Night Is Falling (1995)': 2894, 'American Pop (1981)': 2895, 'Hard Rain (1998)': 2896, 'Princess Caraboo (1994)': 2897, 'Reluctant Debutante, The (1958)': 2898, 'Leading Man, The (1996)': 2899, 'Story of G.I. Joe, The (1945)': 2900, \"Star Maker, The (Uomo delle stelle, L') (1995)\": 2901, \"Devil's Brigade, The (1968)\": 2902, 'Dear Diary (Caro Diario) (1994)': 2903, 'Marked for Death (1990)': 2904, 'Virus (1999)': 2905, 'Hurricane Streets (1998)': 2906, 'Destiny Turns on the Radio (1995)': 2907, 'Scarlet Letter, The (1995)': 2908, 'Being Human (1993)': 2909, 'New Jersey Drive (1995)': 2910, 'Pallbearer, The (1996)': 2911, 'Jimmy Hollywood (1994)': 2912, 'House Party (1990)': 2913, 'Diabolique (1996)': 2914, 'Gun Shy (2000)': 2915, 'Omega Code, The (1999)': 2916, 'Children of the Corn III (1994)': 2917, 'Basketball Diaries, The (1995)': 2918, 'First Kid (1996)': 2919, 'Rage: Carrie 2, The (1999)': 2920, 'Rendezvous in Paris (Rendez-vous de Paris, Les) (1995)': 2921, 'Raw Deal (1948)': 2922, 'In the Bleak Midwinter (1995)': 2923, 'House of the Spirits, The (1993)': 2924, 'Hush (1998)': 2925, 'Kronos (1973)': 2926, 'Burnt Offerings (1976)': 2927, 'Deadly Friend (1986)': 2928, 'Deadtime Stories (1987)': 2929, 'Vagabond (Sans toit ni loi) (1985)': 2930, 'Communion (a.k.a. Alice, Sweet Alice/Holy Terror) (1977)': 2931, 'Hello Mary Lou: Prom Night II (1987)': 2932, 'Poltergeist III (1988)': 2933, 'Sleepaway Camp (1983)': 2934, 'Force of Evil (1948)': 2935, 'King in New York, A (1957)': 2936, 'Castle, The (1997)': 2937, 'Nobody Loves Me (Keiner liebt mich) (1994)': 2938, 'Hana-bi (1997)': 2939, 'Scout, The (1994)': 2940, 'Cosi (1996)': 2941, 'Dangerous Beauty (1998)': 2942, 'Wild Man Blues (1998)': 2943, 'Trouble in Paradise (1932)': 2944, 'Chambermaid on the Titanic, The (1998)': 2945, 'Topaz (1969)': 2946, 'Airport 1975 (1974)': 2947, 'Conceiving Ada (1997)': 2948, 'Governess, The (1998)': 2949, 'When the Cats Away (Chacun cherche son chat) (1996)': 2950, 'Earthquake (1974)': 2951, 'Queens Logic (1991)': 2952, 'Night Porter, The (Il Portiere di notte) (1974)': 2953, 'Groove (2000)': 2954, 'Champ, The (1979)': 2955, 'Eyes of Laura Mars (1978)': 2956, 'Horror Express (1972)': 2957, 'Only Angels Have Wings (1939)': 2958, \"Don't Look in the Basement! (1973)\": 2959, 'Nightmares (1983)': 2960, 'Rent-A-Cop (1988)': 2961, 'Black Sabbath (Tre Volti Della Paura, I) (1963)': 2962, 'Safe Men (1998)': 2963, 'Shattered Image (1998)': 2964, 'Meteor (1979)': 2965, 'Addiction, The (1995)': 2966, 'Trixie (1999)': 2967, 'Devil and Max Devlin, The (1981)': 2968, 'Best Men (1997)': 2969, 'Digimon: The Movie (2000)': 2970, 'Six-String Samurai (1998)': 2971, 'Odd Couple II, The (1998)': 2972, 'Associate, The (1996)': 2973, 'Talking About Sex (1994)': 2974, 'Out to Sea (1997)': 2975, 'Charlie, the Lonesome Cougar (1967)': 2976, 'Bitter Moon (1992)': 2977, 'Stupids, The (1996)': 2978, 'Dog Park (1998)': 2979, 'Beautiful (2000)': 2980, 'Amos & Andrew (1993)': 2981, 'Police Academy 4: Citizens on Patrol (1987)': 2982, 'Hour of the Pig, The (1993)': 2983, 'Soft Fruit (1999)': 2984, \"Billy's Holiday (1995)\": 2985, 'Time of the Gypsies (Dom za vesanje) (1989)': 2986, 'Grandfather, The (El Abuelo) (1998)': 2987, 'Anatomy (Anatomie) (2000)': 2988, 'Fan, The (1996)': 2989, 'Firewalker (1986)': 2990, 'White Sands (1992)': 2991, 'Alvarez Kelly (1966)': 2992, 'Hell in the Pacific (1968)': 2993, 'Big Country, The (1958)': 2994, 'My Name Is Joe (1998)': 2995, 'Paradine Case, The (1947)': 2996, 'Hard Core Logo (1996)': 2997, 'Swept from the Sea (1997)': 2998, 'Grateful Dead (1995)': 2999, 'Female Perversions (1996)': 3000, 'Curdled (1996)': 3001, 'Tom & Viv (1994)': 3002, 'Iron Eagle II (1988)': 3003, 'Police Academy 5: Assignment: Miami Beach (1988)': 3004, 'Fiendish Plot of Dr. Fu Manchu, The (1980)': 3005, 'B*A*P*S (1997)': 3006, 'Quest for Camelot (1998)': 3007, 'House Party 3 (1994)': 3008, 'Thin Line Between Love and Hate, A (1996)': 3009, 'Kazaam (1996)': 3010, 'Kids of the Round Table (1995)': 3011, 'House Party 2 (1991)': 3012, 'Herbie Goes to Monte Carlo (1977)': 3013, 'Hot Lead and Cold Feet (1978)': 3014, 'H.O.T.S. (1979)': 3015, 'Caligula (1980)': 3016, \"Some Mother's Son (1996)\": 3017, 'Good Man in Africa, A (1994)': 3018, 'Boys of St. Vincent, The (1993)': 3019, 'Leave It to Beaver (1997)': 3020, 'Gordy (1995)': 3021, 'Problem Child 2 (1991)': 3022, '$1,000,000 Duck (1971)': 3023, 'Five Senses, The (1999)': 3024, 'Abominable Snowman, The (1957)': 3025, 'Dream for an Insomniac (1996)': 3026, 'Beyond Silence (1996)': 3027, 'Girls Town (1996)': 3028, 'Faraway, So Close (In Weiter Ferne, So Nah!) (1993)': 3029, 'Switchblade Sisters (1975)': 3030, 'In Dreams (1999)': 3031, 'Even Cowgirls Get the Blues (1993)': 3032, 'Goodbye, Lover (1999)': 3033, 'Friends & Lovers (1999)': 3034, 'For Ever Mozart (1996)': 3035, \"Airport '77 (1977)\": 3036, 'Across the Sea of Time (1995)': 3037, 'Blood, Guts, Bullets and Octane (1998)': 3038, 'Cops and Robbersons (1994)': 3039, 'Crime and Punishment in Suburbia (2000)': 3040, 'In Search of the Castaways (1962)': 3041, 'Autumn Sonata (H�stsonaten ) (1978)': 3042, \"Heaven's Prisoners (1996)\": 3043, 'Meatballs 4 (1992)': 3044, \"Gridlock'd (1997)\": 3045, '8 1/2 Women (1999)': 3046, 'Knightriders (1981)': 3047, 'Keys to Tulsa (1997)': 3048, 'Unforgettable (1996)': 3049, 'Jude (1996)': 3050, 'Hot Spot, The (1990)': 3051, 'Hav Plenty (1997)': 3052, 'Sunchaser, The (1996)': 3053, 'Very Thought of You, The (1998)': 3054, 'Baby-Sitters Club, The (1995)': 3055, 'Love Affair (1994)': 3056, 'Passion in the Desert (1998)': 3057, 'Romance (1999)': 3058, 'Henry: Portrait of a Serial Killer, Part 2 (1996)': 3059, 'Lonely Are the Brave (1962)': 3060, 'Madame Butterfly (1995)': 3061, 'Fire Down Below (1997)': 3062, 'Private School (1983)': 3063, 'Police Academy 6: City Under Siege (1989)': 3064, 'Endless Summer 2, The (1994)': 3065, 'Secret Agent (1936)': 3066, 'Lodger, The (1926)': 3067, 'Parasite (1982)': 3068, 'No Looking Back (1998)': 3069, 'Alan Smithee Film: Burn Hollywood Burn, An (1997)': 3070, 'Almost Heroes (1998)': 3071, 'Class Reunion (1982)': 3072, 'Rollercoaster (1977)': 3073, 'How to Stuff a Wild Bikini (1965)': 3074, 'Bedroom Window, The (1987)': 3075, 'Candleshoe (1977)': 3076, 'Monsieur Verdoux (1947)': 3077, 'Warriors of Virtue (1997)': 3078, 'Free Willy 3: The Rescue (1997)': 3079, 'Body Parts (1991)': 3080, 'Bedrooms & Hallways (1998)': 3081, 'Big Trees, The (1952)': 3082, 'Saludos Amigos (1943)': 3083, 'Fun and Fancy Free (1947)': 3084, 'Make Mine Music (1946)': 3085, 'Melody Time (1948)': 3086, 'Silent Fall (1994)': 3087, 'Open Season (1996)': 3088, 'Sea Wolves, The (1980)': 3089, 'Fausto (1993)': 3090, 'C�r�monie, La (1995)': 3091, 'King of Marvin Gardens, The (1972)': 3092, 'Rough Magic (1995)': 3093, \"Margaret's Museum (1995)\": 3094, 'Endurance (1998)': 3095, 'Surf Nazis Must Die (1987)': 3096, 'Trick or Treat (1986)': 3097, 'Steel (1997)': 3098, 'Children of the Corn II: The Final Sacrifice (1993)': 3099, 'Little City (1998)': 3100, 'Fright Night Part II (1989)': 3101, 'Bad Moon (1996)': 3102, 'Separation, The (La S�paration) (1994)': 3103, 'About Adam (2000)': 3104, 'Three Ages, The (1923)': 3105, 'Thomas and the Magic Railroad (2000)': 3106, 'New Rose Hotel (1998)': 3107, 'Lassie (1994)': 3108, 'Adventures of Pinocchio, The (1996)': 3109, 'So Dear to My Heart (1949)': 3110, 'Toxic Avenger Part III: The Last Temptation of Toxie, The (1989)': 3111, 'Rough Night in Jericho (1967)': 3112, 'Stay Tuned (1992)': 3113, 'Bloodsport 2 (1995)': 3114, 'Roommates (1995)': 3115, 'Best Laid Plans (1999)': 3116, 'Nil By Mouth (1997)': 3117, 'From the Journals of Jean Seberg (1995)': 3118, 'Ogre, The (Der Unhold) (1996)': 3119, 'Seven Chances (1925)': 3120, 'Touch (1997)': 3121, 'Belizaire the Cajun (1986)': 3122, \"Rich Man's Wife, The (1996)\": 3123, 'Trigger Effect, The (1996)': 3124, 'S.F.W. (1994)': 3125, 'Celtic Pride (1996)': 3126, 'Under Capricorn (1949)': 3127, 'Cyclo (1995)': 3128, 'Total Eclipse (1995)': 3129, 'Eighth Day, The (Le Huiti�me jour ) (1996)': 3130, 'Metroland (1997)': 3131, 'Feast of July (1995)': 3132, 'Alice and Martin (Alice et Martin) (1998)': 3133, 'Up at the Villa (2000)': 3134, 'Secret Agent, The (1996)': 3135, 'Man of No Importance, A (1994)': 3136, \"Greaser's Palace (1972)\": 3137, 'Monster, The (Il Mostro) (1994)': 3138, 'Gambler, The (A J�t�kos) (1997)': 3139, 'Bent (1997)': 3140, 'Maybe, Maybe Not (Bewegte Mann, Der) (1994)': 3141, 'Mass Appeal (1984)': 3142, 'Velocity of Gary, The (1998)': 3143, 'Vibes (1988)': 3144, 'Light of Day (1987)': 3145, 'Wanted: Dead or Alive (1987)': 3146, 'Fatal Beauty (1987)': 3147, 'Defying Gravity (1997)': 3148, 'Land Before Time III: The Time of the Great Giving (1995)': 3149, 'Boys, The (1997)': 3150, 'And God Created Woman (Et Dieu&#8230;Cr�a la Femme) (1956)': 3151, 'Circus, The (1928)': 3152, 'Carpool (1996)': 3153, 'Eight Days a Week (1997)': 3154, 'Chamber, The (1996)': 3155, 'Running Free (2000)': 3156, \"Killer's Kiss (1955)\": 3157, 'Molly (1999)': 3158, 'Beefcake (1999)': 3159, 'Full Tilt Boogie (1997)': 3160, 'Alarmist, The (1997)': 3161, 'I Confess (1953)': 3162, 'Stage Fright (1950)': 3163, 'In Crowd, The (2000)': 3164, 'Sour Grapes (1998)': 3165, 'Never Talk to Strangers (1995)': 3166, 'Eye for an Eye (1996)': 3167, 'Trial by Jury (1994)': 3168, 'Mr. & Mrs. Smith (1941)': 3169, 'Getting Away With Murder (1996)': 3170, 'Rich and Strange (1932)': 3171, 'Hotel de Love (1996)': 3172, \"Isn't She Great? (2000)\": 3173, 'Love and Other Catastrophes (1996)': 3174, 'Twice Upon a Yesterday (1998)': 3175, 'Faust (1994)': 3176, 'Just the Ticket (1999)': 3177, 'Perils of Pauline, The (1947)': 3178, 'Welcome to Woop-Woop (1997)': 3179, 'Illuminata (1998)': 3180, 'Last September, The (1999)': 3181, 'Cabinet of Dr. Ramirez, The (1991)': 3182, 'Sorority House Massacre II (1990)': 3183, 'Barefoot Executive, The (1971)': 3184, 'One Night Stand (1997)': 3185, 'Price Above Rubies, A (1998)': 3186, 'Roadside Prophets (1992)': 3187, \"Ballad of Ramblin' Jack, The (2000)\": 3188, 'Temptress Moon (Feng Yue) (1996)': 3189, 'Wedding Bell Blues (1996)': 3190, 'Smiling Fish and Goat on Fire (1999)': 3191, 'I Like It Like That (1994)': 3192, 'Rent-a-Kid (1995)': 3193, 'High School High (1996)': 3194, 'Sticky Fingers of Time, The (1997)': 3195, 'Confessional, The (Le Confessionnal) (1995)': 3196, 'Knock Off (1998)': 3197, 'Santa Fe Trail (1940)': 3198, 'Garbage Pail Kids Movie, The (1987)': 3199, \"Widows' Peak (1994)\": 3200, 'Allnighter, The (1987)': 3201, 'Meatballs III (1987)': 3202, 'Belly (1998)': 3203, 'Gabbeh (1996)': 3204, 'Carmen Miranda: Bananas Is My Business (1994)': 3205, \"Legend of 1900, The (Leggenda del pianista sull'oceano) (1998)\": 3206, 'Crew, The (2000)': 3207, 'Source, The (1999)': 3208, 'Catfish in Black Bean Sauce (2000)': 3209, 'Judy Berlin (1999)': 3210, 'Dancemaker (1998)': 3211, 'Sheltering Sky, The (1990)': 3212, 'Merry War, A (1997)': 3213, 'Shaft in Africa (1973)': 3214, 'Hungarian Fairy Tale, A (1987)': 3215, 'Poison (1991)': 3216, 'Zed & Two Noughts, A (1985)': 3217, 'Turtle Diary (1985)': 3218, 'Criminal Lovers (Les Amants Criminels) (1999)': 3219, 'Whatever Happened to Aunt Alice? (1969)': 3220, 'Devil Rides Out, The (1968)': 3221, 'Jerry Springer: Ringmaster (1998)': 3222, 'Killing of Sister George, The (1968)': 3223, \"Concorde: Airport '79, The (1979)\": 3224, 'Color Me Blood Red (1965)': 3225, \"Shaft's Big Score! (1972)\": 3226, 'Brother, Can You Spare a Dime? (1975)': 3227, 'Crude Oasis, The (1995)': 3228, 'Music From Another Room (1998)': 3229, 'Castle Freak (1995)': 3230, 'Cleo From 5 to 7 (Cl�o de 5 � 7) (1962)': 3231, 'Zeus and Roxanne (1997)': 3232, 'Overnight Delivery (1996)': 3233, 'House Arrest (1996)': 3234, \"My Boyfriend's Back (1993)\": 3235, 'Telling You (1998)': 3236, 'Line King: Al Hirschfeld, The (1996)': 3237, 'Love Bewitched, A (El Amor Brujo) (1986)': 3238, 'Kicked in the Head (1997)': 3239, 'Chairman of the Board (1998)': 3240, 'American Strays (1996)': 3241, 'Boy Called Hate, A (1995)': 3242, 'This World, Then the Fireworks (1996)': 3243, 'Coldblooded (1995)': 3244, 'Faces (1968)': 3245, 'Brothers in Trouble (1995)': 3246, 'Stars and Bars (1988)': 3247, 'Another Day in Paradise (1998)': 3248, 'T-Men (1947)': 3249, 'Six of a Kind (1934)': 3250, '301, 302 (1995)': 3251, 'Fall (1997)': 3252, 'Mr. Jealousy (1997)': 3253, 'Colonel Chabert, Le (1994)': 3254, \"Mike's Murder (1984)\": 3255, 'Fear, The (1995)': 3256, 'Paris, France (1993)': 3257, 'Sixth Man, The (1997)': 3258, 'Black Dog (1998)': 3259, 'Price of Glory (2000)': 3260, 'Meet Wally Sparks (1997)': 3261, 'Wisdom (1986)': 3262, 'End of the Affair, The (1955)': 3263, 'X: The Unknown (1956)': 3264, 'Quiet Room, The (1996)': 3265, 'Amityville: Dollhouse (1996)': 3266, 'Tie That Binds, The (1995)': 3267, 'Grosse Fatigue (1994)': 3268, 'Chinese Box (1997)': 3269, 'Land Girls, The (1998)': 3270, 'Catwalk (1995)': 3271, 'Plenty (1985)': 3272, 'Whipped (2000)': 3273, 'Love & Sex (2000)': 3274, 'See the Sea (Regarde la mer) (1997)': 3275, 'Broken English (1996)': 3276, \"Relax... It's Just Sex (1998)\": 3277, 'Head On (1998)': 3278, 'Love and a .45 (1994)': 3279, \"I Can't Sleep (J'ai pas sommeil) (1994)\": 3280, 'Last Time I Committed Suicide, The (1997)': 3281, \"Citizen's Band (a.k.a. Handle with Care) (1977)\": 3282, 'Son of Dracula (1943)': 3283, 'Ilsa, She Wolf of the SS (1974)': 3284, 'King Kong Lives (1986)': 3285, 'Blood Feast (1963)': 3286, 'Asylum (1972)': 3287, 'Hatchet For the Honeymoon (Rosso Segno Della Follia) (1969)': 3288, 'Nekromantik (1987)': 3289, 'Guardian, The (1990)': 3290, 'Battling Butler (1926)': 3291, 'JLG/JLG - autoportrait de d�cembre (1994)': 3292, 'Reckless (1995)': 3293, 'Son of the Sheik, The (1926)': 3294, 'Mr. Wrong (1996)': 3295, 'Window to Paris (1994)': 3296, 'Germinal (1993)': 3297, 'Haunted Honeymoon (1986)': 3298, 'Institute Benjamenta, or This Dream People Call Human Life (1995)': 3299, 'Seventh Heaven (Le Septi�me ciel) (1997)': 3300, 'Jar, The (Khomreh) (1992)': 3301, 'Glass Shield, The (1994)': 3302, \"Enfer, L' (1994)\": 3303, 'Rosie (1998)': 3304, \"Those Who Love Me Can Take the Train (Ceux qui m'aiment prendront le train) (1998)\": 3305, 'Public Access (1993)': 3306, 'Single Girl, A (La Fille Seule) (1995)': 3307, 'Tigrero: A Film That Was Never Made (1994)': 3308, 'Hollow Reed (1996)': 3309, 'Manny & Lo (1996)': 3310, 'Apple, The (Sib) (1998)': 3311, 'Tetsuo II: Body Hammer (1992)': 3312, 'I Stand Alone (Seul contre tous) (1998)': 3313, 'Late August, Early September (Fin ao�t, d�but septembre) (1998)': 3314, 'Stars Fell on Henrietta, The (1995)': 3315, 'Lamerica (1994)': 3316, 'Kika (1993)': 3317, 'Golden Earrings (1947)': 3318, 'Miss Julie (1999)': 3319, 'Bootmen (2000)': 3320, 'They Made Me a Criminal (1939)': 3321, 'Two Much (1996)': 3322, 'Strike! (a.k.a. All I Wanna Do, The Hairy Bird) (1998)': 3323, 'Race the Sun (1996)': 3324, 'Young and Innocent (1937)': 3325, 'Train of Life (Train De Vie) (1998)': 3326, 'Outlaw, The (1943)': 3327, 'Bat, The (1959)': 3328, 'Spiders, The (Die Spinnen, 1. Teil: Der Goldene See) (1919)': 3329, 'Devil Girl From Mars (1954)': 3330, 'In Old California (1942)': 3331, 'Jail Bait (1954)': 3332, 'Heaven (1998)': 3333, 'Guantanamera (1994)': 3334, 'Pandora and the Flying Dutchman (1951)': 3335, 'Dadetown (1995)': 3336, 'Marcello Mastroianni: I Remember Yes, I Remember (1997)': 3337, 'Marlene Dietrich: Shadow and Light (1996)': 3338, 'Incognito (1997)': 3339, 'You So Crazy (1994)': 3340, 'Loaded (1994)': 3341, 'Delta of Venus (1994)': 3342, 'Coming Apart (1969)': 3343, 'Acid House, The (1998)': 3344, 'Go Now (1995)': 3345, 'Unhook the Stars (1996)': 3346, 'Captives (1994)': 3347, 'Dog of Flanders, A (1999)': 3348, 'Savior (1998)': 3349, 'Alien Escape (1995)': 3350, 'In the Line of Duty 2 (1987)': 3351, 'Glory Daze (1996)': 3352, 'Bandits (1997)': 3353, 'Black Sunday (La Maschera Del Demonio) (1960)': 3354, 'Band of the Hand (1986)': 3355, 'Children of the Corn IV: The Gathering (1996)': 3356, 'Dark Command (1940)': 3357, 'Mirage (1995)': 3358, 'Heart Condition (1990)': 3359, 'It Takes Two (1995)': 3360, 'Jamaica Inn (1939)': 3361, 'Blackmail (1929)': 3362, 'Broadway Damage (1997)': 3363, \"I Love You, Don't Touch Me! (1998)\": 3364, 'Two or Three Things I Know About Her (1966)': 3365, 'Denise Calls Up (1995)': 3366, 'Wife, The (1995)': 3367, 'Head Above Water (1996)': 3368, 'Cure, The (1995)': 3369, 'Eaten Alive (1976)': 3370, 'Bluebeard (1944)': 3371, 'Adrenalin: Fear the Rush (1996)': 3372, 'Railroaded! (1947)': 3373, 'Peanuts - Die Bank zahlt alles (1996)': 3374, 'Something for Everyone (1970)': 3375, 'Saragossa Manuscript, The (Rekopis znaleziony w Saragossie) (1965)': 3376, 'Skipped Parts (2000)': 3377, 'Collectionneuse, La (1967)': 3378, 'Hi-Lo Country, The (1998)': 3379, 'Deceiver (1997)': 3380, 'Mascara (1999)': 3381, 'Grandview, U.S.A. (1984)': 3382, 'Little Men (1998)': 3383, \"Squanto: A Warrior's Tale (1994)\": 3384, 'Other Side of Sunday, The (S�ndagsengler) (1996)': 3385, 'Beauty (1998)': 3386, 'Specials, The (2000)': 3387, 'Dingo (1992)': 3388, 'Bats (1999)': 3389, 'All Things Fair (1996)': 3390, 'Zero Kelvin (Kj�rlighetens kj�tere) (1995)': 3391, 'Butterfly Kiss (1995)': 3392, 'Bells, The (1926)': 3393, 'On Any Sunday (1971)': 3394, 'Castaway Cowboy, The (1974)': 3395, 'Black Tar Heroin: The Dark End of the Street (1999)': 3396, 'Slumber Party Massacre III, The (1990)': 3397, 'No Small Affair (1984)': 3398, 'Panther (1995)': 3399, 'Went to Coney Island on a Mission From God... Be Back by Five (1998)': 3400, 'Native Son (1986)': 3401, 'Julien Donkey-Boy (1999)': 3402, 'Shooter, The (1995)': 3403, 'Born to Win (1971)': 3404, 'Carriers Are Waiting, The (Les Convoyeurs Attendent) (1999)': 3405, \"Wooden Man's Bride, The (Wu Kui) (1994)\": 3406, '3 Strikes (2000)': 3407, 'Resurrection Man (1998)': 3408, 'Tainted (1998)': 3409, 'Foolish (1999)': 3410, 'Minnie and Moskowitz (1971)': 3411, 'Sweet Nothing (1995)': 3412, 'Living Dead Girl, The (La Morte Vivante) (1982)': 3413, 'Search for One-eye Jimmy, The (1996)': 3414, 'Year of the Horse (1997)': 3415, 'Firelight (1997)': 3416, 'Iron Eagle IV (1995)': 3417, 'I Love You, I Love You Not (1996)': 3418, 'Strangeland (1998)': 3419, 'Jeanne and the Perfect Guy (Jeanne et le gar�on formidable) (1998)': 3420, 'Taffin (1988)': 3421, 'Country Life (1994)': 3422, 'Battle of the Sexes, The (1959)': 3423, 'Bushwhacked (1995)': 3424, 'Phat Beach (1996)': 3425, 'Commandments (1997)': 3426, 'Adventures of Elmo in Grouchland, The (1999)': 3427, 'Very Natural Thing, A (1974)': 3428, 'Intimate Relations (1996)': 3429, 'Gumby: The Movie (1995)': 3430, \"That's Life! (1986)\": 3431, 'Curse of the Puppet Master (1998)': 3432, 'Love Is the Devil (1998)': 3433, 'Prom Night IV: Deliver Us From Evil (1992)': 3434, 'Woman of Paris, A (1923)': 3435, 'Cool as Ice (1991)': 3436, 'Assassination (1987)': 3437, 'Bonheur, Le (1965)': 3438, 'Vampyros Lesbos (Las Vampiras) (1970)': 3439, 'Bay of Blood (Reazione a catena) (1971)': 3440, 'Tokyo Fist (1995)': 3441, 'Crow: Salvation, The (2000)': 3442, 'Beloved/Friend (Amigo/Amado) (1999)': 3443, 'Flying Saucer, The (1950)': 3444, 'Retro Puppetmaster (1999)': 3445, 'Sacco and Vanzetti (Sacco e Vanzetti) (1971)': 3446, 'Raining Stones (1993)': 3447, 'Hangmen Also Die (1943)': 3448, 'Mamma Roma (1962)': 3449, 'Message to Love: The Isle of Wight Festival (1996)': 3450, 'Double Team (1997)': 3451, 'Beans of Egypt, Maine, The (1994)': 3452, 'Woo (1998)': 3453, 'Blood and Sand (Sangre y Arena) (1989)': 3454, 'Sunset Park (1996)': 3455, 'Ring, The (1927)': 3456, 'Second Jungle Book: Mowgli & Baloo, The (1997)': 3457, 'First Love, Last Rites (1997)': 3458, '24 7: Twenty Four Seven (1997)': 3459, 'Closer You Get, The (2000)': 3460, \"Brown's Requiem (1998)\": 3461, 'Naked in New York (1994)': 3462, 'B. Monkey (1998)': 3463, 'Frank and Ollie (1995)': 3464, 'Falling in Love Again (1980)': 3465, 'Schlafes Bruder (Brother of Sleep) (1995)': 3466, 'James Dean Story, The (1957)': 3467, 'Montana (1998)': 3468, 'Cotton Mary (1999)': 3469, \"Barney's Great Adventure (1998)\": 3470, '3 Ninjas: High Noon On Mega Mountain (1998)': 3471, 'Show, The (1995)': 3472, 'Finding North (1999)': 3473, 'Sprung (1997)': 3474, 'Walk in the Sun, A (1945)': 3475, 'Wings of Courage (1995)': 3476, 'Joyriders, The (1999)': 3477, 'Big Bully (1996)': 3478, 'Yankee Zulu (1994)': 3479, 'Back Stage (2000)': 3480, 'Man from Down Under, The (1943)': 3481, \"Pot O' Gold (1941)\": 3482, 'Metisse (Caf� au Lait) (1993)': 3483, 'Original Gangstas (1996)': 3484, 'Return with Honor (1998)': 3485, \"Where's Marlowe? (1999)\": 3486, 'Daughters of the Dust (1992)': 3487, 'Best Man, The (Il Testimone dello sposo) (1997)': 3488, 'Angela (1995)': 3489, 'Target (1995)': 3490, 'Spirits of the Dead (Tre Passi nel Delirio) (1968)': 3491, 'Last Time I Saw Paris, The (1954)': 3492, 'Held Up (2000)': 3493, 'An Unforgettable Summer (1994)': 3494, 'Circus (2000)': 3495, 'Voyage to the Beginning of the World (1997)': 3496, 'Lucie Aubrac (1997)': 3497, 'Savage Nights (Nuits fauves, Les) (1992)': 3498, 'Simon Sez (1999)': 3499, 'Journey of August King, The (1995)': 3500, 'Snows of Kilimanjaro, The (1952)': 3501, 'Power 98 (1995)': 3502, 'Santitos (1997)': 3503, \"Actor's Revenge, An (Yukinojo Henge) (1963)\": 3504, 'Boys (1996)': 3505, 'Leather Jacket Love Story (1997)': 3506, 'Sunset Strip (2000)': 3507, 'I, Worst of All (Yo, la peor de todas) (1990)': 3508, 'Follow the Bitch (1998)': 3509, 'Bittersweet Motel (2000)': 3510, 'Cobra (1925)': 3511, 'City of the Living Dead (Paura nella citt� dei morti viventi) (1980)': 3512, 'Born American (1986)': 3513, 'Amityville: A New Generation (1993)': 3514, 'Killer: A Journal of Murder (1995)': 3515, 'Ashes of Time (1994)': 3516, 'Paralyzing Fear: The Story of Polio in America, A (1998)': 3517, 'Napoleon and Samantha (1972)': 3518, '1-900 (1994)': 3519, 'Rhyme & Reason (1997)': 3520, 'Turbo: A Power Rangers Movie (1997)': 3521, 'Dangerous Ground (1997)': 3522, 'I Got the Hook Up (1998)': 3523, 'Big Squeeze, The (1996)': 3524, 'Penitentiary II (1982)': 3525, \"Let's Talk About Sex (1998)\": 3526, 'Run of the Country, The (1995)': 3527, 'Dear Jesse (1997)': 3528, 'Buck and the Preacher (1972)': 3529, 'Frogs for Snakes (1998)': 3530, 'Aiqing wansui (1994)': 3531, 'Slaves to the Underground (1997)': 3532, 'To Have, or Not (1995)': 3533, 'Project Moon Base (1953)': 3534, 'Modern Affair, A (1995)': 3535, 'Last Klezmer: Leopold Kozlowski, His Life and Music, The (1995)': 3536, 'Regret to Inform (1998)': 3537, 'Full Speed (1996)': 3538, \"Farmer's Wife, The (1928)\": 3539, 'Prince Valiant (1997)': 3540, 'Smashing Time (1967)': 3541, 'Best of the Best 3: No Turning Back (1995)': 3542, 'Small Wonders (1996)': 3543, 'Ulysses (Ulisse) (1954)': 3544, 'Ten Benny (1997)': 3545, \"It's in the Water (1998)\": 3546, 'Everything Relative (1996)': 3547, 'Horror Hotel (a.k.a. The City of the Dead) (1960)': 3548, 'Make Them Die Slowly (Cannibal Ferox) (1980)': 3549, 'Jerry & Tom (1998)': 3550, 'Foreign Student (1994)': 3551, 'Relative Fear (1994)': 3552, 'Gate II: Trespassers, The (1990)': 3553, 'Tomb of Ligeia, The (1965)': 3554, \"Trippin' (1999)\": 3555, \"My Life and Times With Antonin Artaud (En compagnie d'Antonin Artaud) (1993)\": 3556, 'Prom Night III: The Last Kiss (1989)': 3557, 'Stag (1997)': 3558, 'Zachariah (1971)': 3559, 'Stranger in the House (1997)': 3560, 'Fall Time (1995)': 3561, 'Death in Brunswick (1991)': 3562, 'Better Living (1998)': 3563, 'Impact (1949)': 3564, 'Anna (1996)': 3565, 'For the Moment (1994)': 3566, 'Bye-Bye (1995)': 3567, 'With Friends Like These... (1998)': 3568, 'Gay Deceivers, The (1969)': 3569, 'Loser (1991)': 3570, 'Convent, The (Convento, O) (1995)': 3571, \"I Don't Want to Talk About It (De eso no se habla) (1993)\": 3572, 'Male and Female (1919)': 3573, 'Century (1993)': 3574, \"Brother's Kiss, A (1997)\": 3575, 'War at Home, The (1996)': 3576, 'Daens (1992)': 3577, 'Number Seventeen (1932)': 3578, 'Last of the High Kings, The (a.k.a. Summer Fling) (1996)': 3579, \"Another Man's Poison (1952)\": 3580, 'Death in the Garden (Mort en ce jardin, La) (1956)': 3581, \"I'll Never Forget What's 'is Name (1967)\": 3582, 'Neon Bible, The (1995)': 3583, 'Second Best (1994)': 3584, 'Macao (1952)': 3585, 'On Our Merry Way (1948)': 3586, 'Shopping (1994)': 3587, 'It Happened Here (1961)': 3588, 'Soft Toilet Seats (1999)': 3589, 'Alley Cats, The (1968)': 3590, \"Heaven's Burning (1997)\": 3591, 'Dangerous Game (1993)': 3592, 'Sonic Outlaws (1995)': 3593, 'Late Bloomers (1996)': 3594, 'Dry Cleaning (Nettoyage � sec) (1997)': 3595, 'Illtown (1996)': 3596, 'Inheritors, The (Die Siebtelbauern) (1998)': 3597, 'Talk of Angels (1998)': 3598, 'Home Page (1999)': 3599, 'Match, The (1999)': 3600, 'Condition Red (1995)': 3601, 'Machine, The (1994)': 3602, 'Snowriders (1996)': 3603, 'Love, etc. (1996)': 3604, 'Stranger, The (1994)': 3605, 'Truce, The (1996)': 3606, 'Brother Minister: The Assassination of Malcolm X (1994)': 3607, 'Last Resort (1994)': 3608, '24-hour Woman (1998)': 3609, 'Six Ways to Sunday (1997)': 3610, 'Tough and Deadly (1995)': 3611, 'Paris Was a Woman (1995)': 3612, 'Lured (1947)': 3613, 'Outside Ozona (1998)': 3614, 'Chain of Fools (2000)': 3615, 'Song of Freedom (1936)': 3616, 'Slappy and the Stinkers (1998)': 3617, 'Nemesis 2: Nebula (1995)': 3618, 'Smoking/No Smoking (1993)': 3619, 'Modulations (1998)': 3620, 'Broken Vessels (1998)': 3621, 'Master Ninja I (1984)': 3622, 'One Little Indian (1973)': 3623, 'Slaughterhouse (1987)': 3624, 'Promise, The (Versprechen, Das) (1994)': 3625, 'Five Wives, Three Secretaries and Me (1998)': 3626, 'Identification of a Woman (Identificazione di una donna) (1982)': 3627}\n"
     ]
    }
   ],
   "source": [
    "print(movie_to_idx)"
   ]
  },
  {
   "cell_type": "code",
   "execution_count": 16,
   "metadata": {},
   "outputs": [
    {
     "name": "stdout",
     "output_type": "stream",
     "text": [
      "6039\n",
      "33\n"
     ]
    }
   ],
   "source": [
    "print(user_to_idx['ethan'])    # 6040명의 유저 중 마지막으로 추가된 유저이니 6039이 나와야 합니다. \n",
    "print(movie_to_idx['Aladdin (1992)'])"
   ]
  },
  {
   "cell_type": "code",
   "execution_count": 17,
   "metadata": {},
   "outputs": [
    {
     "data": {
      "text/html": [
       "<div>\n",
       "<style scoped>\n",
       "    .dataframe tbody tr th:only-of-type {\n",
       "        vertical-align: middle;\n",
       "    }\n",
       "\n",
       "    .dataframe tbody tr th {\n",
       "        vertical-align: top;\n",
       "    }\n",
       "\n",
       "    .dataframe thead th {\n",
       "        text-align: right;\n",
       "    }\n",
       "</style>\n",
       "<table border=\"1\" class=\"dataframe\">\n",
       "  <thead>\n",
       "    <tr style=\"text-align: right;\">\n",
       "      <th></th>\n",
       "      <th>user_id</th>\n",
       "      <th>count</th>\n",
       "      <th>title</th>\n",
       "      <th>movie_id</th>\n",
       "    </tr>\n",
       "  </thead>\n",
       "  <tbody>\n",
       "    <tr>\n",
       "      <th>836473</th>\n",
       "      <td>6040</td>\n",
       "      <td>3</td>\n",
       "      <td>Platoon (1986)</td>\n",
       "      <td>1090</td>\n",
       "    </tr>\n",
       "    <tr>\n",
       "      <th>836474</th>\n",
       "      <td>6040</td>\n",
       "      <td>5</td>\n",
       "      <td>Crying Game, The (1992)</td>\n",
       "      <td>1094</td>\n",
       "    </tr>\n",
       "    <tr>\n",
       "      <th>836475</th>\n",
       "      <td>6040</td>\n",
       "      <td>5</td>\n",
       "      <td>Welcome to the Dollhouse (1995)</td>\n",
       "      <td>562</td>\n",
       "    </tr>\n",
       "    <tr>\n",
       "      <th>836476</th>\n",
       "      <td>6040</td>\n",
       "      <td>4</td>\n",
       "      <td>Sophie's Choice (1982)</td>\n",
       "      <td>1096</td>\n",
       "    </tr>\n",
       "    <tr>\n",
       "      <th>836477</th>\n",
       "      <td>6040</td>\n",
       "      <td>4</td>\n",
       "      <td>E.T. the Extra-Terrestrial (1982)</td>\n",
       "      <td>1097</td>\n",
       "    </tr>\n",
       "    <tr>\n",
       "      <th>836478</th>\n",
       "      <td>ethan</td>\n",
       "      <td>4</td>\n",
       "      <td>Home Alone (1990)</td>\n",
       "      <td>586</td>\n",
       "    </tr>\n",
       "    <tr>\n",
       "      <th>836479</th>\n",
       "      <td>ethan</td>\n",
       "      <td>4</td>\n",
       "      <td>Snow White and the Seven Dwarfs (1937)</td>\n",
       "      <td>594</td>\n",
       "    </tr>\n",
       "    <tr>\n",
       "      <th>836480</th>\n",
       "      <td>ethan</td>\n",
       "      <td>4</td>\n",
       "      <td>Aladdin (1992)</td>\n",
       "      <td>588</td>\n",
       "    </tr>\n",
       "    <tr>\n",
       "      <th>836481</th>\n",
       "      <td>ethan</td>\n",
       "      <td>4</td>\n",
       "      <td>Pinocchio (1940)</td>\n",
       "      <td>596</td>\n",
       "    </tr>\n",
       "    <tr>\n",
       "      <th>836482</th>\n",
       "      <td>ethan</td>\n",
       "      <td>4</td>\n",
       "      <td>Beauty and the Beast (1991)</td>\n",
       "      <td>595</td>\n",
       "    </tr>\n",
       "  </tbody>\n",
       "</table>\n",
       "</div>"
      ],
      "text/plain": [
       "       user_id  count                                   title  movie_id\n",
       "836473    6040      3                          Platoon (1986)      1090\n",
       "836474    6040      5                 Crying Game, The (1992)      1094\n",
       "836475    6040      5         Welcome to the Dollhouse (1995)       562\n",
       "836476    6040      4                  Sophie's Choice (1982)      1096\n",
       "836477    6040      4       E.T. the Extra-Terrestrial (1982)      1097\n",
       "836478   ethan      4                       Home Alone (1990)       586\n",
       "836479   ethan      4  Snow White and the Seven Dwarfs (1937)       594\n",
       "836480   ethan      4                          Aladdin (1992)       588\n",
       "836481   ethan      4                        Pinocchio (1940)       596\n",
       "836482   ethan      4             Beauty and the Beast (1991)       595"
      ]
     },
     "execution_count": 17,
     "metadata": {},
     "output_type": "execute_result"
    }
   ],
   "source": [
    "ratings_title_num.tail(10)"
   ]
  },
  {
   "cell_type": "code",
   "execution_count": 18,
   "metadata": {},
   "outputs": [
    {
     "name": "stdout",
     "output_type": "stream",
     "text": [
      "user_id column indexing OK!!\n",
      "amovie column indexing OK!!\n"
     ]
    },
    {
     "data": {
      "text/html": [
       "<div>\n",
       "<style scoped>\n",
       "    .dataframe tbody tr th:only-of-type {\n",
       "        vertical-align: middle;\n",
       "    }\n",
       "\n",
       "    .dataframe tbody tr th {\n",
       "        vertical-align: top;\n",
       "    }\n",
       "\n",
       "    .dataframe thead th {\n",
       "        text-align: right;\n",
       "    }\n",
       "</style>\n",
       "<table border=\"1\" class=\"dataframe\">\n",
       "  <thead>\n",
       "    <tr style=\"text-align: right;\">\n",
       "      <th></th>\n",
       "      <th>user_id</th>\n",
       "      <th>count</th>\n",
       "      <th>title</th>\n",
       "      <th>movie_id</th>\n",
       "    </tr>\n",
       "  </thead>\n",
       "  <tbody>\n",
       "    <tr>\n",
       "      <th>0</th>\n",
       "      <td>0</td>\n",
       "      <td>5</td>\n",
       "      <td>0</td>\n",
       "      <td>1193</td>\n",
       "    </tr>\n",
       "    <tr>\n",
       "      <th>1</th>\n",
       "      <td>0</td>\n",
       "      <td>3</td>\n",
       "      <td>1</td>\n",
       "      <td>661</td>\n",
       "    </tr>\n",
       "    <tr>\n",
       "      <th>2</th>\n",
       "      <td>0</td>\n",
       "      <td>3</td>\n",
       "      <td>2</td>\n",
       "      <td>914</td>\n",
       "    </tr>\n",
       "    <tr>\n",
       "      <th>3</th>\n",
       "      <td>0</td>\n",
       "      <td>4</td>\n",
       "      <td>3</td>\n",
       "      <td>3408</td>\n",
       "    </tr>\n",
       "    <tr>\n",
       "      <th>4</th>\n",
       "      <td>0</td>\n",
       "      <td>5</td>\n",
       "      <td>4</td>\n",
       "      <td>2355</td>\n",
       "    </tr>\n",
       "    <tr>\n",
       "      <th>...</th>\n",
       "      <td>...</td>\n",
       "      <td>...</td>\n",
       "      <td>...</td>\n",
       "      <td>...</td>\n",
       "    </tr>\n",
       "    <tr>\n",
       "      <th>836478</th>\n",
       "      <td>6039</td>\n",
       "      <td>4</td>\n",
       "      <td>507</td>\n",
       "      <td>586</td>\n",
       "    </tr>\n",
       "    <tr>\n",
       "      <th>836479</th>\n",
       "      <td>6039</td>\n",
       "      <td>4</td>\n",
       "      <td>8</td>\n",
       "      <td>594</td>\n",
       "    </tr>\n",
       "    <tr>\n",
       "      <th>836480</th>\n",
       "      <td>6039</td>\n",
       "      <td>4</td>\n",
       "      <td>33</td>\n",
       "      <td>588</td>\n",
       "    </tr>\n",
       "    <tr>\n",
       "      <th>836481</th>\n",
       "      <td>6039</td>\n",
       "      <td>4</td>\n",
       "      <td>528</td>\n",
       "      <td>596</td>\n",
       "    </tr>\n",
       "    <tr>\n",
       "      <th>836482</th>\n",
       "      <td>6039</td>\n",
       "      <td>4</td>\n",
       "      <td>10</td>\n",
       "      <td>595</td>\n",
       "    </tr>\n",
       "  </tbody>\n",
       "</table>\n",
       "<p>836483 rows × 4 columns</p>\n",
       "</div>"
      ],
      "text/plain": [
       "        user_id  count  title  movie_id\n",
       "0             0      5      0      1193\n",
       "1             0      3      1       661\n",
       "2             0      3      2       914\n",
       "3             0      4      3      3408\n",
       "4             0      5      4      2355\n",
       "...         ...    ...    ...       ...\n",
       "836478     6039      4    507       586\n",
       "836479     6039      4      8       594\n",
       "836480     6039      4     33       588\n",
       "836481     6039      4    528       596\n",
       "836482     6039      4     10       595\n",
       "\n",
       "[836483 rows x 4 columns]"
      ]
     },
     "execution_count": 18,
     "metadata": {},
     "output_type": "execute_result"
    }
   ],
   "source": [
    "# user_to_idx.get을 통해 user_id 컬럼의 모든 값을 인덱싱한 Series를 구해 봅니다. \n",
    "# 혹시 정상적으로 인덱싱되지 않은 row가 있다면 인덱스가 NaN이 될 테니 dropna()로 제거합니다. \n",
    "temp_user_data = ratings_title_num['user_id'].map(user_to_idx.get).dropna()\n",
    "if len(temp_user_data) == len(ratings_title_num):   # 모든 row가 정상적으로 인덱싱되었다면\n",
    "    print('user_id column indexing OK!!')\n",
    "    ratings_title_num['user_id'] = temp_user_data   # data['user_id']을 인덱싱된 Series로 교체해 줍니다. \n",
    "else:\n",
    "    print('user_id column indexing Fail!!')\n",
    "\n",
    "# artist_to_idx을 통해 artist 컬럼도 동일한 방식으로 인덱싱해 줍니다. \n",
    "temp_movie_data = ratings_title_num['title'].map(movie_to_idx.get).dropna()\n",
    "if len(temp_movie_data) == len(ratings_title_num):\n",
    "    print('amovie column indexing OK!!')\n",
    "    ratings_title_num['title'] = temp_movie_data\n",
    "else:\n",
    "    print('movie column indexing Fail!!')\n",
    "\n",
    "ratings_title_num"
   ]
  },
  {
   "cell_type": "code",
   "execution_count": 20,
   "metadata": {},
   "outputs": [
    {
     "data": {
      "text/plain": [
       "0         5\n",
       "1         3\n",
       "2         3\n",
       "3         4\n",
       "4         5\n",
       "         ..\n",
       "836478    4\n",
       "836479    4\n",
       "836480    4\n",
       "836481    4\n",
       "836482    4\n",
       "Name: count, Length: 836483, dtype: int64"
      ]
     },
     "execution_count": 20,
     "metadata": {},
     "output_type": "execute_result"
    }
   ],
   "source": [
    "ratings_title_num['count']"
   ]
  },
  {
   "cell_type": "code",
   "execution_count": 21,
   "metadata": {},
   "outputs": [
    {
     "name": "stdout",
     "output_type": "stream",
     "text": [
      "[5 3 3 ... 4 4 4]\n"
     ]
    }
   ],
   "source": [
    "print(ratings_title_num['count'].values)"
   ]
  },
  {
   "cell_type": "markdown",
   "metadata": {},
   "source": [
    "### 4) CSR matrix 만들기"
   ]
  },
  {
   "cell_type": "code",
   "execution_count": 19,
   "metadata": {},
   "outputs": [
    {
     "data": {
      "text/plain": [
       "<6040x3628 sparse matrix of type '<class 'numpy.int64'>'\n",
       "\twith 836483 stored elements in Compressed Sparse Row format>"
      ]
     },
     "execution_count": 19,
     "metadata": {},
     "output_type": "execute_result"
    }
   ],
   "source": [
    "from scipy.sparse import csr_matrix\n",
    "\n",
    "num_user = ratings_title_num['user_id'].nunique()\n",
    "num_movie = ratings_title_num['title'].nunique()\n",
    "\n",
    "csr_data = csr_matrix((ratings_title_num['count'].values, (ratings_title_num.user_id, ratings_title_num.title)), shape= (num_user, num_movie))\n",
    "csr_data"
   ]
  },
  {
   "cell_type": "code",
   "execution_count": 20,
   "metadata": {},
   "outputs": [],
   "source": [
    "from implicit.als import AlternatingLeastSquares\n",
    "import os\n",
    "import numpy as np\n",
    "\n",
    "# implicit 라이브러리에서 권장사항입니다.\n",
    "os.environ['OPENBLAS_NUM_THREADS']='1'\n",
    "os.environ['KMP_DUPLICATE_LIB_OK']='True'\n",
    "os.environ['MKL_NUM_THREADS']='1'"
   ]
  },
  {
   "cell_type": "markdown",
   "metadata": {},
   "source": [
    "### 5) als_model = AlternatingLeastSquares 모델\n",
    "**-모델 구성**"
   ]
  },
  {
   "cell_type": "code",
   "execution_count": 21,
   "metadata": {},
   "outputs": [],
   "source": [
    "# Implicit AlternatingLeastSquares 모델의 선언\n",
    "als_model = AlternatingLeastSquares(factors=256, regularization=0.01, use_gpu=False, iterations=15, dtype=np.float32)"
   ]
  },
  {
   "cell_type": "code",
   "execution_count": 22,
   "metadata": {},
   "outputs": [
    {
     "data": {
      "text/plain": [
       "<3628x6040 sparse matrix of type '<class 'numpy.int64'>'\n",
       "\twith 836483 stored elements in Compressed Sparse Column format>"
      ]
     },
     "execution_count": 22,
     "metadata": {},
     "output_type": "execute_result"
    }
   ],
   "source": [
    "# als 모델은 input으로 (item X user 꼴의 matrix를 받기 때문에 Transpose해줍니다.)\n",
    "csr_data_transpose = csr_data.T\n",
    "csr_data_transpose"
   ]
  },
  {
   "cell_type": "markdown",
   "metadata": {},
   "source": [
    "**-모델훈련**  "
   ]
  },
  {
   "cell_type": "code",
   "execution_count": 23,
   "metadata": {},
   "outputs": [
    {
     "data": {
      "application/vnd.jupyter.widget-view+json": {
       "model_id": "518fa4307a6b49988bef22e15ad8deca",
       "version_major": 2,
       "version_minor": 0
      },
      "text/plain": [
       "  0%|          | 0/15 [00:00<?, ?it/s]"
      ]
     },
     "metadata": {},
     "output_type": "display_data"
    }
   ],
   "source": [
    "# 모델 훈련\n",
    "als_model.fit(csr_data_transpose)"
   ]
  },
  {
   "cell_type": "markdown",
   "metadata": {},
   "source": [
    "### 6) 모델이 예측한 나의 선호도 (feat. 내가 고른 영화)  "
   ]
  },
  {
   "cell_type": "code",
   "execution_count": 25,
   "metadata": {},
   "outputs": [],
   "source": [
    "ethan, aladdin = user_to_idx['ethan'], movie_to_idx['Aladdin (1992)']\n",
    "ethan_vector, aladdin_vector = als_model.user_factors[ethan], als_model.item_factors[aladdin]"
   ]
  },
  {
   "cell_type": "code",
   "execution_count": 26,
   "metadata": {},
   "outputs": [
    {
     "data": {
      "text/plain": [
       "array([ 0.16878335, -0.09989601, -0.00656716, -0.364013  , -0.35038227,\n",
       "       -0.03823595,  0.46970242,  0.07276542,  0.26608145, -0.2567468 ,\n",
       "        0.17191592,  0.24658924,  0.7649133 , -0.18750603,  0.25323907,\n",
       "        0.47599253,  0.33700818,  0.25317615,  0.2822545 ,  0.6424485 ,\n",
       "        0.47869882, -0.6672743 ,  0.05324005, -0.08381694,  0.23700048,\n",
       "       -0.12106617,  0.1360133 , -0.46829435,  0.12089088, -0.33267418,\n",
       "        0.16769028, -0.4337841 , -0.10234536, -0.11955222,  0.19745553,\n",
       "       -0.41247955,  0.05009748,  0.00661483,  0.03483262, -0.17726259,\n",
       "       -0.38755763,  0.12813981,  0.06570356, -0.21036449, -0.06907293,\n",
       "       -0.436628  ,  0.5636173 , -0.2241512 ,  0.25216573, -0.17214409,\n",
       "       -0.22522661, -0.453097  ,  0.1258827 ,  0.48927772, -0.14931783,\n",
       "       -0.02632755, -0.20953436,  0.42855868,  0.40300122,  0.3456833 ,\n",
       "        0.2789519 ,  0.05802483, -0.12599835,  0.1452229 , -0.33800736,\n",
       "        0.09330316,  0.5184351 ,  0.9600234 , -0.01674435,  0.55942965,\n",
       "        0.1117953 ,  0.37945753,  0.24431995, -0.48746046, -1.1022966 ,\n",
       "        0.2145883 ,  0.27913225, -0.19920284,  0.4089387 ,  0.82327396,\n",
       "       -0.49312755, -0.52560663,  0.13686675, -0.16649607,  0.15462543,\n",
       "       -0.18189542, -0.46781045,  0.03689263,  0.17966618, -0.07456215,\n",
       "       -0.7556131 , -0.10741647, -0.04057239,  0.12545998,  0.1496413 ,\n",
       "       -0.49390358, -0.3857027 ,  0.7564992 , -0.0568304 , -0.37231496,\n",
       "       -0.65469104, -0.19915386, -0.3737292 , -0.43959007,  0.508589  ,\n",
       "        0.5101741 ,  0.5450689 ,  0.10685202,  0.37650597,  0.3053442 ,\n",
       "       -0.16578437, -0.27402875, -0.37031162,  0.8683511 , -0.7325847 ,\n",
       "        0.23224859, -0.42346495, -0.05077737,  0.05407435,  0.30487487,\n",
       "        0.63014674, -0.43534788, -0.01495658, -0.43376994, -0.6551954 ,\n",
       "       -0.16432504, -0.15544288,  0.21790475,  0.00284698,  0.2793801 ,\n",
       "       -0.12744719,  0.07430988, -0.45257595,  0.4304769 , -0.5258765 ,\n",
       "       -0.10973069,  0.05688831, -0.03626536,  0.35329643, -0.26000127,\n",
       "        0.31280375, -0.32410794, -0.00332438,  0.12997039, -0.42467296,\n",
       "       -0.7108618 ,  0.53273875, -0.2779391 ,  0.30672124, -0.51062614,\n",
       "       -0.8129855 ,  0.16313261,  0.68255764,  0.10722552,  0.3192427 ,\n",
       "        0.09489041, -0.5611062 ,  0.0615167 ,  0.02465278, -0.15221716,\n",
       "        0.4445786 ,  0.49463493, -0.13545375,  0.65005517,  0.26441154,\n",
       "       -0.24670494, -0.03058693, -0.3774615 , -0.23115577, -0.5305591 ,\n",
       "       -0.30451405, -0.1581644 , -0.10573351, -0.3490127 ,  0.3559313 ,\n",
       "        0.01419826, -0.7278635 ,  0.5797021 ,  0.33609977, -0.26979408,\n",
       "       -0.09205458,  0.5836347 ,  0.45017424,  0.05888793,  0.40451393,\n",
       "       -0.13118431,  0.23264205,  0.07675799, -0.32710758,  0.21710481,\n",
       "        0.1976802 , -0.3902893 , -0.10938893, -0.32726333,  0.07707823,\n",
       "        0.43257147, -0.8911977 ,  0.49676895,  0.04503779,  0.37662143,\n",
       "        0.45579353, -0.08487283,  0.18072988, -0.02205014,  0.00970431,\n",
       "        0.33346054, -0.20185113,  0.05360702,  0.8589881 , -0.522871  ,\n",
       "       -0.11992908, -0.40645245,  0.05782396, -0.6921812 , -0.2997545 ,\n",
       "        0.2996576 ,  0.15737359,  0.03953058,  0.29561874, -0.4244104 ,\n",
       "       -0.20610763, -0.45490927,  0.10911976, -0.5263747 ,  0.5134362 ,\n",
       "        0.21238872,  0.25905967,  0.5570799 ,  0.2318967 , -0.07682357,\n",
       "        0.36566943, -0.0946389 ,  0.32495636,  0.09679954,  0.49250317,\n",
       "        0.34061968,  0.6531838 ,  0.20035352, -0.6446659 , -0.23343801,\n",
       "        0.25438404, -0.21599285, -0.38038445, -0.19215183,  0.12766546,\n",
       "       -0.22047316, -0.3086879 ,  0.31847742,  0.06248169, -0.11395484,\n",
       "       -0.22475244, -0.00555276,  0.20967098,  0.5280261 , -0.61987317,\n",
       "       -0.31802586], dtype=float32)"
      ]
     },
     "execution_count": 26,
     "metadata": {},
     "output_type": "execute_result"
    }
   ],
   "source": [
    "ethan_vector"
   ]
  },
  {
   "cell_type": "code",
   "execution_count": 27,
   "metadata": {},
   "outputs": [
    {
     "data": {
      "text/plain": [
       "array([ 8.48150533e-03,  1.49931002e-03,  7.72980461e-03, -4.91042063e-03,\n",
       "        2.44047754e-02,  1.39107425e-02,  2.32929606e-02,  1.72059145e-02,\n",
       "        1.40082380e-02,  2.42114393e-03,  2.37087458e-02,  1.01528792e-02,\n",
       "        2.68391799e-02, -5.12562227e-03,  1.25188809e-02,  1.54572036e-02,\n",
       "       -8.44397862e-03,  1.00419531e-02, -6.98454864e-03,  3.91673204e-03,\n",
       "        3.16716265e-03, -1.15822162e-02,  8.90904665e-03,  1.09167937e-02,\n",
       "        2.23749280e-02,  2.21968643e-04,  1.95232425e-02,  1.31720416e-02,\n",
       "        1.60540733e-02, -1.40996389e-02,  2.00538561e-02, -1.47780851e-02,\n",
       "        1.79427909e-03, -1.02542322e-02,  1.52554773e-02, -5.06960554e-03,\n",
       "        1.21418927e-02,  8.90123993e-05,  4.07998962e-03, -3.13437311e-03,\n",
       "        2.57951627e-03,  1.26045598e-02, -9.89388302e-03, -3.62097868e-03,\n",
       "        2.39234394e-03,  1.66985579e-02,  2.00691782e-02, -7.11701345e-03,\n",
       "        5.49980253e-03,  1.59708806e-03,  9.48011118e-04, -1.07032126e-02,\n",
       "        9.13183670e-03,  1.80011131e-02, -1.43970782e-02, -1.86741201e-03,\n",
       "        1.61549076e-02,  1.33695025e-02,  9.88075603e-03,  2.57701743e-02,\n",
       "        5.05485013e-03,  6.09228387e-03,  1.51322770e-03,  1.96924191e-02,\n",
       "        1.00366038e-03,  6.39468106e-03,  1.44991269e-02,  2.87965536e-02,\n",
       "        8.79873149e-03,  1.78912543e-02,  8.33967514e-03,  1.10253030e-02,\n",
       "        1.24416789e-02,  1.20209297e-02, -1.48061393e-02,  8.98355059e-03,\n",
       "        1.28015131e-02, -9.85873211e-03, -2.47167842e-03,  2.26745959e-02,\n",
       "        1.55376652e-02, -2.34396216e-02,  1.65164322e-02,  1.61087941e-02,\n",
       "        6.25500362e-03,  1.14510460e-02, -5.07515995e-03,  4.41441836e-04,\n",
       "       -1.03196939e-02,  4.53742367e-04, -1.55446446e-02, -1.26803871e-02,\n",
       "        3.13315094e-02,  5.16182452e-04, -4.85435390e-04, -1.63110290e-02,\n",
       "        1.47722359e-03,  5.40409517e-03,  3.38420039e-03, -2.22824197e-02,\n",
       "       -6.43067295e-03, -1.87647641e-02, -2.53762361e-02, -5.28574130e-03,\n",
       "        2.44595204e-02,  8.67977447e-04,  5.57649124e-04,  7.78383203e-03,\n",
       "        1.81665886e-02,  1.67308245e-02,  1.09729869e-02,  9.44135594e-04,\n",
       "       -9.40614473e-03,  2.86177937e-02, -3.17240087e-03,  3.98756051e-03,\n",
       "       -1.20459143e-02,  1.94151662e-02,  3.19963577e-03,  2.67300159e-02,\n",
       "        1.17431004e-02, -2.05397815e-03,  1.05286399e-02, -8.06405116e-03,\n",
       "       -3.05930208e-02, -3.60317552e-03, -1.48243560e-02,  8.16725567e-03,\n",
       "        1.29901487e-02,  1.66005734e-02,  4.57908586e-03,  8.90392996e-03,\n",
       "        1.71774998e-03,  1.81785282e-02, -2.19977610e-02,  1.10880211e-02,\n",
       "        6.48796698e-03,  3.84496571e-03,  4.28782031e-03, -6.73432229e-03,\n",
       "       -7.89298397e-03,  5.88748371e-03, -1.70637090e-02,  9.02146939e-03,\n",
       "       -1.11002065e-02,  1.24970358e-03,  1.36697423e-02,  8.64581484e-03,\n",
       "       -6.06138119e-03, -1.30555993e-02, -1.78606971e-03,  3.24457437e-02,\n",
       "        1.79337952e-02,  8.24523158e-03,  7.73074012e-03,  2.09079050e-02,\n",
       "       -1.08667733e-02,  2.29874849e-02,  1.43148452e-02, -1.77595355e-02,\n",
       "        4.26408090e-03,  1.98970418e-02, -1.07146520e-02,  1.91056486e-02,\n",
       "        5.85414795e-03,  2.42619705e-03, -1.31091066e-02,  2.22104844e-02,\n",
       "        5.67592727e-03, -9.81212128e-03, -1.20785516e-02,  1.01981405e-02,\n",
       "        3.90924886e-03, -3.66920163e-03,  4.06855019e-03,  1.14848847e-02,\n",
       "       -1.10222474e-02,  2.30638515e-02,  2.00411491e-02, -1.75196994e-02,\n",
       "        2.17362195e-02,  3.01673915e-02,  1.51670552e-04,  1.66058615e-02,\n",
       "        1.97282396e-02,  1.23993065e-02,  2.81981993e-02, -2.04858575e-02,\n",
       "       -1.06590418e-02, -7.64897186e-03,  3.53787653e-03,  6.46996265e-03,\n",
       "        1.07577974e-02, -6.40698895e-03,  1.71454400e-02,  1.49050755e-02,\n",
       "       -2.95725726e-02,  1.39320483e-02,  4.29364853e-03,  1.26360040e-02,\n",
       "        8.99734721e-03,  1.34400232e-02,  1.46815116e-02,  1.64151043e-02,\n",
       "        6.63426332e-03,  8.98355339e-03, -3.47159943e-03,  1.41058853e-02,\n",
       "        1.88150350e-02,  9.98697523e-03,  1.38251367e-03,  7.12811993e-03,\n",
       "       -2.70600361e-03,  1.28777145e-04,  5.82248531e-03,  5.87861892e-03,\n",
       "        2.48053204e-02,  8.08578450e-03,  1.09928530e-02,  1.21251643e-02,\n",
       "        2.80540064e-03, -4.47014719e-03,  6.34441385e-03, -8.57717078e-03,\n",
       "        8.35631508e-03,  5.77150844e-03,  1.41949011e-02,  2.59079989e-02,\n",
       "        1.23356329e-03,  7.94963539e-03,  2.24319957e-02,  2.12393841e-03,\n",
       "        9.28312261e-03,  1.45863798e-02,  1.23017915e-02,  9.21531115e-03,\n",
       "        2.58570109e-02, -1.60563318e-03, -3.88199324e-03, -3.40826390e-03,\n",
       "        2.10789647e-02,  5.67574752e-03, -1.66193750e-02, -2.51773298e-02,\n",
       "       -1.62545033e-03, -1.75167713e-03,  1.49796763e-02, -3.28601873e-03,\n",
       "        6.58091716e-03, -1.66896486e-03, -4.63672820e-03,  8.06669937e-04,\n",
       "        1.06141763e-02,  2.09554955e-02, -1.70479994e-02, -1.78239279e-04],\n",
       "      dtype=float32)"
      ]
     },
     "execution_count": 27,
     "metadata": {},
     "output_type": "execute_result"
    }
   ],
   "source": [
    "aladdin_vector"
   ]
  },
  {
   "cell_type": "code",
   "execution_count": 28,
   "metadata": {},
   "outputs": [
    {
     "data": {
      "text/plain": [
       "0.7066561"
      ]
     },
     "execution_count": 28,
     "metadata": {},
     "output_type": "execute_result"
    }
   ],
   "source": [
    "np.dot(ethan_vector, aladdin_vector)"
   ]
  },
  {
   "cell_type": "markdown",
   "metadata": {},
   "source": [
    "**기존에 선호한다고 골랐던 영화와의 내적값이 0.709687로 나름 의미있게 내적값이 나왔다고 판단됩니다.**\n",
    "\n",
    "### 7) 내가 좋아하는 영화와 비슷한 영화를 추천받기."
   ]
  },
  {
   "cell_type": "code",
   "execution_count": 29,
   "metadata": {},
   "outputs": [],
   "source": [
    "# 객체 : 인덱스번호 순으로 되어있던것을 인덱스번호 : 객체순으로 변경\n",
    "idx_to_movie = {v:k for k,v in movie_to_idx.items()}"
   ]
  },
  {
   "cell_type": "code",
   "execution_count": 32,
   "metadata": {},
   "outputs": [],
   "source": [
    "def get_similar_movie(movie_title: str):\n",
    "    movie_id = movie_to_idx[movie_title]\n",
    "    similar_movie = als_model.similar_items(movie_id)\n",
    "    similar_movie = [idx_to_movie[i[0]] for i in similar_movie]\n",
    "    return similar_movie"
   ]
  },
  {
   "cell_type": "markdown",
   "metadata": {},
   "source": [
    "**위에서 선언했던 my_favorite리스트를 활용하여 내가 좋아하는 영화와 비슷한 영화를 추천받겠습니다.  \n",
    "my_favorite = ['Home Alone (1990)' , 'Snow White and the Seven Dwarfs (1937)' ,'Aladdin (1992)' ,'Pinocchio (1940)' ,'Beauty and the Beast (1991)']**"
   ]
  },
  {
   "cell_type": "code",
   "execution_count": 41,
   "metadata": {},
   "outputs": [
    {
     "data": {
      "text/plain": [
       "['Home Alone (1990)',\n",
       " 'Home Alone 2: Lost in New York (1992)',\n",
       " 'Mighty Ducks, The (1992)',\n",
       " 'D2: The Mighty Ducks (1994)',\n",
       " 'Home Alone 3 (1997)',\n",
       " 'Flintstones, The (1994)',\n",
       " '101 Dalmatians (1996)',\n",
       " 'Big Green, The (1995)',\n",
       " 'D3: The Mighty Ducks (1996)',\n",
       " 'Angels in the Outfield (1994)']"
      ]
     },
     "execution_count": 41,
     "metadata": {},
     "output_type": "execute_result"
    }
   ],
   "source": [
    "get_similar_movie(my_favorite[0])"
   ]
  },
  {
   "cell_type": "code",
   "execution_count": 42,
   "metadata": {},
   "outputs": [
    {
     "data": {
      "text/plain": [
       "['Snow White and the Seven Dwarfs (1937)',\n",
       " 'Dumbo (1941)',\n",
       " 'Cinderella (1950)',\n",
       " 'Pinocchio (1940)',\n",
       " 'Sleeping Beauty (1959)',\n",
       " 'Peter Pan (1953)',\n",
       " 'Bambi (1942)',\n",
       " 'Alice in Wonderland (1951)',\n",
       " 'Fantasia (1940)',\n",
       " 'Jungle Book, The (1967)']"
      ]
     },
     "execution_count": 42,
     "metadata": {},
     "output_type": "execute_result"
    }
   ],
   "source": [
    "get_similar_movie(my_favorite[1])"
   ]
  },
  {
   "cell_type": "code",
   "execution_count": 43,
   "metadata": {},
   "outputs": [
    {
     "data": {
      "text/plain": [
       "['Aladdin (1992)',\n",
       " 'Beauty and the Beast (1991)',\n",
       " 'Lion King, The (1994)',\n",
       " 'Little Mermaid, The (1989)',\n",
       " 'Anastasia (1997)',\n",
       " 'Mulan (1998)',\n",
       " 'Hunchback of Notre Dame, The (1996)',\n",
       " 'Mass Appeal (1984)',\n",
       " 'Man of the Century (1999)',\n",
       " \"Airport '77 (1977)\"]"
      ]
     },
     "execution_count": 43,
     "metadata": {},
     "output_type": "execute_result"
    }
   ],
   "source": [
    "get_similar_movie(my_favorite[2])"
   ]
  },
  {
   "cell_type": "code",
   "execution_count": 44,
   "metadata": {},
   "outputs": [
    {
     "data": {
      "text/plain": [
       "['Pinocchio (1940)',\n",
       " 'Bambi (1942)',\n",
       " 'Dumbo (1941)',\n",
       " 'Snow White and the Seven Dwarfs (1937)',\n",
       " 'Cinderella (1950)',\n",
       " 'Sleeping Beauty (1959)',\n",
       " 'Sword in the Stone, The (1963)',\n",
       " 'Robin Hood (1973)',\n",
       " 'Peter Pan (1953)',\n",
       " '101 Dalmatians (1961)']"
      ]
     },
     "execution_count": 44,
     "metadata": {},
     "output_type": "execute_result"
    }
   ],
   "source": [
    "get_similar_movie(my_favorite[3])"
   ]
  },
  {
   "cell_type": "markdown",
   "metadata": {},
   "source": [
    "### 8) 내가 가장 좋아할 만한 영화들을 추천받아보기."
   ]
  },
  {
   "cell_type": "code",
   "execution_count": 45,
   "metadata": {},
   "outputs": [
    {
     "data": {
      "text/plain": [
       "[(330, 0.5303469),\n",
       " (17, 0.41167593),\n",
       " (37, 0.3631115),\n",
       " (46, 0.3452391),\n",
       " (191, 0.33034673),\n",
       " (548, 0.31833413),\n",
       " (572, 0.28238276),\n",
       " (551, 0.2614317),\n",
       " (536, 0.24259107),\n",
       " (45, 0.24067038),\n",
       " (40, 0.2368128),\n",
       " (950, 0.22810069),\n",
       " (619, 0.22366321),\n",
       " (34, 0.22261836),\n",
       " (520, 0.21154492),\n",
       " (547, 0.20672047),\n",
       " (559, 0.1587121),\n",
       " (284, 0.1548994),\n",
       " (16, 0.14901704),\n",
       " (936, 0.13937679)]"
      ]
     },
     "execution_count": 45,
     "metadata": {},
     "output_type": "execute_result"
    }
   ],
   "source": [
    "# user를 기반으로 내적값을 구해 높은 순서대로 20개를 리스트화 합니다.\n",
    "user = user_to_idx['ethan']\n",
    "movie_recommended = als_model.recommend(user, csr_data, N=20, filter_already_liked_items=True)\n",
    "movie_recommended"
   ]
  },
  {
   "cell_type": "code",
   "execution_count": 46,
   "metadata": {},
   "outputs": [
    {
     "data": {
      "text/plain": [
       "['Lion King, The (1994)',\n",
       " 'Bambi (1942)',\n",
       " 'Cinderella (1950)',\n",
       " 'Dumbo (1941)',\n",
       " 'Little Mermaid, The (1989)',\n",
       " 'Fantasia (1940)',\n",
       " 'Sleeping Beauty (1959)',\n",
       " 'Peter Pan (1953)',\n",
       " 'Jungle Book, The (1967)',\n",
       " 'Mary Poppins (1964)',\n",
       " 'Toy Story (1995)',\n",
       " '101 Dalmatians (1961)',\n",
       " 'Alice in Wonderland (1951)',\n",
       " 'Mulan (1998)',\n",
       " \"Charlotte's Web (1973)\",\n",
       " 'Lady and the Tramp (1955)',\n",
       " 'Robin Hood (1973)',\n",
       " 'Nightmare Before Christmas, The (1993)',\n",
       " 'Tarzan (1999)',\n",
       " 'Secret of NIMH, The (1982)']"
      ]
     },
     "execution_count": 46,
     "metadata": {},
     "output_type": "execute_result"
    }
   ],
   "source": [
    "# movie_id로 되어있던 값을 movie_title로 바꿔줍니다.\n",
    "[idx_to_movie[i[0]] for i in movie_recommended]"
   ]
  },
  {
   "cell_type": "code",
   "execution_count": 48,
   "metadata": {},
   "outputs": [
    {
     "data": {
      "text/plain": [
       "[('Beauty and the Beast (1991)', 0.23689308431068265),\n",
       " ('Aladdin (1992)', 0.20198531703567701),\n",
       " ('Snow White and the Seven Dwarfs (1937)', 0.06911801841374189),\n",
       " ('Home Alone (1990)', 0.021438585161107478),\n",
       " ('Pinocchio (1940)', -0.0060303075237104434)]"
      ]
     },
     "execution_count": 48,
     "metadata": {},
     "output_type": "execute_result"
    }
   ],
   "source": [
    "# 내가 기록을 남긴 데이터 중에 이 추천에 기여한 정도를 확인합니다\n",
    "Lion_King = movie_to_idx['Lion King, The (1994)']\n",
    "explain = als_model.explain(user, csr_data, itemid=Lion_King)\n",
    "[(idx_to_movie[i[0]], i[1]) for i in explain[1]]"
   ]
  },
  {
   "cell_type": "markdown",
   "metadata": {},
   "source": [
    "### 회고록\n",
    "**벌써 1월이 지나고 2월이 되었다. 정말 정신없이 1월이 지나간 것 같다.  \n",
    "2월에 제출하는 두번째 프로젝트로 만든 영화추천시스템은 생각보다 재밌었다.  \n",
    "물론 재미만 있었던 것은 아니었다. 생각보다 판다스 데이터 프레임을 다루는게 어려웠다.  \n",
    "아직 숙련도가 떨어져서 머릿속에서 이렇게 정리해야지 하는부분이 없는 것 같다.  \n",
    "덕분에 창 한쪽에는 언제나 구글이 켜져있었다.  \n",
    "그래도 하나하나 구글링해가면서 이해하고 적용해보고 그게 생각대로 되었을 때는 짜릿했다.  \n",
    "앞으로 진행하게 될 프로젝트들도 이렇게라도 해결할 수 있기를 바래본다.**  "
   ]
  },
  {
   "cell_type": "code",
   "execution_count": null,
   "metadata": {},
   "outputs": [],
   "source": []
  }
 ],
 "metadata": {
  "kernelspec": {
   "display_name": "Python 3",
   "language": "python",
   "name": "python3"
  },
  "language_info": {
   "codemirror_mode": {
    "name": "ipython",
    "version": 3
   },
   "file_extension": ".py",
   "mimetype": "text/x-python",
   "name": "python",
   "nbconvert_exporter": "python",
   "pygments_lexer": "ipython3",
   "version": "3.7.7"
  }
 },
 "nbformat": 4,
 "nbformat_minor": 4
}
