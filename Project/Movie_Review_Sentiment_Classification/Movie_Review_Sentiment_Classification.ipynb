{
 "cells": [
  {
   "cell_type": "markdown",
   "metadata": {},
   "source": [
    "## Movie_Review_Sentiment_Classification\n",
    "### (영화리뷰 감성분석)\n",
    "\n",
    "***\n",
    "#### 1. 데이터 준비와 확인"
   ]
  },
  {
   "cell_type": "code",
   "execution_count": 3,
   "metadata": {},
   "outputs": [
    {
     "data": {
      "text/html": [
       "<div>\n",
       "<style scoped>\n",
       "    .dataframe tbody tr th:only-of-type {\n",
       "        vertical-align: middle;\n",
       "    }\n",
       "\n",
       "    .dataframe tbody tr th {\n",
       "        vertical-align: top;\n",
       "    }\n",
       "\n",
       "    .dataframe thead th {\n",
       "        text-align: right;\n",
       "    }\n",
       "</style>\n",
       "<table border=\"1\" class=\"dataframe\">\n",
       "  <thead>\n",
       "    <tr style=\"text-align: right;\">\n",
       "      <th></th>\n",
       "      <th>id</th>\n",
       "      <th>document</th>\n",
       "      <th>label</th>\n",
       "    </tr>\n",
       "  </thead>\n",
       "  <tbody>\n",
       "    <tr>\n",
       "      <th>0</th>\n",
       "      <td>9976970</td>\n",
       "      <td>아 더빙.. 진짜 짜증나네요 목소리</td>\n",
       "      <td>0</td>\n",
       "    </tr>\n",
       "    <tr>\n",
       "      <th>1</th>\n",
       "      <td>3819312</td>\n",
       "      <td>흠...포스터보고 초딩영화줄....오버연기조차 가볍지 않구나</td>\n",
       "      <td>1</td>\n",
       "    </tr>\n",
       "    <tr>\n",
       "      <th>2</th>\n",
       "      <td>10265843</td>\n",
       "      <td>너무재밓었다그래서보는것을추천한다</td>\n",
       "      <td>0</td>\n",
       "    </tr>\n",
       "    <tr>\n",
       "      <th>3</th>\n",
       "      <td>9045019</td>\n",
       "      <td>교도소 이야기구먼 ..솔직히 재미는 없다..평점 조정</td>\n",
       "      <td>0</td>\n",
       "    </tr>\n",
       "    <tr>\n",
       "      <th>4</th>\n",
       "      <td>6483659</td>\n",
       "      <td>사이몬페그의 익살스런 연기가 돋보였던 영화!스파이더맨에서 늙어보이기만 했던 커스틴 ...</td>\n",
       "      <td>1</td>\n",
       "    </tr>\n",
       "  </tbody>\n",
       "</table>\n",
       "</div>"
      ],
      "text/plain": [
       "         id                                           document  label\n",
       "0   9976970                                아 더빙.. 진짜 짜증나네요 목소리      0\n",
       "1   3819312                  흠...포스터보고 초딩영화줄....오버연기조차 가볍지 않구나      1\n",
       "2  10265843                                  너무재밓었다그래서보는것을추천한다      0\n",
       "3   9045019                      교도소 이야기구먼 ..솔직히 재미는 없다..평점 조정      0\n",
       "4   6483659  사이몬페그의 익살스런 연기가 돋보였던 영화!스파이더맨에서 늙어보이기만 했던 커스틴 ...      1"
      ]
     },
     "execution_count": 3,
     "metadata": {},
     "output_type": "execute_result"
    }
   ],
   "source": [
    "import pandas as pd\n",
    "import tensorflow as tf\n",
    "import urllib.request\n",
    "%matplotlib inline\n",
    "import matplotlib.pyplot as plt\n",
    "import re\n",
    "from tensorflow import keras\n",
    "from tensorflow.keras.preprocessing.text import Tokenizer\n",
    "import numpy as np\n",
    "from tensorflow.keras.preprocessing.sequence import pad_sequences\n",
    "from collections import Counter\n",
    "\n",
    "# 데이터를 읽어봅시다. \n",
    "train_data = pd.read_table('~/aiffel/sentiment_classification/ratings_train.txt')\n",
    "test_data = pd.read_table('~/aiffel/sentiment_classification/ratings_test.txt')\n",
    "\n",
    "train_data.head()"
   ]
  },
  {
   "cell_type": "markdown",
   "metadata": {},
   "source": [
    "***  \n",
    "#### 2. 데이터로더 구성\n",
    "> **1) 데이터의 중복 제거  \n",
    "2) NaN 결측치 제거  \n",
    "3) 한국어 토크나이저로 토큰화  \n",
    "4) 불용어(Stopwords) 제거  \n",
    "5) 사전word_to_index 구성  \n",
    "6) 텍스트 스트링을 사전 인덱스 스트링으로 변환  \n",
    "7) X_train, y_train, X_test, y_test, word_to_index 리턴**  "
   ]
  },
  {
   "cell_type": "code",
   "execution_count": 4,
   "metadata": {},
   "outputs": [],
   "source": [
    "from konlpy.tag import Mecab\n",
    "tokenizer = Mecab()\n",
    "stopwords = ['의','가','이','은','들','는','좀','잘','걍','과','도','를','으로','자','에','와','한','하다']\n",
    "\n",
    "def load_data(train_data, test_data, num_words=10000):\n",
    "    # [[YOUR CODE]]\n",
    "    # 1-1) 학습데이터의 중복 제거\n",
    "    train_data.drop_duplicates(subset=['document'], inplace=True) # document 열에서 중복인 내용이 있다면 중복 제거\n",
    "#     1-2) 학습데이터에서 NaN 결측치 제거\n",
    "    train_data =train_data.dropna(how='any')\n",
    "    \n",
    "#     2-1) 테스트데이터의 중복 제거\n",
    "    test_data.drop_duplicates(subset=['document'], inplace=True) # document 열에서 중복인 내용이 있다면 중복 제거\n",
    "#     2-2) 테스트데이터의 NaN 결측치 제거\n",
    "    test_data =train_data.dropna(how='any')\n",
    "    \n",
    "#     3-1) 학습데이터 한국어 토크나이저로 토큰화\n",
    "    X_train = []\n",
    "    for sentence in train_data['document']:\n",
    "        # sentence에 있는 문장을 뜻을 가질수 있는 최소단위 '형태소'로 \n",
    "        # 분리해서 토큰으로 가지고 있어줘\n",
    "        temp_X = tokenizer.morphs(sentence) \n",
    "        temp_X = [word for word in temp_X if not word in stopwords] # 불용어(stopwords) 제거\n",
    "        # temp_X의 토큰을 X_train에 넣어줘.\n",
    "        X_train.append(temp_X)\n",
    "\n",
    "#     3-2) 테스트데이터 한국어 토크나이저로 토큰화\n",
    "    X_test = []\n",
    "    for sentence in test_data['document']:\n",
    "        temp_X = tokenizer.morphs(sentence)\n",
    "        temp_X = [word for word in temp_X if not word in stopwords] # 불용어(stopwords) 제거\n",
    "        X_test.append(temp_X)\n",
    "\n",
    "#     5) 사전word_to_index 구성\n",
    "    # np.concatenate(배열) : 해당 배열을 오른쪽에 추가하기\n",
    "    # .tolost() : 앞의 배열을 np.unit이 아닌 list로 바꿔줌\n",
    "    # => words는 X_train의 배열을 가진 list가 됨.\n",
    "    words = np.concatenate(X_train).tolist()\n",
    "    # Counter(words)\n",
    "    # words에서 단어들의 갯수를 세어 {단어1:갯수, 단어2:갯수, ...} 형태의\n",
    "    # 딕셔너리를 형성함.\n",
    "    # ex) words = [가, 나, 가, 다, 나, 가, 라] 일때\n",
    "    # Counter(words)를 하면\n",
    "    # 결과물로 ({가:3, 나:2, 다:1, 라:1})의 형태임.\n",
    "    counter = Counter(words)\n",
    "    # counter.most_common(10000-4)\n",
    "    # conter에서 가장 많이 사용된 단어를 [(단어1, 횟수),(단어2, 횟수), ...]의 형태로\n",
    "    # 정렬하여 가장 많이 나온 횟수부터 가장 적게나온 횟수 순으로 (10000-4)개를 정렬해준다.\n",
    "    counter = counter.most_common(10000-4)\n",
    "    # vocab은 counter에 ['<PAD>', '<BOS>', '<UNK>', '<UNUSED>']를 \n",
    "    # 각각 key로서 넣는데 할당되지 않는 부분에서 넣는다.\n",
    "    vocab = ['<PAD>', '<BOS>', '<UNK>', '<UNUSED>'] + [key for key, _ in counter]\n",
    "    # 인덱스 : 단어로 되어있는 부분을 단어 : 인덱스번호 형식으로 바꿔준다.\n",
    "    word_to_index = {word:index for index, word in enumerate(vocab)}\n",
    "\n",
    "#     6) 텍스트 스트링을 사전 인덱스 스트링으로 변환  \n",
    "    def wordlist_to_indexlist(wordlist):\n",
    "        return [word_to_index[word] if word in word_to_index else word_to_index['<UNK>'] for word in wordlist]\n",
    "\n",
    "    # map() 함수는 for문과 같은 반복문을 사용하지 않아도 \n",
    "    # 지정한 함수로 인자를 여러번 전달해 그 결과를 list 형태로 \n",
    "    # 뽑아 주는 유용한 함수이다.\n",
    "    X_train = list(map(wordlist_to_indexlist, X_train))\n",
    "    X_test = list(map(wordlist_to_indexlist, X_test))\n",
    "\n",
    "#     7) X_train, y_train, X_test, y_test, word_to_index 리턴\n",
    "    return X_train, np.array(list(train_data['label'])), X_test, np.array(list(test_data['label'])), word_to_index\n",
    "\n",
    "\n",
    "    \n",
    "X_train, y_train, X_test, y_test, word_to_index = load_data(train_data, test_data)"
   ]
  },
  {
   "cell_type": "code",
   "execution_count": 5,
   "metadata": {},
   "outputs": [
    {
     "name": "stdout",
     "output_type": "stream",
     "text": [
      "학습용 리뷰 개수 : 146183\n",
      "테스트용 리뷰 개수 : 49158\n"
     ]
    }
   ],
   "source": [
    "# 데이터의 갯수 확인\n",
    "print('학습용 리뷰 개수 :',len(train_data))\n",
    "print('테스트용 리뷰 개수 :',len(test_data))"
   ]
  },
  {
   "cell_type": "code",
   "execution_count": 6,
   "metadata": {},
   "outputs": [],
   "source": [
    "index_to_word = {index:word for word, index in word_to_index.items()}\n",
    "# 인덱스 : 단어 형태로 바꾸어준다."
   ]
  },
  {
   "cell_type": "code",
   "execution_count": 7,
   "metadata": {},
   "outputs": [],
   "source": [
    "# 문장 1개를 활용할 딕셔너리와 함께 주었을 경우, \n",
    "# 단어 인덱스 리스트 벡터로 변환해 주는 함수 \n",
    "# 단, 모든 문장은 <BOS>로 시작하는 것으로 합니다. \n",
    "def get_encoded_sentence(sentence, word_to_index):\n",
    "    return [word_to_index['<BOS>']]+[word_to_index[word] if word in word_to_index else word_to_index['<UNK>'] for word in sentence.split()]\n",
    "\n",
    "# 여러 개의 문장 리스트를 한꺼번에 단어 인덱스 리스트 벡터로\n",
    "# encode해 주는 함수 \n",
    "def get_encoded_sentences(sentences, word_to_index):\n",
    "    return [get_encoded_sentence(sentence, word_to_index) for sentence in sentences]\n",
    "\n",
    "# 숫자 벡터로 encode된 문장을 원래대로 \n",
    "# decode하는 함수 \n",
    "def get_decoded_sentence(encoded_sentence, index_to_word):\n",
    "    return ' '.join(index_to_word[index] if index in index_to_word else '<UNK>' for index in encoded_sentence[1:])  #[1:]를 통해 <BOS>를 제외\n",
    "\n",
    "# 여러개의 숫자 벡터로 encode된 문장을 \n",
    "# 한꺼번에 원래대로 decode하는 함수 \n",
    "def get_decoded_sentences(encoded_sentences, index_to_word):\n",
    "    return [get_decoded_sentence(encoded_sentence, index_to_word) for encoded_sentence in encoded_sentences]"
   ]
  },
  {
   "cell_type": "markdown",
   "metadata": {},
   "source": [
    "#### **3. 모델구성을 위한 데이터 분석 및 가공**\n",
    "> **1) 데이터셋 내 문장 길이 분포  \n",
    "> 2) 적절한 최대 문장 길이 지정  \n",
    "> 3) keras.preprocessing.sequence.pad_sequences 을 활용한 패딩 추가**\n"
   ]
  },
  {
   "cell_type": "markdown",
   "metadata": {},
   "source": [
    "**1) 데이터셋 내 문장 길이 분포**"
   ]
  },
  {
   "cell_type": "code",
   "execution_count": 8,
   "metadata": {},
   "outputs": [
    {
     "name": "stdout",
     "output_type": "stream",
     "text": [
      "문장길이 평균 :  15.951608269143945\n",
      "문장길이 최대 :  116\n",
      "문장길이 표준편차 :  12.816614147489716\n"
     ]
    }
   ],
   "source": [
    "total_data_text = list(X_train) + list(X_test)\n",
    "# 텍스트데이터 문장길이의 리스트를 생성한 후\n",
    "num_tokens = [len(tokens) for tokens in total_data_text]\n",
    "num_tokens = np.array(num_tokens)\n",
    "# 문장길이, 최대길이, 표준편차 확인\n",
    "print('문장길이 평균 : ', np.mean(num_tokens))\n",
    "print('문장길이 최대 : ', np.max(num_tokens))\n",
    "print('문장길이 표준편차 : ', np.std(num_tokens))"
   ]
  },
  {
   "cell_type": "markdown",
   "metadata": {},
   "source": [
    "**2) 적절한 최대 문장 길이 지정**"
   ]
  },
  {
   "cell_type": "code",
   "execution_count": 9,
   "metadata": {},
   "outputs": [
    {
     "name": "stdout",
     "output_type": "stream",
     "text": [
      "pad_sequences maxlen :  54\n",
      "전체 문장의 0.9721306316783188%가 maxlen 설정값 이내에 포함됩니다. \n"
     ]
    }
   ],
   "source": [
    "max_tokens = np.mean(num_tokens) + 3*np.std(num_tokens)\n",
    "maxlen = int(max_tokens)\n",
    "print('pad_sequences maxlen : ', maxlen)\n",
    "print('전체 문장의 {}%가 maxlen 설정값 이내에 포함됩니다. '.format(np.sum(num_tokens < max_tokens) / len(num_tokens)))\n",
    "# 전체문장의 약 97%가 포함되도럭 설정"
   ]
  },
  {
   "cell_type": "markdown",
   "metadata": {},
   "source": [
    "**3) keras.preprocessing.sequence.pad_sequences 을 활용한 패딩 추가**"
   ]
  },
  {
   "cell_type": "code",
   "execution_count": 10,
   "metadata": {},
   "outputs": [
    {
     "name": "stdout",
     "output_type": "stream",
     "text": [
      "(146182, 54)\n"
     ]
    }
   ],
   "source": [
    "X_train = keras.preprocessing.sequence.pad_sequences(X_train, padding='pre', \n",
    "                                                        maxlen=maxlen)\n",
    "# PAD를 앞쪽에 배치하여야 소실되어도 학습이 잘 됨.\n",
    "\n",
    "X_test = keras.preprocessing.sequence.pad_sequences(X_test,\n",
    "                                                       value=word_to_index[\"<PAD>\"],\n",
    "                                                       padding='pre', # 혹은 'pre'\n",
    "                                                       maxlen=maxlen)\n",
    "\n",
    "print(X_train.shape)"
   ]
  },
  {
   "cell_type": "markdown",
   "metadata": {},
   "source": [
    "***\n",
    "#### 4. 모델구성 및 validation set 구성\n",
    "> **1) 1-D Convolution Neural Network(1-D CNN)  \n",
    "> 2) GlobalMaxPooling1D()  \n",
    "> 3) RNN  \n",
    "> 4) 1-D CNN + RNN   \n",
    "> 5) Validation set구성**\n",
    "***\n",
    "**1) 1-D Convolution Neural Network(1-D CNN)** "
   ]
  },
  {
   "cell_type": "code",
   "execution_count": 11,
   "metadata": {},
   "outputs": [
    {
     "name": "stdout",
     "output_type": "stream",
     "text": [
      "Model: \"sequential\"\n",
      "_________________________________________________________________\n",
      "Layer (type)                 Output Shape              Param #   \n",
      "=================================================================\n",
      "embedding (Embedding)        (None, None, 64)          640000    \n",
      "_________________________________________________________________\n",
      "conv1d (Conv1D)              (None, None, 16)          7184      \n",
      "_________________________________________________________________\n",
      "max_pooling1d (MaxPooling1D) (None, None, 16)          0         \n",
      "_________________________________________________________________\n",
      "conv1d_1 (Conv1D)            (None, None, 16)          1808      \n",
      "_________________________________________________________________\n",
      "global_max_pooling1d (Global (None, 16)                0         \n",
      "_________________________________________________________________\n",
      "dense (Dense)                (None, 8)                 136       \n",
      "_________________________________________________________________\n",
      "dense_1 (Dense)              (None, 1)                 9         \n",
      "=================================================================\n",
      "Total params: 649,137\n",
      "Trainable params: 649,137\n",
      "Non-trainable params: 0\n",
      "_________________________________________________________________\n"
     ]
    }
   ],
   "source": [
    "vocab_size = 10000  # 어휘 사전의 크기입니다(10개의 단어)\n",
    "word_vector_dim = 64   # 단어 하나를 표현하는 임베딩 벡터의 차원수입니다. \n",
    "\n",
    "model1 = keras.Sequential()\n",
    "model1.add(keras.layers.Embedding(vocab_size, word_vector_dim, input_shape=(None,)))\n",
    "model1.add(keras.layers.Conv1D(16, 7, activation='relu'))\n",
    "model1.add(keras.layers.MaxPooling1D(5))\n",
    "model1.add(keras.layers.Conv1D(16, 7, activation='relu'))\n",
    "model1.add(keras.layers.GlobalMaxPooling1D())\n",
    "model1.add(keras.layers.Dense(8, activation='relu'))\n",
    "model1.add(keras.layers.Dense(1, activation='sigmoid'))  # 최종 출력은 긍정/부정을 나타내는 1dim 입니다.\n",
    "\n",
    "model1.summary()"
   ]
  },
  {
   "cell_type": "markdown",
   "metadata": {},
   "source": [
    "**2) GlobalMaxPooling1D()**"
   ]
  },
  {
   "cell_type": "code",
   "execution_count": 12,
   "metadata": {},
   "outputs": [
    {
     "name": "stdout",
     "output_type": "stream",
     "text": [
      "Model: \"sequential_1\"\n",
      "_________________________________________________________________\n",
      "Layer (type)                 Output Shape              Param #   \n",
      "=================================================================\n",
      "embedding_1 (Embedding)      (None, None, 64)          640000    \n",
      "_________________________________________________________________\n",
      "global_max_pooling1d_1 (Glob (None, 64)                0         \n",
      "_________________________________________________________________\n",
      "dense_2 (Dense)              (None, 8)                 520       \n",
      "_________________________________________________________________\n",
      "dense_3 (Dense)              (None, 1)                 9         \n",
      "=================================================================\n",
      "Total params: 640,529\n",
      "Trainable params: 640,529\n",
      "Non-trainable params: 0\n",
      "_________________________________________________________________\n"
     ]
    }
   ],
   "source": [
    "vocab_size = 10000  # 어휘 사전의 크기\n",
    "word_vector_dim = 64   # 단어 하나를 표현하는 임베딩 벡터의 차원수\n",
    "\n",
    "model2 = keras.Sequential()\n",
    "model2.add(keras.layers.Embedding(vocab_size, word_vector_dim, input_shape=(None,)))\n",
    "model2.add(keras.layers.GlobalMaxPooling1D())\n",
    "model2.add(keras.layers.Dense(8, activation='relu'))\n",
    "model2.add(keras.layers.Dense(1, activation='sigmoid'))  # 최종 출력은 긍정/부정을 나타내는 1dim 입니다.\n",
    "\n",
    "model2.summary()"
   ]
  },
  {
   "cell_type": "markdown",
   "metadata": {},
   "source": [
    "**3) RNN**"
   ]
  },
  {
   "cell_type": "code",
   "execution_count": 230,
   "metadata": {},
   "outputs": [
    {
     "name": "stdout",
     "output_type": "stream",
     "text": [
      "Model: \"sequential_21\"\n",
      "_________________________________________________________________\n",
      "Layer (type)                 Output Shape              Param #   \n",
      "=================================================================\n",
      "embedding_22 (Embedding)     (None, None, 64)          640000    \n",
      "_________________________________________________________________\n",
      "lstm_8 (LSTM)                (None, 8)                 2336      \n",
      "_________________________________________________________________\n",
      "dense_40 (Dense)             (None, 8)                 72        \n",
      "_________________________________________________________________\n",
      "dense_41 (Dense)             (None, 1)                 9         \n",
      "=================================================================\n",
      "Total params: 642,417\n",
      "Trainable params: 642,417\n",
      "Non-trainable params: 0\n",
      "_________________________________________________________________\n"
     ]
    }
   ],
   "source": [
    "vocab_size = 10000  # 어휘 사전의 크기\n",
    "word_vector_dim = 64  # 단어 하나를 표현하는 임베딩 벡터의 차원수\n",
    "\n",
    "model3 = keras.Sequential()\n",
    "model3.add(keras.layers.Embedding(vocab_size, word_vector_dim, input_shape=(None,)))\n",
    "model3.add(keras.layers.LSTM(8))   # 가장 널리 쓰이는 RNN인 LSTM 레이어를 사용하였습니다. 이때 LSTM state 벡터의 차원수는 8로 하였습니다. (변경가능)\n",
    "model3.add(keras.layers.Dense(8, activation='relu'))\n",
    "model3.add(keras.layers.Dense(1, activation='sigmoid'))  # 최종 출력은 긍정/부정을 나타내는 1dim 입니다.\n",
    "\n",
    "model3.summary()"
   ]
  },
  {
   "cell_type": "markdown",
   "metadata": {},
   "source": [
    "**4) 1-D CNN + RNN**"
   ]
  },
  {
   "cell_type": "code",
   "execution_count": 231,
   "metadata": {},
   "outputs": [
    {
     "name": "stdout",
     "output_type": "stream",
     "text": [
      "Model: \"sequential_21\"\n",
      "_________________________________________________________________\n",
      "Layer (type)                 Output Shape              Param #   \n",
      "=================================================================\n",
      "embedding_22 (Embedding)     (None, None, 64)          640000    \n",
      "_________________________________________________________________\n",
      "lstm_8 (LSTM)                (None, 8)                 2336      \n",
      "_________________________________________________________________\n",
      "dense_40 (Dense)             (None, 8)                 72        \n",
      "_________________________________________________________________\n",
      "dense_41 (Dense)             (None, 1)                 9         \n",
      "=================================================================\n",
      "Total params: 642,417\n",
      "Trainable params: 642,417\n",
      "Non-trainable params: 0\n",
      "_________________________________________________________________\n"
     ]
    }
   ],
   "source": [
    "vocab_size = 10000  # 어휘 사전의 크기\n",
    "word_vector_dim = 64  # 단어 하나를 표현하는 임베딩 벡터의 차원수\n",
    "\n",
    "model4 = keras.Sequential()\n",
    "model4.add(keras.layers.Embedding(vocab_size, word_vector_dim, input_shape=(None,)))\n",
    "model4.add(keras.layers.Conv1D(16, 7, activation='relu'))\n",
    "model4.add(keras.layers.MaxPooling1D(5))\n",
    "model4.add(keras.layers.LSTM(8))   # 가장 널리 쓰이는 RNN인 LSTM 레이어를 사용하였습니다. 이때 LSTM state 벡터의 차원수는 8로 하였습니다. (변경가능)\n",
    "model4.add(keras.layers.Dense(8, activation='relu'))\n",
    "model4.add(keras.layers.Dense(1, activation='sigmoid'))  # 최종 출력은 긍정/부정을 나타내는 1dim 입니다.\n",
    "\n",
    "model3.summary()"
   ]
  },
  {
   "cell_type": "markdown",
   "metadata": {},
   "source": [
    "**5) Validation set구성**"
   ]
  },
  {
   "cell_type": "code",
   "execution_count": 232,
   "metadata": {},
   "outputs": [
    {
     "name": "stdout",
     "output_type": "stream",
     "text": [
      "(118182, 54)\n",
      "(118182,)\n"
     ]
    }
   ],
   "source": [
    "# validation set 20000건 분리\n",
    "X_val = X_train[:28000]   \n",
    "y_val = y_train[:28000]\n",
    "\n",
    "# validation set을 제외한 나머지 126182건\n",
    "partial_X_train = X_train[28000:]  \n",
    "partial_y_train = y_train[28000:]\n",
    "\n",
    "print(partial_X_train.shape)\n",
    "print(partial_y_train.shape)"
   ]
  },
  {
   "cell_type": "markdown",
   "metadata": {},
   "source": [
    "#### 5. 모델 훈련 개시\n",
    "***\n",
    "**1) 1-D Convolution Neural Network(1-D CNN)** "
   ]
  },
  {
   "cell_type": "code",
   "execution_count": 233,
   "metadata": {},
   "outputs": [
    {
     "name": "stdout",
     "output_type": "stream",
     "text": [
      "Epoch 1/20\n",
      "231/231 [==============================] - 3s 13ms/step - loss: 0.5472 - accuracy: 0.6998 - val_loss: 0.4330 - val_accuracy: 0.7879\n",
      "Epoch 2/20\n",
      "231/231 [==============================] - 3s 13ms/step - loss: 0.3967 - accuracy: 0.8133 - val_loss: 0.4180 - val_accuracy: 0.7980\n",
      "Epoch 3/20\n",
      "231/231 [==============================] - 3s 12ms/step - loss: 0.3530 - accuracy: 0.8368 - val_loss: 0.4231 - val_accuracy: 0.7949\n",
      "Epoch 4/20\n",
      "231/231 [==============================] - 3s 12ms/step - loss: 0.3071 - accuracy: 0.8622 - val_loss: 0.4427 - val_accuracy: 0.7948\n",
      "Epoch 5/20\n",
      "231/231 [==============================] - 3s 12ms/step - loss: 0.2534 - accuracy: 0.8895 - val_loss: 0.4805 - val_accuracy: 0.7913\n",
      "Epoch 6/20\n",
      "231/231 [==============================] - 3s 12ms/step - loss: 0.2033 - accuracy: 0.9124 - val_loss: 0.5381 - val_accuracy: 0.7860\n",
      "Epoch 7/20\n",
      "231/231 [==============================] - 3s 12ms/step - loss: 0.1644 - accuracy: 0.9273 - val_loss: 0.6093 - val_accuracy: 0.7818\n",
      "Epoch 8/20\n",
      "231/231 [==============================] - 3s 12ms/step - loss: 0.1370 - accuracy: 0.9383 - val_loss: 0.6855 - val_accuracy: 0.7748\n",
      "Epoch 9/20\n",
      "231/231 [==============================] - 3s 13ms/step - loss: 0.1185 - accuracy: 0.9447 - val_loss: 0.7476 - val_accuracy: 0.7764\n",
      "Epoch 10/20\n",
      "231/231 [==============================] - 3s 12ms/step - loss: 0.1056 - accuracy: 0.9499 - val_loss: 0.8319 - val_accuracy: 0.7750\n",
      "Epoch 11/20\n",
      "231/231 [==============================] - 3s 12ms/step - loss: 0.0969 - accuracy: 0.9526 - val_loss: 0.8969 - val_accuracy: 0.7721\n",
      "Epoch 12/20\n",
      "231/231 [==============================] - 3s 12ms/step - loss: 0.0894 - accuracy: 0.9554 - val_loss: 0.9579 - val_accuracy: 0.7731\n",
      "Epoch 13/20\n",
      "231/231 [==============================] - 3s 12ms/step - loss: 0.0835 - accuracy: 0.9575 - val_loss: 1.0400 - val_accuracy: 0.7689\n",
      "Epoch 14/20\n",
      "231/231 [==============================] - 3s 12ms/step - loss: 0.0811 - accuracy: 0.9584 - val_loss: 1.1230 - val_accuracy: 0.7691\n",
      "Epoch 15/20\n",
      "231/231 [==============================] - 3s 12ms/step - loss: 0.0782 - accuracy: 0.9594 - val_loss: 1.1683 - val_accuracy: 0.7667\n",
      "Epoch 16/20\n",
      "231/231 [==============================] - 3s 12ms/step - loss: 0.0764 - accuracy: 0.9593 - val_loss: 1.2046 - val_accuracy: 0.7648\n",
      "Epoch 17/20\n",
      "231/231 [==============================] - 3s 13ms/step - loss: 0.0746 - accuracy: 0.9602 - val_loss: 1.2804 - val_accuracy: 0.7681\n",
      "Epoch 18/20\n",
      "231/231 [==============================] - 3s 12ms/step - loss: 0.0751 - accuracy: 0.9601 - val_loss: 1.3240 - val_accuracy: 0.7687\n",
      "Epoch 19/20\n",
      "231/231 [==============================] - 3s 12ms/step - loss: 0.0741 - accuracy: 0.9603 - val_loss: 1.3753 - val_accuracy: 0.7637\n",
      "Epoch 20/20\n",
      "231/231 [==============================] - 3s 12ms/step - loss: 0.0723 - accuracy: 0.9607 - val_loss: 1.3859 - val_accuracy: 0.7676\n",
      "4569/4569 - 15s - loss: 0.3184 - accuracy: 0.9265\n",
      "[0.31840360164642334, 0.9264888763427734]\n"
     ]
    }
   ],
   "source": [
    "model1.compile(optimizer='adam',\n",
    "              loss='binary_crossentropy',\n",
    "              metrics=['accuracy'])\n",
    "              \n",
    "epochs=20 # 몇 epoch를 훈련하면 좋을지 결과를 보면서 바꾸어 봅시다. \n",
    "\n",
    "history1 = model1.fit(partial_X_train,\n",
    "                    partial_y_train,\n",
    "                    epochs=epochs,\n",
    "                    batch_size=512,\n",
    "                    validation_data=(X_val, y_val),\n",
    "                    verbose=1)\n",
    "\n",
    "results = model1.evaluate(X_test,  y_test, verbose=2)\n",
    "\n",
    "print(results)"
   ]
  },
  {
   "cell_type": "markdown",
   "metadata": {},
   "source": [
    "**1) 1-D Convolution Neural Network(1-D CNN)  \n",
    "accuracy : 0.9265 // loss : 0.3184** \n",
    "***\n",
    "**2) GlobalMaxPooling1D()**"
   ]
  },
  {
   "cell_type": "code",
   "execution_count": 234,
   "metadata": {},
   "outputs": [
    {
     "name": "stdout",
     "output_type": "stream",
     "text": [
      "Epoch 1/20\n",
      "231/231 [==============================] - 3s 12ms/step - loss: 0.5465 - accuracy: 0.7625 - val_loss: 0.3771 - val_accuracy: 0.8359\n",
      "Epoch 2/20\n",
      "231/231 [==============================] - 3s 11ms/step - loss: 0.3424 - accuracy: 0.8540 - val_loss: 0.3406 - val_accuracy: 0.8482\n",
      "Epoch 3/20\n",
      "231/231 [==============================] - 3s 12ms/step - loss: 0.2956 - accuracy: 0.8765 - val_loss: 0.3384 - val_accuracy: 0.8529\n",
      "Epoch 4/20\n",
      "231/231 [==============================] - 3s 11ms/step - loss: 0.2638 - accuracy: 0.8922 - val_loss: 0.3434 - val_accuracy: 0.8537\n",
      "Epoch 5/20\n",
      "231/231 [==============================] - 3s 12ms/step - loss: 0.2367 - accuracy: 0.9058 - val_loss: 0.3545 - val_accuracy: 0.8531\n",
      "Epoch 6/20\n",
      "231/231 [==============================] - 3s 12ms/step - loss: 0.2115 - accuracy: 0.9181 - val_loss: 0.3675 - val_accuracy: 0.8527\n",
      "Epoch 7/20\n",
      "231/231 [==============================] - 3s 11ms/step - loss: 0.1873 - accuracy: 0.9296 - val_loss: 0.3869 - val_accuracy: 0.8505\n",
      "Epoch 8/20\n",
      "231/231 [==============================] - 3s 12ms/step - loss: 0.1641 - accuracy: 0.9408 - val_loss: 0.4097 - val_accuracy: 0.8480\n",
      "Epoch 9/20\n",
      "231/231 [==============================] - 3s 11ms/step - loss: 0.1418 - accuracy: 0.9516 - val_loss: 0.4372 - val_accuracy: 0.8451\n",
      "Epoch 10/20\n",
      "231/231 [==============================] - 3s 12ms/step - loss: 0.1217 - accuracy: 0.9596 - val_loss: 0.4645 - val_accuracy: 0.8438\n",
      "Epoch 11/20\n",
      "231/231 [==============================] - 3s 12ms/step - loss: 0.1040 - accuracy: 0.9670 - val_loss: 0.4928 - val_accuracy: 0.8418\n",
      "Epoch 12/20\n",
      "231/231 [==============================] - 3s 12ms/step - loss: 0.0878 - accuracy: 0.9737 - val_loss: 0.5245 - val_accuracy: 0.8390\n",
      "Epoch 13/20\n",
      "231/231 [==============================] - 3s 11ms/step - loss: 0.0739 - accuracy: 0.9790 - val_loss: 0.5582 - val_accuracy: 0.8371\n",
      "Epoch 14/20\n",
      "231/231 [==============================] - 3s 11ms/step - loss: 0.0626 - accuracy: 0.9828 - val_loss: 0.5946 - val_accuracy: 0.8330\n",
      "Epoch 15/20\n",
      "231/231 [==============================] - 3s 11ms/step - loss: 0.0529 - accuracy: 0.9861 - val_loss: 0.6270 - val_accuracy: 0.8335\n",
      "Epoch 16/20\n",
      "231/231 [==============================] - 3s 12ms/step - loss: 0.0450 - accuracy: 0.9881 - val_loss: 0.6580 - val_accuracy: 0.8314\n",
      "Epoch 17/20\n",
      "231/231 [==============================] - 3s 11ms/step - loss: 0.0384 - accuracy: 0.9903 - val_loss: 0.6959 - val_accuracy: 0.8291\n",
      "Epoch 18/20\n",
      "231/231 [==============================] - 3s 11ms/step - loss: 0.0329 - accuracy: 0.9917 - val_loss: 0.7301 - val_accuracy: 0.8271\n",
      "Epoch 19/20\n",
      "231/231 [==============================] - 3s 11ms/step - loss: 0.0287 - accuracy: 0.9924 - val_loss: 0.7646 - val_accuracy: 0.8284\n",
      "Epoch 20/20\n",
      "231/231 [==============================] - 3s 11ms/step - loss: 0.0248 - accuracy: 0.9933 - val_loss: 0.7964 - val_accuracy: 0.8252\n",
      "4569/4569 - 8s - loss: 0.1674 - accuracy: 0.9625\n",
      "[0.16740621626377106, 0.9625261425971985]\n"
     ]
    }
   ],
   "source": [
    "model2.compile(optimizer='adam',\n",
    "              loss='binary_crossentropy',\n",
    "              metrics=['accuracy'])\n",
    "              \n",
    "epochs=20 # 몇 epoch를 훈련하면 좋을지 결과를 보면서 바꾸어 봅시다. \n",
    "\n",
    "history2 = model2.fit(partial_X_train,\n",
    "                    partial_y_train,\n",
    "                    epochs=epochs,\n",
    "                    batch_size=512,\n",
    "                    validation_data=(X_val, y_val),\n",
    "                    verbose=1)\n",
    "\n",
    "results = model2.evaluate(X_test,  y_test, verbose=2)\n",
    "\n",
    "print(results)"
   ]
  },
  {
   "cell_type": "markdown",
   "metadata": {},
   "source": [
    "**2) GlobalMaxPooling1D()  \n",
    "accuracy : 0.9625 // loss:0.1674** \n",
    "***\n",
    "**3) RNN**"
   ]
  },
  {
   "cell_type": "code",
   "execution_count": 235,
   "metadata": {},
   "outputs": [
    {
     "name": "stdout",
     "output_type": "stream",
     "text": [
      "Epoch 1/20\n",
      "231/231 [==============================] - 3s 14ms/step - loss: 0.4750 - accuracy: 0.8034 - val_loss: 0.3621 - val_accuracy: 0.8455\n",
      "Epoch 2/20\n",
      "231/231 [==============================] - 3s 13ms/step - loss: 0.3322 - accuracy: 0.8609 - val_loss: 0.3446 - val_accuracy: 0.8513\n",
      "Epoch 3/20\n",
      "231/231 [==============================] - 3s 13ms/step - loss: 0.3063 - accuracy: 0.8732 - val_loss: 0.3432 - val_accuracy: 0.8531\n",
      "Epoch 4/20\n",
      "231/231 [==============================] - 3s 13ms/step - loss: 0.2888 - accuracy: 0.8807 - val_loss: 0.3400 - val_accuracy: 0.8535\n",
      "Epoch 5/20\n",
      "231/231 [==============================] - 3s 13ms/step - loss: 0.2724 - accuracy: 0.8876 - val_loss: 0.3488 - val_accuracy: 0.8521\n",
      "Epoch 6/20\n",
      "231/231 [==============================] - 3s 14ms/step - loss: 0.2550 - accuracy: 0.8942 - val_loss: 0.3522 - val_accuracy: 0.8536\n",
      "Epoch 7/20\n",
      "231/231 [==============================] - 4s 17ms/step - loss: 0.2383 - accuracy: 0.9016 - val_loss: 0.3638 - val_accuracy: 0.8524\n",
      "Epoch 8/20\n",
      "231/231 [==============================] - 3s 14ms/step - loss: 0.2224 - accuracy: 0.9081 - val_loss: 0.3810 - val_accuracy: 0.8522\n",
      "Epoch 9/20\n",
      "231/231 [==============================] - 3s 15ms/step - loss: 0.2068 - accuracy: 0.9154 - val_loss: 0.3880 - val_accuracy: 0.8495\n",
      "Epoch 10/20\n",
      "231/231 [==============================] - 3s 14ms/step - loss: 0.1915 - accuracy: 0.9234 - val_loss: 0.4246 - val_accuracy: 0.8476\n",
      "Epoch 11/20\n",
      "231/231 [==============================] - 3s 13ms/step - loss: 0.1797 - accuracy: 0.9291 - val_loss: 0.4306 - val_accuracy: 0.8459\n",
      "Epoch 12/20\n",
      "231/231 [==============================] - 3s 13ms/step - loss: 0.1682 - accuracy: 0.9346 - val_loss: 0.4593 - val_accuracy: 0.8414\n",
      "Epoch 13/20\n",
      "231/231 [==============================] - 3s 13ms/step - loss: 0.1569 - accuracy: 0.9399 - val_loss: 0.4806 - val_accuracy: 0.8447\n",
      "Epoch 14/20\n",
      "231/231 [==============================] - 3s 13ms/step - loss: 0.1475 - accuracy: 0.9440 - val_loss: 0.5085 - val_accuracy: 0.8417\n",
      "Epoch 15/20\n",
      "231/231 [==============================] - 3s 13ms/step - loss: 0.1411 - accuracy: 0.9466 - val_loss: 0.5018 - val_accuracy: 0.8402\n",
      "Epoch 16/20\n",
      "231/231 [==============================] - 3s 13ms/step - loss: 0.1307 - accuracy: 0.9519 - val_loss: 0.5427 - val_accuracy: 0.8398\n",
      "Epoch 17/20\n",
      "231/231 [==============================] - 3s 13ms/step - loss: 0.1231 - accuracy: 0.9553 - val_loss: 0.5577 - val_accuracy: 0.8365\n",
      "Epoch 18/20\n",
      "231/231 [==============================] - 3s 13ms/step - loss: 0.1161 - accuracy: 0.9577 - val_loss: 0.5876 - val_accuracy: 0.8354\n",
      "Epoch 19/20\n",
      "231/231 [==============================] - 3s 13ms/step - loss: 0.1082 - accuracy: 0.9614 - val_loss: 0.6134 - val_accuracy: 0.8373\n",
      "Epoch 20/20\n",
      "231/231 [==============================] - 3s 13ms/step - loss: 0.1020 - accuracy: 0.9638 - val_loss: 0.6321 - val_accuracy: 0.8334\n",
      "4569/4569 - 25s - loss: 0.1977 - accuracy: 0.9424\n",
      "[0.19772084057331085, 0.942366361618042]\n"
     ]
    }
   ],
   "source": [
    "model3.compile(optimizer='adam',\n",
    "              loss='binary_crossentropy',\n",
    "              metrics=['accuracy'])\n",
    "              \n",
    "epochs=20 # 몇 epoch를 훈련하면 좋을지 결과를 보면서 바꾸어 봅시다. \n",
    "\n",
    "history3 = model3.fit(partial_X_train,\n",
    "                    partial_y_train,\n",
    "                    epochs=epochs,\n",
    "                    batch_size=512,\n",
    "                    validation_data=(X_val, y_val),\n",
    "                    verbose=1)\n",
    "\n",
    "results = model3.evaluate(X_test,  y_test, verbose=2)\n",
    "\n",
    "print(results)"
   ]
  },
  {
   "cell_type": "markdown",
   "metadata": {},
   "source": [
    "**3) RNN  \n",
    "accuracy : 0.9424 // loss:0.1977** \n",
    "***\n",
    "**4) 1-D CNN + RNN**"
   ]
  },
  {
   "cell_type": "code",
   "execution_count": 236,
   "metadata": {},
   "outputs": [
    {
     "name": "stdout",
     "output_type": "stream",
     "text": [
      "Epoch 1/20\n",
      "231/231 [==============================] - 3s 14ms/step - loss: 0.5286 - accuracy: 0.7313 - val_loss: 0.4394 - val_accuracy: 0.7848\n",
      "Epoch 2/20\n",
      "231/231 [==============================] - 3s 13ms/step - loss: 0.3988 - accuracy: 0.8136 - val_loss: 0.4239 - val_accuracy: 0.7941\n",
      "Epoch 3/20\n",
      "231/231 [==============================] - 3s 13ms/step - loss: 0.3592 - accuracy: 0.8359 - val_loss: 0.4254 - val_accuracy: 0.7924\n",
      "Epoch 4/20\n",
      "231/231 [==============================] - 3s 13ms/step - loss: 0.3147 - accuracy: 0.8594 - val_loss: 0.4468 - val_accuracy: 0.7896\n",
      "Epoch 5/20\n",
      "231/231 [==============================] - 3s 13ms/step - loss: 0.2633 - accuracy: 0.8853 - val_loss: 0.4788 - val_accuracy: 0.7898\n",
      "Epoch 6/20\n",
      "231/231 [==============================] - 3s 13ms/step - loss: 0.2155 - accuracy: 0.9056 - val_loss: 0.5382 - val_accuracy: 0.7859\n",
      "Epoch 7/20\n",
      "231/231 [==============================] - 3s 13ms/step - loss: 0.1765 - accuracy: 0.9226 - val_loss: 0.6095 - val_accuracy: 0.7844\n",
      "Epoch 8/20\n",
      "231/231 [==============================] - 3s 13ms/step - loss: 0.1495 - accuracy: 0.9322 - val_loss: 0.6770 - val_accuracy: 0.7793\n",
      "Epoch 9/20\n",
      "231/231 [==============================] - 3s 13ms/step - loss: 0.1298 - accuracy: 0.9396 - val_loss: 0.7304 - val_accuracy: 0.7732\n",
      "Epoch 10/20\n",
      "231/231 [==============================] - 3s 13ms/step - loss: 0.1166 - accuracy: 0.9441 - val_loss: 0.8169 - val_accuracy: 0.7665\n",
      "Epoch 11/20\n",
      "231/231 [==============================] - 3s 13ms/step - loss: 0.1060 - accuracy: 0.9485 - val_loss: 0.8446 - val_accuracy: 0.7728\n",
      "Epoch 12/20\n",
      "231/231 [==============================] - 3s 13ms/step - loss: 0.0984 - accuracy: 0.9506 - val_loss: 0.9072 - val_accuracy: 0.7707\n",
      "Epoch 13/20\n",
      "231/231 [==============================] - 3s 13ms/step - loss: 0.0918 - accuracy: 0.9532 - val_loss: 0.9658 - val_accuracy: 0.7675\n",
      "Epoch 14/20\n",
      "231/231 [==============================] - 3s 13ms/step - loss: 0.0873 - accuracy: 0.9555 - val_loss: 1.0081 - val_accuracy: 0.7697\n",
      "Epoch 15/20\n",
      "231/231 [==============================] - 3s 13ms/step - loss: 0.0852 - accuracy: 0.9556 - val_loss: 1.0499 - val_accuracy: 0.7679\n",
      "Epoch 16/20\n",
      "231/231 [==============================] - 3s 13ms/step - loss: 0.0852 - accuracy: 0.9560 - val_loss: 1.0827 - val_accuracy: 0.7684\n",
      "Epoch 17/20\n",
      "231/231 [==============================] - 3s 13ms/step - loss: 0.0841 - accuracy: 0.9558 - val_loss: 1.1158 - val_accuracy: 0.7679\n",
      "Epoch 18/20\n",
      "231/231 [==============================] - 3s 13ms/step - loss: 0.0821 - accuracy: 0.9565 - val_loss: 1.1532 - val_accuracy: 0.7621\n",
      "Epoch 19/20\n",
      "231/231 [==============================] - 3s 13ms/step - loss: 0.0787 - accuracy: 0.9578 - val_loss: 1.1786 - val_accuracy: 0.7663\n",
      "Epoch 20/20\n",
      "231/231 [==============================] - 3s 13ms/step - loss: 0.0753 - accuracy: 0.9592 - val_loss: 1.2305 - val_accuracy: 0.7621\n",
      "4569/4569 - 20s - loss: 0.2922 - accuracy: 0.9229\n",
      "[0.2921973466873169, 0.9229043126106262]\n"
     ]
    }
   ],
   "source": [
    "model4.compile(optimizer='adam',\n",
    "              loss='binary_crossentropy',\n",
    "              metrics=['accuracy'])\n",
    "              \n",
    "epochs=20 # 몇 epoch를 훈련하면 좋을지 결과를 보면서 바꾸어 봅시다. \n",
    "\n",
    "history4 = model4.fit(partial_X_train,\n",
    "                    partial_y_train,\n",
    "                    epochs=epochs,\n",
    "                    batch_size=512,\n",
    "                    validation_data=(X_val, y_val),\n",
    "                    verbose=1)\n",
    "\n",
    "results = model4.evaluate(X_test,  y_test, verbose=2)\n",
    "\n",
    "print(results)"
   ]
  },
  {
   "cell_type": "markdown",
   "metadata": {},
   "source": [
    "**4) 1-D CNN + RNN  \n",
    "accuracy : 0.9229 // loss:0.2922** \n",
    "***\n",
    "#### 결과\n",
    "**1) 1-D Convolution Neural Network(1-D CNN)  \n",
    "accuracy : 0.9265 // loss : 0.3184**  \n",
    "  \n",
    "**2) GlobalMaxPooling1D()  \n",
    "accuracy : 0.9625 // loss:0.1674**   \n",
    "  \n",
    "**3) RNN  \n",
    "accuracy : 0.9425 // loss:0.1977**  \n",
    "  \n",
    "**4) 1-D CNN + RNN  \n",
    "accuracy : 0.9229 // loss:0.2922**  \n",
    "  \n",
    "**=> `GlobalMaxPooling1D()모델`을 사용하는 것이 효과적으로 판단됨.**\n",
    "***\n",
    "#### 6. Loss, Accuracy 그래프 시각화"
   ]
  },
  {
   "cell_type": "code",
   "execution_count": 237,
   "metadata": {},
   "outputs": [
    {
     "data": {
      "image/png": "[encoded data removed]",
      "text/plain": [
       "<Figure size 432x288 with 1 Axes>"
      ]
     },
     "metadata": {
      "needs_background": "light"
     },
     "output_type": "display_data"
    },
    {
     "data": {
      "image/png": "[encoded data removed]",
      "text/plain": [
       "<Figure size 432x288 with 1 Axes>"
      ]
     },
     "metadata": {
      "needs_background": "light"
     },
     "output_type": "display_data"
    }
   ],
   "source": [
    "import matplotlib.pyplot as plt\n",
    "\n",
    "history_dict1 = history1.history\n",
    "acc = history_dict1['accuracy']\n",
    "val_acc = history_dict1['val_accuracy']\n",
    "loss = history_dict1['loss']\n",
    "val_loss = history_dict1['val_loss']\n",
    "\n",
    "epochs = range(1, len(acc) + 1)\n",
    "\n",
    "# \"bo\"는 \"파란색 점\"입니다\n",
    "plt.plot(epochs, loss, 'bo', label='Training loss')\n",
    "# b는 \"파란 실선\"입니다\n",
    "plt.plot(epochs, val_loss, 'b', label='Validation loss')\n",
    "plt.title('1-D Convolution Neural Network(1-D CNN)\\nTraining and validation loss')\n",
    "plt.xlabel('Epochs')\n",
    "plt.ylabel('Loss')\n",
    "plt.legend()\n",
    "\n",
    "plt.show()\n",
    "\n",
    "\n",
    "plt.plot(epochs, acc, 'bo', label='Training acc')\n",
    "plt.plot(epochs, val_acc, 'b', label='Validation acc')\n",
    "plt.title('1-D Convolution Neural Network(1-D CNN)\\nTraining and validation accuracy')\n",
    "plt.xlabel('Epochs')\n",
    "plt.ylabel('Accuracy')\n",
    "plt.legend()\n",
    "\n",
    "plt.show()"
   ]
  },
  {
   "cell_type": "code",
   "execution_count": 238,
   "metadata": {},
   "outputs": [
    {
     "data": {
      "image/png": "[encoded data removed]",
      "text/plain": [
       "<Figure size 432x288 with 1 Axes>"
      ]
     },
     "metadata": {
      "needs_background": "light"
     },
     "output_type": "display_data"
    },
    {
     "data": {
      "image/png": "[encoded data removed]",
      "text/plain": [
       "<Figure size 432x288 with 1 Axes>"
      ]
     },
     "metadata": {
      "needs_background": "light"
     },
     "output_type": "display_data"
    }
   ],
   "source": [
    "history_dict2 = history2.history\n",
    "acc = history_dict2['accuracy']\n",
    "val_acc = history_dict2['val_accuracy']\n",
    "loss = history_dict2['loss']\n",
    "val_loss = history_dict2['val_loss']\n",
    "\n",
    "epochs = range(1, len(acc) + 1)\n",
    "\n",
    "# \"bo\"는 \"파란색 점\"입니다\n",
    "plt.plot(epochs, loss, 'bo', label='Training loss')\n",
    "# b는 \"파란 실선\"입니다\n",
    "plt.plot(epochs, val_loss, 'b', label='Validation loss')\n",
    "plt.title('GlobalMaxPooling1D()\\nTraining and validation loss')\n",
    "plt.xlabel('Epochs')\n",
    "plt.ylabel('Loss')\n",
    "plt.legend()\n",
    "\n",
    "plt.show()\n",
    "\n",
    "plt.plot(epochs, acc, 'bo', label='Training acc')\n",
    "plt.plot(epochs, val_acc, 'b', label='Validation acc')\n",
    "plt.title('GlobalMaxPooling1D()\\nTraining and validation accuracy')\n",
    "plt.xlabel('Epochs')\n",
    "plt.ylabel('Accuracy')\n",
    "plt.legend()\n",
    "\n",
    "plt.show()"
   ]
  },
  {
   "cell_type": "code",
   "execution_count": 239,
   "metadata": {},
   "outputs": [
    {
     "data": {
      "image/png": "[encoded data removed]",
      "text/plain": [
       "<Figure size 432x288 with 1 Axes>"
      ]
     },
     "metadata": {
      "needs_background": "light"
     },
     "output_type": "display_data"
    },
    {
     "data": {
      "image/png": "[encoded data removed]",
      "text/plain": [
       "<Figure size 432x288 with 1 Axes>"
      ]
     },
     "metadata": {
      "needs_background": "light"
     },
     "output_type": "display_data"
    }
   ],
   "source": [
    "history_dict3 = history3.history\n",
    "acc = history_dict3['accuracy']\n",
    "val_acc = history_dict3['val_accuracy']\n",
    "loss = history_dict3['loss']\n",
    "val_loss = history_dict3['val_loss']\n",
    "\n",
    "epochs = range(1, len(acc) + 1)\n",
    "\n",
    "# \"bo\"는 \"파란색 점\"입니다\n",
    "plt.plot(epochs, loss, 'bo', label='Training loss')\n",
    "# b는 \"파란 실선\"입니다\n",
    "plt.plot(epochs, val_loss, 'b', label='Validation loss')\n",
    "plt.title('RNN\\nTraining and validation loss')\n",
    "plt.xlabel('Epochs')\n",
    "plt.ylabel('Loss')\n",
    "plt.legend()\n",
    "\n",
    "plt.show()\n",
    "\n",
    "plt.plot(epochs, acc, 'bo', label='Training acc')\n",
    "plt.plot(epochs, val_acc, 'b', label='Validation acc')\n",
    "plt.title('RNN\\nTraining and validation accuracy')\n",
    "plt.xlabel('Epochs')\n",
    "plt.ylabel('Accuracy')\n",
    "plt.legend()\n",
    "\n",
    "plt.show()"
   ]
  },
  {
   "cell_type": "code",
   "execution_count": 240,
   "metadata": {},
   "outputs": [
    {
     "data": {
      "image/png": "[encoded data removed]",
      "text/plain": [
       "<Figure size 432x288 with 1 Axes>"
      ]
     },
     "metadata": {
      "needs_background": "light"
     },
     "output_type": "display_data"
    },
    {
     "data": {
      "image/png": "[encoded data removed]",
      "text/plain": [
       "<Figure size 432x288 with 1 Axes>"
      ]
     },
     "metadata": {
      "needs_background": "light"
     },
     "output_type": "display_data"
    }
   ],
   "source": [
    "history_dict4 = history4.history\n",
    "acc = history_dict4['accuracy']\n",
    "val_acc = history_dict4['val_accuracy']\n",
    "loss = history_dict4['loss']\n",
    "val_loss = history_dict4['val_loss']\n",
    "\n",
    "epochs = range(1, len(acc) + 1)\n",
    "\n",
    "# \"bo\"는 \"파란색 점\"입니다\n",
    "plt.plot(epochs, loss, 'bo', label='Training loss')\n",
    "# b는 \"파란 실선\"입니다\n",
    "plt.plot(epochs, val_loss, 'b', label='Validation loss')\n",
    "plt.title('1-D CNN + RNN\\nTraining and validation loss')\n",
    "plt.xlabel('Epochs')\n",
    "plt.ylabel('Loss')\n",
    "plt.legend()\n",
    "\n",
    "plt.show()\n",
    "\n",
    "plt.plot(epochs, acc, 'bo', label='Training acc')\n",
    "plt.plot(epochs, val_acc, 'b', label='Validation acc')\n",
    "plt.title('1-D CNN + RNN\\nTraining and validation accuracy')\n",
    "plt.xlabel('Epochs')\n",
    "plt.ylabel('Accuracy')\n",
    "plt.legend()\n",
    "\n",
    "plt.show()"
   ]
  },
  {
   "cell_type": "markdown",
   "metadata": {},
   "source": [
    "#### 7. 학습된 Embedding 레이어 분석"
   ]
  },
  {
   "cell_type": "code",
   "execution_count": 14,
   "metadata": {},
   "outputs": [
    {
     "name": "stdout",
     "output_type": "stream",
     "text": [
      "(10000, 64)\n"
     ]
    },
    {
     "data": {
      "text/plain": [
       "[('한편', 0.4507236182689667),\n",
       " ('는군', 0.4450986981391907),\n",
       " ('와라', 0.4359004497528076),\n",
       " ('이룬', 0.42679035663604736),\n",
       " ('sf', 0.4256528913974762),\n",
       " ('때린다', 0.41737890243530273),\n",
       " ('<', 0.41401195526123047),\n",
       " ('통해서', 0.39885127544403076),\n",
       " ('어르신', 0.39062753319740295),\n",
       " ('ost', 0.38520896434783936)]"
      ]
     },
     "execution_count": 14,
     "metadata": {},
     "output_type": "execute_result"
    }
   ],
   "source": [
    "embedding_layer = model2.layers[0]\n",
    "weights = embedding_layer.get_weights()[0]\n",
    "print(weights.shape)\n",
    "\n",
    "import os\n",
    "\n",
    "# 학습한 Embedding 파라미터를 파일에 써서 저장\n",
    "# word2vec의 파일 경로\n",
    "word2vec_file_path = os.getenv('HOME')+'/aiffel/sentiment_classification/word2vec1.txt'\n",
    "# word2vec의 파일 열기\n",
    "f = open(word2vec_file_path, 'w')\n",
    "# word2vec의 파일 에서 몇개의 벡터를 얼마 사이즈로 기재할지 타이틀을 씁니다.\n",
    "f.write('{} {}\\n'.format(vocab_size-4, word_vector_dim))\n",
    "\n",
    "# 단어 개수(에서 특수문자 4개는 제외하고)만큼의 워드 벡터를 파일에 기록\n",
    "vectors = model2.get_weights()[0]\n",
    "for i in range(4,vocab_size):\n",
    "    f.write('{} {}\\n'.format(index_to_word[i], ' '.join(map(str, list(vectors[i, :])))))\n",
    "f.close()\n",
    "\n",
    "from gensim.models.keyedvectors import Word2VecKeyedVectors\n",
    "\n",
    "word_vectors = Word2VecKeyedVectors.load_word2vec_format(word2vec_file_path, binary=False)\n",
    "# 사랑이란 단어에 관한 유사도 결과\n",
    "word_vectors.similar_by_word(\"사랑\")"
   ]
  },
  {
   "cell_type": "markdown",
   "metadata": {},
   "source": [
    "=> 유사도가 잘 느껴지지 않음.\n",
    "=> 한국어 임베딩 활용 필요\n",
    "***\n",
    "#### 8. 한국어 Word2Vec 임베딩 활용하여 성능개선"
   ]
  },
  {
   "cell_type": "code",
   "execution_count": 15,
   "metadata": {},
   "outputs": [
    {
     "name": "stderr",
     "output_type": "stream",
     "text": [
      "/home/aiffel/anaconda3/envs/aiffel/lib/python3.7/site-packages/ipykernel_launcher.py:4: DeprecationWarning: Call to deprecated `similar_by_word` (Method will be removed in 4.0.0, use self.wv.similar_by_word() instead).\n",
      "  after removing the cwd from sys.path.\n"
     ]
    },
    {
     "data": {
      "text/plain": [
       "[('슬픔', 0.7216663360595703),\n",
       " ('행복', 0.6759077310562134),\n",
       " ('절망', 0.6468985676765442),\n",
       " ('기쁨', 0.6458414793014526),\n",
       " ('이별', 0.6334798336029053),\n",
       " ('추억', 0.6320937871932983),\n",
       " ('인생', 0.6216273307800293),\n",
       " ('애정', 0.6206068992614746),\n",
       " ('연인', 0.6186063289642334),\n",
       " ('유혹', 0.5965287685394287)]"
      ]
     },
     "execution_count": 15,
     "metadata": {},
     "output_type": "execute_result"
    }
   ],
   "source": [
    "from gensim.models.word2vec import Word2Vec\n",
    "korvec_file_path = os.getenv('HOME')+'/aiffel/sentiment_classification/ko.bin'\n",
    "kovec = Word2Vec.load(korvec_file_path)\n",
    "kovec.similar_by_word(\"사랑\")"
   ]
  },
  {
   "cell_type": "code",
   "execution_count": 243,
   "metadata": {},
   "outputs": [
    {
     "name": "stderr",
     "output_type": "stream",
     "text": [
      "/home/aiffel/anaconda3/envs/aiffel/lib/python3.7/site-packages/ipykernel_launcher.py:8: DeprecationWarning: Call to deprecated `__contains__` (Method will be removed in 4.0.0, use self.wv.__contains__() instead).\n",
      "  \n",
      "/home/aiffel/anaconda3/envs/aiffel/lib/python3.7/site-packages/ipykernel_launcher.py:9: DeprecationWarning: Call to deprecated `__getitem__` (Method will be removed in 4.0.0, use self.wv.__getitem__() instead).\n",
      "  if __name__ == '__main__':\n"
     ]
    }
   ],
   "source": [
    "vocab_size = 10000    # 어휘 사전의 크기입니다(10,000개의 단어)\n",
    "word_vector_dim = 200  # 워드 벡터의 차원수 (변경가능한 하이퍼파라미터)\n",
    "\n",
    "embedding_matrix = np.random.rand(vocab_size, word_vector_dim)\n",
    "\n",
    "# embedding_matrix에 Word2Vec 워드벡터를 단어 하나씩마다 차례차례 카피한다.\n",
    "for i in range(4,vocab_size):\n",
    "    if index_to_word[i] in kovec:\n",
    "        embedding_matrix[i] = kovec[index_to_word[i]]"
   ]
  },
  {
   "cell_type": "code",
   "execution_count": 244,
   "metadata": {},
   "outputs": [
    {
     "name": "stdout",
     "output_type": "stream",
     "text": [
      "Model: \"sequential_23\"\n",
      "_________________________________________________________________\n",
      "Layer (type)                 Output Shape              Param #   \n",
      "=================================================================\n",
      "embedding_24 (Embedding)     (None, 54, 200)           2000000   \n",
      "_________________________________________________________________\n",
      "global_max_pooling1d_12 (Glo (None, 200)               0         \n",
      "_________________________________________________________________\n",
      "dense_44 (Dense)             (None, 8)                 1608      \n",
      "_________________________________________________________________\n",
      "dense_45 (Dense)             (None, 1)                 9         \n",
      "=================================================================\n",
      "Total params: 2,001,617\n",
      "Trainable params: 2,001,617\n",
      "Non-trainable params: 0\n",
      "_________________________________________________________________\n"
     ]
    }
   ],
   "source": [
    "from tensorflow.keras.initializers import Constant\n",
    "\n",
    "vocab_size = 10000    # 어휘 사전의 크기입니다(10,000개의 단어)\n",
    "word_vector_dim = 200  # 워드 벡터의 차원수 (변경가능한 하이퍼파라미터)\n",
    "\n",
    "# 모델 구성\n",
    "model = keras.Sequential()\n",
    "model.add(keras.layers.Embedding(vocab_size, \n",
    "                                 word_vector_dim, \n",
    "                                 embeddings_initializer=Constant(embedding_matrix),  # 카피한 임베딩을 여기서 활용\n",
    "                                 input_length=maxlen, \n",
    "                                 trainable=True))   # trainable을 True로 주면 Fine-tuning\n",
    "model.add(keras.layers.GlobalMaxPooling1D())\n",
    "model.add(keras.layers.Dense(8, activation='relu'))\n",
    "model.add(keras.layers.Dense(1, activation='sigmoid')) \n",
    "\n",
    "model.summary()"
   ]
  },
  {
   "cell_type": "code",
   "execution_count": 245,
   "metadata": {},
   "outputs": [
    {
     "name": "stdout",
     "output_type": "stream",
     "text": [
      "Epoch 1/15\n",
      "1970/1970 [==============================] - 43s 22ms/step - loss: 0.5544 - accuracy: 0.7081 - val_loss: 0.4967 - val_accuracy: 0.7582\n",
      "Epoch 2/15\n",
      "1970/1970 [==============================] - 43s 22ms/step - loss: 0.4320 - accuracy: 0.7991 - val_loss: 0.4165 - val_accuracy: 0.8062\n",
      "Epoch 3/15\n",
      "1970/1970 [==============================] - 43s 22ms/step - loss: 0.3796 - accuracy: 0.8296 - val_loss: 0.3996 - val_accuracy: 0.8184\n",
      "Epoch 4/15\n",
      "1970/1970 [==============================] - 45s 23ms/step - loss: 0.3454 - accuracy: 0.8493 - val_loss: 0.3881 - val_accuracy: 0.8244\n",
      "Epoch 5/15\n",
      "1970/1970 [==============================] - 53s 27ms/step - loss: 0.3177 - accuracy: 0.8646 - val_loss: 0.3827 - val_accuracy: 0.8307\n",
      "Epoch 6/15\n",
      "1970/1970 [==============================] - 62s 31ms/step - loss: 0.2942 - accuracy: 0.8763 - val_loss: 0.3898 - val_accuracy: 0.8306\n",
      "Epoch 7/15\n",
      "1970/1970 [==============================] - 44s 22ms/step - loss: 0.2726 - accuracy: 0.8878 - val_loss: 0.3976 - val_accuracy: 0.8280\n",
      "Epoch 8/15\n",
      "1970/1970 [==============================] - 44s 22ms/step - loss: 0.2520 - accuracy: 0.8978 - val_loss: 0.3985 - val_accuracy: 0.8312\n",
      "Epoch 9/15\n",
      "1970/1970 [==============================] - 48s 24ms/step - loss: 0.2331 - accuracy: 0.9069 - val_loss: 0.4080 - val_accuracy: 0.8293\n",
      "Epoch 10/15\n",
      "1970/1970 [==============================] - 48s 24ms/step - loss: 0.2138 - accuracy: 0.9158 - val_loss: 0.4266 - val_accuracy: 0.8307\n",
      "Epoch 11/15\n",
      "1970/1970 [==============================] - 45s 23ms/step - loss: 0.1975 - accuracy: 0.9234 - val_loss: 0.4412 - val_accuracy: 0.8281\n",
      "Epoch 12/15\n",
      "1970/1970 [==============================] - 44s 22ms/step - loss: 0.1797 - accuracy: 0.9312 - val_loss: 0.4864 - val_accuracy: 0.8255\n",
      "Epoch 13/15\n",
      "1970/1970 [==============================] - 44s 22ms/step - loss: 0.1631 - accuracy: 0.9387 - val_loss: 0.4873 - val_accuracy: 0.8265\n",
      "Epoch 14/15\n",
      "1970/1970 [==============================] - 44s 22ms/step - loss: 0.1474 - accuracy: 0.9460 - val_loss: 0.5119 - val_accuracy: 0.8246\n",
      "Epoch 15/15\n",
      "1970/1970 [==============================] - 44s 22ms/step - loss: 0.1319 - accuracy: 0.9532 - val_loss: 0.5485 - val_accuracy: 0.8240\n"
     ]
    }
   ],
   "source": [
    "# 학습의 진행\n",
    "model.compile(optimizer='adam',\n",
    "              loss='binary_crossentropy',\n",
    "              metrics=['accuracy'])\n",
    "              \n",
    "epochs=15  # 몇 epoch를 훈련하면 좋을지 결과를 보면서 바꾸어 봅시다. \n",
    "\n",
    "history = model.fit(partial_X_train,\n",
    "                    partial_y_train,\n",
    "                    epochs=epochs,\n",
    "                    batch_size=60,\n",
    "                    validation_data=(X_val, y_val),\n",
    "                    verbose=1)"
   ]
  },
  {
   "cell_type": "code",
   "execution_count": 246,
   "metadata": {},
   "outputs": [
    {
     "name": "stdout",
     "output_type": "stream",
     "text": [
      "4569/4569 - 12s - loss: 0.1916 - accuracy: 0.9377\n",
      "[0.1916164755821228, 0.9376804232597351]\n"
     ]
    }
   ],
   "source": [
    "# 테스트셋을 통한 모델 평가\n",
    "results = model.evaluate(X_test,  y_test, verbose=2)\n",
    "\n",
    "print(results)"
   ]
  },
  {
   "cell_type": "markdown",
   "metadata": {},
   "source": [
    "#### 결론\n",
    "> **모델 학습결과**  \n",
    ">**1) 1-D Convolution Neural Network(1-D CNN)  \n",
    "> accuracy : 0.9265 // loss : 0.3184**  \n",
    ">  \n",
    ">**2) GlobalMaxPooling1D()  \n",
    "> accuracy : 0.9625 // loss:0.1674**   \n",
    ">  \n",
    ">**3) RNN  \n",
    ">accuracy : 0.9425 // loss:0.1977**  \n",
    ">  \n",
    ">**4) 1-D CNN + RNN  \n",
    ">accuracy : 0.9229 // loss:0.2922**   \n",
    "> **=>GlobalMaxPooling1D()로 학습시키는것이 낫다고 판단  \n",
    "> GlobalMaxPooling1D()로 학습시킨 후 임베딩레이어를 분석한결과 성능이 비교적 좋지 않았으며,  \n",
    "> 이를 한국어 Word2Vec 임베딩을 활용하여 성능을 개선하였다.\n",
    "> 최종 테스트 결과는 [accuracy: 0.9377 // loss: 0.1916] 이다.**\n",
    "\n",
    "***\n",
    "#### 회고\n",
    "> **생각보다 모델링을 만드는데 시간이 오래걸렸다. 기존의 노드들과는 다르게 직접 코드들의 관계를 파악하고 배치하고 설계해야해서 그랬던 것 같다. 고민하면서 진행하는 것은 생각보다 재미가 있었지만, 제대로 풀리지 않는 문제들을 끙끙대며 고민하는 과정이 생각보다 어려운 부분이었다. 이런 상황이 지속되었을 때 어떻게 해결해 나갈 것인각를 고민해봐야 하겠다."
   ]
  },
  {
   "cell_type": "code",
   "execution_count": null,
   "metadata": {},
   "outputs": [],
   "source": []
  }
 ],
 "metadata": {
  "kernelspec": {
   "display_name": "Python 3",
   "language": "python",
   "name": "python3"
  },
  "language_info": {
   "codemirror_mode": {
    "name": "ipython",
    "version": 3
   },
   "file_extension": ".py",
   "mimetype": "text/x-python",
   "name": "python",
   "nbconvert_exporter": "python",
   "pygments_lexer": "ipython3",
   "version": "3.7.9"
  }
 },
 "nbformat": 4,
 "nbformat_minor": 4
}
