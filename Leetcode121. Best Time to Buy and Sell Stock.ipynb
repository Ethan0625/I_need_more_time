{
 "cells": [
  {
   "cell_type": "code",
   "execution_count": null,
   "metadata": {},
   "outputs": [],
   "source": [
    "# 퍼실님이 적어준 코드\n",
    "Runtime: 60 ms, faster than 78.55% of Python3 online submissions for Best Time to Buy and Sell Stock.\n",
    "Memory Usage: 14.9 MB, less than 94.40% of Python3 online submissions for Best Time to Buy and Sell Stock.\n",
    "Next challenges:"
   ]
  },
  {
   "cell_type": "code",
   "execution_count": 3,
   "metadata": {},
   "outputs": [
    {
     "ename": "NameError",
     "evalue": "name 'List' is not defined",
     "output_type": "error",
     "traceback": [
      "\u001b[0;31m---------------------------------------------------------------------------\u001b[0m",
      "\u001b[0;31mNameError\u001b[0m                                 Traceback (most recent call last)",
      "\u001b[0;32m<ipython-input-3-b53939d08119>\u001b[0m in \u001b[0;36m<module>\u001b[0;34m\u001b[0m\n\u001b[1;32m      6\u001b[0m \u001b[0minput은\u001b[0m \u001b[0mlist로\u001b[0m \u001b[0m주어짐\u001b[0m\u001b[0;34m\u001b[0m\u001b[0;34m\u001b[0m\u001b[0m\n\u001b[1;32m      7\u001b[0m '''\n\u001b[0;32m----> 8\u001b[0;31m \u001b[0;32mclass\u001b[0m \u001b[0mSolution\u001b[0m\u001b[0;34m:\u001b[0m\u001b[0;34m\u001b[0m\u001b[0;34m\u001b[0m\u001b[0m\n\u001b[0m\u001b[1;32m      9\u001b[0m     \u001b[0;32mdef\u001b[0m \u001b[0mmaxProfit\u001b[0m\u001b[0;34m(\u001b[0m\u001b[0mself\u001b[0m\u001b[0;34m,\u001b[0m \u001b[0mprices\u001b[0m\u001b[0;34m:\u001b[0m \u001b[0mList\u001b[0m\u001b[0;34m[\u001b[0m\u001b[0mint\u001b[0m\u001b[0;34m]\u001b[0m\u001b[0;34m)\u001b[0m \u001b[0;34m->\u001b[0m \u001b[0mint\u001b[0m\u001b[0;34m:\u001b[0m\u001b[0;34m\u001b[0m\u001b[0;34m\u001b[0m\u001b[0m\n\u001b[1;32m     10\u001b[0m         \u001b[0;31m# 처음 시작 profit => 0 buy도 sell도 없기 때문에\u001b[0m\u001b[0;34m\u001b[0m\u001b[0;34m\u001b[0m\u001b[0;34m\u001b[0m\u001b[0m\n",
      "\u001b[0;32m<ipython-input-3-b53939d08119>\u001b[0m in \u001b[0;36mSolution\u001b[0;34m()\u001b[0m\n\u001b[1;32m      7\u001b[0m '''\n\u001b[1;32m      8\u001b[0m \u001b[0;32mclass\u001b[0m \u001b[0mSolution\u001b[0m\u001b[0;34m:\u001b[0m\u001b[0;34m\u001b[0m\u001b[0;34m\u001b[0m\u001b[0m\n\u001b[0;32m----> 9\u001b[0;31m     \u001b[0;32mdef\u001b[0m \u001b[0mmaxProfit\u001b[0m\u001b[0;34m(\u001b[0m\u001b[0mself\u001b[0m\u001b[0;34m,\u001b[0m \u001b[0mprices\u001b[0m\u001b[0;34m:\u001b[0m \u001b[0mList\u001b[0m\u001b[0;34m[\u001b[0m\u001b[0mint\u001b[0m\u001b[0;34m]\u001b[0m\u001b[0;34m)\u001b[0m \u001b[0;34m->\u001b[0m \u001b[0mint\u001b[0m\u001b[0;34m:\u001b[0m\u001b[0;34m\u001b[0m\u001b[0;34m\u001b[0m\u001b[0m\n\u001b[0m\u001b[1;32m     10\u001b[0m         \u001b[0;31m# 처음 시작 profit => 0 buy도 sell도 없기 때문에\u001b[0m\u001b[0;34m\u001b[0m\u001b[0;34m\u001b[0m\u001b[0;34m\u001b[0m\u001b[0m\n\u001b[1;32m     11\u001b[0m         \u001b[0mprofit\u001b[0m \u001b[0;34m=\u001b[0m \u001b[0;36m0\u001b[0m\u001b[0;34m\u001b[0m\u001b[0;34m\u001b[0m\u001b[0m\n",
      "\u001b[0;31mNameError\u001b[0m: name 'List' is not defined"
     ]
    }
   ],
   "source": [
    "'''\n",
    "주식 Profit 최대화\n",
    "1. buy 한 번\n",
    "2. sell 한 번\n",
    ": 가장 쌀 때 사서, 가장 비쌀 때 팔면 됨 ->\n",
    "input은 list로 주어짐\n",
    "'''\n",
    "class Solution:\n",
    "    def maxProfit(self, prices: List[int]) -> int:\n",
    "        # 처음 시작 profit => 0 buy도 sell도 없기 때문에\n",
    "        profit = 0\n",
    "        # 최소 가격 초기값 설정\n",
    "        min_price = 99999999\n",
    "        # 주어진 가격은 전부 확인하면서 가장 작은 가격을 찾음\n",
    "        # 현재가격에서 가장 작은 가격을 뺐을 때의 값이 가장 크면 그것이 정답 -> 이익의 최대화\n",
    "        for price in prices:\n",
    "            # 현재 가격이 최소 가격보다 작으면 최소 가격을 현재 가격으로 바꾸어 줌\n",
    "            if price < min_price:\n",
    "                min_price = price\n",
    "            # 이익 => 현재 가격에서 최소 가격을 뺀 이익과, 현재 이익 중에서 큰 값\n",
    "            profit = max(profit, price - min_price)\n",
    "        return profit\n",
    "if __name__ == \"__main__\":\n",
    "    # example 데이터\n",
    "    # [7,1,5,3,6,4],\n",
    "    input_data = [7,6,4,3,1]\n",
    "    solution = Solution()\n",
    "    # 알고리즘 테스트\n",
    "    answer = solution.maxProfit(input_data)\n",
    "    print(answer)"
   ]
  },
  {
   "cell_type": "code",
   "execution_count": null,
   "metadata": {},
   "outputs": [],
   "source": [
    "# 내가 만든 코드\n",
    "Runtime: 60 ms, faster than 78.55% of Python3 online submissions for Best Time to Buy and Sell Stock.\n",
    "Memory Usage: 15.1 MB, less than 56.83% of Python3 online submissions for Best Time to Buy and Sell Stock."
   ]
  },
  {
   "cell_type": "code",
   "execution_count": null,
   "metadata": {},
   "outputs": [],
   "source": [
    "'''\n",
    "주식 Profit 최대화\n",
    "1. buy 한 번\n",
    "2. sell 한 번\n",
    ": 가장 쌀 때 사서, 가장 비쌀 때 팔면 됨 ->\n",
    "input은 list로 주어짐\n",
    "'''\n",
    "class Solution:\n",
    "    def maxProfit(self, prices: List[int]) -> int:\n",
    "        # for문으로 반복해서 앞에서 부터 비교하기로 결정\n",
    "        # 이중for문 사용해야겠다\n",
    "    # 이렇게 돌렸더니 시간초과로 실패\n",
    "    #          maxprofit = 0\n",
    "        # for i in range(0,(len(prices)-1),1) :\n",
    "        #     for j in range(i+1,(len(prices)),1):\n",
    "        #         profit = prices[j]-prices[i]\n",
    "        #         if (profit > maxprofit):\n",
    "        #             maxprofit = profit\n",
    "        # return maxprofit\n",
    "        \n",
    "        # for 하나만 써야겠다로 생각\n",
    "        maxprofit = 0\n",
    "        # 리스트에 값이 하나거나 빈 리스트일 경우는 0\n",
    "        if len(prices)< 2:\n",
    "            return 0\n",
    "        # 아닐경우 for문시작\n",
    "        else :\n",
    "            minNum = max(prices)\n",
    "            for i in range(len(prices)):\n",
    "                minNum = min(minNum,prices[i])\n",
    "                maxprofit = max(maxprofit,prices[i]-minNum)\n",
    "        \n",
    "        return maxprofit\n",
    "                "
   ]
  },
  {
   "cell_type": "code",
   "execution_count": null,
   "metadata": {},
   "outputs": [],
   "source": [
    "'''\n",
    "회고록\n",
    "수업중에는 이중 for문으로 만들어서 그런지 테스트시에는 잘 돌아갔지만\n",
    "막상 돌려보니 시간초과가 나왔다....\n",
    "전체를 하나하나 비교하는 코드다 보니 그랬나 싶다.\n",
    "그래서 다시 만들어서 올렸다. 그런데 퍼실님과 비교해보면 속도는 비슷한것 같은데\n",
    "용량이 크다. 사실 속도도 내 코드 만들기 전에는 52ms였는데 똑같아졌다.\n",
    "노트북이 힘들어하는 것 같다.\n",
    "오늘은 여기까지 해야겠다."
   ]
  }
 ],
 "metadata": {
  "kernelspec": {
   "display_name": "Python 3",
   "language": "python",
   "name": "python3"
  },
  "language_info": {
   "codemirror_mode": {
    "name": "ipython",
    "version": 3
   },
   "file_extension": ".py",
   "mimetype": "text/x-python",
   "name": "python",
   "nbconvert_exporter": "python",
   "pygments_lexer": "ipython3",
   "version": "3.7.9"
  }
 },
 "nbformat": 4,
 "nbformat_minor": 4
}
